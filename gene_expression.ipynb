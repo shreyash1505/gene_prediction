{
 "cells": [
  {
   "cell_type": "code",
   "execution_count": 41,
   "metadata": {},
   "outputs": [],
   "source": [
    "import os\n",
    "import numpy as np\n",
    "import pandas as pd\n",
    "\n",
    "from bayes_opt import BayesianOptimization\n",
    "import xgboost as xgb\n",
    "\n",
    "# Scikit-learn\n",
    "from sklearn.ensemble import RandomForestClassifier, ExtraTreesClassifier\n",
    "from sklearn.linear_model import LogisticRegression\n",
    "from sklearn.model_selection import cross_val_score, StratifiedKFold\n",
    "from sklearn.metrics import roc_auc_score\n",
    "from sklearn.neighbors import KNeighborsClassifier\n",
    "\n",
    "pd.options.display.max_columns = 999\n",
    "np.random.seed(123)\n",
    "random_state = 2017\n",
    "cv = StratifiedKFold(n_splits=5, shuffle=True, random_state=random_state)"
   ]
  },
  {
   "cell_type": "code",
   "execution_count": 2,
   "metadata": {},
   "outputs": [],
   "source": [
    "def load_data(ravel=True):\n",
    "    x_train = np.loadtxt(\"x_train.csv\", delimiter = \",\", skiprows = 1)\n",
    "    x_test  = np.loadtxt(\"x_test.csv\", delimiter = \",\", skiprows = 1)    \n",
    "    y_train = np.loadtxt(\"y_train.csv\", delimiter = \",\", skiprows = 1)\n",
    "    \n",
    "    \n",
    "    # remove the first column(Id)\n",
    "    x_train = x_train[:,1:]\n",
    "    x_test  = x_test[:,1:]\n",
    "    y_train = y_train[:,1:]\n",
    "\n",
    "    num_genes_train = x_train.shape[0] / 100\n",
    "    num_genes_test  = x_test.shape[0] / 100\n",
    "\n",
    "    print(\"Train / test data has %d / %d genes.\" % \\\n",
    "          (num_genes_train, num_genes_test))\n",
    "\n",
    "    x_train = np.split(x_train, num_genes_train)\n",
    "    x_test  = np.split(x_test, num_genes_test)\n",
    "\n",
    "    if ravel:\n",
    "        # Reshape by raveling each 100x5 array into a 500-length vector\n",
    "        x_train = [g.ravel() for g in x_train]\n",
    "        x_test  = [g.ravel() for g in x_test]\n",
    "    \n",
    "    x_train = np.array(x_train)\n",
    "    y_train = np.array(y_train)\n",
    "    x_test  = np.array(x_test)\n",
    "    y_train = np.ravel(y_train)\n",
    "    \n",
    "    \n",
    "    print(\"x_train shape is %s\" % str(x_train.shape))    \n",
    "    print(\"y_train shape is %s\" % str(y_train.shape))\n",
    "    print(\"x_test shape is %s\" % str(x_test.shape))\n",
    "    \n",
    "    return(x_train, y_train, x_test)\n",
    "\n",
    "def minmax_scale(array, minimum=0, maximum=1):\n",
    "    array_std = (array - array.min(axis=0)) / (array.max(axis=0) - array.min(axis=0))\n",
    "    return array_std * (maximum - minimum) + minimum\n",
    "\n"
   ]
  },
  {
   "cell_type": "code",
   "execution_count": 3,
   "metadata": {},
   "outputs": [
    {
     "name": "stdout",
     "output_type": "stream",
     "text": [
      "Loading data...\n",
      "All files loaded. Preprocessing...\n",
      "Train / test data has 15485 / 3871 genes.\n",
      "x_train shape is (15485, 500)\n",
      "y_train shape is (15485,)\n",
      "x_test shape is (3871, 500)\n",
      "Data preprocessing done...\n"
     ]
    }
   ],
   "source": [
    "x_train, y_train, x_test = load_data()\n",
    "x_train_df = pd.DataFrame(x_train)\n",
    "x_test_df = pd.DataFrame(x_test)"
   ]
  },
  {
   "cell_type": "code",
   "execution_count": 4,
   "metadata": {},
   "outputs": [
    {
     "name": "stdout",
     "output_type": "stream",
     "text": [
      "Loading data...\n",
      "All files loaded. Preprocessing...\n",
      "Train / test data has 15485 / 3871 genes.\n",
      "x_train shape is (15485, 100, 5)\n",
      "y_train shape is (15485,)\n",
      "x_test shape is (3871, 100, 5)\n",
      "Data preprocessing done...\n"
     ]
    }
   ],
   "source": [
    "x_train_100_5, y_train, x_test_100_5 = load_data(ravel=False)\n",
    "x_train_100_5 = minmax_scale(x_train_100_5)\n",
    "x_test_100_5 = minmax_scale(x_test_100_5)"
   ]
  },
  {
   "cell_type": "code",
   "execution_count": 5,
   "metadata": {},
   "outputs": [],
   "source": [
    "def get_stats(row, index=0, stat='mean'):\n",
    "    if stat == 'mean':\n",
    "        return row[index:500:5].mean()\n",
    "    elif stat == 'perc0': \n",
    "        return np.mean(row[index:500:5] == 0)\n",
    "    elif stat == 'std':\n",
    "        return np.std(row[index:500:5])\n",
    "    else:\n",
    "        raise ValueError(stat + ' currently not supported.')"
   ]
  },
  {
   "cell_type": "code",
   "execution_count": 6,
   "metadata": {},
   "outputs": [],
   "source": [
    "markers = ['H3K4me3', 'H3K4me1', 'H3K36me3', 'H3K9me3', 'H3K27me3']\n",
    "dataframes = [x_train_df, x_test_df]\n",
    "stats = ['mean', 'perc0', 'std']\n",
    "\n",
    "for df in dataframes:\n",
    "    for stat in stats:\n",
    "        for i, j in enumerate(markers):\n",
    "            df[j + '_' + stat] = df.apply(get_stats, args=(i, stat), axis=1)"
   ]
  },
  {
   "cell_type": "code",
   "execution_count": 7,
   "metadata": {},
   "outputs": [],
   "source": [
    "xg_train = xgb.DMatrix(x_train_df, label=y_train)"
   ]
  },
  {
   "cell_type": "code",
   "execution_count": 9,
   "metadata": {},
   "outputs": [
    {
     "name": "stdout",
     "output_type": "stream",
     "text": [
      "\u001b[31mInitialization\u001b[0m\n",
      "\u001b[94m---------------------------------------------------------------------------------------------------------------------------\u001b[0m\n",
      " Step |   Time |      Value |     alpha |   colsample_bytree |     gamma |   max_depth |   min_child_weight |   subsample | \n",
      "Multiple eval metrics have been passed: 'test-auc' will be used for early stopping.\n",
      "\n",
      "Will train until test-auc hasn't improved in 100 rounds.\n",
      "Stopping. Best iteration:\n",
      "[1844]\ttrain-auc:0.951736+0.00100339\ttest-auc:0.918979+0.00698068\n",
      "\n",
      "    1 | 03m01s | \u001b[35m   0.91898\u001b[0m | \u001b[32m   4.8936\u001b[0m | \u001b[32m            0.5854\u001b[0m | \u001b[32m   0.3563\u001b[0m | \u001b[32m     3.4288\u001b[0m | \u001b[32m            4.5143\u001b[0m | \u001b[32m     0.6743\u001b[0m | \n",
      "Multiple eval metrics have been passed: 'test-auc' will be used for early stopping.\n",
      "\n",
      "Will train until test-auc hasn't improved in 100 rounds.\n",
      "Stopping. Best iteration:\n",
      "[876]\ttrain-auc:0.999539+3.55562e-05\ttest-auc:0.919992+0.00618546\n",
      "\n",
      "    2 | 04m19s | \u001b[35m   0.91999\u001b[0m | \u001b[32m   2.4851\u001b[0m | \u001b[32m            0.4040\u001b[0m | \u001b[32m   0.4793\u001b[0m | \u001b[32m    17.1299\u001b[0m | \u001b[32m            2.0074\u001b[0m | \u001b[32m     0.8557\u001b[0m | \n",
      "Multiple eval metrics have been passed: 'test-auc' will be used for early stopping.\n",
      "\n",
      "Will train until test-auc hasn't improved in 100 rounds.\n",
      "Stopping. Best iteration:\n",
      "[1154]\ttrain-auc:0.993586+6.65282e-05\ttest-auc:0.920175+0.00653832\n",
      "\n",
      "    3 | 05m08s | \u001b[35m   0.92017\u001b[0m | \u001b[32m   4.0487\u001b[0m | \u001b[32m            0.4595\u001b[0m | \u001b[32m   2.1316\u001b[0m | \u001b[32m    32.7949\u001b[0m | \u001b[32m            5.6844\u001b[0m | \u001b[32m     0.8580\u001b[0m | \n",
      "Multiple eval metrics have been passed: 'test-auc' will be used for early stopping.\n",
      "\n",
      "Will train until test-auc hasn't improved in 100 rounds.\n",
      "    4 | 03m00s |    0.91493 |    1.6169 |             0.7997 |    5.2173 |      1.8969 |             9.4985 |      0.8100 | \n",
      "Multiple eval metrics have been passed: 'test-auc' will be used for early stopping.\n",
      "\n",
      "Will train until test-auc hasn't improved in 100 rounds.\n",
      "Stopping. Best iteration:\n",
      "[1022]\ttrain-auc:0.979984+0.000305297\ttest-auc:0.91974+0.00655176\n",
      "\n",
      "    5 | 03m28s |    0.91974 |    5.6157 |             0.4403 |    0.7480 |     22.2978 |            13.5891 |      0.7556 | \n"
     ]
    },
    {
     "name": "stderr",
     "output_type": "stream",
     "text": [
      "C:\\ProgramData\\Anaconda3\\envs\\py36\\lib\\site-packages\\sklearn\\gaussian_process\\gpr.py:335: UserWarning: Predicted variances smaller than 0. Setting those variances to 0.\n",
      "  warnings.warn(\"Predicted variances smaller than 0. \"\n"
     ]
    },
    {
     "name": "stdout",
     "output_type": "stream",
     "text": [
      "\u001b[31mBayesian Optimization\u001b[0m\n",
      "\u001b[94m---------------------------------------------------------------------------------------------------------------------------\u001b[0m\n",
      " Step |   Time |      Value |     alpha |   colsample_bytree |     gamma |   max_depth |   min_child_weight |   subsample | \n",
      "Multiple eval metrics have been passed: 'test-auc' will be used for early stopping.\n",
      "\n",
      "Will train until test-auc hasn't improved in 100 rounds.\n",
      "Stopping. Best iteration:\n",
      "[1304]\ttrain-auc:0.998937+4.51442e-05\ttest-auc:0.917774+0.00703591\n",
      "\n",
      "    6 | 13m29s |    0.91777 |    7.9754 |             0.8993 |    0.0578 |     39.3562 |             3.6012 |      0.9260 | \n"
     ]
    },
    {
     "name": "stderr",
     "output_type": "stream",
     "text": [
      "C:\\ProgramData\\Anaconda3\\envs\\py36\\lib\\site-packages\\sklearn\\gaussian_process\\gpr.py:457: UserWarning: fmin_l_bfgs_b terminated abnormally with the  state: {'grad': array([  1.85085721e-05]), 'task': b'ABNORMAL_TERMINATION_IN_LNSRCH', 'funcalls': 52, 'nit': 6, 'warnflag': 2}\n",
      "  \" state: %s\" % convergence_dict)\n"
     ]
    },
    {
     "name": "stdout",
     "output_type": "stream",
     "text": [
      "Multiple eval metrics have been passed: 'test-auc' will be used for early stopping.\n",
      "\n",
      "Will train until test-auc hasn't improved in 100 rounds.\n",
      "    7 | 07m46s |    0.91884 |    7.9573 |             0.1652 |    7.9872 |     19.5067 |             2.1825 |      0.9468 | \n"
     ]
    }
   ],
   "source": [
    "def xgb_evaluate(min_child_weight,\n",
    "                 colsample_bytree,\n",
    "                 max_depth,\n",
    "                 subsample,\n",
    "                 gamma,\n",
    "                 alpha):\n",
    "\n",
    "    params['min_child_weight'] = int(min_child_weight)\n",
    "    params['colsample_bytree'] = max(min(colsample_bytree, 1), 0)\n",
    "    params['max_depth'] = int(max_depth)\n",
    "    params['subsample'] = max(min(subsample, 1), 0)\n",
    "    params['gamma'] = max(gamma, 0)\n",
    "    params['alpha'] = max(alpha, 0)\n",
    "\n",
    "    cv_result = xgb.cv(params, xg_train, num_boost_round=num_rounds, \n",
    "                       nfold=5, seed=random_state, stratified=True, \n",
    "                       metrics='auc', callbacks=[xgb.callback.early_stop(100)])\n",
    "\n",
    "    return cv_result['test-auc-mean'].values[-1]\n",
    "\n",
    "\n",
    "num_rounds = 3000\n",
    "num_iter = 2\n",
    "init_points = 5\n",
    "params = {\n",
    "        'objective': 'binary:logistic',\n",
    "        'eta': .01,\n",
    "        'silent': 1,\n",
    "        'verbose_eval': True,\n",
    "        'seed': random_state\n",
    "    }\n",
    "\n",
    "xgbBO = BayesianOptimization(xgb_evaluate, {'min_child_weight': (1, 20),\n",
    "                                            'colsample_bytree': (.1, 1),\n",
    "                                            'max_depth': (1, 40),\n",
    "                                            'subsample': (.6, 1),\n",
    "                                            'gamma': (0, 8),\n",
    "                                            'alpha': (0, 8),\n",
    "                                            })\n",
    "\n",
    "xgbBO.maximize(init_points=init_points, n_iter=num_iter)"
   ]
  },
  {
   "cell_type": "code",
   "execution_count": 10,
   "metadata": {},
   "outputs": [],
   "source": [
    "bayes_params3 = {\n",
    "    'objective': 'binary:logistic',\n",
    "    'eta': .01,\n",
    "    'alpha': 0.9939,\n",
    "    'colsample_bytree': .1066,\n",
    "    'gamma': 1.8422,\n",
    "    'max_depth': 39,\n",
    "    'min_child_weight': 7,\n",
    "    'subsample': .8101,\n",
    "    'seed': random_state,\n",
    "    'silent': 1\n",
    "}"
   ]
  },
  {
   "cell_type": "code",
   "execution_count": 12,
   "metadata": {},
   "outputs": [
    {
     "name": "stdout",
     "output_type": "stream",
     "text": [
      "[0]\ttrain-auc:0.906633+0.00581156\ttest-auc:0.886849+0.0117642\n",
      "[1]\ttrain-auc:0.920163+0.00250473\ttest-auc:0.898137+0.00515209\n",
      "[2]\ttrain-auc:0.925403+0.00227319\ttest-auc:0.90277+0.00477192\n",
      "[3]\ttrain-auc:0.927815+0.00202068\ttest-auc:0.906217+0.00400852\n",
      "[4]\ttrain-auc:0.929821+0.0019787\ttest-auc:0.907839+0.00465316\n",
      "[5]\ttrain-auc:0.931135+0.0023938\ttest-auc:0.909536+0.00521998\n",
      "[6]\ttrain-auc:0.932222+0.00259713\ttest-auc:0.909966+0.00494245\n",
      "[7]\ttrain-auc:0.93317+0.00254182\ttest-auc:0.9106+0.00500454\n",
      "[8]\ttrain-auc:0.933745+0.00239626\ttest-auc:0.911318+0.00439832\n",
      "[9]\ttrain-auc:0.934476+0.00196349\ttest-auc:0.91147+0.0043765\n",
      "[10]\ttrain-auc:0.934874+0.00171577\ttest-auc:0.911797+0.0039877\n",
      "[11]\ttrain-auc:0.935287+0.00167982\ttest-auc:0.912434+0.00408773\n",
      "[12]\ttrain-auc:0.93578+0.00161783\ttest-auc:0.912655+0.00418142\n",
      "[13]\ttrain-auc:0.936024+0.0015447\ttest-auc:0.9128+0.00388814\n",
      "[14]\ttrain-auc:0.936242+0.00151727\ttest-auc:0.912872+0.00381564\n",
      "[15]\ttrain-auc:0.936635+0.00157077\ttest-auc:0.913161+0.00409302\n",
      "[16]\ttrain-auc:0.936944+0.00162256\ttest-auc:0.913182+0.00462697\n",
      "[17]\ttrain-auc:0.937147+0.00165401\ttest-auc:0.913411+0.00466348\n",
      "[18]\ttrain-auc:0.937415+0.0015577\ttest-auc:0.913641+0.00469496\n",
      "[19]\ttrain-auc:0.937623+0.00155547\ttest-auc:0.913746+0.00476724\n",
      "[20]\ttrain-auc:0.937762+0.00163796\ttest-auc:0.913789+0.00477579\n",
      "[21]\ttrain-auc:0.938004+0.00158659\ttest-auc:0.913898+0.00476624\n",
      "[22]\ttrain-auc:0.938276+0.00146463\ttest-auc:0.914122+0.00471459\n",
      "[23]\ttrain-auc:0.938411+0.00140889\ttest-auc:0.914334+0.00471616\n",
      "[24]\ttrain-auc:0.938652+0.00138261\ttest-auc:0.914424+0.00480466\n",
      "[25]\ttrain-auc:0.938855+0.00140575\ttest-auc:0.914468+0.00476142\n",
      "[26]\ttrain-auc:0.939034+0.00150675\ttest-auc:0.914578+0.00475923\n",
      "[27]\ttrain-auc:0.939231+0.00148862\ttest-auc:0.914705+0.00480462\n",
      "[28]\ttrain-auc:0.939365+0.00143998\ttest-auc:0.914821+0.004758\n",
      "[29]\ttrain-auc:0.939466+0.00154404\ttest-auc:0.914828+0.00465732\n",
      "[30]\ttrain-auc:0.939667+0.00153328\ttest-auc:0.914882+0.00450916\n",
      "[31]\ttrain-auc:0.939828+0.00148225\ttest-auc:0.914996+0.00452641\n",
      "[32]\ttrain-auc:0.939956+0.00149245\ttest-auc:0.915016+0.00452943\n",
      "[33]\ttrain-auc:0.940197+0.00140151\ttest-auc:0.915044+0.00462839\n",
      "[34]\ttrain-auc:0.940375+0.00139702\ttest-auc:0.915217+0.00458252\n",
      "[35]\ttrain-auc:0.940506+0.0013811\ttest-auc:0.915243+0.00458126\n",
      "[36]\ttrain-auc:0.940637+0.00135955\ttest-auc:0.915209+0.00459477\n",
      "[37]\ttrain-auc:0.940729+0.00132481\ttest-auc:0.915182+0.00461687\n",
      "[38]\ttrain-auc:0.940915+0.00136061\ttest-auc:0.915239+0.00459203\n",
      "[39]\ttrain-auc:0.941017+0.00132763\ttest-auc:0.915359+0.00463577\n",
      "[40]\ttrain-auc:0.941104+0.00134151\ttest-auc:0.915394+0.00473765\n",
      "[41]\ttrain-auc:0.941223+0.00129114\ttest-auc:0.91554+0.00468449\n",
      "[42]\ttrain-auc:0.941354+0.00133192\ttest-auc:0.91563+0.00468758\n",
      "[43]\ttrain-auc:0.941429+0.00131632\ttest-auc:0.915619+0.00477392\n",
      "[44]\ttrain-auc:0.941564+0.00134136\ttest-auc:0.915696+0.00476524\n",
      "[45]\ttrain-auc:0.941651+0.00132326\ttest-auc:0.91583+0.0048273\n",
      "[46]\ttrain-auc:0.941786+0.0013236\ttest-auc:0.915865+0.00477285\n",
      "[47]\ttrain-auc:0.941913+0.00129\ttest-auc:0.915867+0.00476812\n",
      "[48]\ttrain-auc:0.942093+0.00127163\ttest-auc:0.915967+0.00487166\n",
      "[49]\ttrain-auc:0.94223+0.00130934\ttest-auc:0.915959+0.00491326\n",
      "[50]\ttrain-auc:0.942348+0.00122701\ttest-auc:0.915925+0.00490509\n",
      "[51]\ttrain-auc:0.94245+0.00115942\ttest-auc:0.915932+0.00491995\n",
      "[52]\ttrain-auc:0.942562+0.0011592\ttest-auc:0.916045+0.0049118\n",
      "[53]\ttrain-auc:0.942666+0.00112698\ttest-auc:0.9161+0.00490185\n",
      "[54]\ttrain-auc:0.942797+0.00110593\ttest-auc:0.916215+0.00491657\n",
      "[55]\ttrain-auc:0.942903+0.00108429\ttest-auc:0.916213+0.00489289\n",
      "[56]\ttrain-auc:0.943046+0.00110623\ttest-auc:0.916195+0.00496444\n",
      "[57]\ttrain-auc:0.943189+0.00114331\ttest-auc:0.916237+0.00499174\n",
      "[58]\ttrain-auc:0.943307+0.00108445\ttest-auc:0.916266+0.00500094\n",
      "[59]\ttrain-auc:0.943401+0.00109588\ttest-auc:0.916274+0.00504114\n",
      "[60]\ttrain-auc:0.94353+0.00107897\ttest-auc:0.916362+0.00509458\n",
      "[61]\ttrain-auc:0.943659+0.0010665\ttest-auc:0.916471+0.00509886\n",
      "[62]\ttrain-auc:0.943805+0.00105391\ttest-auc:0.916553+0.00511391\n",
      "[63]\ttrain-auc:0.943896+0.00104461\ttest-auc:0.916517+0.00514544\n",
      "[64]\ttrain-auc:0.94402+0.00106764\ttest-auc:0.916604+0.00518633\n",
      "[65]\ttrain-auc:0.944154+0.00106574\ttest-auc:0.916566+0.0052353\n",
      "[66]\ttrain-auc:0.944281+0.00105262\ttest-auc:0.91663+0.0052737\n",
      "[67]\ttrain-auc:0.944399+0.00106718\ttest-auc:0.916653+0.00529712\n",
      "[68]\ttrain-auc:0.944533+0.0010735\ttest-auc:0.916666+0.00529486\n",
      "[69]\ttrain-auc:0.944642+0.00103519\ttest-auc:0.916728+0.00534541\n",
      "[70]\ttrain-auc:0.944778+0.00104469\ttest-auc:0.916736+0.0053782\n",
      "[71]\ttrain-auc:0.944863+0.0010537\ttest-auc:0.916763+0.00535114\n",
      "[72]\ttrain-auc:0.94496+0.00105721\ttest-auc:0.916715+0.00535624\n",
      "[73]\ttrain-auc:0.945048+0.00104398\ttest-auc:0.916786+0.00536509\n",
      "[74]\ttrain-auc:0.945175+0.00104336\ttest-auc:0.916843+0.00534892\n",
      "[75]\ttrain-auc:0.945276+0.00101277\ttest-auc:0.916837+0.00535702\n",
      "[76]\ttrain-auc:0.945385+0.00104381\ttest-auc:0.916821+0.00533305\n",
      "[77]\ttrain-auc:0.945474+0.00101375\ttest-auc:0.9169+0.00533202\n",
      "[78]\ttrain-auc:0.945595+0.00100043\ttest-auc:0.916906+0.00534004\n",
      "[79]\ttrain-auc:0.945693+0.00103075\ttest-auc:0.916921+0.00531748\n",
      "[80]\ttrain-auc:0.945787+0.00102521\ttest-auc:0.916928+0.00531584\n",
      "[81]\ttrain-auc:0.945897+0.00101541\ttest-auc:0.916961+0.00528427\n",
      "[82]\ttrain-auc:0.946004+0.00099837\ttest-auc:0.916987+0.00530894\n",
      "[83]\ttrain-auc:0.946113+0.000994563\ttest-auc:0.916969+0.00532438\n",
      "[84]\ttrain-auc:0.9462+0.000990554\ttest-auc:0.917003+0.00533736\n",
      "[85]\ttrain-auc:0.946306+0.000997175\ttest-auc:0.917055+0.00540681\n",
      "[86]\ttrain-auc:0.94642+0.00095975\ttest-auc:0.917067+0.00543837\n",
      "[87]\ttrain-auc:0.946524+0.000965328\ttest-auc:0.917054+0.00542638\n",
      "[88]\ttrain-auc:0.946669+0.000935392\ttest-auc:0.917081+0.00542903\n",
      "[89]\ttrain-auc:0.946759+0.00091869\ttest-auc:0.917052+0.00545689\n",
      "[90]\ttrain-auc:0.946876+0.000924449\ttest-auc:0.917023+0.00541392\n",
      "[91]\ttrain-auc:0.946985+0.000909607\ttest-auc:0.917017+0.0053913\n",
      "[92]\ttrain-auc:0.947102+0.000910422\ttest-auc:0.917008+0.00538522\n",
      "[93]\ttrain-auc:0.947243+0.000970329\ttest-auc:0.917009+0.00542743\n",
      "[94]\ttrain-auc:0.94732+0.000934993\ttest-auc:0.917036+0.00542686\n",
      "[95]\ttrain-auc:0.947419+0.000931478\ttest-auc:0.917113+0.0053963\n",
      "[96]\ttrain-auc:0.947541+0.000963116\ttest-auc:0.917109+0.00540809\n",
      "[97]\ttrain-auc:0.947626+0.000948773\ttest-auc:0.917111+0.00540722\n",
      "[98]\ttrain-auc:0.947726+0.000926982\ttest-auc:0.917135+0.00540097\n",
      "[99]\ttrain-auc:0.947804+0.000910525\ttest-auc:0.917148+0.00540579\n",
      "[100]\ttrain-auc:0.947914+0.00091458\ttest-auc:0.917194+0.00539435\n",
      "[101]\ttrain-auc:0.94802+0.00090098\ttest-auc:0.917246+0.00542195\n",
      "[102]\ttrain-auc:0.948132+0.000898774\ttest-auc:0.917288+0.00543235\n",
      "[103]\ttrain-auc:0.948203+0.000917158\ttest-auc:0.917291+0.00545575\n",
      "[104]\ttrain-auc:0.948301+0.000896836\ttest-auc:0.917311+0.00549218\n",
      "[105]\ttrain-auc:0.94841+0.000897949\ttest-auc:0.917351+0.00547409\n",
      "[106]\ttrain-auc:0.948528+0.000888041\ttest-auc:0.917393+0.00551437\n",
      "[107]\ttrain-auc:0.948622+0.000872306\ttest-auc:0.917422+0.00549887\n",
      "[108]\ttrain-auc:0.94876+0.000870331\ttest-auc:0.917433+0.00546869\n",
      "[109]\ttrain-auc:0.948862+0.000881462\ttest-auc:0.917452+0.0054585\n",
      "[110]\ttrain-auc:0.948981+0.000887563\ttest-auc:0.917484+0.00548387\n",
      "[111]\ttrain-auc:0.949081+0.000873724\ttest-auc:0.917541+0.00549883\n",
      "[112]\ttrain-auc:0.949176+0.000851531\ttest-auc:0.917582+0.00552613\n",
      "[113]\ttrain-auc:0.949243+0.000857694\ttest-auc:0.917625+0.00553292\n",
      "[114]\ttrain-auc:0.949335+0.000870777\ttest-auc:0.917667+0.00551162\n",
      "[115]\ttrain-auc:0.949436+0.000880573\ttest-auc:0.917696+0.00548899\n",
      "[116]\ttrain-auc:0.949519+0.000877921\ttest-auc:0.917651+0.0054465\n",
      "[117]\ttrain-auc:0.949616+0.000877009\ttest-auc:0.917645+0.005445\n",
      "[118]\ttrain-auc:0.94971+0.000878539\ttest-auc:0.917672+0.00543248\n",
      "[119]\ttrain-auc:0.949811+0.000887067\ttest-auc:0.917693+0.00542323\n",
      "[120]\ttrain-auc:0.94992+0.000895615\ttest-auc:0.917717+0.00540567\n",
      "[121]\ttrain-auc:0.950017+0.000906784\ttest-auc:0.917718+0.00544275\n",
      "[122]\ttrain-auc:0.950101+0.000893618\ttest-auc:0.917729+0.00542507\n",
      "[123]\ttrain-auc:0.950191+0.000891077\ttest-auc:0.917758+0.00541435\n",
      "[124]\ttrain-auc:0.950273+0.000878986\ttest-auc:0.917778+0.00544841\n",
      "[125]\ttrain-auc:0.950358+0.000866052\ttest-auc:0.91781+0.00545562\n",
      "[126]\ttrain-auc:0.950473+0.000859482\ttest-auc:0.917838+0.00545714\n",
      "[127]\ttrain-auc:0.950601+0.000844952\ttest-auc:0.917878+0.00542439\n",
      "[128]\ttrain-auc:0.950707+0.000853372\ttest-auc:0.9179+0.00542675\n"
     ]
    },
    {
     "name": "stdout",
     "output_type": "stream",
     "text": [
      "[129]\ttrain-auc:0.950795+0.000854917\ttest-auc:0.917896+0.0054143\n",
      "[130]\ttrain-auc:0.950892+0.000854655\ttest-auc:0.917912+0.00541602\n",
      "[131]\ttrain-auc:0.951003+0.000850877\ttest-auc:0.917932+0.00542791\n",
      "[132]\ttrain-auc:0.951093+0.000854805\ttest-auc:0.917959+0.00544311\n",
      "[133]\ttrain-auc:0.951193+0.000860324\ttest-auc:0.917971+0.00546522\n",
      "[134]\ttrain-auc:0.951298+0.000844889\ttest-auc:0.917974+0.00548146\n",
      "[135]\ttrain-auc:0.951406+0.00085463\ttest-auc:0.918023+0.00550234\n",
      "[136]\ttrain-auc:0.951514+0.000855068\ttest-auc:0.918016+0.00548969\n",
      "[137]\ttrain-auc:0.951612+0.000862156\ttest-auc:0.918022+0.00553448\n",
      "[138]\ttrain-auc:0.951727+0.000869399\ttest-auc:0.918018+0.005549\n",
      "[139]\ttrain-auc:0.951835+0.000861503\ttest-auc:0.918065+0.00552501\n",
      "[140]\ttrain-auc:0.951942+0.000868815\ttest-auc:0.918071+0.00551986\n",
      "[141]\ttrain-auc:0.952044+0.000851723\ttest-auc:0.918057+0.00549599\n",
      "[142]\ttrain-auc:0.952141+0.00085892\ttest-auc:0.918026+0.00551311\n",
      "[143]\ttrain-auc:0.952245+0.000841752\ttest-auc:0.918049+0.00551631\n",
      "[144]\ttrain-auc:0.952349+0.000839677\ttest-auc:0.91807+0.00550946\n",
      "[145]\ttrain-auc:0.952459+0.00084512\ttest-auc:0.918095+0.00549104\n",
      "[146]\ttrain-auc:0.952553+0.000854642\ttest-auc:0.918126+0.00552652\n",
      "[147]\ttrain-auc:0.952662+0.000857748\ttest-auc:0.91814+0.00554667\n",
      "[148]\ttrain-auc:0.952745+0.000851646\ttest-auc:0.918127+0.00558312\n",
      "[149]\ttrain-auc:0.952844+0.000853854\ttest-auc:0.918152+0.0055855\n",
      "[150]\ttrain-auc:0.952938+0.000849812\ttest-auc:0.918172+0.00558095\n",
      "[151]\ttrain-auc:0.953045+0.000851689\ttest-auc:0.918159+0.00557233\n",
      "[152]\ttrain-auc:0.95316+0.000819376\ttest-auc:0.918182+0.00560382\n",
      "[153]\ttrain-auc:0.953259+0.000822343\ttest-auc:0.918183+0.00560793\n",
      "[154]\ttrain-auc:0.953354+0.000816541\ttest-auc:0.918197+0.0056068\n",
      "[155]\ttrain-auc:0.953457+0.000811258\ttest-auc:0.918224+0.00562617\n",
      "[156]\ttrain-auc:0.953571+0.000810618\ttest-auc:0.918215+0.00563611\n",
      "[157]\ttrain-auc:0.953665+0.000815898\ttest-auc:0.918246+0.00563695\n",
      "[158]\ttrain-auc:0.953754+0.000810874\ttest-auc:0.918276+0.00564015\n",
      "[159]\ttrain-auc:0.95386+0.000827135\ttest-auc:0.918294+0.00563605\n",
      "[160]\ttrain-auc:0.953962+0.000822608\ttest-auc:0.918364+0.00562298\n",
      "[161]\ttrain-auc:0.954065+0.000815991\ttest-auc:0.918362+0.00560666\n",
      "[162]\ttrain-auc:0.954168+0.00081355\ttest-auc:0.918381+0.00562304\n",
      "[163]\ttrain-auc:0.954265+0.000813663\ttest-auc:0.918425+0.00563704\n",
      "[164]\ttrain-auc:0.954353+0.000817352\ttest-auc:0.918426+0.00566137\n",
      "[165]\ttrain-auc:0.954445+0.000821479\ttest-auc:0.918449+0.00570335\n",
      "[166]\ttrain-auc:0.954554+0.000816885\ttest-auc:0.918471+0.00572421\n",
      "[167]\ttrain-auc:0.954638+0.000800553\ttest-auc:0.918502+0.0057536\n",
      "[168]\ttrain-auc:0.954731+0.000789021\ttest-auc:0.918486+0.00577737\n",
      "[169]\ttrain-auc:0.954821+0.000788823\ttest-auc:0.91851+0.00576264\n",
      "[170]\ttrain-auc:0.954928+0.000779037\ttest-auc:0.918503+0.00578897\n",
      "[171]\ttrain-auc:0.955025+0.000774904\ttest-auc:0.918527+0.00578443\n",
      "[172]\ttrain-auc:0.955136+0.000775267\ttest-auc:0.918547+0.00577273\n",
      "[173]\ttrain-auc:0.955229+0.000761206\ttest-auc:0.918537+0.0057622\n",
      "[174]\ttrain-auc:0.955319+0.000753775\ttest-auc:0.918547+0.00575392\n",
      "[175]\ttrain-auc:0.955429+0.000746123\ttest-auc:0.918597+0.00577632\n",
      "[176]\ttrain-auc:0.955521+0.000744789\ttest-auc:0.91859+0.0057848\n",
      "[177]\ttrain-auc:0.955612+0.000745093\ttest-auc:0.918606+0.00577338\n",
      "[178]\ttrain-auc:0.955707+0.000745682\ttest-auc:0.918609+0.00578017\n",
      "[179]\ttrain-auc:0.955799+0.000741899\ttest-auc:0.918628+0.00578611\n",
      "[180]\ttrain-auc:0.955901+0.000739368\ttest-auc:0.918637+0.00577896\n",
      "[181]\ttrain-auc:0.955995+0.000736323\ttest-auc:0.918649+0.00580327\n",
      "[182]\ttrain-auc:0.956083+0.000727639\ttest-auc:0.918694+0.00580861\n",
      "[183]\ttrain-auc:0.956187+0.000709946\ttest-auc:0.918708+0.00578136\n",
      "[184]\ttrain-auc:0.956277+0.000708856\ttest-auc:0.918722+0.00576937\n",
      "[185]\ttrain-auc:0.956379+0.000703109\ttest-auc:0.91872+0.0057743\n",
      "[186]\ttrain-auc:0.956471+0.000708647\ttest-auc:0.91873+0.00577492\n",
      "[187]\ttrain-auc:0.956558+0.000712283\ttest-auc:0.918741+0.00575852\n",
      "[188]\ttrain-auc:0.956654+0.000696978\ttest-auc:0.918727+0.00576181\n",
      "[189]\ttrain-auc:0.956752+0.000703377\ttest-auc:0.918767+0.00575396\n",
      "[190]\ttrain-auc:0.956843+0.00068919\ttest-auc:0.918804+0.00574886\n",
      "[191]\ttrain-auc:0.956927+0.000680546\ttest-auc:0.9188+0.00574966\n",
      "[192]\ttrain-auc:0.957016+0.000682025\ttest-auc:0.9188+0.00573878\n",
      "[193]\ttrain-auc:0.957117+0.000674975\ttest-auc:0.918791+0.00572665\n",
      "[194]\ttrain-auc:0.957195+0.000669312\ttest-auc:0.918803+0.00572214\n",
      "[195]\ttrain-auc:0.957274+0.000659644\ttest-auc:0.918841+0.00572198\n",
      "[196]\ttrain-auc:0.957365+0.000651763\ttest-auc:0.918856+0.00571073\n",
      "[197]\ttrain-auc:0.957451+0.000642152\ttest-auc:0.918856+0.00572068\n",
      "[198]\ttrain-auc:0.957555+0.000634088\ttest-auc:0.918891+0.00570478\n",
      "[199]\ttrain-auc:0.957643+0.000632031\ttest-auc:0.918917+0.00570295\n",
      "[200]\ttrain-auc:0.957739+0.000634434\ttest-auc:0.918922+0.00567448\n",
      "[201]\ttrain-auc:0.957814+0.000629018\ttest-auc:0.918939+0.00566562\n",
      "[202]\ttrain-auc:0.957899+0.000639515\ttest-auc:0.918929+0.00564907\n",
      "[203]\ttrain-auc:0.957992+0.00064082\ttest-auc:0.918939+0.005638\n",
      "[204]\ttrain-auc:0.95807+0.000635794\ttest-auc:0.918916+0.00563343\n",
      "[205]\ttrain-auc:0.958152+0.000634259\ttest-auc:0.918927+0.00560522\n",
      "[206]\ttrain-auc:0.958237+0.000623725\ttest-auc:0.918941+0.00560195\n",
      "[207]\ttrain-auc:0.958325+0.000620939\ttest-auc:0.918963+0.00559986\n",
      "[208]\ttrain-auc:0.958418+0.000612544\ttest-auc:0.918974+0.00560104\n",
      "[209]\ttrain-auc:0.958516+0.000605682\ttest-auc:0.918995+0.00559784\n",
      "[210]\ttrain-auc:0.958592+0.000604087\ttest-auc:0.919008+0.00559364\n",
      "[211]\ttrain-auc:0.958681+0.000606052\ttest-auc:0.919029+0.00559164\n",
      "[212]\ttrain-auc:0.958771+0.000608716\ttest-auc:0.919008+0.00560373\n",
      "[213]\ttrain-auc:0.95887+0.000604619\ttest-auc:0.919007+0.00558763\n",
      "[214]\ttrain-auc:0.958945+0.00060843\ttest-auc:0.919049+0.00559725\n",
      "[215]\ttrain-auc:0.95904+0.0006112\ttest-auc:0.919054+0.00562467\n",
      "[216]\ttrain-auc:0.959124+0.000595227\ttest-auc:0.919079+0.00563163\n",
      "[217]\ttrain-auc:0.95922+0.000592945\ttest-auc:0.919088+0.00563475\n",
      "[218]\ttrain-auc:0.959315+0.000591947\ttest-auc:0.919107+0.00561787\n",
      "[219]\ttrain-auc:0.959399+0.0005933\ttest-auc:0.919109+0.00560171\n",
      "[220]\ttrain-auc:0.959487+0.000591271\ttest-auc:0.919136+0.00560265\n",
      "[221]\ttrain-auc:0.959572+0.000595219\ttest-auc:0.91915+0.00557742\n",
      "[222]\ttrain-auc:0.959672+0.000602645\ttest-auc:0.919155+0.00560279\n",
      "[223]\ttrain-auc:0.959751+0.000610619\ttest-auc:0.919176+0.00560798\n",
      "[224]\ttrain-auc:0.959841+0.00060752\ttest-auc:0.919186+0.00558719\n",
      "[225]\ttrain-auc:0.95993+0.000610673\ttest-auc:0.919175+0.00558732\n",
      "[226]\ttrain-auc:0.960017+0.000602881\ttest-auc:0.919189+0.00557297\n",
      "[227]\ttrain-auc:0.960089+0.000596735\ttest-auc:0.919191+0.00559234\n",
      "[228]\ttrain-auc:0.960172+0.000598233\ttest-auc:0.919193+0.00559961\n",
      "[229]\ttrain-auc:0.960265+0.000584067\ttest-auc:0.919184+0.00561054\n",
      "[230]\ttrain-auc:0.960348+0.000577548\ttest-auc:0.919214+0.00560744\n",
      "[231]\ttrain-auc:0.96044+0.000572654\ttest-auc:0.919235+0.00562023\n",
      "[232]\ttrain-auc:0.960535+0.00058387\ttest-auc:0.91926+0.00560764\n",
      "[233]\ttrain-auc:0.960628+0.000589069\ttest-auc:0.919267+0.00561529\n",
      "[234]\ttrain-auc:0.960716+0.000588723\ttest-auc:0.919286+0.00562831\n",
      "[235]\ttrain-auc:0.9608+0.000591012\ttest-auc:0.919278+0.00560298\n",
      "[236]\ttrain-auc:0.960885+0.000605995\ttest-auc:0.919273+0.00560164\n",
      "[237]\ttrain-auc:0.960961+0.000611812\ttest-auc:0.919263+0.00557982\n",
      "[238]\ttrain-auc:0.961029+0.000622978\ttest-auc:0.919281+0.00555241\n",
      "[239]\ttrain-auc:0.961108+0.000608941\ttest-auc:0.919272+0.00554562\n",
      "[240]\ttrain-auc:0.961205+0.000602449\ttest-auc:0.919292+0.00554152\n",
      "[241]\ttrain-auc:0.961297+0.000594777\ttest-auc:0.919284+0.00554202\n",
      "[242]\ttrain-auc:0.961383+0.000590495\ttest-auc:0.919282+0.00554928\n",
      "[243]\ttrain-auc:0.961475+0.0005936\ttest-auc:0.919318+0.00553024\n",
      "[244]\ttrain-auc:0.96155+0.000594305\ttest-auc:0.919322+0.00551913\n",
      "[245]\ttrain-auc:0.961631+0.000601285\ttest-auc:0.919332+0.00552991\n",
      "[246]\ttrain-auc:0.961708+0.000595626\ttest-auc:0.91932+0.00552644\n",
      "[247]\ttrain-auc:0.961794+0.000595976\ttest-auc:0.919336+0.00555452\n",
      "[248]\ttrain-auc:0.961877+0.000586835\ttest-auc:0.919341+0.00553461\n",
      "[249]\ttrain-auc:0.961961+0.000584605\ttest-auc:0.919353+0.00550379\n",
      "[250]\ttrain-auc:0.962051+0.000583125\ttest-auc:0.919367+0.00552683\n",
      "[251]\ttrain-auc:0.962131+0.000576101\ttest-auc:0.919369+0.00552942\n",
      "[252]\ttrain-auc:0.962209+0.000566131\ttest-auc:0.91938+0.00553717\n",
      "[253]\ttrain-auc:0.962295+0.000559246\ttest-auc:0.919387+0.00555626\n"
     ]
    },
    {
     "name": "stdout",
     "output_type": "stream",
     "text": [
      "[254]\ttrain-auc:0.962379+0.000560677\ttest-auc:0.919401+0.00556288\n",
      "[255]\ttrain-auc:0.962465+0.000563277\ttest-auc:0.91943+0.00554441\n",
      "[256]\ttrain-auc:0.962545+0.000567815\ttest-auc:0.919429+0.00557524\n",
      "[257]\ttrain-auc:0.962633+0.000555065\ttest-auc:0.91942+0.00558308\n",
      "[258]\ttrain-auc:0.962706+0.000552212\ttest-auc:0.91943+0.00556146\n",
      "[259]\ttrain-auc:0.962786+0.000554656\ttest-auc:0.919439+0.00555019\n",
      "[260]\ttrain-auc:0.962873+0.00054962\ttest-auc:0.919451+0.00554684\n",
      "[261]\ttrain-auc:0.962957+0.000546157\ttest-auc:0.919456+0.00556039\n",
      "[262]\ttrain-auc:0.963034+0.000546678\ttest-auc:0.919445+0.00555902\n",
      "[263]\ttrain-auc:0.963117+0.000550226\ttest-auc:0.919435+0.00558106\n",
      "[264]\ttrain-auc:0.963195+0.000551163\ttest-auc:0.919449+0.0055745\n",
      "[265]\ttrain-auc:0.963282+0.000546471\ttest-auc:0.919461+0.00558696\n",
      "[266]\ttrain-auc:0.963365+0.000552255\ttest-auc:0.919492+0.00560126\n",
      "[267]\ttrain-auc:0.963445+0.000549405\ttest-auc:0.919499+0.00558808\n",
      "[268]\ttrain-auc:0.963527+0.000548407\ttest-auc:0.919509+0.00559381\n",
      "[269]\ttrain-auc:0.963613+0.000539667\ttest-auc:0.919517+0.00558139\n",
      "[270]\ttrain-auc:0.963695+0.000541164\ttest-auc:0.919491+0.00558447\n",
      "[271]\ttrain-auc:0.963776+0.000536951\ttest-auc:0.919503+0.00555731\n",
      "[272]\ttrain-auc:0.963852+0.000534675\ttest-auc:0.919531+0.00556686\n",
      "[273]\ttrain-auc:0.963936+0.000540803\ttest-auc:0.919521+0.00555027\n",
      "[274]\ttrain-auc:0.964022+0.000534688\ttest-auc:0.919519+0.00554483\n",
      "[275]\ttrain-auc:0.964104+0.000525216\ttest-auc:0.919519+0.00554678\n",
      "[276]\ttrain-auc:0.964182+0.000526936\ttest-auc:0.919534+0.00556246\n",
      "[277]\ttrain-auc:0.964262+0.000529164\ttest-auc:0.91953+0.0055829\n",
      "[278]\ttrain-auc:0.964343+0.000528108\ttest-auc:0.919538+0.00559495\n",
      "[279]\ttrain-auc:0.964426+0.000527861\ttest-auc:0.919558+0.00559739\n",
      "[280]\ttrain-auc:0.96451+0.000528639\ttest-auc:0.919578+0.00559611\n",
      "[281]\ttrain-auc:0.964581+0.000531332\ttest-auc:0.919586+0.00560233\n",
      "[282]\ttrain-auc:0.964661+0.000535268\ttest-auc:0.919587+0.00559084\n",
      "[283]\ttrain-auc:0.964733+0.000537489\ttest-auc:0.91961+0.00561656\n",
      "[284]\ttrain-auc:0.964817+0.000538524\ttest-auc:0.919639+0.00559636\n",
      "[285]\ttrain-auc:0.964893+0.000536185\ttest-auc:0.919636+0.00561234\n",
      "[286]\ttrain-auc:0.964981+0.000531178\ttest-auc:0.919625+0.00559748\n",
      "[287]\ttrain-auc:0.965055+0.000531251\ttest-auc:0.919623+0.00560777\n",
      "[288]\ttrain-auc:0.965137+0.000536348\ttest-auc:0.91964+0.00560139\n",
      "[289]\ttrain-auc:0.965219+0.000541744\ttest-auc:0.919633+0.00557548\n",
      "[290]\ttrain-auc:0.965296+0.000539622\ttest-auc:0.91965+0.00558527\n",
      "[291]\ttrain-auc:0.965374+0.000543076\ttest-auc:0.919672+0.00557088\n",
      "[292]\ttrain-auc:0.965459+0.000545791\ttest-auc:0.919686+0.00559129\n",
      "[293]\ttrain-auc:0.965538+0.000535464\ttest-auc:0.919685+0.00560616\n",
      "[294]\ttrain-auc:0.965614+0.000537704\ttest-auc:0.919706+0.00559575\n",
      "[295]\ttrain-auc:0.965696+0.000533522\ttest-auc:0.919697+0.00557622\n",
      "[296]\ttrain-auc:0.965779+0.000539658\ttest-auc:0.919707+0.00554404\n",
      "[297]\ttrain-auc:0.965847+0.000542418\ttest-auc:0.91971+0.00555911\n",
      "[298]\ttrain-auc:0.96592+0.000540463\ttest-auc:0.919698+0.00558288\n",
      "[299]\ttrain-auc:0.965995+0.000534177\ttest-auc:0.919718+0.00557407\n",
      "[300]\ttrain-auc:0.966073+0.00053615\ttest-auc:0.919726+0.00557594\n",
      "[301]\ttrain-auc:0.966149+0.00053122\ttest-auc:0.919737+0.00557498\n",
      "[302]\ttrain-auc:0.966228+0.000533966\ttest-auc:0.919745+0.00558826\n",
      "[303]\ttrain-auc:0.966308+0.000535747\ttest-auc:0.919745+0.00558408\n",
      "[304]\ttrain-auc:0.966388+0.000539525\ttest-auc:0.919756+0.00560503\n",
      "[305]\ttrain-auc:0.966467+0.000537303\ttest-auc:0.919758+0.00560072\n",
      "[306]\ttrain-auc:0.966536+0.000531083\ttest-auc:0.919743+0.00560965\n",
      "[307]\ttrain-auc:0.966612+0.000526674\ttest-auc:0.919766+0.00561242\n",
      "[308]\ttrain-auc:0.966696+0.000525303\ttest-auc:0.919759+0.00560257\n",
      "[309]\ttrain-auc:0.966768+0.000524\ttest-auc:0.919781+0.00560572\n",
      "[310]\ttrain-auc:0.966848+0.00052377\ttest-auc:0.919799+0.00561651\n",
      "[311]\ttrain-auc:0.96693+0.000531779\ttest-auc:0.919801+0.00558572\n",
      "[312]\ttrain-auc:0.967+0.00052197\ttest-auc:0.919825+0.0055932\n",
      "[313]\ttrain-auc:0.967073+0.000516648\ttest-auc:0.919843+0.00558512\n",
      "[314]\ttrain-auc:0.967142+0.000515739\ttest-auc:0.91985+0.0056105\n",
      "[315]\ttrain-auc:0.967218+0.000522199\ttest-auc:0.919865+0.00561098\n",
      "[316]\ttrain-auc:0.967287+0.00052501\ttest-auc:0.919866+0.0056036\n",
      "[317]\ttrain-auc:0.967357+0.000525738\ttest-auc:0.919856+0.00561458\n",
      "[318]\ttrain-auc:0.967438+0.000525786\ttest-auc:0.919866+0.00561644\n",
      "[319]\ttrain-auc:0.967509+0.000528237\ttest-auc:0.919863+0.00560473\n",
      "[320]\ttrain-auc:0.967585+0.000538918\ttest-auc:0.919877+0.00559485\n",
      "[321]\ttrain-auc:0.967657+0.000534051\ttest-auc:0.919867+0.00561434\n",
      "[322]\ttrain-auc:0.967731+0.000533285\ttest-auc:0.91988+0.00561445\n",
      "[323]\ttrain-auc:0.967811+0.000540232\ttest-auc:0.919897+0.0056195\n",
      "[324]\ttrain-auc:0.967888+0.000540955\ttest-auc:0.919889+0.00559744\n",
      "[325]\ttrain-auc:0.967958+0.000539244\ttest-auc:0.919896+0.005612\n",
      "[326]\ttrain-auc:0.968032+0.000537709\ttest-auc:0.919918+0.00562071\n",
      "[327]\ttrain-auc:0.968107+0.000535251\ttest-auc:0.919925+0.00561628\n",
      "[328]\ttrain-auc:0.968178+0.000537315\ttest-auc:0.919941+0.00562354\n",
      "[329]\ttrain-auc:0.968248+0.000536333\ttest-auc:0.919948+0.00562339\n",
      "[330]\ttrain-auc:0.96832+0.000540872\ttest-auc:0.919947+0.00560283\n",
      "[331]\ttrain-auc:0.96839+0.00053925\ttest-auc:0.919963+0.00559163\n",
      "[332]\ttrain-auc:0.968455+0.000532906\ttest-auc:0.919957+0.00558513\n",
      "[333]\ttrain-auc:0.968532+0.000532217\ttest-auc:0.919977+0.00562321\n",
      "[334]\ttrain-auc:0.968602+0.000522513\ttest-auc:0.919999+0.00563955\n",
      "[335]\ttrain-auc:0.968678+0.000522094\ttest-auc:0.919992+0.0056386\n",
      "[336]\ttrain-auc:0.968753+0.000520834\ttest-auc:0.920012+0.00562789\n",
      "[337]\ttrain-auc:0.968838+0.0005209\ttest-auc:0.920032+0.00564587\n",
      "[338]\ttrain-auc:0.968907+0.000520522\ttest-auc:0.920024+0.0056651\n",
      "[339]\ttrain-auc:0.968982+0.00052431\ttest-auc:0.920007+0.0056706\n",
      "[340]\ttrain-auc:0.969052+0.000512387\ttest-auc:0.920015+0.00566608\n",
      "[341]\ttrain-auc:0.969122+0.000503292\ttest-auc:0.920021+0.00564886\n",
      "[342]\ttrain-auc:0.969199+0.000507526\ttest-auc:0.920032+0.00562412\n",
      "[343]\ttrain-auc:0.969277+0.000501969\ttest-auc:0.920039+0.00562289\n",
      "[344]\ttrain-auc:0.969357+0.000503974\ttest-auc:0.920047+0.00563531\n",
      "[345]\ttrain-auc:0.96942+0.000503356\ttest-auc:0.920067+0.00564633\n",
      "[346]\ttrain-auc:0.969492+0.000501502\ttest-auc:0.920073+0.0056423\n",
      "[347]\ttrain-auc:0.969562+0.000499217\ttest-auc:0.920074+0.00564746\n",
      "[348]\ttrain-auc:0.969639+0.000496685\ttest-auc:0.920099+0.005636\n",
      "[349]\ttrain-auc:0.969707+0.000492396\ttest-auc:0.920106+0.00561436\n",
      "[350]\ttrain-auc:0.969777+0.000489414\ttest-auc:0.9201+0.00560458\n",
      "[351]\ttrain-auc:0.969847+0.000488178\ttest-auc:0.920105+0.00560994\n",
      "[352]\ttrain-auc:0.969925+0.00048219\ttest-auc:0.920108+0.00562528\n",
      "[353]\ttrain-auc:0.969996+0.000483647\ttest-auc:0.920123+0.00560656\n",
      "[354]\ttrain-auc:0.970075+0.000484811\ttest-auc:0.92012+0.00559084\n",
      "[355]\ttrain-auc:0.970147+0.000481679\ttest-auc:0.920128+0.00559172\n",
      "[356]\ttrain-auc:0.970217+0.000487155\ttest-auc:0.920123+0.00560596\n",
      "[357]\ttrain-auc:0.970288+0.000477927\ttest-auc:0.920127+0.0056122\n",
      "[358]\ttrain-auc:0.970358+0.000475311\ttest-auc:0.920142+0.00559556\n",
      "[359]\ttrain-auc:0.97043+0.000475132\ttest-auc:0.920154+0.00557736\n",
      "[360]\ttrain-auc:0.970502+0.000474052\ttest-auc:0.920156+0.00559791\n",
      "[361]\ttrain-auc:0.970572+0.000472\ttest-auc:0.920149+0.00561647\n",
      "[362]\ttrain-auc:0.970642+0.000470855\ttest-auc:0.920158+0.00562167\n",
      "[363]\ttrain-auc:0.970712+0.000470133\ttest-auc:0.920164+0.00562838\n",
      "[364]\ttrain-auc:0.970779+0.000467414\ttest-auc:0.920173+0.00561396\n",
      "[365]\ttrain-auc:0.970856+0.00046296\ttest-auc:0.920186+0.00560783\n",
      "[366]\ttrain-auc:0.970926+0.00046056\ttest-auc:0.920203+0.00560082\n",
      "[367]\ttrain-auc:0.970994+0.000459704\ttest-auc:0.92022+0.00559974\n",
      "[368]\ttrain-auc:0.971062+0.000460103\ttest-auc:0.920214+0.00560536\n",
      "[369]\ttrain-auc:0.97113+0.000460918\ttest-auc:0.920215+0.00559876\n",
      "[370]\ttrain-auc:0.9712+0.0004668\ttest-auc:0.920213+0.00559557\n",
      "[371]\ttrain-auc:0.971263+0.000465103\ttest-auc:0.920224+0.00558015\n",
      "[372]\ttrain-auc:0.971329+0.00046943\ttest-auc:0.920221+0.00555421\n",
      "[373]\ttrain-auc:0.971401+0.000468394\ttest-auc:0.92022+0.00555175\n",
      "[374]\ttrain-auc:0.971465+0.000464226\ttest-auc:0.920231+0.00557366\n",
      "[375]\ttrain-auc:0.971539+0.000470658\ttest-auc:0.920225+0.00557926\n",
      "[376]\ttrain-auc:0.971601+0.000469563\ttest-auc:0.920216+0.00558625\n",
      "[377]\ttrain-auc:0.971665+0.000466989\ttest-auc:0.920209+0.00558709\n",
      "[378]\ttrain-auc:0.971734+0.000459212\ttest-auc:0.920228+0.00556671\n",
      "[379]\ttrain-auc:0.971805+0.000456207\ttest-auc:0.920247+0.00556472\n"
     ]
    },
    {
     "name": "stdout",
     "output_type": "stream",
     "text": [
      "[380]\ttrain-auc:0.971882+0.000446778\ttest-auc:0.92025+0.00555242\n",
      "[381]\ttrain-auc:0.971945+0.0004468\ttest-auc:0.920247+0.0055491\n",
      "[382]\ttrain-auc:0.972012+0.000439512\ttest-auc:0.920264+0.00555603\n",
      "[383]\ttrain-auc:0.972078+0.000439117\ttest-auc:0.92026+0.00553883\n",
      "[384]\ttrain-auc:0.97214+0.000434953\ttest-auc:0.920255+0.00553669\n",
      "[385]\ttrain-auc:0.972206+0.000424675\ttest-auc:0.920271+0.00552971\n",
      "[386]\ttrain-auc:0.972276+0.000424547\ttest-auc:0.920283+0.00554048\n",
      "[387]\ttrain-auc:0.972344+0.000421929\ttest-auc:0.920285+0.00554501\n",
      "[388]\ttrain-auc:0.972407+0.000425314\ttest-auc:0.92029+0.00554711\n",
      "[389]\ttrain-auc:0.972471+0.000425887\ttest-auc:0.920277+0.00555621\n",
      "[390]\ttrain-auc:0.972532+0.000418545\ttest-auc:0.920271+0.00554091\n",
      "[391]\ttrain-auc:0.972593+0.000416937\ttest-auc:0.920286+0.00554092\n",
      "[392]\ttrain-auc:0.972656+0.000415232\ttest-auc:0.920283+0.00553862\n",
      "[393]\ttrain-auc:0.972723+0.000410344\ttest-auc:0.920309+0.00552557\n",
      "[394]\ttrain-auc:0.972793+0.000411907\ttest-auc:0.920307+0.00554183\n",
      "[395]\ttrain-auc:0.972856+0.000407448\ttest-auc:0.920307+0.00554091\n",
      "[396]\ttrain-auc:0.97292+0.000408192\ttest-auc:0.9203+0.00554072\n",
      "[397]\ttrain-auc:0.972985+0.000403621\ttest-auc:0.920309+0.00554017\n",
      "[398]\ttrain-auc:0.973049+0.00040345\ttest-auc:0.920324+0.00554907\n",
      "[399]\ttrain-auc:0.973119+0.000399449\ttest-auc:0.920318+0.00554095\n",
      "[400]\ttrain-auc:0.973187+0.000391844\ttest-auc:0.920327+0.00555942\n",
      "[401]\ttrain-auc:0.973253+0.00039002\ttest-auc:0.920335+0.00555845\n",
      "[402]\ttrain-auc:0.973323+0.000389685\ttest-auc:0.920353+0.00555368\n",
      "[403]\ttrain-auc:0.973388+0.000389643\ttest-auc:0.920359+0.00556442\n",
      "[404]\ttrain-auc:0.973453+0.000391073\ttest-auc:0.92037+0.00555562\n",
      "[405]\ttrain-auc:0.973515+0.000391355\ttest-auc:0.920366+0.0055727\n",
      "[406]\ttrain-auc:0.973577+0.000387606\ttest-auc:0.920364+0.00556824\n",
      "[407]\ttrain-auc:0.97365+0.000386902\ttest-auc:0.920376+0.00555827\n",
      "[408]\ttrain-auc:0.973717+0.000384257\ttest-auc:0.920379+0.00555833\n",
      "[409]\ttrain-auc:0.973783+0.000385715\ttest-auc:0.920368+0.00554981\n",
      "[410]\ttrain-auc:0.973856+0.000385735\ttest-auc:0.920383+0.00555589\n",
      "[411]\ttrain-auc:0.973924+0.000378764\ttest-auc:0.92038+0.00555317\n",
      "[412]\ttrain-auc:0.973988+0.000373525\ttest-auc:0.920386+0.0055594\n",
      "[413]\ttrain-auc:0.974051+0.00037749\ttest-auc:0.920398+0.00555148\n",
      "[414]\ttrain-auc:0.974116+0.000379261\ttest-auc:0.920401+0.00555894\n",
      "[415]\ttrain-auc:0.974177+0.000376334\ttest-auc:0.920421+0.00555234\n",
      "[416]\ttrain-auc:0.974242+0.000369995\ttest-auc:0.920427+0.0055629\n",
      "[417]\ttrain-auc:0.974302+0.000369645\ttest-auc:0.920437+0.00555322\n",
      "[418]\ttrain-auc:0.974367+0.00037877\ttest-auc:0.920449+0.00556644\n",
      "[419]\ttrain-auc:0.97443+0.000378906\ttest-auc:0.920465+0.00555815\n",
      "[420]\ttrain-auc:0.974493+0.000377597\ttest-auc:0.92049+0.0055463\n",
      "[421]\ttrain-auc:0.974554+0.00037406\ttest-auc:0.920501+0.00553663\n",
      "[422]\ttrain-auc:0.974621+0.000374715\ttest-auc:0.920503+0.00553047\n",
      "[423]\ttrain-auc:0.974679+0.000372931\ttest-auc:0.920495+0.00553624\n",
      "[424]\ttrain-auc:0.974738+0.000372755\ttest-auc:0.920503+0.0055153\n",
      "[425]\ttrain-auc:0.974803+0.000372335\ttest-auc:0.920508+0.00550872\n",
      "[426]\ttrain-auc:0.974864+0.000378884\ttest-auc:0.920506+0.00552\n",
      "[427]\ttrain-auc:0.974928+0.000377674\ttest-auc:0.920514+0.00553206\n",
      "[428]\ttrain-auc:0.974993+0.000380684\ttest-auc:0.920536+0.00555601\n",
      "[429]\ttrain-auc:0.975049+0.000384239\ttest-auc:0.920551+0.00555911\n",
      "[430]\ttrain-auc:0.975114+0.000385295\ttest-auc:0.920537+0.00555756\n",
      "[431]\ttrain-auc:0.975175+0.000388749\ttest-auc:0.920536+0.0055507\n",
      "[432]\ttrain-auc:0.975237+0.000389185\ttest-auc:0.92056+0.00554338\n",
      "[433]\ttrain-auc:0.975299+0.000389233\ttest-auc:0.920549+0.0055496\n",
      "[434]\ttrain-auc:0.975362+0.000390027\ttest-auc:0.92055+0.00554475\n",
      "[435]\ttrain-auc:0.975427+0.000390107\ttest-auc:0.920553+0.00554837\n",
      "[436]\ttrain-auc:0.97549+0.000387725\ttest-auc:0.920547+0.00556039\n",
      "[437]\ttrain-auc:0.975543+0.000391031\ttest-auc:0.920559+0.00555361\n",
      "[438]\ttrain-auc:0.975602+0.000387977\ttest-auc:0.920573+0.00556232\n",
      "[439]\ttrain-auc:0.975666+0.000390126\ttest-auc:0.920574+0.0055762\n",
      "[440]\ttrain-auc:0.975727+0.000394459\ttest-auc:0.920567+0.00557232\n",
      "[441]\ttrain-auc:0.975785+0.000393544\ttest-auc:0.920571+0.00558026\n",
      "[442]\ttrain-auc:0.975846+0.000398794\ttest-auc:0.920587+0.00557038\n",
      "[443]\ttrain-auc:0.975906+0.000397964\ttest-auc:0.920586+0.00557267\n",
      "[444]\ttrain-auc:0.975972+0.000399571\ttest-auc:0.920613+0.00558461\n",
      "[445]\ttrain-auc:0.97603+0.000395489\ttest-auc:0.920612+0.00557837\n",
      "[446]\ttrain-auc:0.97609+0.000393317\ttest-auc:0.92061+0.0055609\n",
      "[447]\ttrain-auc:0.976153+0.000387926\ttest-auc:0.920598+0.00555862\n",
      "[448]\ttrain-auc:0.976214+0.000379896\ttest-auc:0.920598+0.00557563\n",
      "[449]\ttrain-auc:0.976276+0.000376453\ttest-auc:0.920607+0.00558317\n",
      "[450]\ttrain-auc:0.976335+0.000370152\ttest-auc:0.920621+0.00560619\n",
      "[451]\ttrain-auc:0.976396+0.000365785\ttest-auc:0.920618+0.00561282\n",
      "[452]\ttrain-auc:0.976456+0.000362839\ttest-auc:0.920629+0.00562278\n",
      "[453]\ttrain-auc:0.976519+0.000363979\ttest-auc:0.920638+0.00561527\n",
      "[454]\ttrain-auc:0.976582+0.000356444\ttest-auc:0.920635+0.00564308\n",
      "[455]\ttrain-auc:0.97664+0.000354774\ttest-auc:0.920636+0.0056454\n",
      "[456]\ttrain-auc:0.976698+0.000350677\ttest-auc:0.920647+0.00563794\n",
      "[457]\ttrain-auc:0.976756+0.000346948\ttest-auc:0.920649+0.00562753\n",
      "[458]\ttrain-auc:0.976815+0.000343164\ttest-auc:0.920644+0.00564112\n",
      "[459]\ttrain-auc:0.976872+0.000341949\ttest-auc:0.920632+0.00564146\n",
      "[460]\ttrain-auc:0.976929+0.000340339\ttest-auc:0.920657+0.00564244\n",
      "[461]\ttrain-auc:0.97699+0.000342119\ttest-auc:0.920667+0.00564095\n",
      "[462]\ttrain-auc:0.97705+0.000340419\ttest-auc:0.920675+0.00565941\n",
      "[463]\ttrain-auc:0.977105+0.000338352\ttest-auc:0.920679+0.00566936\n",
      "[464]\ttrain-auc:0.977162+0.000335147\ttest-auc:0.920688+0.00567637\n",
      "[465]\ttrain-auc:0.977216+0.000334663\ttest-auc:0.920682+0.00566682\n",
      "[466]\ttrain-auc:0.977276+0.000335915\ttest-auc:0.920672+0.00565515\n",
      "[467]\ttrain-auc:0.977334+0.000335773\ttest-auc:0.92068+0.00566148\n",
      "[468]\ttrain-auc:0.977386+0.000332273\ttest-auc:0.920695+0.00567562\n",
      "[469]\ttrain-auc:0.977441+0.00033064\ttest-auc:0.920705+0.00567603\n",
      "[470]\ttrain-auc:0.977498+0.000330274\ttest-auc:0.9207+0.00568695\n",
      "[471]\ttrain-auc:0.977553+0.000327754\ttest-auc:0.920689+0.00569045\n",
      "[472]\ttrain-auc:0.977617+0.00032345\ttest-auc:0.920694+0.00569898\n",
      "[473]\ttrain-auc:0.977675+0.000325325\ttest-auc:0.920702+0.0056854\n",
      "[474]\ttrain-auc:0.977732+0.000329064\ttest-auc:0.920703+0.00568452\n",
      "[475]\ttrain-auc:0.977787+0.000328396\ttest-auc:0.920707+0.00568559\n",
      "[476]\ttrain-auc:0.977846+0.000325844\ttest-auc:0.920711+0.00569936\n",
      "[477]\ttrain-auc:0.977905+0.000328665\ttest-auc:0.920716+0.00570194\n",
      "[478]\ttrain-auc:0.977958+0.000332429\ttest-auc:0.920714+0.00571939\n",
      "[479]\ttrain-auc:0.978016+0.000334994\ttest-auc:0.920716+0.00571356\n",
      "[480]\ttrain-auc:0.978075+0.000329318\ttest-auc:0.92074+0.00571386\n",
      "[481]\ttrain-auc:0.978132+0.000334112\ttest-auc:0.920727+0.00573285\n",
      "[482]\ttrain-auc:0.978183+0.000332366\ttest-auc:0.920733+0.00573744\n",
      "[483]\ttrain-auc:0.978237+0.000329498\ttest-auc:0.920739+0.00572687\n",
      "[484]\ttrain-auc:0.978295+0.000325241\ttest-auc:0.920737+0.00571043\n",
      "[485]\ttrain-auc:0.978351+0.000328056\ttest-auc:0.920732+0.00570912\n",
      "[486]\ttrain-auc:0.978402+0.000328292\ttest-auc:0.920742+0.00569681\n",
      "[487]\ttrain-auc:0.978452+0.000328781\ttest-auc:0.920734+0.00569956\n",
      "[488]\ttrain-auc:0.97851+0.000328264\ttest-auc:0.920739+0.0056987\n",
      "[489]\ttrain-auc:0.978567+0.000324927\ttest-auc:0.920729+0.00569064\n",
      "[490]\ttrain-auc:0.978622+0.000322137\ttest-auc:0.920756+0.00570166\n",
      "[491]\ttrain-auc:0.978672+0.000320946\ttest-auc:0.920761+0.00568358\n",
      "[492]\ttrain-auc:0.978727+0.000317569\ttest-auc:0.920744+0.00568905\n",
      "[493]\ttrain-auc:0.978784+0.000321778\ttest-auc:0.920741+0.00569362\n",
      "[494]\ttrain-auc:0.978836+0.000317359\ttest-auc:0.920755+0.00567871\n",
      "[495]\ttrain-auc:0.978891+0.000314941\ttest-auc:0.920765+0.00569826\n",
      "[496]\ttrain-auc:0.978939+0.000314361\ttest-auc:0.920793+0.00568322\n",
      "[497]\ttrain-auc:0.978988+0.000316884\ttest-auc:0.920778+0.00568432\n",
      "[498]\ttrain-auc:0.979046+0.000317806\ttest-auc:0.920766+0.00568541\n",
      "[499]\ttrain-auc:0.979105+0.000320247\ttest-auc:0.920774+0.00569251\n",
      "[500]\ttrain-auc:0.979156+0.000323414\ttest-auc:0.920784+0.00569678\n",
      "[501]\ttrain-auc:0.979218+0.000319181\ttest-auc:0.920791+0.00567979\n",
      "[502]\ttrain-auc:0.979271+0.000315824\ttest-auc:0.92078+0.00567853\n",
      "[503]\ttrain-auc:0.979319+0.000320559\ttest-auc:0.920757+0.00567775\n",
      "[504]\ttrain-auc:0.979378+0.000322195\ttest-auc:0.920747+0.0056821\n"
     ]
    },
    {
     "name": "stdout",
     "output_type": "stream",
     "text": [
      "[505]\ttrain-auc:0.979433+0.000322864\ttest-auc:0.920762+0.00568679\n",
      "[506]\ttrain-auc:0.979485+0.000322234\ttest-auc:0.92077+0.00568264\n",
      "[507]\ttrain-auc:0.979538+0.000323544\ttest-auc:0.920773+0.00567486\n",
      "[508]\ttrain-auc:0.97959+0.000324053\ttest-auc:0.920777+0.0056744\n",
      "[509]\ttrain-auc:0.979641+0.000324113\ttest-auc:0.920789+0.00567464\n",
      "[510]\ttrain-auc:0.979693+0.00032308\ttest-auc:0.920807+0.00566845\n",
      "[511]\ttrain-auc:0.979745+0.00032313\ttest-auc:0.920792+0.00567144\n",
      "[512]\ttrain-auc:0.979795+0.000324268\ttest-auc:0.920797+0.00567263\n",
      "[513]\ttrain-auc:0.979848+0.000324713\ttest-auc:0.920806+0.00566789\n",
      "[514]\ttrain-auc:0.979899+0.000323063\ttest-auc:0.920806+0.0056775\n",
      "[515]\ttrain-auc:0.97995+0.00032073\ttest-auc:0.920818+0.00567062\n",
      "[516]\ttrain-auc:0.980005+0.000317473\ttest-auc:0.920815+0.00566107\n",
      "[517]\ttrain-auc:0.980058+0.00031644\ttest-auc:0.920807+0.00565853\n",
      "[518]\ttrain-auc:0.980105+0.000311976\ttest-auc:0.920821+0.0056609\n",
      "[519]\ttrain-auc:0.980153+0.000308407\ttest-auc:0.92082+0.00566877\n",
      "[520]\ttrain-auc:0.9802+0.000305328\ttest-auc:0.920817+0.00566782\n",
      "[521]\ttrain-auc:0.980253+0.000302575\ttest-auc:0.920823+0.0056636\n",
      "[522]\ttrain-auc:0.980301+0.000297921\ttest-auc:0.920811+0.00566215\n",
      "[523]\ttrain-auc:0.980352+0.000294864\ttest-auc:0.920828+0.00567095\n",
      "[524]\ttrain-auc:0.980401+0.000293409\ttest-auc:0.92084+0.00567712\n",
      "[525]\ttrain-auc:0.980447+0.000292058\ttest-auc:0.920823+0.00568359\n",
      "[526]\ttrain-auc:0.980494+0.000291041\ttest-auc:0.920826+0.00568669\n",
      "[527]\ttrain-auc:0.980544+0.000288199\ttest-auc:0.920839+0.00567583\n",
      "[528]\ttrain-auc:0.980596+0.000288068\ttest-auc:0.920847+0.0056866\n",
      "[529]\ttrain-auc:0.980648+0.000282744\ttest-auc:0.920839+0.0056825\n",
      "[530]\ttrain-auc:0.980694+0.000279363\ttest-auc:0.920849+0.00568383\n",
      "[531]\ttrain-auc:0.980742+0.000276738\ttest-auc:0.920845+0.00567903\n",
      "[532]\ttrain-auc:0.980791+0.00027467\ttest-auc:0.920859+0.00568716\n",
      "[533]\ttrain-auc:0.980835+0.00027189\ttest-auc:0.920855+0.00567489\n",
      "[534]\ttrain-auc:0.980888+0.000279214\ttest-auc:0.920846+0.0056743\n",
      "[535]\ttrain-auc:0.980932+0.000275862\ttest-auc:0.920848+0.00566802\n",
      "[536]\ttrain-auc:0.980984+0.000271714\ttest-auc:0.920855+0.00566839\n",
      "[537]\ttrain-auc:0.981034+0.000271652\ttest-auc:0.920847+0.00567416\n",
      "[538]\ttrain-auc:0.981084+0.000271157\ttest-auc:0.920857+0.00567833\n",
      "[539]\ttrain-auc:0.981137+0.000267445\ttest-auc:0.920854+0.00568106\n",
      "[540]\ttrain-auc:0.981185+0.000267455\ttest-auc:0.920856+0.00567367\n",
      "[541]\ttrain-auc:0.98124+0.000263159\ttest-auc:0.920865+0.00569684\n",
      "[542]\ttrain-auc:0.981289+0.000263392\ttest-auc:0.920859+0.00569673\n",
      "[543]\ttrain-auc:0.981336+0.000258974\ttest-auc:0.920859+0.00570652\n",
      "[544]\ttrain-auc:0.981385+0.000255966\ttest-auc:0.920864+0.00569636\n",
      "[545]\ttrain-auc:0.981431+0.000257874\ttest-auc:0.920849+0.00569814\n",
      "[546]\ttrain-auc:0.981479+0.000253666\ttest-auc:0.92085+0.00571565\n",
      "[547]\ttrain-auc:0.981531+0.000248175\ttest-auc:0.920845+0.0057181\n",
      "[548]\ttrain-auc:0.98158+0.000240865\ttest-auc:0.920864+0.00571668\n",
      "[549]\ttrain-auc:0.981625+0.00024245\ttest-auc:0.920869+0.00571702\n",
      "[550]\ttrain-auc:0.981677+0.000241769\ttest-auc:0.920883+0.00571873\n",
      "[551]\ttrain-auc:0.981726+0.000240857\ttest-auc:0.920861+0.00572665\n",
      "[552]\ttrain-auc:0.981772+0.00024207\ttest-auc:0.920873+0.00573086\n",
      "[553]\ttrain-auc:0.981817+0.000240128\ttest-auc:0.920864+0.00572631\n",
      "[554]\ttrain-auc:0.981864+0.00023977\ttest-auc:0.920858+0.00572908\n",
      "[555]\ttrain-auc:0.98191+0.000237675\ttest-auc:0.920849+0.00572827\n",
      "[556]\ttrain-auc:0.981956+0.000235822\ttest-auc:0.920849+0.00572938\n",
      "[557]\ttrain-auc:0.982004+0.000235455\ttest-auc:0.920842+0.00573051\n",
      "[558]\ttrain-auc:0.982051+0.00023427\ttest-auc:0.920834+0.00572015\n",
      "[559]\ttrain-auc:0.982099+0.000230398\ttest-auc:0.920835+0.00572249\n",
      "[560]\ttrain-auc:0.982144+0.000234367\ttest-auc:0.92085+0.00573081\n",
      "[561]\ttrain-auc:0.982185+0.00023465\ttest-auc:0.920846+0.00573029\n",
      "[562]\ttrain-auc:0.982232+0.000233764\ttest-auc:0.920847+0.00571463\n",
      "[563]\ttrain-auc:0.982276+0.000233729\ttest-auc:0.920845+0.00569717\n",
      "[564]\ttrain-auc:0.982321+0.000233006\ttest-auc:0.920851+0.00568978\n",
      "[565]\ttrain-auc:0.982369+0.000234566\ttest-auc:0.92085+0.00569032\n",
      "[566]\ttrain-auc:0.982413+0.000230541\ttest-auc:0.920863+0.00568195\n",
      "[567]\ttrain-auc:0.982458+0.000231062\ttest-auc:0.920868+0.00568609\n",
      "[568]\ttrain-auc:0.9825+0.000228811\ttest-auc:0.920866+0.00569532\n",
      "[569]\ttrain-auc:0.982544+0.000230043\ttest-auc:0.920875+0.00568689\n",
      "[570]\ttrain-auc:0.982591+0.000230912\ttest-auc:0.920879+0.00569128\n",
      "[571]\ttrain-auc:0.982637+0.000228728\ttest-auc:0.920884+0.00569875\n",
      "[572]\ttrain-auc:0.98268+0.000232605\ttest-auc:0.920882+0.00568411\n",
      "[573]\ttrain-auc:0.982725+0.000233335\ttest-auc:0.920895+0.00567321\n",
      "[574]\ttrain-auc:0.98277+0.000227548\ttest-auc:0.920892+0.00566641\n",
      "[575]\ttrain-auc:0.982816+0.000223894\ttest-auc:0.920894+0.00566481\n",
      "[576]\ttrain-auc:0.982863+0.000221733\ttest-auc:0.920899+0.00566371\n",
      "[577]\ttrain-auc:0.982904+0.000219573\ttest-auc:0.920905+0.00567095\n",
      "[578]\ttrain-auc:0.982951+0.000216726\ttest-auc:0.920893+0.00566746\n",
      "[579]\ttrain-auc:0.982993+0.000214281\ttest-auc:0.92088+0.00567569\n",
      "[580]\ttrain-auc:0.983032+0.000216108\ttest-auc:0.920883+0.00566252\n",
      "[581]\ttrain-auc:0.983077+0.000215711\ttest-auc:0.920879+0.00565831\n",
      "[582]\ttrain-auc:0.983121+0.000211403\ttest-auc:0.920888+0.00565183\n",
      "[583]\ttrain-auc:0.983164+0.000212395\ttest-auc:0.920881+0.00565452\n",
      "[584]\ttrain-auc:0.983211+0.000210876\ttest-auc:0.920902+0.00564817\n",
      "[585]\ttrain-auc:0.983255+0.000213062\ttest-auc:0.920903+0.00565332\n",
      "[586]\ttrain-auc:0.983298+0.000214744\ttest-auc:0.92089+0.00564705\n",
      "[587]\ttrain-auc:0.983341+0.000219706\ttest-auc:0.920909+0.00565487\n",
      "[588]\ttrain-auc:0.983386+0.000216914\ttest-auc:0.920907+0.00565124\n",
      "[589]\ttrain-auc:0.983427+0.000214011\ttest-auc:0.920903+0.00565608\n",
      "[590]\ttrain-auc:0.983472+0.000215117\ttest-auc:0.920893+0.00564964\n",
      "[591]\ttrain-auc:0.983515+0.000215189\ttest-auc:0.920901+0.00565845\n",
      "[592]\ttrain-auc:0.983557+0.000217728\ttest-auc:0.920899+0.00565687\n",
      "[593]\ttrain-auc:0.983599+0.000217074\ttest-auc:0.920912+0.00565763\n",
      "[594]\ttrain-auc:0.983642+0.000211515\ttest-auc:0.920919+0.00564115\n",
      "[595]\ttrain-auc:0.983688+0.000207171\ttest-auc:0.92092+0.0056466\n",
      "[596]\ttrain-auc:0.983733+0.000204514\ttest-auc:0.92091+0.00565119\n",
      "[597]\ttrain-auc:0.983776+0.000203099\ttest-auc:0.920914+0.00564362\n",
      "[598]\ttrain-auc:0.983822+0.000201644\ttest-auc:0.92092+0.00562921\n",
      "[599]\ttrain-auc:0.983863+0.000199916\ttest-auc:0.920917+0.00563995\n",
      "[600]\ttrain-auc:0.983911+0.000200924\ttest-auc:0.920911+0.00562335\n",
      "[601]\ttrain-auc:0.983953+0.000199997\ttest-auc:0.920924+0.00561748\n",
      "[602]\ttrain-auc:0.983994+0.000199363\ttest-auc:0.920915+0.0056402\n",
      "[603]\ttrain-auc:0.984034+0.000200123\ttest-auc:0.92092+0.00565735\n",
      "[604]\ttrain-auc:0.984076+0.000200065\ttest-auc:0.92094+0.00565573\n",
      "[605]\ttrain-auc:0.984119+0.000201697\ttest-auc:0.920933+0.00564301\n",
      "[606]\ttrain-auc:0.984161+0.000205659\ttest-auc:0.920941+0.00563934\n",
      "[607]\ttrain-auc:0.984201+0.000203817\ttest-auc:0.92094+0.00565116\n",
      "[608]\ttrain-auc:0.984243+0.000203008\ttest-auc:0.92094+0.00563732\n",
      "[609]\ttrain-auc:0.984287+0.000197734\ttest-auc:0.920944+0.00564191\n",
      "[610]\ttrain-auc:0.984328+0.000193815\ttest-auc:0.920948+0.00563665\n",
      "[611]\ttrain-auc:0.98437+0.000189603\ttest-auc:0.920949+0.00563692\n",
      "[612]\ttrain-auc:0.984411+0.000188384\ttest-auc:0.920951+0.00565541\n",
      "[613]\ttrain-auc:0.984449+0.000188451\ttest-auc:0.920944+0.00565221\n",
      "[614]\ttrain-auc:0.98449+0.000183402\ttest-auc:0.920958+0.00564381\n",
      "[615]\ttrain-auc:0.984534+0.000182074\ttest-auc:0.920965+0.00565266\n",
      "[616]\ttrain-auc:0.984575+0.000183224\ttest-auc:0.920962+0.00564999\n",
      "[617]\ttrain-auc:0.984616+0.000184372\ttest-auc:0.920952+0.00565615\n",
      "[618]\ttrain-auc:0.98466+0.000181991\ttest-auc:0.920934+0.00564742\n",
      "[619]\ttrain-auc:0.984697+0.000178682\ttest-auc:0.920939+0.00563787\n",
      "[620]\ttrain-auc:0.984737+0.000178546\ttest-auc:0.920939+0.00564053\n",
      "[621]\ttrain-auc:0.984776+0.000181079\ttest-auc:0.920953+0.00563275\n",
      "[622]\ttrain-auc:0.984818+0.000178575\ttest-auc:0.920959+0.00562924\n",
      "[623]\ttrain-auc:0.984855+0.000180697\ttest-auc:0.920953+0.00563562\n",
      "[624]\ttrain-auc:0.984896+0.00018209\ttest-auc:0.920968+0.00564957\n",
      "[625]\ttrain-auc:0.984932+0.000186033\ttest-auc:0.920975+0.00565827\n",
      "[626]\ttrain-auc:0.98497+0.000185521\ttest-auc:0.920982+0.00566787\n",
      "[627]\ttrain-auc:0.985007+0.00018698\ttest-auc:0.920982+0.00567476\n",
      "[628]\ttrain-auc:0.985048+0.000188752\ttest-auc:0.920976+0.00566796\n",
      "[629]\ttrain-auc:0.985086+0.000187282\ttest-auc:0.920982+0.00566588\n"
     ]
    },
    {
     "name": "stdout",
     "output_type": "stream",
     "text": [
      "[630]\ttrain-auc:0.985122+0.000184511\ttest-auc:0.920981+0.00567349\n",
      "[631]\ttrain-auc:0.985164+0.000185444\ttest-auc:0.92099+0.00567721\n",
      "[632]\ttrain-auc:0.985205+0.000187782\ttest-auc:0.92098+0.00567609\n",
      "[633]\ttrain-auc:0.985241+0.000190132\ttest-auc:0.920975+0.00567549\n",
      "[634]\ttrain-auc:0.985281+0.000190161\ttest-auc:0.920975+0.00566819\n",
      "[635]\ttrain-auc:0.985319+0.000188284\ttest-auc:0.920973+0.00567292\n",
      "[636]\ttrain-auc:0.985362+0.000186057\ttest-auc:0.920976+0.00568364\n",
      "[637]\ttrain-auc:0.985396+0.000187169\ttest-auc:0.920985+0.00568582\n",
      "[638]\ttrain-auc:0.985434+0.000186356\ttest-auc:0.920994+0.00567831\n",
      "[639]\ttrain-auc:0.985473+0.000184563\ttest-auc:0.920995+0.00568506\n",
      "[640]\ttrain-auc:0.985511+0.000179461\ttest-auc:0.921005+0.00569306\n",
      "[641]\ttrain-auc:0.985548+0.000180485\ttest-auc:0.921002+0.00568052\n",
      "[642]\ttrain-auc:0.985587+0.000177177\ttest-auc:0.921008+0.00568552\n",
      "[643]\ttrain-auc:0.985624+0.000179635\ttest-auc:0.921002+0.00567158\n",
      "[644]\ttrain-auc:0.98566+0.00017957\ttest-auc:0.921001+0.00567299\n",
      "[645]\ttrain-auc:0.985699+0.000180448\ttest-auc:0.921009+0.00567881\n",
      "[646]\ttrain-auc:0.985738+0.000183243\ttest-auc:0.921004+0.00567221\n",
      "[647]\ttrain-auc:0.985776+0.000185111\ttest-auc:0.921016+0.00567209\n",
      "[648]\ttrain-auc:0.985816+0.000187515\ttest-auc:0.921013+0.00567106\n",
      "[649]\ttrain-auc:0.98585+0.000185297\ttest-auc:0.921008+0.00567632\n",
      "[650]\ttrain-auc:0.985886+0.000186455\ttest-auc:0.921005+0.00567609\n",
      "[651]\ttrain-auc:0.985925+0.000185652\ttest-auc:0.921011+0.00567028\n",
      "[652]\ttrain-auc:0.985965+0.000182683\ttest-auc:0.920995+0.00567206\n",
      "[653]\ttrain-auc:0.986003+0.000184527\ttest-auc:0.920991+0.00568724\n",
      "[654]\ttrain-auc:0.986038+0.000186028\ttest-auc:0.920984+0.00569242\n",
      "[655]\ttrain-auc:0.986076+0.000189869\ttest-auc:0.920978+0.00570388\n",
      "[656]\ttrain-auc:0.986109+0.000191591\ttest-auc:0.920967+0.00569941\n",
      "[657]\ttrain-auc:0.986149+0.000187064\ttest-auc:0.920967+0.00569528\n",
      "[658]\ttrain-auc:0.986185+0.000186047\ttest-auc:0.920953+0.00569112\n",
      "[659]\ttrain-auc:0.986222+0.000185659\ttest-auc:0.920968+0.00568063\n",
      "[660]\ttrain-auc:0.986257+0.000185165\ttest-auc:0.92097+0.0056882\n",
      "[661]\ttrain-auc:0.986292+0.000184751\ttest-auc:0.92098+0.00569036\n",
      "[662]\ttrain-auc:0.986326+0.000183861\ttest-auc:0.920971+0.00567651\n",
      "[663]\ttrain-auc:0.986361+0.000184924\ttest-auc:0.920966+0.00567399\n",
      "[664]\ttrain-auc:0.986397+0.000187131\ttest-auc:0.920962+0.00567703\n",
      "[665]\ttrain-auc:0.986432+0.000183566\ttest-auc:0.920944+0.00567755\n",
      "[666]\ttrain-auc:0.986469+0.000188949\ttest-auc:0.920943+0.00567377\n",
      "[667]\ttrain-auc:0.986506+0.00018875\ttest-auc:0.920955+0.00567206\n",
      "[668]\ttrain-auc:0.986546+0.000185855\ttest-auc:0.920948+0.00568772\n",
      "[669]\ttrain-auc:0.986583+0.000186307\ttest-auc:0.920948+0.00569056\n",
      "[670]\ttrain-auc:0.986617+0.000185768\ttest-auc:0.920948+0.00569806\n",
      "[671]\ttrain-auc:0.98665+0.000187699\ttest-auc:0.920953+0.00568576\n",
      "[672]\ttrain-auc:0.986688+0.000188739\ttest-auc:0.920955+0.00567909\n",
      "[673]\ttrain-auc:0.986724+0.000186836\ttest-auc:0.920953+0.00568281\n",
      "[674]\ttrain-auc:0.986758+0.000183645\ttest-auc:0.92094+0.00568645\n",
      "[675]\ttrain-auc:0.986793+0.000185087\ttest-auc:0.920924+0.00569362\n",
      "[676]\ttrain-auc:0.986827+0.000180913\ttest-auc:0.920927+0.00569568\n",
      "[677]\ttrain-auc:0.98686+0.000179583\ttest-auc:0.920928+0.00570101\n",
      "[678]\ttrain-auc:0.986895+0.000179655\ttest-auc:0.920917+0.00569498\n",
      "[679]\ttrain-auc:0.98693+0.000178906\ttest-auc:0.920929+0.00568845\n",
      "[680]\ttrain-auc:0.986965+0.000175638\ttest-auc:0.920928+0.00568952\n",
      "[681]\ttrain-auc:0.986999+0.000175105\ttest-auc:0.920922+0.00569791\n",
      "[682]\ttrain-auc:0.987034+0.000174354\ttest-auc:0.920935+0.00567752\n",
      "[683]\ttrain-auc:0.987065+0.000175941\ttest-auc:0.92095+0.00567222\n",
      "[684]\ttrain-auc:0.9871+0.000174678\ttest-auc:0.92096+0.00566475\n",
      "[685]\ttrain-auc:0.987133+0.000170845\ttest-auc:0.920957+0.00567926\n",
      "[686]\ttrain-auc:0.987164+0.000169592\ttest-auc:0.920965+0.005674\n",
      "[687]\ttrain-auc:0.987195+0.000171157\ttest-auc:0.920959+0.00566803\n",
      "[688]\ttrain-auc:0.98723+0.00017083\ttest-auc:0.920965+0.00567521\n",
      "[689]\ttrain-auc:0.987259+0.000170222\ttest-auc:0.920958+0.00567195\n",
      "[690]\ttrain-auc:0.987294+0.000174692\ttest-auc:0.920957+0.0056587\n",
      "[691]\ttrain-auc:0.987327+0.000174291\ttest-auc:0.920946+0.00565856\n",
      "[692]\ttrain-auc:0.987359+0.000173959\ttest-auc:0.920945+0.00566263\n",
      "[693]\ttrain-auc:0.987394+0.000169792\ttest-auc:0.920934+0.00567624\n",
      "[694]\ttrain-auc:0.987425+0.000167846\ttest-auc:0.920934+0.00568034\n",
      "[695]\ttrain-auc:0.987457+0.000167139\ttest-auc:0.920929+0.00567668\n",
      "[696]\ttrain-auc:0.98749+0.000165653\ttest-auc:0.920937+0.00568482\n",
      "[697]\ttrain-auc:0.987522+0.000168665\ttest-auc:0.920928+0.0056706\n",
      "[698]\ttrain-auc:0.987554+0.00016573\ttest-auc:0.920939+0.00567104\n",
      "[699]\ttrain-auc:0.987585+0.000168368\ttest-auc:0.920937+0.00568845\n",
      "[700]\ttrain-auc:0.987617+0.000166292\ttest-auc:0.920941+0.00569518\n",
      "[701]\ttrain-auc:0.98765+0.000166552\ttest-auc:0.920944+0.00569138\n",
      "[702]\ttrain-auc:0.987686+0.0001675\ttest-auc:0.920953+0.00568006\n",
      "[703]\ttrain-auc:0.987716+0.000167997\ttest-auc:0.920951+0.00568091\n",
      "[704]\ttrain-auc:0.987748+0.000172728\ttest-auc:0.920955+0.00567586\n",
      "[705]\ttrain-auc:0.987782+0.000173001\ttest-auc:0.920971+0.0056836\n",
      "[706]\ttrain-auc:0.987812+0.00017381\ttest-auc:0.920955+0.00568391\n",
      "[707]\ttrain-auc:0.987846+0.000172263\ttest-auc:0.920954+0.00569371\n",
      "[708]\ttrain-auc:0.98788+0.000171163\ttest-auc:0.920947+0.00570026\n",
      "[709]\ttrain-auc:0.987908+0.000167726\ttest-auc:0.92096+0.00570763\n",
      "[710]\ttrain-auc:0.987942+0.000165294\ttest-auc:0.920956+0.00570656\n",
      "[711]\ttrain-auc:0.987973+0.00016596\ttest-auc:0.920945+0.00571167\n",
      "[712]\ttrain-auc:0.988006+0.000164387\ttest-auc:0.920957+0.00570999\n",
      "[713]\ttrain-auc:0.988036+0.00016184\ttest-auc:0.92096+0.00571248\n",
      "[714]\ttrain-auc:0.98807+0.000163084\ttest-auc:0.920966+0.00573505\n",
      "[715]\ttrain-auc:0.988104+0.000161858\ttest-auc:0.92097+0.00572586\n",
      "[716]\ttrain-auc:0.988135+0.00016146\ttest-auc:0.920963+0.00571373\n",
      "[717]\ttrain-auc:0.988169+0.000159569\ttest-auc:0.920974+0.00571648\n",
      "[718]\ttrain-auc:0.988204+0.000158111\ttest-auc:0.920967+0.00572499\n",
      "[719]\ttrain-auc:0.988236+0.000156985\ttest-auc:0.920975+0.00572926\n",
      "[720]\ttrain-auc:0.988267+0.000157774\ttest-auc:0.920973+0.00573064\n",
      "[721]\ttrain-auc:0.988298+0.000156046\ttest-auc:0.920984+0.00574177\n",
      "[722]\ttrain-auc:0.988332+0.000152242\ttest-auc:0.920977+0.0057436\n",
      "[723]\ttrain-auc:0.988363+0.000152609\ttest-auc:0.920984+0.00574244\n",
      "[724]\ttrain-auc:0.988394+0.000154067\ttest-auc:0.920994+0.00575132\n",
      "[725]\ttrain-auc:0.988425+0.000149981\ttest-auc:0.921017+0.00575128\n",
      "[726]\ttrain-auc:0.988454+0.000150005\ttest-auc:0.920999+0.00574359\n",
      "[727]\ttrain-auc:0.988485+0.000149359\ttest-auc:0.921001+0.00574856\n",
      "[728]\ttrain-auc:0.988514+0.000145949\ttest-auc:0.921+0.00574223\n",
      "[729]\ttrain-auc:0.988544+0.000147985\ttest-auc:0.921008+0.00574132\n",
      "[730]\ttrain-auc:0.988574+0.000149132\ttest-auc:0.920997+0.00574007\n",
      "[731]\ttrain-auc:0.988603+0.000149802\ttest-auc:0.921+0.00574457\n",
      "[732]\ttrain-auc:0.988633+0.000148749\ttest-auc:0.920998+0.00574735\n",
      "[733]\ttrain-auc:0.988663+0.000149548\ttest-auc:0.920998+0.00574633\n",
      "[734]\ttrain-auc:0.988695+0.000149559\ttest-auc:0.921008+0.00575209\n",
      "[735]\ttrain-auc:0.988725+0.000150448\ttest-auc:0.921017+0.00574392\n",
      "[736]\ttrain-auc:0.988753+0.000151281\ttest-auc:0.921013+0.00574231\n",
      "[737]\ttrain-auc:0.988784+0.000153068\ttest-auc:0.920995+0.00574617\n",
      "[738]\ttrain-auc:0.988813+0.000151947\ttest-auc:0.921005+0.00574428\n",
      "[739]\ttrain-auc:0.988843+0.000151296\ttest-auc:0.921002+0.00574875\n",
      "[740]\ttrain-auc:0.988871+0.000149921\ttest-auc:0.920999+0.00574722\n",
      "[741]\ttrain-auc:0.988902+0.000148348\ttest-auc:0.921002+0.00572907\n",
      "[742]\ttrain-auc:0.98893+0.000145948\ttest-auc:0.920991+0.00574136\n",
      "[743]\ttrain-auc:0.988959+0.000143852\ttest-auc:0.921+0.00574787\n",
      "[744]\ttrain-auc:0.988986+0.000143036\ttest-auc:0.920998+0.00574111\n",
      "[745]\ttrain-auc:0.989013+0.000141499\ttest-auc:0.920994+0.00575113\n",
      "[746]\ttrain-auc:0.98904+0.000140701\ttest-auc:0.920998+0.00574408\n",
      "[747]\ttrain-auc:0.989069+0.00013896\ttest-auc:0.920989+0.00574147\n",
      "[748]\ttrain-auc:0.989097+0.000137267\ttest-auc:0.920991+0.00574744\n",
      "[749]\ttrain-auc:0.989129+0.000134741\ttest-auc:0.921+0.0057491\n",
      "[750]\ttrain-auc:0.989158+0.000132947\ttest-auc:0.920998+0.00574533\n",
      "[751]\ttrain-auc:0.989185+0.000131355\ttest-auc:0.921008+0.00574395\n",
      "[752]\ttrain-auc:0.989215+0.000131258\ttest-auc:0.921012+0.00574444\n",
      "[753]\ttrain-auc:0.989243+0.000131562\ttest-auc:0.921008+0.00574513\n",
      "[754]\ttrain-auc:0.98927+0.000130204\ttest-auc:0.921011+0.00575361\n"
     ]
    },
    {
     "name": "stdout",
     "output_type": "stream",
     "text": [
      "[755]\ttrain-auc:0.989297+0.000131175\ttest-auc:0.921016+0.00574288\n",
      "[756]\ttrain-auc:0.989327+0.000131203\ttest-auc:0.921001+0.00574251\n",
      "[757]\ttrain-auc:0.989353+0.000132587\ttest-auc:0.921009+0.00573092\n",
      "[758]\ttrain-auc:0.989385+0.000130205\ttest-auc:0.921009+0.00573397\n",
      "[759]\ttrain-auc:0.989413+0.000130303\ttest-auc:0.921006+0.00572679\n",
      "[760]\ttrain-auc:0.989442+0.00012933\ttest-auc:0.921003+0.00573041\n",
      "[761]\ttrain-auc:0.989471+0.000129423\ttest-auc:0.920994+0.00574082\n",
      "[762]\ttrain-auc:0.9895+0.000129396\ttest-auc:0.921004+0.00573168\n",
      "[763]\ttrain-auc:0.989528+0.000128752\ttest-auc:0.921012+0.00573684\n",
      "[764]\ttrain-auc:0.989555+0.00012999\ttest-auc:0.921014+0.00573126\n",
      "[765]\ttrain-auc:0.989582+0.000130228\ttest-auc:0.921026+0.00571745\n",
      "[766]\ttrain-auc:0.989611+0.000128857\ttest-auc:0.921016+0.00572023\n",
      "[767]\ttrain-auc:0.989642+0.000130843\ttest-auc:0.921013+0.00572565\n",
      "[768]\ttrain-auc:0.989671+0.000129764\ttest-auc:0.921013+0.00571843\n",
      "[769]\ttrain-auc:0.989699+0.000129552\ttest-auc:0.921009+0.00570233\n",
      "[770]\ttrain-auc:0.989723+0.000129161\ttest-auc:0.921014+0.0057027\n",
      "[771]\ttrain-auc:0.989753+0.000129066\ttest-auc:0.921015+0.00571635\n",
      "[772]\ttrain-auc:0.989781+0.000129711\ttest-auc:0.921022+0.00571583\n",
      "[773]\ttrain-auc:0.989806+0.000128561\ttest-auc:0.921007+0.005714\n",
      "[774]\ttrain-auc:0.989834+0.00012852\ttest-auc:0.921015+0.00573363\n",
      "[775]\ttrain-auc:0.989862+0.000130824\ttest-auc:0.92102+0.00572327\n",
      "[776]\ttrain-auc:0.98989+0.000130943\ttest-auc:0.92102+0.00571432\n",
      "[777]\ttrain-auc:0.989915+0.000129581\ttest-auc:0.921006+0.00572616\n",
      "[778]\ttrain-auc:0.989942+0.000128445\ttest-auc:0.921002+0.0057325\n",
      "[779]\ttrain-auc:0.989968+0.000127484\ttest-auc:0.920986+0.00573021\n",
      "[780]\ttrain-auc:0.989995+0.000128775\ttest-auc:0.92101+0.00574029\n",
      "[781]\ttrain-auc:0.990021+0.000128707\ttest-auc:0.921008+0.00573108\n",
      "[782]\ttrain-auc:0.990048+0.000126629\ttest-auc:0.921011+0.00572421\n",
      "[783]\ttrain-auc:0.990074+0.000124494\ttest-auc:0.921015+0.00572452\n",
      "[784]\ttrain-auc:0.9901+0.000124313\ttest-auc:0.921019+0.00573747\n",
      "[785]\ttrain-auc:0.990126+0.000124819\ttest-auc:0.921028+0.00574218\n",
      "[786]\ttrain-auc:0.990151+0.000126283\ttest-auc:0.921022+0.00575153\n",
      "[787]\ttrain-auc:0.990177+0.0001267\ttest-auc:0.921009+0.00573418\n",
      "[788]\ttrain-auc:0.990204+0.000125735\ttest-auc:0.92101+0.00573841\n",
      "[789]\ttrain-auc:0.990232+0.000125371\ttest-auc:0.921023+0.00573361\n",
      "[790]\ttrain-auc:0.990258+0.000125\ttest-auc:0.921015+0.00573129\n",
      "[791]\ttrain-auc:0.990283+0.000125864\ttest-auc:0.921018+0.00572302\n",
      "[792]\ttrain-auc:0.99031+0.000125847\ttest-auc:0.921021+0.00573193\n",
      "[793]\ttrain-auc:0.990332+0.00012471\ttest-auc:0.92102+0.00574238\n",
      "[794]\ttrain-auc:0.990357+0.000123141\ttest-auc:0.921021+0.00574619\n",
      "[795]\ttrain-auc:0.990381+0.000118837\ttest-auc:0.921021+0.00573768\n",
      "[796]\ttrain-auc:0.990405+0.000121486\ttest-auc:0.921015+0.00574939\n",
      "[797]\ttrain-auc:0.990431+0.000118041\ttest-auc:0.921014+0.00573963\n",
      "[798]\ttrain-auc:0.990458+0.000116744\ttest-auc:0.921004+0.00574033\n",
      "[799]\ttrain-auc:0.990484+0.000116228\ttest-auc:0.921017+0.00572833\n",
      "[800]\ttrain-auc:0.99051+0.000115913\ttest-auc:0.921008+0.0057363\n",
      "[801]\ttrain-auc:0.990534+0.000113693\ttest-auc:0.921015+0.00574067\n",
      "[802]\ttrain-auc:0.990557+0.000115619\ttest-auc:0.921011+0.00572798\n",
      "[803]\ttrain-auc:0.990582+0.00011744\ttest-auc:0.921011+0.00573543\n",
      "[804]\ttrain-auc:0.990604+0.000116962\ttest-auc:0.92102+0.00573905\n",
      "[805]\ttrain-auc:0.990628+0.00011662\ttest-auc:0.921024+0.00575463\n",
      "[806]\ttrain-auc:0.990653+0.000114103\ttest-auc:0.921026+0.00575602\n",
      "[807]\ttrain-auc:0.990675+0.000113079\ttest-auc:0.92101+0.00575385\n",
      "[808]\ttrain-auc:0.990699+0.000113203\ttest-auc:0.92102+0.00574945\n",
      "[809]\ttrain-auc:0.990722+0.000110216\ttest-auc:0.921022+0.00574429\n",
      "[810]\ttrain-auc:0.990748+0.000109505\ttest-auc:0.921031+0.00574617\n",
      "[811]\ttrain-auc:0.99077+0.000109291\ttest-auc:0.921016+0.00575195\n",
      "[812]\ttrain-auc:0.990792+0.000108447\ttest-auc:0.921026+0.0057431\n",
      "[813]\ttrain-auc:0.990818+0.000110057\ttest-auc:0.921032+0.00576035\n",
      "[814]\ttrain-auc:0.990841+0.000111228\ttest-auc:0.921026+0.00576532\n",
      "[815]\ttrain-auc:0.990866+0.000111267\ttest-auc:0.921022+0.00576077\n",
      "[816]\ttrain-auc:0.990891+0.000109212\ttest-auc:0.921019+0.00577185\n",
      "[817]\ttrain-auc:0.990915+0.000109191\ttest-auc:0.921025+0.00576424\n",
      "[818]\ttrain-auc:0.990939+0.000109934\ttest-auc:0.921032+0.00575508\n",
      "[819]\ttrain-auc:0.990964+0.000110234\ttest-auc:0.921047+0.00575157\n",
      "[820]\ttrain-auc:0.99099+0.000109381\ttest-auc:0.921038+0.00575695\n",
      "[821]\ttrain-auc:0.991012+0.000108108\ttest-auc:0.921035+0.00575322\n",
      "[822]\ttrain-auc:0.991035+0.000109879\ttest-auc:0.921031+0.00576349\n",
      "[823]\ttrain-auc:0.991057+0.000108362\ttest-auc:0.921032+0.00575535\n",
      "[824]\ttrain-auc:0.99108+0.000103442\ttest-auc:0.921026+0.00574987\n",
      "[825]\ttrain-auc:0.991102+0.000102432\ttest-auc:0.92104+0.00575309\n",
      "[826]\ttrain-auc:0.991129+0.000101478\ttest-auc:0.921039+0.00574784\n",
      "[827]\ttrain-auc:0.991153+0.000100439\ttest-auc:0.921044+0.0057408\n",
      "[828]\ttrain-auc:0.991174+0.000101779\ttest-auc:0.921045+0.0057426\n",
      "[829]\ttrain-auc:0.991195+0.000100045\ttest-auc:0.921042+0.00573831\n",
      "[830]\ttrain-auc:0.991219+0.000100396\ttest-auc:0.921056+0.00573568\n",
      "[831]\ttrain-auc:0.991242+0.000100972\ttest-auc:0.921056+0.00574558\n",
      "[832]\ttrain-auc:0.991264+0.000101136\ttest-auc:0.921053+0.00576044\n",
      "[833]\ttrain-auc:0.991287+9.9508e-05\ttest-auc:0.921056+0.00576543\n",
      "[834]\ttrain-auc:0.991309+9.75307e-05\ttest-auc:0.921065+0.00575788\n",
      "[835]\ttrain-auc:0.991335+9.42537e-05\ttest-auc:0.921059+0.00575743\n",
      "[836]\ttrain-auc:0.991356+9.41624e-05\ttest-auc:0.921061+0.00576527\n",
      "[837]\ttrain-auc:0.991382+9.42592e-05\ttest-auc:0.921054+0.00576207\n",
      "[838]\ttrain-auc:0.991405+9.39178e-05\ttest-auc:0.921072+0.00575916\n",
      "[839]\ttrain-auc:0.991427+9.67334e-05\ttest-auc:0.921067+0.00577159\n",
      "[840]\ttrain-auc:0.991451+9.23047e-05\ttest-auc:0.921062+0.00577224\n",
      "[841]\ttrain-auc:0.991472+9.21247e-05\ttest-auc:0.921053+0.00578169\n",
      "[842]\ttrain-auc:0.991492+9.03447e-05\ttest-auc:0.921053+0.00577953\n",
      "[843]\ttrain-auc:0.991514+9.15367e-05\ttest-auc:0.92107+0.00578032\n",
      "[844]\ttrain-auc:0.991536+9.38816e-05\ttest-auc:0.921051+0.00577514\n",
      "[845]\ttrain-auc:0.991559+9.35885e-05\ttest-auc:0.921051+0.0057797\n",
      "[846]\ttrain-auc:0.991579+9.39757e-05\ttest-auc:0.921048+0.00577501\n",
      "[847]\ttrain-auc:0.9916+9.11504e-05\ttest-auc:0.921043+0.00576955\n",
      "[848]\ttrain-auc:0.99162+9.00156e-05\ttest-auc:0.921062+0.00576205\n",
      "[849]\ttrain-auc:0.991639+8.85831e-05\ttest-auc:0.921046+0.00576953\n",
      "[850]\ttrain-auc:0.991661+9.00444e-05\ttest-auc:0.921036+0.0057607\n",
      "[851]\ttrain-auc:0.991682+9.24e-05\ttest-auc:0.921025+0.00576924\n",
      "[852]\ttrain-auc:0.991706+8.96094e-05\ttest-auc:0.92104+0.00577028\n",
      "[853]\ttrain-auc:0.991727+9.08603e-05\ttest-auc:0.921051+0.00577382\n",
      "[854]\ttrain-auc:0.991749+9.00431e-05\ttest-auc:0.921042+0.00577085\n",
      "[855]\ttrain-auc:0.991772+8.77369e-05\ttest-auc:0.921041+0.00577117\n",
      "[856]\ttrain-auc:0.991794+8.54602e-05\ttest-auc:0.921051+0.00577052\n",
      "[857]\ttrain-auc:0.991814+8.56584e-05\ttest-auc:0.921047+0.00576974\n",
      "[858]\ttrain-auc:0.991834+8.61501e-05\ttest-auc:0.921051+0.00577456\n",
      "[859]\ttrain-auc:0.991854+8.64352e-05\ttest-auc:0.921061+0.00577794\n",
      "[860]\ttrain-auc:0.991875+8.44971e-05\ttest-auc:0.921055+0.00577294\n",
      "[861]\ttrain-auc:0.991895+8.47051e-05\ttest-auc:0.921059+0.0057844\n",
      "[862]\ttrain-auc:0.991915+8.32596e-05\ttest-auc:0.92106+0.00578478\n",
      "[863]\ttrain-auc:0.991935+7.95623e-05\ttest-auc:0.921061+0.00578524\n",
      "[864]\ttrain-auc:0.991957+7.77704e-05\ttest-auc:0.921085+0.0057753\n",
      "[865]\ttrain-auc:0.991979+7.58641e-05\ttest-auc:0.921084+0.00576811\n",
      "[866]\ttrain-auc:0.992+7.6092e-05\ttest-auc:0.921084+0.00577706\n",
      "[867]\ttrain-auc:0.99202+7.67995e-05\ttest-auc:0.921079+0.00578039\n",
      "[868]\ttrain-auc:0.992039+7.72994e-05\ttest-auc:0.921074+0.00577425\n",
      "[869]\ttrain-auc:0.992059+7.62716e-05\ttest-auc:0.921069+0.0057654\n",
      "[870]\ttrain-auc:0.992079+7.48476e-05\ttest-auc:0.921079+0.00576645\n",
      "[871]\ttrain-auc:0.992097+7.58245e-05\ttest-auc:0.921075+0.00577026\n",
      "[872]\ttrain-auc:0.992117+7.55079e-05\ttest-auc:0.921089+0.00577901\n",
      "[873]\ttrain-auc:0.992139+7.56026e-05\ttest-auc:0.921084+0.00578517\n",
      "[874]\ttrain-auc:0.992157+7.57337e-05\ttest-auc:0.921081+0.00577956\n",
      "[875]\ttrain-auc:0.992177+7.72668e-05\ttest-auc:0.921082+0.00577077\n",
      "[876]\ttrain-auc:0.992198+7.64748e-05\ttest-auc:0.921083+0.00578561\n",
      "[877]\ttrain-auc:0.992216+7.50056e-05\ttest-auc:0.921087+0.00579122\n",
      "[878]\ttrain-auc:0.992236+7.4964e-05\ttest-auc:0.921077+0.00579517\n",
      "[879]\ttrain-auc:0.992256+7.50131e-05\ttest-auc:0.921072+0.00578701\n",
      "[880]\ttrain-auc:0.992276+7.45397e-05\ttest-auc:0.921069+0.00579153\n"
     ]
    },
    {
     "name": "stdout",
     "output_type": "stream",
     "text": [
      "[881]\ttrain-auc:0.992297+7.32759e-05\ttest-auc:0.921073+0.0057871\n",
      "[882]\ttrain-auc:0.992318+7.12388e-05\ttest-auc:0.921072+0.00577681\n",
      "[883]\ttrain-auc:0.992337+7.05833e-05\ttest-auc:0.921087+0.00578779\n",
      "[884]\ttrain-auc:0.992358+6.79618e-05\ttest-auc:0.921088+0.00578374\n",
      "[885]\ttrain-auc:0.992378+6.998e-05\ttest-auc:0.921089+0.00578761\n",
      "[886]\ttrain-auc:0.992398+7.11129e-05\ttest-auc:0.921093+0.0057794\n",
      "[887]\ttrain-auc:0.99242+6.90478e-05\ttest-auc:0.921099+0.00579002\n",
      "[888]\ttrain-auc:0.992439+6.979e-05\ttest-auc:0.921101+0.0057989\n",
      "[889]\ttrain-auc:0.992458+7.1051e-05\ttest-auc:0.921101+0.00579993\n",
      "[890]\ttrain-auc:0.992479+7.2522e-05\ttest-auc:0.921104+0.00580541\n",
      "[891]\ttrain-auc:0.992497+7.07152e-05\ttest-auc:0.921104+0.0057972\n",
      "[892]\ttrain-auc:0.992517+7.22617e-05\ttest-auc:0.921105+0.00580435\n",
      "[893]\ttrain-auc:0.992538+7.01524e-05\ttest-auc:0.921109+0.00580468\n",
      "[894]\ttrain-auc:0.992556+6.9681e-05\ttest-auc:0.921106+0.00580556\n",
      "[895]\ttrain-auc:0.992576+7.18704e-05\ttest-auc:0.921103+0.00581199\n",
      "[896]\ttrain-auc:0.992595+7.20805e-05\ttest-auc:0.921105+0.00580988\n",
      "[897]\ttrain-auc:0.992613+6.92399e-05\ttest-auc:0.921105+0.00581087\n",
      "[898]\ttrain-auc:0.99263+6.77064e-05\ttest-auc:0.921118+0.00582249\n",
      "[899]\ttrain-auc:0.99265+6.89742e-05\ttest-auc:0.921121+0.00581992\n",
      "[900]\ttrain-auc:0.992668+6.87285e-05\ttest-auc:0.921123+0.00581082\n",
      "[901]\ttrain-auc:0.992688+6.60921e-05\ttest-auc:0.921123+0.00581057\n",
      "[902]\ttrain-auc:0.992708+6.7122e-05\ttest-auc:0.921117+0.00581062\n",
      "[903]\ttrain-auc:0.992727+6.87127e-05\ttest-auc:0.921113+0.00581261\n",
      "[904]\ttrain-auc:0.992745+6.70146e-05\ttest-auc:0.921122+0.00582605\n",
      "[905]\ttrain-auc:0.992764+6.83327e-05\ttest-auc:0.921118+0.00581363\n",
      "[906]\ttrain-auc:0.99278+6.90119e-05\ttest-auc:0.921133+0.00581855\n",
      "[907]\ttrain-auc:0.992802+6.65324e-05\ttest-auc:0.921138+0.00582013\n",
      "[908]\ttrain-auc:0.992823+6.36346e-05\ttest-auc:0.921134+0.00581745\n",
      "[909]\ttrain-auc:0.992842+6.53746e-05\ttest-auc:0.921144+0.00581719\n",
      "[910]\ttrain-auc:0.992857+6.49942e-05\ttest-auc:0.921153+0.00581132\n",
      "[911]\ttrain-auc:0.992871+6.34747e-05\ttest-auc:0.921154+0.00580854\n",
      "[912]\ttrain-auc:0.992892+6.29749e-05\ttest-auc:0.921151+0.00581284\n",
      "[913]\ttrain-auc:0.992911+6.52239e-05\ttest-auc:0.921156+0.00581078\n",
      "[914]\ttrain-auc:0.99293+6.51061e-05\ttest-auc:0.921156+0.005807\n",
      "[915]\ttrain-auc:0.992948+6.4459e-05\ttest-auc:0.921156+0.00580609\n",
      "[916]\ttrain-auc:0.992967+6.38717e-05\ttest-auc:0.921163+0.00581802\n",
      "[917]\ttrain-auc:0.992983+6.36566e-05\ttest-auc:0.921162+0.00581328\n",
      "[918]\ttrain-auc:0.993+6.21276e-05\ttest-auc:0.921155+0.00581084\n",
      "[919]\ttrain-auc:0.993019+6.21559e-05\ttest-auc:0.92116+0.0058131\n",
      "[920]\ttrain-auc:0.993038+6.01086e-05\ttest-auc:0.921156+0.005816\n",
      "[921]\ttrain-auc:0.993058+5.69154e-05\ttest-auc:0.921154+0.0058146\n",
      "[922]\ttrain-auc:0.993076+5.75569e-05\ttest-auc:0.921164+0.00581443\n",
      "[923]\ttrain-auc:0.993094+6.03012e-05\ttest-auc:0.921163+0.00580473\n",
      "[924]\ttrain-auc:0.993112+5.87687e-05\ttest-auc:0.921165+0.00580165\n",
      "[925]\ttrain-auc:0.99313+5.86058e-05\ttest-auc:0.921167+0.00580061\n",
      "[926]\ttrain-auc:0.993146+5.3937e-05\ttest-auc:0.921169+0.00580085\n",
      "[927]\ttrain-auc:0.993164+5.40829e-05\ttest-auc:0.921166+0.00580072\n",
      "[928]\ttrain-auc:0.993182+5.42166e-05\ttest-auc:0.921175+0.00580552\n",
      "[929]\ttrain-auc:0.993201+5.45469e-05\ttest-auc:0.92117+0.00580672\n",
      "[930]\ttrain-auc:0.993218+5.69372e-05\ttest-auc:0.921172+0.0058101\n",
      "[931]\ttrain-auc:0.993237+5.56906e-05\ttest-auc:0.921166+0.00580536\n",
      "[932]\ttrain-auc:0.993255+5.68261e-05\ttest-auc:0.921155+0.00581532\n",
      "[933]\ttrain-auc:0.993272+5.37126e-05\ttest-auc:0.921158+0.00581072\n",
      "[934]\ttrain-auc:0.993293+5.68422e-05\ttest-auc:0.921149+0.00582544\n",
      "[935]\ttrain-auc:0.99331+5.71748e-05\ttest-auc:0.921151+0.00583404\n",
      "[936]\ttrain-auc:0.99333+5.51891e-05\ttest-auc:0.921152+0.00584162\n",
      "[937]\ttrain-auc:0.993347+5.69891e-05\ttest-auc:0.921145+0.00584331\n",
      "[938]\ttrain-auc:0.993364+5.55352e-05\ttest-auc:0.92114+0.00583803\n",
      "[939]\ttrain-auc:0.99338+5.42881e-05\ttest-auc:0.921137+0.00584615\n",
      "[940]\ttrain-auc:0.993396+5.17533e-05\ttest-auc:0.921142+0.0058523\n",
      "[941]\ttrain-auc:0.993414+4.99304e-05\ttest-auc:0.921144+0.00584051\n",
      "[942]\ttrain-auc:0.99343+4.98221e-05\ttest-auc:0.921148+0.00583941\n",
      "[943]\ttrain-auc:0.993443+4.97972e-05\ttest-auc:0.921145+0.00583238\n",
      "[944]\ttrain-auc:0.99346+5.08983e-05\ttest-auc:0.92115+0.00582769\n",
      "[945]\ttrain-auc:0.993477+4.88893e-05\ttest-auc:0.921142+0.00581347\n",
      "[946]\ttrain-auc:0.993493+5.08897e-05\ttest-auc:0.921139+0.00582544\n",
      "[947]\ttrain-auc:0.99351+5.06162e-05\ttest-auc:0.921144+0.00583143\n",
      "[948]\ttrain-auc:0.993526+4.87836e-05\ttest-auc:0.921147+0.00583152\n",
      "[949]\ttrain-auc:0.993542+4.87541e-05\ttest-auc:0.921158+0.00582966\n",
      "[950]\ttrain-auc:0.993559+4.85403e-05\ttest-auc:0.921154+0.00584148\n",
      "[951]\ttrain-auc:0.993576+4.91829e-05\ttest-auc:0.921147+0.00585198\n",
      "[952]\ttrain-auc:0.993591+4.72356e-05\ttest-auc:0.921135+0.00584954\n",
      "[953]\ttrain-auc:0.993607+4.56009e-05\ttest-auc:0.921133+0.0058575\n",
      "[954]\ttrain-auc:0.993625+4.57838e-05\ttest-auc:0.921138+0.00586021\n",
      "[955]\ttrain-auc:0.993641+4.43243e-05\ttest-auc:0.921135+0.0058647\n",
      "[956]\ttrain-auc:0.993658+4.69664e-05\ttest-auc:0.921139+0.00587212\n",
      "[957]\ttrain-auc:0.993673+4.67761e-05\ttest-auc:0.921145+0.00586203\n",
      "[958]\ttrain-auc:0.99369+4.57445e-05\ttest-auc:0.921136+0.00586046\n",
      "[959]\ttrain-auc:0.993706+4.81107e-05\ttest-auc:0.92113+0.0058644\n",
      "[960]\ttrain-auc:0.993722+4.71058e-05\ttest-auc:0.921133+0.00585981\n",
      "[961]\ttrain-auc:0.993737+4.92561e-05\ttest-auc:0.921129+0.00585893\n",
      "[962]\ttrain-auc:0.993752+4.89179e-05\ttest-auc:0.921127+0.00585657\n",
      "[963]\ttrain-auc:0.993768+4.75672e-05\ttest-auc:0.921131+0.00586226\n",
      "[964]\ttrain-auc:0.993784+4.79024e-05\ttest-auc:0.921129+0.00586019\n",
      "[965]\ttrain-auc:0.993801+4.85263e-05\ttest-auc:0.921123+0.0058626\n",
      "[966]\ttrain-auc:0.993817+4.8144e-05\ttest-auc:0.921126+0.00586951\n",
      "[967]\ttrain-auc:0.993832+4.98261e-05\ttest-auc:0.921112+0.00586657\n",
      "[968]\ttrain-auc:0.993848+4.92561e-05\ttest-auc:0.921116+0.00586812\n",
      "[969]\ttrain-auc:0.993865+5.08031e-05\ttest-auc:0.92112+0.00587179\n",
      "[970]\ttrain-auc:0.993879+4.99504e-05\ttest-auc:0.92113+0.0058757\n",
      "[971]\ttrain-auc:0.993894+5.00176e-05\ttest-auc:0.921122+0.00587263\n",
      "[972]\ttrain-auc:0.993912+5.17548e-05\ttest-auc:0.921121+0.00587337\n",
      "[973]\ttrain-auc:0.993926+5.15224e-05\ttest-auc:0.921119+0.00587452\n",
      "[974]\ttrain-auc:0.993939+5.36485e-05\ttest-auc:0.921113+0.00587752\n",
      "[975]\ttrain-auc:0.993956+5.09407e-05\ttest-auc:0.921119+0.00588613\n",
      "[976]\ttrain-auc:0.993972+4.96927e-05\ttest-auc:0.921116+0.00588912\n",
      "[977]\ttrain-auc:0.99399+4.92479e-05\ttest-auc:0.921106+0.00589662\n",
      "[978]\ttrain-auc:0.994003+4.82095e-05\ttest-auc:0.921105+0.00590248\n",
      "[979]\ttrain-auc:0.994016+4.91585e-05\ttest-auc:0.921094+0.00590304\n",
      "[980]\ttrain-auc:0.994027+4.88246e-05\ttest-auc:0.921096+0.00590789\n",
      "[981]\ttrain-auc:0.994044+4.96975e-05\ttest-auc:0.92109+0.00589799\n",
      "[982]\ttrain-auc:0.994058+5.0311e-05\ttest-auc:0.921089+0.00589205\n",
      "[983]\ttrain-auc:0.994072+5.01932e-05\ttest-auc:0.921094+0.00589583\n",
      "[984]\ttrain-auc:0.994089+4.87401e-05\ttest-auc:0.921093+0.00589643\n",
      "[985]\ttrain-auc:0.994105+4.96185e-05\ttest-auc:0.921099+0.00590359\n",
      "[986]\ttrain-auc:0.994122+4.83347e-05\ttest-auc:0.921082+0.00590844\n",
      "[987]\ttrain-auc:0.994133+4.91015e-05\ttest-auc:0.921088+0.00591112\n",
      "[988]\ttrain-auc:0.99415+5.06043e-05\ttest-auc:0.921088+0.00590988\n",
      "[989]\ttrain-auc:0.994163+4.92934e-05\ttest-auc:0.921094+0.00590537\n",
      "[990]\ttrain-auc:0.994177+4.91203e-05\ttest-auc:0.92109+0.00590701\n",
      "[991]\ttrain-auc:0.99419+4.89326e-05\ttest-auc:0.921094+0.00590964\n",
      "[992]\ttrain-auc:0.994206+4.7621e-05\ttest-auc:0.921087+0.0059078\n",
      "[993]\ttrain-auc:0.994219+4.80333e-05\ttest-auc:0.921082+0.00590694\n",
      "[994]\ttrain-auc:0.994234+4.76714e-05\ttest-auc:0.921083+0.00590696\n",
      "[995]\ttrain-auc:0.99425+4.77133e-05\ttest-auc:0.921091+0.00590177\n",
      "[996]\ttrain-auc:0.994264+4.49515e-05\ttest-auc:0.921098+0.00590137\n",
      "[997]\ttrain-auc:0.994277+4.67102e-05\ttest-auc:0.921094+0.00590546\n",
      "[998]\ttrain-auc:0.994291+4.54295e-05\ttest-auc:0.921092+0.00590669\n",
      "[999]\ttrain-auc:0.994303+4.56657e-05\ttest-auc:0.921088+0.00590323\n",
      "[1000]\ttrain-auc:0.994317+4.49907e-05\ttest-auc:0.921082+0.00590534\n",
      "[1001]\ttrain-auc:0.99433+4.50999e-05\ttest-auc:0.921073+0.00590416\n",
      "[1002]\ttrain-auc:0.994344+4.38205e-05\ttest-auc:0.921078+0.00590863\n",
      "[1003]\ttrain-auc:0.994358+4.28859e-05\ttest-auc:0.921074+0.00590502\n",
      "[1004]\ttrain-auc:0.994375+4.24471e-05\ttest-auc:0.921076+0.00590161\n",
      "[1005]\ttrain-auc:0.99439+4.17775e-05\ttest-auc:0.921093+0.00591491\n"
     ]
    },
    {
     "name": "stdout",
     "output_type": "stream",
     "text": [
      "[1006]\ttrain-auc:0.994401+4.18426e-05\ttest-auc:0.921089+0.00591703\n",
      "[1007]\ttrain-auc:0.994413+4.15375e-05\ttest-auc:0.92109+0.00591265\n",
      "[1008]\ttrain-auc:0.994427+4.08039e-05\ttest-auc:0.9211+0.00591129\n",
      "[1009]\ttrain-auc:0.994441+4.09458e-05\ttest-auc:0.921088+0.00591403\n",
      "[1010]\ttrain-auc:0.994455+3.98196e-05\ttest-auc:0.921096+0.00590471\n",
      "[1011]\ttrain-auc:0.994467+4.08245e-05\ttest-auc:0.921083+0.0059017\n",
      "[1012]\ttrain-auc:0.99448+4.13057e-05\ttest-auc:0.921088+0.00591626\n",
      "[1013]\ttrain-auc:0.994494+4.0802e-05\ttest-auc:0.921098+0.00591417\n",
      "[1014]\ttrain-auc:0.994507+4.01766e-05\ttest-auc:0.92109+0.00592358\n",
      "[1015]\ttrain-auc:0.99452+3.82905e-05\ttest-auc:0.921103+0.00592176\n",
      "[1016]\ttrain-auc:0.994534+3.79051e-05\ttest-auc:0.921098+0.0059205\n",
      "[1017]\ttrain-auc:0.994547+3.76117e-05\ttest-auc:0.921096+0.00593133\n",
      "[1018]\ttrain-auc:0.994561+3.79231e-05\ttest-auc:0.921094+0.00592795\n",
      "[1019]\ttrain-auc:0.994574+3.70546e-05\ttest-auc:0.921096+0.00592162\n",
      "[1020]\ttrain-auc:0.994587+3.77921e-05\ttest-auc:0.921099+0.00592978\n",
      "[1021]\ttrain-auc:0.994598+3.84292e-05\ttest-auc:0.921093+0.00592828\n",
      "[1022]\ttrain-auc:0.994611+3.89944e-05\ttest-auc:0.921097+0.00593006\n",
      "[1023]\ttrain-auc:0.994624+3.94289e-05\ttest-auc:0.921098+0.00593263\n",
      "[1024]\ttrain-auc:0.994637+3.80526e-05\ttest-auc:0.921087+0.00593715\n",
      "[1025]\ttrain-auc:0.994652+3.78026e-05\ttest-auc:0.921089+0.00593187\n",
      "[1026]\ttrain-auc:0.994665+3.82497e-05\ttest-auc:0.921096+0.00594438\n",
      "[1027]\ttrain-auc:0.994681+4.03911e-05\ttest-auc:0.921101+0.00594157\n",
      "[1028]\ttrain-auc:0.994696+4.03861e-05\ttest-auc:0.921095+0.00594678\n",
      "[1029]\ttrain-auc:0.99471+4.02214e-05\ttest-auc:0.921091+0.00593816\n",
      "[1030]\ttrain-auc:0.994721+4.1199e-05\ttest-auc:0.921104+0.00593844\n",
      "[1031]\ttrain-auc:0.994735+4.04791e-05\ttest-auc:0.9211+0.00593176\n",
      "[1032]\ttrain-auc:0.994748+4.12572e-05\ttest-auc:0.921096+0.00593843\n",
      "[1033]\ttrain-auc:0.994759+4.03534e-05\ttest-auc:0.921095+0.00593689\n",
      "[1034]\ttrain-auc:0.994771+4.11077e-05\ttest-auc:0.921095+0.00593032\n",
      "[1035]\ttrain-auc:0.994785+4.22441e-05\ttest-auc:0.921094+0.00592389\n",
      "[1036]\ttrain-auc:0.994798+4.1649e-05\ttest-auc:0.921094+0.00592366\n",
      "[1037]\ttrain-auc:0.99481+4.33931e-05\ttest-auc:0.921099+0.00593038\n",
      "[1038]\ttrain-auc:0.994822+4.54163e-05\ttest-auc:0.921101+0.00592941\n",
      "[1039]\ttrain-auc:0.994833+4.29185e-05\ttest-auc:0.921107+0.00592876\n",
      "[1040]\ttrain-auc:0.994847+4.35816e-05\ttest-auc:0.921101+0.00592248\n",
      "[1041]\ttrain-auc:0.994859+4.3111e-05\ttest-auc:0.921108+0.00591078\n",
      "[1042]\ttrain-auc:0.99487+4.36688e-05\ttest-auc:0.92111+0.00591593\n",
      "[1043]\ttrain-auc:0.994883+4.25958e-05\ttest-auc:0.921104+0.00593258\n",
      "[1044]\ttrain-auc:0.994895+4.50182e-05\ttest-auc:0.921105+0.00592998\n",
      "[1045]\ttrain-auc:0.994909+4.53934e-05\ttest-auc:0.921096+0.00593623\n",
      "[1046]\ttrain-auc:0.994923+4.31119e-05\ttest-auc:0.921091+0.00593344\n",
      "[1047]\ttrain-auc:0.994938+4.21407e-05\ttest-auc:0.921092+0.00592929\n",
      "[1048]\ttrain-auc:0.99495+4.01617e-05\ttest-auc:0.921086+0.00592131\n",
      "[1049]\ttrain-auc:0.994963+3.92449e-05\ttest-auc:0.921096+0.00591929\n",
      "[1050]\ttrain-auc:0.994975+3.85383e-05\ttest-auc:0.921098+0.00590953\n",
      "[1051]\ttrain-auc:0.994988+3.75851e-05\ttest-auc:0.921107+0.00591315\n",
      "[1052]\ttrain-auc:0.995+3.88505e-05\ttest-auc:0.921108+0.00591514\n",
      "[1053]\ttrain-auc:0.995011+4.08578e-05\ttest-auc:0.921105+0.00591532\n",
      "[1054]\ttrain-auc:0.995023+3.97764e-05\ttest-auc:0.921103+0.00591664\n",
      "[1055]\ttrain-auc:0.995036+3.96454e-05\ttest-auc:0.921109+0.00592607\n",
      "[1056]\ttrain-auc:0.995048+3.83176e-05\ttest-auc:0.921107+0.00592551\n",
      "[1057]\ttrain-auc:0.995059+4.07559e-05\ttest-auc:0.92111+0.00591957\n",
      "[1058]\ttrain-auc:0.99507+4.09175e-05\ttest-auc:0.921109+0.00591218\n",
      "[1059]\ttrain-auc:0.99508+4.19161e-05\ttest-auc:0.921103+0.00590787\n",
      "[1060]\ttrain-auc:0.995092+4.11368e-05\ttest-auc:0.92109+0.00590684\n",
      "[1061]\ttrain-auc:0.995105+4.09145e-05\ttest-auc:0.921086+0.00590718\n",
      "[1062]\ttrain-auc:0.995116+3.98748e-05\ttest-auc:0.921074+0.00590961\n",
      "[1063]\ttrain-auc:0.995127+4.01567e-05\ttest-auc:0.921077+0.00591381\n",
      "[1064]\ttrain-auc:0.99514+3.91428e-05\ttest-auc:0.921067+0.00591862\n",
      "[1065]\ttrain-auc:0.995154+3.68619e-05\ttest-auc:0.921062+0.00591515\n",
      "[1066]\ttrain-auc:0.995165+3.78978e-05\ttest-auc:0.921062+0.00590502\n",
      "[1067]\ttrain-auc:0.995175+3.84416e-05\ttest-auc:0.92107+0.00591091\n",
      "[1068]\ttrain-auc:0.995188+3.77921e-05\ttest-auc:0.921055+0.00590604\n",
      "[1069]\ttrain-auc:0.995199+3.83009e-05\ttest-auc:0.921059+0.00591542\n",
      "[1070]\ttrain-auc:0.995209+3.95677e-05\ttest-auc:0.92106+0.00592048\n",
      "[1071]\ttrain-auc:0.995222+3.96555e-05\ttest-auc:0.921055+0.00592867\n",
      "[1072]\ttrain-auc:0.995233+3.8426e-05\ttest-auc:0.92106+0.00592566\n",
      "[1073]\ttrain-auc:0.995245+3.75745e-05\ttest-auc:0.921053+0.00592083\n",
      "[1074]\ttrain-auc:0.995255+3.85092e-05\ttest-auc:0.921069+0.00592218\n",
      "[1075]\ttrain-auc:0.995267+3.84895e-05\ttest-auc:0.921081+0.00592753\n",
      "[1076]\ttrain-auc:0.995278+3.97522e-05\ttest-auc:0.921072+0.00593478\n",
      "[1077]\ttrain-auc:0.995288+3.81418e-05\ttest-auc:0.921082+0.00593747\n",
      "[1078]\ttrain-auc:0.995301+3.93873e-05\ttest-auc:0.921085+0.00593907\n",
      "[1079]\ttrain-auc:0.995312+4.0027e-05\ttest-auc:0.921088+0.00593219\n",
      "[1080]\ttrain-auc:0.995323+4.0012e-05\ttest-auc:0.921089+0.00593341\n",
      "[1081]\ttrain-auc:0.995336+3.92632e-05\ttest-auc:0.92109+0.00593575\n",
      "[1082]\ttrain-auc:0.995348+3.83792e-05\ttest-auc:0.921095+0.00593505\n",
      "[1083]\ttrain-auc:0.995357+3.74454e-05\ttest-auc:0.921092+0.00594051\n",
      "[1084]\ttrain-auc:0.995369+3.76457e-05\ttest-auc:0.921097+0.00594603\n",
      "[1085]\ttrain-auc:0.995381+3.89769e-05\ttest-auc:0.921097+0.00594563\n",
      "[1086]\ttrain-auc:0.995393+3.86699e-05\ttest-auc:0.921089+0.00594954\n",
      "[1087]\ttrain-auc:0.995402+3.58519e-05\ttest-auc:0.921085+0.00595304\n",
      "[1088]\ttrain-auc:0.99541+3.52057e-05\ttest-auc:0.921081+0.0059508\n",
      "[1089]\ttrain-auc:0.995421+3.706e-05\ttest-auc:0.921078+0.00595579\n",
      "[1090]\ttrain-auc:0.995435+3.55415e-05\ttest-auc:0.921069+0.0059581\n",
      "[1091]\ttrain-auc:0.995446+3.60144e-05\ttest-auc:0.921077+0.00595761\n",
      "[1092]\ttrain-auc:0.995457+3.70815e-05\ttest-auc:0.921073+0.0059678\n",
      "[1093]\ttrain-auc:0.995469+3.90999e-05\ttest-auc:0.921064+0.00596713\n",
      "[1094]\ttrain-auc:0.995479+3.82068e-05\ttest-auc:0.921071+0.00596583\n",
      "[1095]\ttrain-auc:0.995489+3.92347e-05\ttest-auc:0.921066+0.00596802\n",
      "[1096]\ttrain-auc:0.995497+3.95302e-05\ttest-auc:0.921065+0.00596572\n",
      "[1097]\ttrain-auc:0.99551+3.85953e-05\ttest-auc:0.92107+0.00597029\n",
      "[1098]\ttrain-auc:0.995522+4.03733e-05\ttest-auc:0.921075+0.0059669\n",
      "[1099]\ttrain-auc:0.995531+3.96363e-05\ttest-auc:0.921075+0.00597294\n",
      "[1100]\ttrain-auc:0.995542+4.0063e-05\ttest-auc:0.921069+0.00596052\n",
      "[1101]\ttrain-auc:0.995551+3.89769e-05\ttest-auc:0.921075+0.00595851\n",
      "[1102]\ttrain-auc:0.995563+3.85196e-05\ttest-auc:0.921078+0.00596851\n",
      "[1103]\ttrain-auc:0.995574+3.79294e-05\ttest-auc:0.921068+0.00597461\n",
      "[1104]\ttrain-auc:0.995585+3.64637e-05\ttest-auc:0.921064+0.00597646\n",
      "[1105]\ttrain-auc:0.995594+3.67184e-05\ttest-auc:0.921054+0.00598558\n",
      "[1106]\ttrain-auc:0.995605+3.6701e-05\ttest-auc:0.921055+0.00598798\n",
      "[1107]\ttrain-auc:0.995615+3.57357e-05\ttest-auc:0.921052+0.00598949\n",
      "[1108]\ttrain-auc:0.995625+3.58965e-05\ttest-auc:0.921056+0.00598869\n",
      "[1109]\ttrain-auc:0.995635+3.41444e-05\ttest-auc:0.921064+0.00599114\n",
      "[1110]\ttrain-auc:0.995645+3.48804e-05\ttest-auc:0.92106+0.00598802\n",
      "[1111]\ttrain-auc:0.995654+3.59533e-05\ttest-auc:0.921061+0.0059951\n",
      "[1112]\ttrain-auc:0.995664+3.68043e-05\ttest-auc:0.921057+0.00598511\n",
      "[1113]\ttrain-auc:0.995674+3.84728e-05\ttest-auc:0.921067+0.00599053\n",
      "[1114]\ttrain-auc:0.995684+3.79505e-05\ttest-auc:0.921064+0.00598912\n",
      "[1115]\ttrain-auc:0.995693+3.66857e-05\ttest-auc:0.921055+0.0059887\n",
      "[1116]\ttrain-auc:0.995703+3.55246e-05\ttest-auc:0.921065+0.0059892\n",
      "[1117]\ttrain-auc:0.995714+3.57413e-05\ttest-auc:0.921064+0.00599829\n",
      "[1118]\ttrain-auc:0.995724+3.74198e-05\ttest-auc:0.921062+0.00599632\n",
      "[1119]\ttrain-auc:0.995734+3.78069e-05\ttest-auc:0.921068+0.00600417\n",
      "[1120]\ttrain-auc:0.995746+3.68272e-05\ttest-auc:0.921076+0.00600343\n",
      "[1121]\ttrain-auc:0.995757+3.77497e-05\ttest-auc:0.921077+0.00599827\n",
      "[1122]\ttrain-auc:0.995765+3.83844e-05\ttest-auc:0.921088+0.00599648\n",
      "[1123]\ttrain-auc:0.995777+3.71591e-05\ttest-auc:0.921093+0.00600188\n",
      "[1124]\ttrain-auc:0.995787+3.8401e-05\ttest-auc:0.921092+0.00599408\n",
      "[1125]\ttrain-auc:0.995796+3.66988e-05\ttest-auc:0.921085+0.00598806\n",
      "[1126]\ttrain-auc:0.995806+3.68163e-05\ttest-auc:0.921092+0.00599215\n",
      "[1127]\ttrain-auc:0.995814+3.81754e-05\ttest-auc:0.921092+0.00599048\n"
     ]
    }
   ],
   "source": [
    "xgb_cv = xgb.cv(bayes_params3, xg_train, num_boost_round=10000, early_stopping_rounds=200, nfold=5,\n",
    "                stratified=True, verbose_eval=True, metrics='auc', seed=random_state)"
   ]
  },
  {
   "cell_type": "code",
   "execution_count": 42,
   "metadata": {},
   "outputs": [],
   "source": [
    "x_train_df_meta = x_train_df.copy()\n",
    "x_train_df_meta['XGB'] = np.nan\n",
    "x_train_df_meta['LR'] = np.nan\n",
    "x_train_df_meta['ET'] = np.nan\n",
    "x_train_df_meta['RF'] = np.nan\n",
    "\n",
    "x_test_df_meta = x_test_df.copy()\n",
    "x_test_df_meta['XGB'] = np.nan\n",
    "x_test_df_meta['LR'] = np.nan\n",
    "x_test_df_meta['ET'] = np.nan\n",
    "x_test_df_meta['RF'] = np.nan"
   ]
  },
  {
   "cell_type": "code",
   "execution_count": 43,
   "metadata": {},
   "outputs": [],
   "source": [
    "clfs = [LogisticRegression(C=.01, penalty='l1'),\n",
    "       ExtraTreesClassifier(n_estimators=800, n_jobs=2),\n",
    "       RandomForestClassifier(n_estimators=800, n_jobs=2, criterion='entropy')]\n",
    "\n",
    "clf_names = ['LR', 'ET', 'RF']"
   ]
  },
  {
   "cell_type": "code",
   "execution_count": 44,
   "metadata": {},
   "outputs": [
    {
     "name": "stdout",
     "output_type": "stream",
     "text": [
      "Fold 1 LR CV AUC: 0.917492639802\n",
      "Fold 1 ET CV AUC: 0.921853119457\n",
      "Fold 1 RF CV AUC: 0.925319414252\n",
      "Fold 1 XGB CV AUC: 0.927216561529\n",
      "Fold 1 completed.\n",
      "--------------------------------------------------\n",
      "Fold 2 LR CV AUC: 0.914304957256\n",
      "Fold 2 ET CV AUC: 0.918060491991\n",
      "Fold 2 RF CV AUC: 0.921160860751\n",
      "Fold 2 XGB CV AUC: 0.923885926101\n",
      "Fold 2 completed.\n",
      "--------------------------------------------------\n",
      "Fold 3 LR CV AUC: 0.909510452298\n",
      "Fold 3 ET CV AUC: 0.917681535845\n",
      "Fold 3 RF CV AUC: 0.920647531159\n",
      "Fold 3 XGB CV AUC: 0.924156096764\n",
      "Fold 3 completed.\n",
      "--------------------------------------------------\n",
      "Fold 4 LR CV AUC: 0.913788577784\n",
      "Fold 4 ET CV AUC: 0.916791546951\n",
      "Fold 4 RF CV AUC: 0.918991609965\n",
      "Fold 4 XGB CV AUC: 0.92067212092\n",
      "Fold 4 completed.\n",
      "--------------------------------------------------\n",
      "Fold 5 LR CV AUC: 0.895832107483\n",
      "Fold 5 ET CV AUC: 0.904875860443\n",
      "Fold 5 RF CV AUC: 0.909656991314\n",
      "Fold 5 XGB CV AUC: 0.910069085818\n",
      "Fold 5 completed.\n",
      "--------------------------------------------------\n",
      "Train meta filled. Thank you.\n"
     ]
    }
   ],
   "source": [
    "num_fold = 0\n",
    "n_epochs = 2\n",
    "\n",
    "CNN_test_preds = []\n",
    "RNN_test_preds = []\n",
    "\n",
    "neural_nets = ['CNN', 'RNN']\n",
    "\n",
    "for train_index, test_index in cv.split(x_train_df, y_train):\n",
    "    \n",
    "    # Valitaan data sekä neuroverkoille että muille käytettäville malleille\n",
    "    X_cvtrain = x_train_df.iloc[train_index]\n",
    "    X_cvtest = x_train_df.iloc[test_index]\n",
    "    X_cvtrain_100_5 = x_train_100_5[train_index]\n",
    "    X_cvtest_100_5 = x_train_100_5[test_index]\n",
    "    y_cvtrain = y_train[train_index]\n",
    "    y_cvtest = y_train[test_index]\n",
    "    \n",
    "    num_fold += 1\n",
    "    \n",
    "    # Valmiiksi oltiin luotu viisi kansiota hakemistoon, yksi kutakin kierrosta varten\n",
    "    directory = ('/Users/shrey/Desktop/summer/gene prediction/Kaggle-gene-expression-master/Fold'+ str(num_fold)) \n",
    "    if not os.path.exists(directory):\n",
    "        os.makedirs(directory)\n",
    "    os.chdir(directory)\n",
    "    \n",
    "    # Koulutetaan molemmat neuroverkot loopissa, CNN ja CNN+RNN\n",
    "    \n",
    "    # Rullataan scikit-learn mallit läpi ja ennustetaan jokaisella\n",
    "    for i, clf in enumerate(clfs):\n",
    "        clf.fit(X_cvtrain, y_cvtrain)\n",
    "        clf_pred = clf.predict_proba(X_cvtest)[:, 1]\n",
    "        x_train_df_meta.loc[test_index, clf_names[i]] = clf_pred\n",
    "        \n",
    "        print('Fold', num_fold, clf_names[i], 'CV AUC:', roc_auc_score(y_cvtest, clf_pred))\n",
    "    \n",
    "    # Koulutetaan XGBoost-malli aiemmin löydetyillä parametreilla\n",
    "    xg_cvtrain = xgb.DMatrix(X_cvtrain, label=y_cvtrain)\n",
    "    xg_cvtest = xgb.DMatrix(X_cvtest)\n",
    "    \n",
    "    xgb_model = xgb.train(bayes_params3, xg_cvtrain, num_boost_round=1184)\n",
    "    xgb_cvpred = xgb_model.predict(xg_cvtest)\n",
    "    x_train_df_meta.loc[test_index, 'XGB'] = xgb_cvpred\n",
    "    print('Fold', num_fold, 'XGB CV AUC:', roc_auc_score(y_cvtest, xgb_cvpred))\n",
    "    \n",
    "    print('Fold', num_fold, 'completed.')\n",
    "    print(50 * '-')\n",
    "\n",
    "print('Train meta filled. Thank you.')\n",
    "os.chdir('/Users/shrey/Desktop/summer/gene prediction/Kaggle-gene-expression-master')"
   ]
  },
  {
   "cell_type": "code",
   "execution_count": 45,
   "metadata": {},
   "outputs": [
    {
     "data": {
      "text/plain": [
       "0.90648814462215588"
      ]
     },
     "execution_count": 45,
     "metadata": {},
     "output_type": "execute_result"
    }
   ],
   "source": [
    "epoch_auc"
   ]
  },
  {
   "cell_type": "code",
   "execution_count": 46,
   "metadata": {},
   "outputs": [
    {
     "data": {
      "text/plain": [
       "0                 0\n",
       "1                 0\n",
       "2                 0\n",
       "3                 0\n",
       "4                 0\n",
       "5                 0\n",
       "6                 0\n",
       "7                 0\n",
       "8                 0\n",
       "9                 0\n",
       "10                0\n",
       "11                0\n",
       "12                0\n",
       "13                0\n",
       "14                0\n",
       "15                0\n",
       "16                0\n",
       "17                0\n",
       "18                0\n",
       "19                0\n",
       "20                0\n",
       "21                0\n",
       "22                0\n",
       "23                0\n",
       "24                0\n",
       "25                0\n",
       "26                0\n",
       "27                0\n",
       "28                0\n",
       "29                0\n",
       "                 ..\n",
       "489               0\n",
       "490               0\n",
       "491               0\n",
       "492               0\n",
       "493               0\n",
       "494               0\n",
       "495               0\n",
       "496               0\n",
       "497               0\n",
       "498               0\n",
       "499               0\n",
       "H3K4me3_mean      0\n",
       "H3K4me1_mean      0\n",
       "H3K36me3_mean     0\n",
       "H3K9me3_mean      0\n",
       "H3K27me3_mean     0\n",
       "H3K4me3_perc0     0\n",
       "H3K4me1_perc0     0\n",
       "H3K36me3_perc0    0\n",
       "H3K9me3_perc0     0\n",
       "H3K27me3_perc0    0\n",
       "H3K4me3_std       0\n",
       "H3K4me1_std       0\n",
       "H3K36me3_std      0\n",
       "H3K9me3_std       0\n",
       "H3K27me3_std      0\n",
       "XGB               0\n",
       "LR                0\n",
       "ET                0\n",
       "RF                0\n",
       "Length: 519, dtype: int64"
      ]
     },
     "execution_count": 46,
     "metadata": {},
     "output_type": "execute_result"
    }
   ],
   "source": [
    "x_train_df_meta.isnull().sum()"
   ]
  },
  {
   "cell_type": "code",
   "execution_count": 47,
   "metadata": {},
   "outputs": [],
   "source": [
    "x_train_df_meta.to_csv('train_meta.csv', index=False)"
   ]
  },
  {
   "cell_type": "code",
   "execution_count": 48,
   "metadata": {},
   "outputs": [
    {
     "data": {
      "text/plain": [
       "0.92099685379871321"
      ]
     },
     "execution_count": 48,
     "metadata": {},
     "output_type": "execute_result"
    }
   ],
   "source": [
    "LR = LogisticRegression()\n",
    "used_cols = ['XGB', 'LR', 'ET', 'RF']\n",
    "\n",
    "cross_val_score(LR, x_train_df_meta[used_cols], y_train, scoring='roc_auc', cv=cv).mean()"
   ]
  },
  {
   "cell_type": "code",
   "execution_count": 49,
   "metadata": {},
   "outputs": [
    {
     "name": "stdout",
     "output_type": "stream",
     "text": [
      "Baseline: 0.920723712877\n",
      "H3K4me3_mean 0.919912882641\n",
      "H3K4me1_mean 0.920257822472\n",
      "H3K36me3_mean 0.92059741298\n",
      "H3K9me3_mean 0.920386984768\n",
      "H3K27me3_mean 0.920729969464\n",
      "H3K4me3_perc0 0.919964759025\n",
      "H3K4me1_perc0 0.920730470505\n",
      "H3K36me3_perc0 0.92045173902\n",
      "H3K9me3_perc0 0.920225272155\n",
      "H3K27me3_perc0 0.920466890476\n",
      "H3K4me3_std 0.91989614191\n",
      "H3K4me1_std 0.920249123134\n"
     ]
    }
   ],
   "source": [
    "stat_cols = x_train_df_meta.columns[500:-7].values\n",
    "used_cols = ['XGB','LR', 'ET','H3K27me3_std', \n",
    "             'H3K27me3_mean', 'H3K4me1_perc0', 'H3K9me3_std']\n",
    "\n",
    "print('Baseline:', cross_val_score(LR, x_train_df_meta[used_cols], \n",
    "                      y_train, scoring='roc_auc', cv=cv).mean())\n",
    "\n",
    "# Printataan uudet CV-pisteet featureita yksi kerrallaan lisäillen\n",
    "for i in range(len(stat_cols)):\n",
    "    print(stat_cols[i], cross_val_score(LR, x_train_df_meta[used_cols + [stat_cols[i]]],\n",
    "                                        y_train, scoring='roc_auc', cv=cv).mean())"
   ]
  },
  {
   "cell_type": "code",
   "execution_count": 50,
   "metadata": {},
   "outputs": [],
   "source": [
    "xgbs = []\n",
    "xg_train = xgb.DMatrix(x_train_df, label=y_train)\n",
    "xg_test = xgb.DMatrix(x_test_df)\n",
    "\n",
    "for i in range(1, 8):\n",
    "    complete_xgb_model = xgb.train(bayes_params3, xg_train, num_boost_round=int(1184/.8))\n",
    "    xgb_pred = complete_xgb_model.predict(xg_test)\n",
    "    xgbs.append(xgb_pred)\n",
    "    \n",
    "x_test_df_meta['XGB'] = np.mean(xgbs, axis=0)"
   ]
  },
  {
   "cell_type": "code",
   "execution_count": 51,
   "metadata": {},
   "outputs": [],
   "source": [
    "final_clfs = [LogisticRegression(C=.01, penalty='l1'),\n",
    "              ExtraTreesClassifier(n_estimators=800, n_jobs=2)]\n",
    "final_clf_names = ['LR', 'ET']\n",
    "\n",
    "x_test_df_meta.drop('RF', axis=1, inplace=True) # Random forest huomattiin haitalliseksi ensemblessä\n",
    "\n",
    "\n",
    "for i, clf in enumerate(final_clfs):\n",
    "    clf.fit(x_train_df, y_train)\n",
    "    x_test_df_meta[final_clf_names[i]] = clf.predict_proba(x_test_df)[:, 1]"
   ]
  },
  {
   "cell_type": "code",
   "execution_count": 52,
   "metadata": {},
   "outputs": [],
   "source": [
    "xg_train_meta = xgb.DMatrix(x_train_df_meta[used_cols], label=y_train)\n",
    "xg_test_meta = xgb.DMatrix(x_test_df_meta[used_cols])"
   ]
  },
  {
   "cell_type": "code",
   "execution_count": 53,
   "metadata": {},
   "outputs": [
    {
     "name": "stdout",
     "output_type": "stream",
     "text": [
      "\u001b[31mInitialization\u001b[0m\n",
      "\u001b[94m---------------------------------------------------------------------------------------------------------------------------\u001b[0m\n",
      " Step |   Time |      Value |     alpha |   colsample_bytree |     gamma |   max_depth |   min_child_weight |   subsample | \n",
      "Multiple eval metrics have been passed: 'test-auc' will be used for early stopping.\n",
      "\n",
      "Will train until test-auc hasn't improved in 100 rounds.\n",
      "Stopping. Best iteration:\n",
      "[1241]\ttrain-auc:0.927614+0.0014028\ttest-auc:0.919835+0.00600617\n",
      "\n",
      "    1 | 00m29s | \u001b[35m   0.91983\u001b[0m | \u001b[32m   5.7595\u001b[0m | \u001b[32m            0.3749\u001b[0m | \u001b[32m   2.5662\u001b[0m | \u001b[32m     5.6199\u001b[0m | \u001b[32m            3.1571\u001b[0m | \u001b[32m     0.6286\u001b[0m | \n",
      "Multiple eval metrics have been passed: 'test-auc' will be used for early stopping.\n",
      "\n",
      "Will train until test-auc hasn't improved in 100 rounds.\n",
      "Stopping. Best iteration:\n",
      "[296]\ttrain-auc:0.924138+0.00143912\ttest-auc:0.920761+0.00611824\n",
      "\n",
      "    2 | 00m12s | \u001b[35m   0.92076\u001b[0m | \u001b[32m   6.1588\u001b[0m | \u001b[32m            0.8934\u001b[0m | \u001b[32m   4.9824\u001b[0m | \u001b[32m    20.2022\u001b[0m | \u001b[32m            4.8368\u001b[0m | \u001b[32m     0.6409\u001b[0m | \n",
      "Multiple eval metrics have been passed: 'test-auc' will be used for early stopping.\n",
      "\n",
      "Will train until test-auc hasn't improved in 100 rounds.\n",
      "Stopping. Best iteration:\n",
      "[160]\ttrain-auc:0.925763+0.00139046\ttest-auc:0.920641+0.00627108\n",
      "\n",
      "    3 | 00m08s |    0.92064 |    0.2515 |             0.9590 |    6.5871 |     20.5547 |            18.4876 |      0.9209 | \n",
      "Multiple eval metrics have been passed: 'test-auc' will be used for early stopping.\n",
      "\n",
      "Will train until test-auc hasn't improved in 100 rounds.\n",
      "Stopping. Best iteration:\n",
      "[888]\ttrain-auc:0.927915+0.00140237\ttest-auc:0.919436+0.00597269\n",
      "\n",
      "    4 | 00m27s |    0.91944 |    7.2465 |             0.2857 |    1.6494 |     29.1245 |            16.6468 |      0.7980 | \n",
      "Multiple eval metrics have been passed: 'test-auc' will be used for early stopping.\n",
      "\n",
      "Will train until test-auc hasn't improved in 100 rounds.\n",
      "Stopping. Best iteration:\n",
      "[280]\ttrain-auc:0.926394+0.00140286\ttest-auc:0.920595+0.00602083\n",
      "\n",
      "    5 | 00m10s |    0.92059 |    3.7957 |             0.9453 |    3.4193 |      5.8324 |             4.2492 |      0.8413 | \n"
     ]
    },
    {
     "name": "stderr",
     "output_type": "stream",
     "text": [
      "C:\\ProgramData\\Anaconda3\\envs\\py36\\lib\\site-packages\\sklearn\\gaussian_process\\gpr.py:457: UserWarning: fmin_l_bfgs_b terminated abnormally with the  state: {'grad': array([  8.15276775e-05]), 'task': b'ABNORMAL_TERMINATION_IN_LNSRCH', 'funcalls': 46, 'nit': 4, 'warnflag': 2}\n",
      "  \" state: %s\" % convergence_dict)\n",
      "C:\\ProgramData\\Anaconda3\\envs\\py36\\lib\\site-packages\\sklearn\\gaussian_process\\gpr.py:335: UserWarning: Predicted variances smaller than 0. Setting those variances to 0.\n",
      "  warnings.warn(\"Predicted variances smaller than 0. \"\n"
     ]
    },
    {
     "name": "stdout",
     "output_type": "stream",
     "text": [
      "\u001b[31mBayesian Optimization\u001b[0m\n",
      "\u001b[94m---------------------------------------------------------------------------------------------------------------------------\u001b[0m\n",
      " Step |   Time |      Value |     alpha |   colsample_bytree |     gamma |   max_depth |   min_child_weight |   subsample | \n",
      "Multiple eval metrics have been passed: 'test-auc' will be used for early stopping.\n",
      "\n",
      "Will train until test-auc hasn't improved in 100 rounds.\n",
      "Stopping. Best iteration:\n",
      "[115]\ttrain-auc:0.946955+0.00176823\ttest-auc:0.917526+0.00572783\n",
      "\n",
      "    6 | 00m20s |    0.91753 |    0.4389 |             0.3289 |    0.1813 |     39.7229 |             1.2710 |      0.6329 | \n",
      "Multiple eval metrics have been passed: 'test-auc' will be used for early stopping.\n",
      "\n",
      "Will train until test-auc hasn't improved in 100 rounds.\n",
      "Stopping. Best iteration:\n",
      "[575]\ttrain-auc:0.922843+0.00150042\ttest-auc:0.920631+0.00622723\n",
      "\n",
      "    7 | 00m24s |    0.92063 |    7.5140 |             0.9312 |    7.9824 |      2.0596 |            14.6366 |      0.9892 | \n",
      "Multiple eval metrics have been passed: 'test-auc' will be used for early stopping.\n",
      "\n",
      "Will train until test-auc hasn't improved in 100 rounds.\n",
      "Stopping. Best iteration:\n",
      "[291]\ttrain-auc:0.926072+0.00130469\ttest-auc:0.920287+0.00620258\n",
      "\n",
      "    8 | 00m23s |    0.92029 |    7.0945 |             0.9338 |    0.2335 |      9.2016 |            19.6464 |      0.6456 | \n",
      "Multiple eval metrics have been passed: 'test-auc' will be used for early stopping.\n",
      "\n",
      "Will train until test-auc hasn't improved in 100 rounds.\n",
      "Stopping. Best iteration:\n",
      "[295]\ttrain-auc:0.922958+0.00157004\ttest-auc:0.920607+0.00612561\n",
      "\n",
      "    9 | 00m23s |    0.92061 |    7.8977 |             0.9689 |    7.9538 |     36.8724 |            19.9489 |      0.8990 | \n"
     ]
    },
    {
     "name": "stderr",
     "output_type": "stream",
     "text": [
      "C:\\ProgramData\\Anaconda3\\envs\\py36\\lib\\site-packages\\sklearn\\gaussian_process\\gpr.py:457: UserWarning: fmin_l_bfgs_b terminated abnormally with the  state: {'grad': array([ -8.66224818e-05]), 'task': b'ABNORMAL_TERMINATION_IN_LNSRCH', 'funcalls': 54, 'nit': 6, 'warnflag': 2}\n",
      "  \" state: %s\" % convergence_dict)\n"
     ]
    },
    {
     "name": "stdout",
     "output_type": "stream",
     "text": [
      "Multiple eval metrics have been passed: 'test-auc' will be used for early stopping.\n",
      "\n",
      "Will train until test-auc hasn't improved in 100 rounds.\n",
      "Stopping. Best iteration:\n",
      "[402]\ttrain-auc:0.923552+0.00144994\ttest-auc:0.92062+0.00621686\n",
      "\n",
      "   10 | 00m36s |    0.92062 |    7.5552 |             0.9311 |    7.6344 |     17.3634 |             1.4539 |      0.9942 | \n"
     ]
    },
    {
     "name": "stderr",
     "output_type": "stream",
     "text": [
      "C:\\ProgramData\\Anaconda3\\envs\\py36\\lib\\site-packages\\sklearn\\gaussian_process\\gpr.py:457: UserWarning: fmin_l_bfgs_b terminated abnormally with the  state: {'grad': array([-0.00081056]), 'task': b'ABNORMAL_TERMINATION_IN_LNSRCH', 'funcalls': 56, 'nit': 6, 'warnflag': 2}\n",
      "  \" state: %s\" % convergence_dict)\n",
      "C:\\ProgramData\\Anaconda3\\envs\\py36\\lib\\site-packages\\sklearn\\gaussian_process\\gpr.py:457: UserWarning: fmin_l_bfgs_b terminated abnormally with the  state: {'grad': array([  7.04635941e-05]), 'task': b'ABNORMAL_TERMINATION_IN_LNSRCH', 'funcalls': 50, 'nit': 3, 'warnflag': 2}\n",
      "  \" state: %s\" % convergence_dict)\n",
      "C:\\ProgramData\\Anaconda3\\envs\\py36\\lib\\site-packages\\sklearn\\gaussian_process\\gpr.py:457: UserWarning: fmin_l_bfgs_b terminated abnormally with the  state: {'grad': array([ -2.44372984e-05]), 'task': b'ABNORMAL_TERMINATION_IN_LNSRCH', 'funcalls': 57, 'nit': 6, 'warnflag': 2}\n",
      "  \" state: %s\" % convergence_dict)\n"
     ]
    },
    {
     "name": "stdout",
     "output_type": "stream",
     "text": [
      "Multiple eval metrics have been passed: 'test-auc' will be used for early stopping.\n",
      "\n",
      "Will train until test-auc hasn't improved in 100 rounds.\n",
      "Stopping. Best iteration:\n",
      "[285]\ttrain-auc:0.922505+0.00145138\ttest-auc:0.920762+0.00611941\n",
      "\n",
      "   11 | 00m20s | \u001b[35m   0.92076\u001b[0m | \u001b[32m   4.9506\u001b[0m | \u001b[32m            0.9177\u001b[0m | \u001b[32m   7.9255\u001b[0m | \u001b[32m     3.3033\u001b[0m | \u001b[32m            1.9153\u001b[0m | \u001b[32m     0.6024\u001b[0m | \n"
     ]
    },
    {
     "name": "stderr",
     "output_type": "stream",
     "text": [
      "C:\\ProgramData\\Anaconda3\\envs\\py36\\lib\\site-packages\\sklearn\\gaussian_process\\gpr.py:457: UserWarning: fmin_l_bfgs_b terminated abnormally with the  state: {'grad': array([ 0.00027957]), 'task': b'ABNORMAL_TERMINATION_IN_LNSRCH', 'funcalls': 50, 'nit': 3, 'warnflag': 2}\n",
      "  \" state: %s\" % convergence_dict)\n"
     ]
    },
    {
     "name": "stdout",
     "output_type": "stream",
     "text": [
      "Multiple eval metrics have been passed: 'test-auc' will be used for early stopping.\n",
      "\n",
      "Will train until test-auc hasn't improved in 100 rounds.\n",
      "Stopping. Best iteration:\n",
      "[310]\ttrain-auc:0.922644+0.0014575\ttest-auc:0.920787+0.00614625\n",
      "\n",
      "   12 | 00m24s | \u001b[35m   0.92079\u001b[0m | \u001b[32m   7.6898\u001b[0m | \u001b[32m            0.9594\u001b[0m | \u001b[32m   7.2503\u001b[0m | \u001b[32m    20.5796\u001b[0m | \u001b[32m           14.3377\u001b[0m | \u001b[32m     0.6317\u001b[0m | \n"
     ]
    },
    {
     "name": "stderr",
     "output_type": "stream",
     "text": [
      "C:\\ProgramData\\Anaconda3\\envs\\py36\\lib\\site-packages\\sklearn\\gaussian_process\\gpr.py:457: UserWarning: fmin_l_bfgs_b terminated abnormally with the  state: {'grad': array([ -1.83478869e-05]), 'task': b'ABNORMAL_TERMINATION_IN_LNSRCH', 'funcalls': 63, 'nit': 6, 'warnflag': 2}\n",
      "  \" state: %s\" % convergence_dict)\n",
      "C:\\ProgramData\\Anaconda3\\envs\\py36\\lib\\site-packages\\sklearn\\gaussian_process\\gpr.py:457: UserWarning: fmin_l_bfgs_b terminated abnormally with the  state: {'grad': array([ 0.00020466]), 'task': b'ABNORMAL_TERMINATION_IN_LNSRCH', 'funcalls': 55, 'nit': 7, 'warnflag': 2}\n",
      "  \" state: %s\" % convergence_dict)\n"
     ]
    },
    {
     "name": "stdout",
     "output_type": "stream",
     "text": [
      "Multiple eval metrics have been passed: 'test-auc' will be used for early stopping.\n",
      "\n",
      "Will train until test-auc hasn't improved in 100 rounds.\n",
      "Stopping. Best iteration:\n",
      "[597]\ttrain-auc:0.923065+0.00148916\ttest-auc:0.920776+0.00625179\n",
      "\n",
      "   13 | 00m24s |    0.92078 |    0.1259 |             0.8123 |    7.7127 |      2.1315 |            19.5155 |      0.6972 | \n"
     ]
    },
    {
     "name": "stderr",
     "output_type": "stream",
     "text": [
      "C:\\ProgramData\\Anaconda3\\envs\\py36\\lib\\site-packages\\sklearn\\gaussian_process\\gpr.py:457: UserWarning: fmin_l_bfgs_b terminated abnormally with the  state: {'grad': array([  9.77155541e-05]), 'task': b'ABNORMAL_TERMINATION_IN_LNSRCH', 'funcalls': 52, 'nit': 6, 'warnflag': 2}\n",
      "  \" state: %s\" % convergence_dict)\n"
     ]
    },
    {
     "name": "stdout",
     "output_type": "stream",
     "text": [
      "Multiple eval metrics have been passed: 'test-auc' will be used for early stopping.\n",
      "\n",
      "Will train until test-auc hasn't improved in 100 rounds.\n",
      "Stopping. Best iteration:\n",
      "[476]\ttrain-auc:0.923131+0.00152521\ttest-auc:0.920858+0.00627978\n",
      "\n",
      "   14 | 00m32s | \u001b[35m   0.92086\u001b[0m | \u001b[32m   6.2443\u001b[0m | \u001b[32m            0.9980\u001b[0m | \u001b[32m   7.9779\u001b[0m | \u001b[32m    38.5873\u001b[0m | \u001b[32m            8.4753\u001b[0m | \u001b[32m     0.6291\u001b[0m | \n"
     ]
    },
    {
     "name": "stderr",
     "output_type": "stream",
     "text": [
      "C:\\ProgramData\\Anaconda3\\envs\\py36\\lib\\site-packages\\sklearn\\gaussian_process\\gpr.py:457: UserWarning: fmin_l_bfgs_b terminated abnormally with the  state: {'grad': array([-0.00080253]), 'task': b'ABNORMAL_TERMINATION_IN_LNSRCH', 'funcalls': 54, 'nit': 3, 'warnflag': 2}\n",
      "  \" state: %s\" % convergence_dict)\n",
      "C:\\ProgramData\\Anaconda3\\envs\\py36\\lib\\site-packages\\sklearn\\gaussian_process\\gpr.py:457: UserWarning: fmin_l_bfgs_b terminated abnormally with the  state: {'grad': array([-0.0018942]), 'task': b'ABNORMAL_TERMINATION_IN_LNSRCH', 'funcalls': 52, 'nit': 5, 'warnflag': 2}\n",
      "  \" state: %s\" % convergence_dict)\n"
     ]
    },
    {
     "name": "stdout",
     "output_type": "stream",
     "text": [
      "Multiple eval metrics have been passed: 'test-auc' will be used for early stopping.\n",
      "\n",
      "Will train until test-auc hasn't improved in 100 rounds.\n",
      "Stopping. Best iteration:\n",
      "[94]\ttrain-auc:0.926708+0.00123717\ttest-auc:0.920428+0.00613308\n",
      "\n",
      "   15 | 00m20s |    0.92043 |    0.9281 |             0.9857 |    1.0648 |     38.1483 |            19.5022 |      0.6127 | \n"
     ]
    },
    {
     "name": "stderr",
     "output_type": "stream",
     "text": [
      "C:\\ProgramData\\Anaconda3\\envs\\py36\\lib\\site-packages\\sklearn\\gaussian_process\\gpr.py:457: UserWarning: fmin_l_bfgs_b terminated abnormally with the  state: {'grad': array([-0.00083153]), 'task': b'ABNORMAL_TERMINATION_IN_LNSRCH', 'funcalls': 51, 'nit': 3, 'warnflag': 2}\n",
      "  \" state: %s\" % convergence_dict)\n",
      "C:\\ProgramData\\Anaconda3\\envs\\py36\\lib\\site-packages\\sklearn\\gaussian_process\\gpr.py:457: UserWarning: fmin_l_bfgs_b terminated abnormally with the  state: {'grad': array([-0.00031948]), 'task': b'ABNORMAL_TERMINATION_IN_LNSRCH', 'funcalls': 49, 'nit': 3, 'warnflag': 2}\n",
      "  \" state: %s\" % convergence_dict)\n"
     ]
    },
    {
     "name": "stdout",
     "output_type": "stream",
     "text": [
      "Multiple eval metrics have been passed: 'test-auc' will be used for early stopping.\n",
      "\n",
      "Will train until test-auc hasn't improved in 100 rounds.\n",
      "Stopping. Best iteration:\n",
      "[864]\ttrain-auc:0.922742+0.00147934\ttest-auc:0.920944+0.00620553\n",
      "\n",
      "   16 | 00m28s | \u001b[35m   0.92094\u001b[0m | \u001b[32m   7.7027\u001b[0m | \u001b[32m            0.9728\u001b[0m | \u001b[32m   1.7325\u001b[0m | \u001b[32m     1.7462\u001b[0m | \u001b[32m            4.5124\u001b[0m | \u001b[32m     0.6214\u001b[0m | \n",
      "Multiple eval metrics have been passed: 'test-auc' will be used for early stopping.\n",
      "\n",
      "Will train until test-auc hasn't improved in 100 rounds.\n",
      "Stopping. Best iteration:\n",
      "[434]\ttrain-auc:0.923673+0.00139092\ttest-auc:0.920787+0.00623952\n",
      "\n",
      "   17 | 00m26s |    0.92079 |    7.0255 |             0.9468 |    5.7126 |      7.7004 |             4.8956 |      0.6203 | \n"
     ]
    },
    {
     "name": "stderr",
     "output_type": "stream",
     "text": [
      "C:\\ProgramData\\Anaconda3\\envs\\py36\\lib\\site-packages\\sklearn\\gaussian_process\\gpr.py:457: UserWarning: fmin_l_bfgs_b terminated abnormally with the  state: {'grad': array([-0.00083188]), 'task': b'ABNORMAL_TERMINATION_IN_LNSRCH', 'funcalls': 52, 'nit': 4, 'warnflag': 2}\n",
      "  \" state: %s\" % convergence_dict)\n"
     ]
    },
    {
     "name": "stdout",
     "output_type": "stream",
     "text": [
      "Multiple eval metrics have been passed: 'test-auc' will be used for early stopping.\n",
      "\n",
      "Will train until test-auc hasn't improved in 100 rounds.\n",
      "Stopping. Best iteration:\n",
      "[639]\ttrain-auc:0.922609+0.00154495\ttest-auc:0.920974+0.00627357\n",
      "\n",
      "   18 | 00m24s | \u001b[35m   0.92097\u001b[0m | \u001b[32m   2.5107\u001b[0m | \u001b[32m            0.9805\u001b[0m | \u001b[32m   0.6505\u001b[0m | \u001b[32m     1.5347\u001b[0m | \u001b[32m           18.1815\u001b[0m | \u001b[32m     0.7061\u001b[0m | \n",
      "Multiple eval metrics have been passed: 'test-auc' will be used for early stopping.\n",
      "\n",
      "Will train until test-auc hasn't improved in 100 rounds.\n",
      "Stopping. Best iteration:\n",
      "[629]\ttrain-auc:0.922512+0.00155129\ttest-auc:0.920932+0.00624291\n",
      "\n",
      "   19 | 00m24s |    0.92093 |    2.9230 |             0.9429 |    6.5914 |      1.3307 |             9.2493 |      0.6369 | \n"
     ]
    },
    {
     "name": "stderr",
     "output_type": "stream",
     "text": [
      "C:\\ProgramData\\Anaconda3\\envs\\py36\\lib\\site-packages\\sklearn\\gaussian_process\\gpr.py:457: UserWarning: fmin_l_bfgs_b terminated abnormally with the  state: {'grad': array([-0.00492661]), 'task': b'ABNORMAL_TERMINATION_IN_LNSRCH', 'funcalls': 54, 'nit': 3, 'warnflag': 2}\n",
      "  \" state: %s\" % convergence_dict)\n"
     ]
    },
    {
     "name": "stdout",
     "output_type": "stream",
     "text": [
      "Multiple eval metrics have been passed: 'test-auc' will be used for early stopping.\n",
      "\n",
      "Will train until test-auc hasn't improved in 100 rounds.\n",
      "Stopping. Best iteration:\n",
      "[298]\ttrain-auc:0.92504+0.00136304\ttest-auc:0.920724+0.00615457\n",
      "\n",
      "   20 | 00m26s |    0.92072 |    3.7779 |             0.9954 |    5.2317 |     25.3607 |             9.1728 |      0.6326 | \n"
     ]
    },
    {
     "name": "stderr",
     "output_type": "stream",
     "text": [
      "C:\\ProgramData\\Anaconda3\\envs\\py36\\lib\\site-packages\\sklearn\\gaussian_process\\gpr.py:457: UserWarning: fmin_l_bfgs_b terminated abnormally with the  state: {'grad': array([ 0.00111543]), 'task': b'ABNORMAL_TERMINATION_IN_LNSRCH', 'funcalls': 93, 'nit': 5, 'warnflag': 2}\n",
      "  \" state: %s\" % convergence_dict)\n",
      "C:\\ProgramData\\Anaconda3\\envs\\py36\\lib\\site-packages\\sklearn\\gaussian_process\\gpr.py:457: UserWarning: fmin_l_bfgs_b terminated abnormally with the  state: {'grad': array([  4.85612836e-05]), 'task': b'ABNORMAL_TERMINATION_IN_LNSRCH', 'funcalls': 73, 'nit': 9, 'warnflag': 2}\n",
      "  \" state: %s\" % convergence_dict)\n",
      "C:\\ProgramData\\Anaconda3\\envs\\py36\\lib\\site-packages\\sklearn\\gaussian_process\\gpr.py:457: UserWarning: fmin_l_bfgs_b terminated abnormally with the  state: {'grad': array([-0.00013964]), 'task': b'ABNORMAL_TERMINATION_IN_LNSRCH', 'funcalls': 53, 'nit': 4, 'warnflag': 2}\n",
      "  \" state: %s\" % convergence_dict)\n",
      "C:\\ProgramData\\Anaconda3\\envs\\py36\\lib\\site-packages\\sklearn\\gaussian_process\\gpr.py:457: UserWarning: fmin_l_bfgs_b terminated abnormally with the  state: {'grad': array([ 0.00019227]), 'task': b'ABNORMAL_TERMINATION_IN_LNSRCH', 'funcalls': 55, 'nit': 7, 'warnflag': 2}\n",
      "  \" state: %s\" % convergence_dict)\n"
     ]
    },
    {
     "name": "stdout",
     "output_type": "stream",
     "text": [
      "Multiple eval metrics have been passed: 'test-auc' will be used for early stopping.\n",
      "\n",
      "Will train until test-auc hasn't improved in 100 rounds.\n",
      "Stopping. Best iteration:\n",
      "[370]\ttrain-auc:0.92294+0.00146004\ttest-auc:0.920954+0.00619949\n",
      "\n",
      "   21 | 00m21s |    0.92095 |    0.8271 |             0.9600 |    3.7251 |      2.1790 |            17.0263 |      0.6213 | \n"
     ]
    },
    {
     "name": "stderr",
     "output_type": "stream",
     "text": [
      "C:\\ProgramData\\Anaconda3\\envs\\py36\\lib\\site-packages\\sklearn\\gaussian_process\\gpr.py:457: UserWarning: fmin_l_bfgs_b terminated abnormally with the  state: {'grad': array([ 0.00014249]), 'task': b'ABNORMAL_TERMINATION_IN_LNSRCH', 'funcalls': 83, 'nit': 4, 'warnflag': 2}\n",
      "  \" state: %s\" % convergence_dict)\n",
      "C:\\ProgramData\\Anaconda3\\envs\\py36\\lib\\site-packages\\sklearn\\gaussian_process\\gpr.py:457: UserWarning: fmin_l_bfgs_b terminated abnormally with the  state: {'grad': array([ -1.21849298e-05]), 'task': b'ABNORMAL_TERMINATION_IN_LNSRCH', 'funcalls': 50, 'nit': 5, 'warnflag': 2}\n",
      "  \" state: %s\" % convergence_dict)\n",
      "C:\\ProgramData\\Anaconda3\\envs\\py36\\lib\\site-packages\\sklearn\\gaussian_process\\gpr.py:457: UserWarning: fmin_l_bfgs_b terminated abnormally with the  state: {'grad': array([-0.00075812]), 'task': b'ABNORMAL_TERMINATION_IN_LNSRCH', 'funcalls': 44, 'nit': 1, 'warnflag': 2}\n",
      "  \" state: %s\" % convergence_dict)\n"
     ]
    },
    {
     "name": "stdout",
     "output_type": "stream",
     "text": [
      "Multiple eval metrics have been passed: 'test-auc' will be used for early stopping.\n",
      "\n",
      "Will train until test-auc hasn't improved in 100 rounds.\n",
      "Stopping. Best iteration:\n",
      "[382]\ttrain-auc:0.924329+0.00147568\ttest-auc:0.920862+0.00620457\n",
      "\n",
      "   22 | 00m24s |    0.92086 |    1.0765 |             0.9984 |    6.9740 |      4.6033 |            15.7260 |      0.7134 | \n"
     ]
    },
    {
     "name": "stderr",
     "output_type": "stream",
     "text": [
      "C:\\ProgramData\\Anaconda3\\envs\\py36\\lib\\site-packages\\sklearn\\gaussian_process\\gpr.py:457: UserWarning: fmin_l_bfgs_b terminated abnormally with the  state: {'grad': array([  7.07244308e-05]), 'task': b'ABNORMAL_TERMINATION_IN_LNSRCH', 'funcalls': 71, 'nit': 6, 'warnflag': 2}\n",
      "  \" state: %s\" % convergence_dict)\n",
      "C:\\ProgramData\\Anaconda3\\envs\\py36\\lib\\site-packages\\sklearn\\gaussian_process\\gpr.py:457: UserWarning: fmin_l_bfgs_b terminated abnormally with the  state: {'grad': array([-0.01078564]), 'task': b'ABNORMAL_TERMINATION_IN_LNSRCH', 'funcalls': 56, 'nit': 6, 'warnflag': 2}\n",
      "  \" state: %s\" % convergence_dict)\n"
     ]
    },
    {
     "name": "stdout",
     "output_type": "stream",
     "text": [
      "Multiple eval metrics have been passed: 'test-auc' will be used for early stopping.\n",
      "\n",
      "Will train until test-auc hasn't improved in 100 rounds.\n",
      "Stopping. Best iteration:\n",
      "[676]\ttrain-auc:0.922722+0.00153606\ttest-auc:0.920968+0.00635123\n",
      "\n",
      "   23 | 00m26s |    0.92097 |    0.0270 |             0.9926 |    1.1650 |      1.5344 |            19.2001 |      0.7790 | \n",
      "Multiple eval metrics have been passed: 'test-auc' will be used for early stopping.\n",
      "\n",
      "Will train until test-auc hasn't improved in 100 rounds.\n",
      "Stopping. Best iteration:\n",
      "[220]\ttrain-auc:0.925124+0.00144796\ttest-auc:0.920552+0.00627329\n",
      "\n",
      "   24 | 00m20s |    0.92055 |    2.7685 |             0.9891 |    5.9184 |     31.6518 |            16.8643 |      0.9451 | \n"
     ]
    },
    {
     "name": "stderr",
     "output_type": "stream",
     "text": [
      "C:\\ProgramData\\Anaconda3\\envs\\py36\\lib\\site-packages\\sklearn\\gaussian_process\\gpr.py:457: UserWarning: fmin_l_bfgs_b terminated abnormally with the  state: {'grad': array([  6.44419488e-05]), 'task': b'ABNORMAL_TERMINATION_IN_LNSRCH', 'funcalls': 67, 'nit': 8, 'warnflag': 2}\n",
      "  \" state: %s\" % convergence_dict)\n",
      "C:\\ProgramData\\Anaconda3\\envs\\py36\\lib\\site-packages\\sklearn\\gaussian_process\\gpr.py:457: UserWarning: fmin_l_bfgs_b terminated abnormally with the  state: {'grad': array([-0.00807472]), 'task': b'ABNORMAL_TERMINATION_IN_LNSRCH', 'funcalls': 51, 'nit': 6, 'warnflag': 2}\n",
      "  \" state: %s\" % convergence_dict)\n"
     ]
    },
    {
     "name": "stdout",
     "output_type": "stream",
     "text": [
      "Multiple eval metrics have been passed: 'test-auc' will be used for early stopping.\n",
      "\n",
      "Will train until test-auc hasn't improved in 100 rounds.\n",
      "Stopping. Best iteration:\n",
      "[282]\ttrain-auc:0.923975+0.00148148\ttest-auc:0.920773+0.00618501\n",
      "\n",
      "   25 | 00m25s |    0.92077 |    5.7254 |             0.9899 |    5.1603 |     11.2135 |             3.6324 |      0.6033 | \n"
     ]
    },
    {
     "name": "stderr",
     "output_type": "stream",
     "text": [
      "C:\\ProgramData\\Anaconda3\\envs\\py36\\lib\\site-packages\\sklearn\\gaussian_process\\gpr.py:457: UserWarning: fmin_l_bfgs_b terminated abnormally with the  state: {'grad': array([-0.000165]), 'task': b'ABNORMAL_TERMINATION_IN_LNSRCH', 'funcalls': 70, 'nit': 5, 'warnflag': 2}\n",
      "  \" state: %s\" % convergence_dict)\n",
      "C:\\ProgramData\\Anaconda3\\envs\\py36\\lib\\site-packages\\sklearn\\gaussian_process\\gpr.py:457: UserWarning: fmin_l_bfgs_b terminated abnormally with the  state: {'grad': array([-0.00020657]), 'task': b'ABNORMAL_TERMINATION_IN_LNSRCH', 'funcalls': 67, 'nit': 5, 'warnflag': 2}\n",
      "  \" state: %s\" % convergence_dict)\n"
     ]
    },
    {
     "name": "stdout",
     "output_type": "stream",
     "text": [
      "Multiple eval metrics have been passed: 'test-auc' will be used for early stopping.\n",
      "\n",
      "Will train until test-auc hasn't improved in 100 rounds.\n",
      "Stopping. Best iteration:\n",
      "[736]\ttrain-auc:0.9226+0.00152534\ttest-auc:0.920741+0.00635342\n",
      "\n",
      "   26 | 00m24s |    0.92074 |    3.8001 |             0.7847 |    3.7576 |      1.1687 |            19.2853 |      0.6774 | \n"
     ]
    },
    {
     "name": "stderr",
     "output_type": "stream",
     "text": [
      "C:\\ProgramData\\Anaconda3\\envs\\py36\\lib\\site-packages\\sklearn\\gaussian_process\\gpr.py:457: UserWarning: fmin_l_bfgs_b terminated abnormally with the  state: {'grad': array([  2.03362597e-05]), 'task': b'ABNORMAL_TERMINATION_IN_LNSRCH', 'funcalls': 56, 'nit': 6, 'warnflag': 2}\n",
      "  \" state: %s\" % convergence_dict)\n",
      "C:\\ProgramData\\Anaconda3\\envs\\py36\\lib\\site-packages\\sklearn\\gaussian_process\\gpr.py:457: UserWarning: fmin_l_bfgs_b terminated abnormally with the  state: {'grad': array([-0.00184463]), 'task': b'ABNORMAL_TERMINATION_IN_LNSRCH', 'funcalls': 49, 'nit': 3, 'warnflag': 2}\n",
      "  \" state: %s\" % convergence_dict)\n",
      "C:\\ProgramData\\Anaconda3\\envs\\py36\\lib\\site-packages\\sklearn\\gaussian_process\\gpr.py:457: UserWarning: fmin_l_bfgs_b terminated abnormally with the  state: {'grad': array([ 0.00029286]), 'task': b'ABNORMAL_TERMINATION_IN_LNSRCH', 'funcalls': 59, 'nit': 8, 'warnflag': 2}\n",
      "  \" state: %s\" % convergence_dict)\n"
     ]
    },
    {
     "name": "stdout",
     "output_type": "stream",
     "text": [
      "Multiple eval metrics have been passed: 'test-auc' will be used for early stopping.\n",
      "\n",
      "Will train until test-auc hasn't improved in 100 rounds.\n",
      "Stopping. Best iteration:\n",
      "[306]\ttrain-auc:0.923181+0.00151962\ttest-auc:0.920769+0.00609204\n",
      "\n",
      "   27 | 00m26s |    0.92077 |    7.3069 |             0.9119 |    7.2954 |     26.0005 |             5.6169 |      0.8440 | \n"
     ]
    },
    {
     "name": "stderr",
     "output_type": "stream",
     "text": [
      "C:\\ProgramData\\Anaconda3\\envs\\py36\\lib\\site-packages\\sklearn\\gaussian_process\\gpr.py:457: UserWarning: fmin_l_bfgs_b terminated abnormally with the  state: {'grad': array([ -1.33153517e-05]), 'task': b'ABNORMAL_TERMINATION_IN_LNSRCH', 'funcalls': 77, 'nit': 8, 'warnflag': 2}\n",
      "  \" state: %s\" % convergence_dict)\n",
      "C:\\ProgramData\\Anaconda3\\envs\\py36\\lib\\site-packages\\sklearn\\gaussian_process\\gpr.py:457: UserWarning: fmin_l_bfgs_b terminated abnormally with the  state: {'grad': array([-0.00028346]), 'task': b'ABNORMAL_TERMINATION_IN_LNSRCH', 'funcalls': 54, 'nit': 8, 'warnflag': 2}\n",
      "  \" state: %s\" % convergence_dict)\n",
      "C:\\ProgramData\\Anaconda3\\envs\\py36\\lib\\site-packages\\sklearn\\gaussian_process\\gpr.py:457: UserWarning: fmin_l_bfgs_b terminated abnormally with the  state: {'grad': array([-0.00403798]), 'task': b'ABNORMAL_TERMINATION_IN_LNSRCH', 'funcalls': 50, 'nit': 5, 'warnflag': 2}\n",
      "  \" state: %s\" % convergence_dict)\n",
      "C:\\ProgramData\\Anaconda3\\envs\\py36\\lib\\site-packages\\sklearn\\gaussian_process\\gpr.py:457: UserWarning: fmin_l_bfgs_b terminated abnormally with the  state: {'grad': array([ -2.55999621e-05]), 'task': b'ABNORMAL_TERMINATION_IN_LNSRCH', 'funcalls': 62, 'nit': 5, 'warnflag': 2}\n",
      "  \" state: %s\" % convergence_dict)\n",
      "C:\\ProgramData\\Anaconda3\\envs\\py36\\lib\\site-packages\\sklearn\\gaussian_process\\gpr.py:457: UserWarning: fmin_l_bfgs_b terminated abnormally with the  state: {'grad': array([-0.00581998]), 'task': b'ABNORMAL_TERMINATION_IN_LNSRCH', 'funcalls': 69, 'nit': 5, 'warnflag': 2}\n",
      "  \" state: %s\" % convergence_dict)\n"
     ]
    },
    {
     "name": "stdout",
     "output_type": "stream",
     "text": [
      "Multiple eval metrics have been passed: 'test-auc' will be used for early stopping.\n",
      "\n",
      "Will train until test-auc hasn't improved in 100 rounds.\n",
      "Stopping. Best iteration:\n",
      "[841]\ttrain-auc:0.92295+0.00152664\ttest-auc:0.920977+0.00628756\n",
      "\n",
      "   28 | 00m24s | \u001b[35m   0.92098\u001b[0m | \u001b[32m   3.5960\u001b[0m | \u001b[32m            0.9510\u001b[0m | \u001b[32m   2.7757\u001b[0m | \u001b[32m     1.8280\u001b[0m | \u001b[32m            9.8457\u001b[0m | \u001b[32m     0.9051\u001b[0m | \n"
     ]
    },
    {
     "name": "stderr",
     "output_type": "stream",
     "text": [
      "C:\\ProgramData\\Anaconda3\\envs\\py36\\lib\\site-packages\\sklearn\\gaussian_process\\gpr.py:457: UserWarning: fmin_l_bfgs_b terminated abnormally with the  state: {'grad': array([ -3.54180447e-05]), 'task': b'ABNORMAL_TERMINATION_IN_LNSRCH', 'funcalls': 49, 'nit': 4, 'warnflag': 2}\n",
      "  \" state: %s\" % convergence_dict)\n",
      "C:\\ProgramData\\Anaconda3\\envs\\py36\\lib\\site-packages\\sklearn\\gaussian_process\\gpr.py:457: UserWarning: fmin_l_bfgs_b terminated abnormally with the  state: {'grad': array([-0.00019896]), 'task': b'ABNORMAL_TERMINATION_IN_LNSRCH', 'funcalls': 55, 'nit': 5, 'warnflag': 2}\n",
      "  \" state: %s\" % convergence_dict)\n"
     ]
    },
    {
     "name": "stdout",
     "output_type": "stream",
     "text": [
      "Multiple eval metrics have been passed: 'test-auc' will be used for early stopping.\n",
      "\n",
      "Will train until test-auc hasn't improved in 100 rounds.\n",
      "Stopping. Best iteration:\n",
      "[132]\ttrain-auc:0.928075+0.00133371\ttest-auc:0.920213+0.00598358\n",
      "\n",
      "   29 | 00m20s |    0.92021 |    1.7306 |             0.9848 |    1.9571 |     10.0557 |            16.8835 |      0.8898 | \n"
     ]
    },
    {
     "name": "stderr",
     "output_type": "stream",
     "text": [
      "C:\\ProgramData\\Anaconda3\\envs\\py36\\lib\\site-packages\\sklearn\\gaussian_process\\gpr.py:457: UserWarning: fmin_l_bfgs_b terminated abnormally with the  state: {'grad': array([ 0.00609767]), 'task': b'ABNORMAL_TERMINATION_IN_LNSRCH', 'funcalls': 52, 'nit': 4, 'warnflag': 2}\n",
      "  \" state: %s\" % convergence_dict)\n",
      "C:\\ProgramData\\Anaconda3\\envs\\py36\\lib\\site-packages\\sklearn\\gaussian_process\\gpr.py:457: UserWarning: fmin_l_bfgs_b terminated abnormally with the  state: {'grad': array([-0.00185492]), 'task': b'ABNORMAL_TERMINATION_IN_LNSRCH', 'funcalls': 56, 'nit': 6, 'warnflag': 2}\n",
      "  \" state: %s\" % convergence_dict)\n",
      "C:\\ProgramData\\Anaconda3\\envs\\py36\\lib\\site-packages\\sklearn\\gaussian_process\\gpr.py:457: UserWarning: fmin_l_bfgs_b terminated abnormally with the  state: {'grad': array([ 0.00131245]), 'task': b'ABNORMAL_TERMINATION_IN_LNSRCH', 'funcalls': 51, 'nit': 3, 'warnflag': 2}\n",
      "  \" state: %s\" % convergence_dict)\n"
     ]
    },
    {
     "name": "stdout",
     "output_type": "stream",
     "text": [
      "Multiple eval metrics have been passed: 'test-auc' will be used for early stopping.\n",
      "\n",
      "Will train until test-auc hasn't improved in 100 rounds.\n",
      "Stopping. Best iteration:\n",
      "[562]\ttrain-auc:0.923165+0.00144367\ttest-auc:0.920863+0.00622037\n",
      "\n",
      "   30 | 00m24s |    0.92086 |    3.8381 |             0.9166 |    5.7628 |      2.0013 |            18.3350 |      0.7986 | \n"
     ]
    },
    {
     "name": "stderr",
     "output_type": "stream",
     "text": [
      "C:\\ProgramData\\Anaconda3\\envs\\py36\\lib\\site-packages\\sklearn\\gaussian_process\\gpr.py:457: UserWarning: fmin_l_bfgs_b terminated abnormally with the  state: {'grad': array([-0.00605484]), 'task': b'ABNORMAL_TERMINATION_IN_LNSRCH', 'funcalls': 56, 'nit': 5, 'warnflag': 2}\n",
      "  \" state: %s\" % convergence_dict)\n",
      "C:\\ProgramData\\Anaconda3\\envs\\py36\\lib\\site-packages\\sklearn\\gaussian_process\\gpr.py:457: UserWarning: fmin_l_bfgs_b terminated abnormally with the  state: {'grad': array([-0.00145336]), 'task': b'ABNORMAL_TERMINATION_IN_LNSRCH', 'funcalls': 61, 'nit': 6, 'warnflag': 2}\n",
      "  \" state: %s\" % convergence_dict)\n",
      "C:\\ProgramData\\Anaconda3\\envs\\py36\\lib\\site-packages\\sklearn\\gaussian_process\\gpr.py:457: UserWarning: fmin_l_bfgs_b terminated abnormally with the  state: {'grad': array([ 0.0001002]), 'task': b'ABNORMAL_TERMINATION_IN_LNSRCH', 'funcalls': 50, 'nit': 6, 'warnflag': 2}\n",
      "  \" state: %s\" % convergence_dict)\n"
     ]
    },
    {
     "name": "stdout",
     "output_type": "stream",
     "text": [
      "Multiple eval metrics have been passed: 'test-auc' will be used for early stopping.\n",
      "\n",
      "Will train until test-auc hasn't improved in 100 rounds.\n",
      "Stopping. Best iteration:\n",
      "[314]\ttrain-auc:0.925291+0.00138961\ttest-auc:0.920751+0.0062374\n",
      "\n",
      "   31 | 00m23s |    0.92075 |    0.9655 |             0.9988 |    4.5653 |      4.2217 |            15.8979 |      0.6291 | \n"
     ]
    },
    {
     "name": "stderr",
     "output_type": "stream",
     "text": [
      "C:\\ProgramData\\Anaconda3\\envs\\py36\\lib\\site-packages\\sklearn\\gaussian_process\\gpr.py:457: UserWarning: fmin_l_bfgs_b terminated abnormally with the  state: {'grad': array([ 0.00020982]), 'task': b'ABNORMAL_TERMINATION_IN_LNSRCH', 'funcalls': 52, 'nit': 4, 'warnflag': 2}\n",
      "  \" state: %s\" % convergence_dict)\n",
      "C:\\ProgramData\\Anaconda3\\envs\\py36\\lib\\site-packages\\sklearn\\gaussian_process\\gpr.py:457: UserWarning: fmin_l_bfgs_b terminated abnormally with the  state: {'grad': array([ -6.41606748e-05]), 'task': b'ABNORMAL_TERMINATION_IN_LNSRCH', 'funcalls': 88, 'nit': 11, 'warnflag': 2}\n",
      "  \" state: %s\" % convergence_dict)\n",
      "C:\\ProgramData\\Anaconda3\\envs\\py36\\lib\\site-packages\\sklearn\\gaussian_process\\gpr.py:457: UserWarning: fmin_l_bfgs_b terminated abnormally with the  state: {'grad': array([-0.0312842]), 'task': b'ABNORMAL_TERMINATION_IN_LNSRCH', 'funcalls': 60, 'nit': 5, 'warnflag': 2}\n",
      "  \" state: %s\" % convergence_dict)\n",
      "C:\\ProgramData\\Anaconda3\\envs\\py36\\lib\\site-packages\\sklearn\\gaussian_process\\gpr.py:457: UserWarning: fmin_l_bfgs_b terminated abnormally with the  state: {'grad': array([-0.00257139]), 'task': b'ABNORMAL_TERMINATION_IN_LNSRCH', 'funcalls': 48, 'nit': 5, 'warnflag': 2}\n",
      "  \" state: %s\" % convergence_dict)\n",
      "C:\\ProgramData\\Anaconda3\\envs\\py36\\lib\\site-packages\\sklearn\\gaussian_process\\gpr.py:457: UserWarning: fmin_l_bfgs_b terminated abnormally with the  state: {'grad': array([ -4.27961349e-05]), 'task': b'ABNORMAL_TERMINATION_IN_LNSRCH', 'funcalls': 85, 'nit': 8, 'warnflag': 2}\n",
      "  \" state: %s\" % convergence_dict)\n",
      "C:\\ProgramData\\Anaconda3\\envs\\py36\\lib\\site-packages\\sklearn\\gaussian_process\\gpr.py:457: UserWarning: fmin_l_bfgs_b terminated abnormally with the  state: {'grad': array([ 0.00019142]), 'task': b'ABNORMAL_TERMINATION_IN_LNSRCH', 'funcalls': 145, 'nit': 7, 'warnflag': 2}\n",
      "  \" state: %s\" % convergence_dict)\n",
      "C:\\ProgramData\\Anaconda3\\envs\\py36\\lib\\site-packages\\sklearn\\gaussian_process\\gpr.py:457: UserWarning: fmin_l_bfgs_b terminated abnormally with the  state: {'grad': array([-0.00118082]), 'task': b'ABNORMAL_TERMINATION_IN_LNSRCH', 'funcalls': 74, 'nit': 10, 'warnflag': 2}\n",
      "  \" state: %s\" % convergence_dict)\n",
      "C:\\ProgramData\\Anaconda3\\envs\\py36\\lib\\site-packages\\sklearn\\gaussian_process\\gpr.py:457: UserWarning: fmin_l_bfgs_b terminated abnormally with the  state: {'grad': array([ -2.15508044e-05]), 'task': b'ABNORMAL_TERMINATION_IN_LNSRCH', 'funcalls': 58, 'nit': 7, 'warnflag': 2}\n",
      "  \" state: %s\" % convergence_dict)\n"
     ]
    },
    {
     "name": "stdout",
     "output_type": "stream",
     "text": [
      "Multiple eval metrics have been passed: 'test-auc' will be used for early stopping.\n",
      "\n",
      "Will train until test-auc hasn't improved in 100 rounds.\n",
      "Stopping. Best iteration:\n",
      "[288]\ttrain-auc:0.924439+0.00136859\ttest-auc:0.920645+0.00611215\n",
      "\n",
      "   32 | 00m26s |    0.92064 |    5.8875 |             0.9857 |    5.2012 |     30.9188 |             7.0318 |      0.8380 | \n"
     ]
    },
    {
     "name": "stderr",
     "output_type": "stream",
     "text": [
      "C:\\ProgramData\\Anaconda3\\envs\\py36\\lib\\site-packages\\sklearn\\gaussian_process\\gpr.py:457: UserWarning: fmin_l_bfgs_b terminated abnormally with the  state: {'grad': array([ 0.00015439]), 'task': b'ABNORMAL_TERMINATION_IN_LNSRCH', 'funcalls': 66, 'nit': 5, 'warnflag': 2}\n",
      "  \" state: %s\" % convergence_dict)\n",
      "C:\\ProgramData\\Anaconda3\\envs\\py36\\lib\\site-packages\\sklearn\\gaussian_process\\gpr.py:457: UserWarning: fmin_l_bfgs_b terminated abnormally with the  state: {'grad': array([-0.00012928]), 'task': b'ABNORMAL_TERMINATION_IN_LNSRCH', 'funcalls': 63, 'nit': 3, 'warnflag': 2}\n",
      "  \" state: %s\" % convergence_dict)\n",
      "C:\\ProgramData\\Anaconda3\\envs\\py36\\lib\\site-packages\\sklearn\\gaussian_process\\gpr.py:457: UserWarning: fmin_l_bfgs_b terminated abnormally with the  state: {'grad': array([ -1.88149861e-05]), 'task': b'ABNORMAL_TERMINATION_IN_LNSRCH', 'funcalls': 71, 'nit': 6, 'warnflag': 2}\n",
      "  \" state: %s\" % convergence_dict)\n"
     ]
    },
    {
     "name": "stdout",
     "output_type": "stream",
     "text": [
      "Multiple eval metrics have been passed: 'test-auc' will be used for early stopping.\n",
      "\n",
      "Will train until test-auc hasn't improved in 100 rounds.\n",
      "Stopping. Best iteration:\n",
      "[728]\ttrain-auc:0.923802+0.00150763\ttest-auc:0.920571+0.00623942\n",
      "\n",
      "   33 | 00m37s |    0.92057 |    7.5069 |             0.8279 |    6.8366 |     20.9828 |             9.8139 |      0.8486 | \n"
     ]
    },
    {
     "name": "stderr",
     "output_type": "stream",
     "text": [
      "C:\\ProgramData\\Anaconda3\\envs\\py36\\lib\\site-packages\\sklearn\\gaussian_process\\gpr.py:457: UserWarning: fmin_l_bfgs_b terminated abnormally with the  state: {'grad': array([ -2.76295468e-05]), 'task': b'ABNORMAL_TERMINATION_IN_LNSRCH', 'funcalls': 87, 'nit': 6, 'warnflag': 2}\n",
      "  \" state: %s\" % convergence_dict)\n"
     ]
    },
    {
     "name": "stdout",
     "output_type": "stream",
     "text": [
      "Multiple eval metrics have been passed: 'test-auc' will be used for early stopping.\n",
      "\n",
      "Will train until test-auc hasn't improved in 100 rounds.\n",
      "Stopping. Best iteration:\n",
      "[288]\ttrain-auc:0.927365+0.00134675\ttest-auc:0.920203+0.00605755\n",
      "\n",
      "   34 | 00m26s |    0.92020 |    7.6356 |             0.9632 |    0.9420 |     13.6871 |             5.4695 |      0.6035 | \n"
     ]
    },
    {
     "name": "stderr",
     "output_type": "stream",
     "text": [
      "C:\\ProgramData\\Anaconda3\\envs\\py36\\lib\\site-packages\\sklearn\\gaussian_process\\gpr.py:457: UserWarning: fmin_l_bfgs_b terminated abnormally with the  state: {'grad': array([ -1.14836730e-05]), 'task': b'ABNORMAL_TERMINATION_IN_LNSRCH', 'funcalls': 44, 'nit': 6, 'warnflag': 2}\n",
      "  \" state: %s\" % convergence_dict)\n",
      "C:\\ProgramData\\Anaconda3\\envs\\py36\\lib\\site-packages\\sklearn\\gaussian_process\\gpr.py:457: UserWarning: fmin_l_bfgs_b terminated abnormally with the  state: {'grad': array([-0.00028254]), 'task': b'ABNORMAL_TERMINATION_IN_LNSRCH', 'funcalls': 50, 'nit': 5, 'warnflag': 2}\n",
      "  \" state: %s\" % convergence_dict)\n",
      "C:\\ProgramData\\Anaconda3\\envs\\py36\\lib\\site-packages\\sklearn\\gaussian_process\\gpr.py:457: UserWarning: fmin_l_bfgs_b terminated abnormally with the  state: {'grad': array([-0.00545135]), 'task': b'ABNORMAL_TERMINATION_IN_LNSRCH', 'funcalls': 58, 'nit': 7, 'warnflag': 2}\n",
      "  \" state: %s\" % convergence_dict)\n"
     ]
    },
    {
     "name": "stdout",
     "output_type": "stream",
     "text": [
      "Multiple eval metrics have been passed: 'test-auc' will be used for early stopping.\n",
      "\n",
      "Will train until test-auc hasn't improved in 100 rounds.\n",
      "Stopping. Best iteration:\n",
      "[300]\ttrain-auc:0.923716+0.0014288\ttest-auc:0.920696+0.00619292\n",
      "\n",
      "   35 | 00m26s |    0.92070 |    6.3582 |             0.9142 |    4.7849 |     23.5016 |            12.7012 |      0.6124 | \n"
     ]
    },
    {
     "name": "stderr",
     "output_type": "stream",
     "text": [
      "C:\\ProgramData\\Anaconda3\\envs\\py36\\lib\\site-packages\\sklearn\\gaussian_process\\gpr.py:457: UserWarning: fmin_l_bfgs_b terminated abnormally with the  state: {'grad': array([  6.38402998e-05]), 'task': b'ABNORMAL_TERMINATION_IN_LNSRCH', 'funcalls': 76, 'nit': 6, 'warnflag': 2}\n",
      "  \" state: %s\" % convergence_dict)\n",
      "C:\\ProgramData\\Anaconda3\\envs\\py36\\lib\\site-packages\\sklearn\\gaussian_process\\gpr.py:457: UserWarning: fmin_l_bfgs_b terminated abnormally with the  state: {'grad': array([-0.03270489]), 'task': b'ABNORMAL_TERMINATION_IN_LNSRCH', 'funcalls': 50, 'nit': 2, 'warnflag': 2}\n",
      "  \" state: %s\" % convergence_dict)\n",
      "C:\\ProgramData\\Anaconda3\\envs\\py36\\lib\\site-packages\\sklearn\\gaussian_process\\gpr.py:457: UserWarning: fmin_l_bfgs_b terminated abnormally with the  state: {'grad': array([-0.0290179]), 'task': b'ABNORMAL_TERMINATION_IN_LNSRCH', 'funcalls': 51, 'nit': 4, 'warnflag': 2}\n",
      "  \" state: %s\" % convergence_dict)\n",
      "C:\\ProgramData\\Anaconda3\\envs\\py36\\lib\\site-packages\\sklearn\\gaussian_process\\gpr.py:457: UserWarning: fmin_l_bfgs_b terminated abnormally with the  state: {'grad': array([ -4.32841480e-05]), 'task': b'ABNORMAL_TERMINATION_IN_LNSRCH', 'funcalls': 49, 'nit': 6, 'warnflag': 2}\n",
      "  \" state: %s\" % convergence_dict)\n",
      "C:\\ProgramData\\Anaconda3\\envs\\py36\\lib\\site-packages\\sklearn\\gaussian_process\\gpr.py:457: UserWarning: fmin_l_bfgs_b terminated abnormally with the  state: {'grad': array([-0.00342843]), 'task': b'ABNORMAL_TERMINATION_IN_LNSRCH', 'funcalls': 78, 'nit': 5, 'warnflag': 2}\n",
      "  \" state: %s\" % convergence_dict)\n",
      "C:\\ProgramData\\Anaconda3\\envs\\py36\\lib\\site-packages\\sklearn\\gaussian_process\\gpr.py:457: UserWarning: fmin_l_bfgs_b terminated abnormally with the  state: {'grad': array([ -5.05531207e-05]), 'task': b'ABNORMAL_TERMINATION_IN_LNSRCH', 'funcalls': 86, 'nit': 7, 'warnflag': 2}\n",
      "  \" state: %s\" % convergence_dict)\n"
     ]
    },
    {
     "name": "stdout",
     "output_type": "stream",
     "text": [
      "Multiple eval metrics have been passed: 'test-auc' will be used for early stopping.\n",
      "\n",
      "Will train until test-auc hasn't improved in 100 rounds.\n",
      "Stopping. Best iteration:\n",
      "[288]\ttrain-auc:0.92345+0.00152623\ttest-auc:0.920848+0.00616905\n",
      "\n",
      "   36 | 00m27s |    0.92085 |    3.2932 |             0.9026 |    7.9425 |     26.0307 |            18.2062 |      0.7338 | \n"
     ]
    },
    {
     "name": "stderr",
     "output_type": "stream",
     "text": [
      "C:\\ProgramData\\Anaconda3\\envs\\py36\\lib\\site-packages\\sklearn\\gaussian_process\\gpr.py:457: UserWarning: fmin_l_bfgs_b terminated abnormally with the  state: {'grad': array([ -5.25900323e-05]), 'task': b'ABNORMAL_TERMINATION_IN_LNSRCH', 'funcalls': 50, 'nit': 7, 'warnflag': 2}\n",
      "  \" state: %s\" % convergence_dict)\n",
      "C:\\ProgramData\\Anaconda3\\envs\\py36\\lib\\site-packages\\sklearn\\gaussian_process\\gpr.py:457: UserWarning: fmin_l_bfgs_b terminated abnormally with the  state: {'grad': array([ -4.13999442e-05]), 'task': b'ABNORMAL_TERMINATION_IN_LNSRCH', 'funcalls': 83, 'nit': 6, 'warnflag': 2}\n",
      "  \" state: %s\" % convergence_dict)\n",
      "C:\\ProgramData\\Anaconda3\\envs\\py36\\lib\\site-packages\\sklearn\\gaussian_process\\gpr.py:457: UserWarning: fmin_l_bfgs_b terminated abnormally with the  state: {'grad': array([-0.00022513]), 'task': b'ABNORMAL_TERMINATION_IN_LNSRCH', 'funcalls': 52, 'nit': 5, 'warnflag': 2}\n",
      "  \" state: %s\" % convergence_dict)\n",
      "C:\\ProgramData\\Anaconda3\\envs\\py36\\lib\\site-packages\\sklearn\\gaussian_process\\gpr.py:457: UserWarning: fmin_l_bfgs_b terminated abnormally with the  state: {'grad': array([-0.01000397]), 'task': b'ABNORMAL_TERMINATION_IN_LNSRCH', 'funcalls': 55, 'nit': 5, 'warnflag': 2}\n",
      "  \" state: %s\" % convergence_dict)\n"
     ]
    },
    {
     "name": "stdout",
     "output_type": "stream",
     "text": [
      "Multiple eval metrics have been passed: 'test-auc' will be used for early stopping.\n",
      "\n",
      "Will train until test-auc hasn't improved in 100 rounds.\n",
      "Stopping. Best iteration:\n",
      "[288]\ttrain-auc:0.923586+0.00147219\ttest-auc:0.920873+0.0062281\n",
      "\n",
      "   37 | 00m27s |    0.92087 |    3.0298 |             0.8968 |    7.4919 |     29.6745 |            19.1575 |      0.6750 | \n"
     ]
    },
    {
     "name": "stderr",
     "output_type": "stream",
     "text": [
      "C:\\ProgramData\\Anaconda3\\envs\\py36\\lib\\site-packages\\sklearn\\gaussian_process\\gpr.py:457: UserWarning: fmin_l_bfgs_b terminated abnormally with the  state: {'grad': array([ -4.39509749e-05]), 'task': b'ABNORMAL_TERMINATION_IN_LNSRCH', 'funcalls': 86, 'nit': 10, 'warnflag': 2}\n",
      "  \" state: %s\" % convergence_dict)\n",
      "C:\\ProgramData\\Anaconda3\\envs\\py36\\lib\\site-packages\\sklearn\\gaussian_process\\gpr.py:457: UserWarning: fmin_l_bfgs_b terminated abnormally with the  state: {'grad': array([ -2.92453915e-05]), 'task': b'ABNORMAL_TERMINATION_IN_LNSRCH', 'funcalls': 53, 'nit': 4, 'warnflag': 2}\n",
      "  \" state: %s\" % convergence_dict)\n",
      "C:\\ProgramData\\Anaconda3\\envs\\py36\\lib\\site-packages\\sklearn\\gaussian_process\\gpr.py:457: UserWarning: fmin_l_bfgs_b terminated abnormally with the  state: {'grad': array([ -6.66445121e-05]), 'task': b'ABNORMAL_TERMINATION_IN_LNSRCH', 'funcalls': 82, 'nit': 10, 'warnflag': 2}\n",
      "  \" state: %s\" % convergence_dict)\n",
      "C:\\ProgramData\\Anaconda3\\envs\\py36\\lib\\site-packages\\sklearn\\gaussian_process\\gpr.py:457: UserWarning: fmin_l_bfgs_b terminated abnormally with the  state: {'grad': array([-0.00021977]), 'task': b'ABNORMAL_TERMINATION_IN_LNSRCH', 'funcalls': 59, 'nit': 5, 'warnflag': 2}\n",
      "  \" state: %s\" % convergence_dict)\n"
     ]
    },
    {
     "name": "stdout",
     "output_type": "stream",
     "text": [
      "Multiple eval metrics have been passed: 'test-auc' will be used for early stopping.\n",
      "\n",
      "Will train until test-auc hasn't improved in 100 rounds.\n",
      "Stopping. Best iteration:\n",
      "[287]\ttrain-auc:0.924384+0.0014205\ttest-auc:0.920748+0.00614178\n",
      "\n",
      "   38 | 00m26s |    0.92075 |    4.7146 |             0.9919 |    4.9816 |     36.2258 |            18.8615 |      0.7124 | \n"
     ]
    },
    {
     "name": "stderr",
     "output_type": "stream",
     "text": [
      "C:\\ProgramData\\Anaconda3\\envs\\py36\\lib\\site-packages\\sklearn\\gaussian_process\\gpr.py:457: UserWarning: fmin_l_bfgs_b terminated abnormally with the  state: {'grad': array([ -3.39829567e-05]), 'task': b'ABNORMAL_TERMINATION_IN_LNSRCH', 'funcalls': 71, 'nit': 6, 'warnflag': 2}\n",
      "  \" state: %s\" % convergence_dict)\n",
      "C:\\ProgramData\\Anaconda3\\envs\\py36\\lib\\site-packages\\sklearn\\gaussian_process\\gpr.py:457: UserWarning: fmin_l_bfgs_b terminated abnormally with the  state: {'grad': array([ 0.00783769]), 'task': b'ABNORMAL_TERMINATION_IN_LNSRCH', 'funcalls': 63, 'nit': 8, 'warnflag': 2}\n",
      "  \" state: %s\" % convergence_dict)\n",
      "C:\\ProgramData\\Anaconda3\\envs\\py36\\lib\\site-packages\\sklearn\\gaussian_process\\gpr.py:457: UserWarning: fmin_l_bfgs_b terminated abnormally with the  state: {'grad': array([ -4.53467364e-05]), 'task': b'ABNORMAL_TERMINATION_IN_LNSRCH', 'funcalls': 72, 'nit': 8, 'warnflag': 2}\n",
      "  \" state: %s\" % convergence_dict)\n",
      "C:\\ProgramData\\Anaconda3\\envs\\py36\\lib\\site-packages\\sklearn\\gaussian_process\\gpr.py:457: UserWarning: fmin_l_bfgs_b terminated abnormally with the  state: {'grad': array([ -5.33277926e-05]), 'task': b'ABNORMAL_TERMINATION_IN_LNSRCH', 'funcalls': 98, 'nit': 7, 'warnflag': 2}\n",
      "  \" state: %s\" % convergence_dict)\n",
      "C:\\ProgramData\\Anaconda3\\envs\\py36\\lib\\site-packages\\sklearn\\gaussian_process\\gpr.py:457: UserWarning: fmin_l_bfgs_b terminated abnormally with the  state: {'grad': array([ 0.00017518]), 'task': b'ABNORMAL_TERMINATION_IN_LNSRCH', 'funcalls': 100, 'nit': 5, 'warnflag': 2}\n",
      "  \" state: %s\" % convergence_dict)\n",
      "C:\\ProgramData\\Anaconda3\\envs\\py36\\lib\\site-packages\\sklearn\\gaussian_process\\gpr.py:457: UserWarning: fmin_l_bfgs_b terminated abnormally with the  state: {'grad': array([-0.01380638]), 'task': b'ABNORMAL_TERMINATION_IN_LNSRCH', 'funcalls': 53, 'nit': 4, 'warnflag': 2}\n",
      "  \" state: %s\" % convergence_dict)\n"
     ]
    },
    {
     "name": "stdout",
     "output_type": "stream",
     "text": [
      "Multiple eval metrics have been passed: 'test-auc' will be used for early stopping.\n",
      "\n",
      "Will train until test-auc hasn't improved in 100 rounds.\n",
      "Stopping. Best iteration:\n",
      "[652]\ttrain-auc:0.922601+0.00151196\ttest-auc:0.920859+0.00626375\n",
      "\n",
      "   39 | 00m27s |    0.92086 |    5.8798 |             0.9182 |    5.5875 |      1.0741 |            14.1124 |      0.9407 | \n"
     ]
    },
    {
     "name": "stderr",
     "output_type": "stream",
     "text": [
      "C:\\ProgramData\\Anaconda3\\envs\\py36\\lib\\site-packages\\sklearn\\gaussian_process\\gpr.py:457: UserWarning: fmin_l_bfgs_b terminated abnormally with the  state: {'grad': array([-0.00291271]), 'task': b'ABNORMAL_TERMINATION_IN_LNSRCH', 'funcalls': 53, 'nit': 4, 'warnflag': 2}\n",
      "  \" state: %s\" % convergence_dict)\n",
      "C:\\ProgramData\\Anaconda3\\envs\\py36\\lib\\site-packages\\sklearn\\gaussian_process\\gpr.py:457: UserWarning: fmin_l_bfgs_b terminated abnormally with the  state: {'grad': array([-0.00140532]), 'task': b'ABNORMAL_TERMINATION_IN_LNSRCH', 'funcalls': 59, 'nit': 4, 'warnflag': 2}\n",
      "  \" state: %s\" % convergence_dict)\n",
      "C:\\ProgramData\\Anaconda3\\envs\\py36\\lib\\site-packages\\sklearn\\gaussian_process\\gpr.py:457: UserWarning: fmin_l_bfgs_b terminated abnormally with the  state: {'grad': array([ 0.00017424]), 'task': b'ABNORMAL_TERMINATION_IN_LNSRCH', 'funcalls': 52, 'nit': 4, 'warnflag': 2}\n",
      "  \" state: %s\" % convergence_dict)\n",
      "C:\\ProgramData\\Anaconda3\\envs\\py36\\lib\\site-packages\\sklearn\\gaussian_process\\gpr.py:457: UserWarning: fmin_l_bfgs_b terminated abnormally with the  state: {'grad': array([ 0.01060825]), 'task': b'ABNORMAL_TERMINATION_IN_LNSRCH', 'funcalls': 91, 'nit': 9, 'warnflag': 2}\n",
      "  \" state: %s\" % convergence_dict)\n"
     ]
    },
    {
     "name": "stdout",
     "output_type": "stream",
     "text": [
      "Multiple eval metrics have been passed: 'test-auc' will be used for early stopping.\n",
      "\n",
      "Will train until test-auc hasn't improved in 100 rounds.\n",
      "Stopping. Best iteration:\n",
      "[296]\ttrain-auc:0.923375+0.00145491\ttest-auc:0.920482+0.00610193\n",
      "\n",
      "   40 | 00m27s |    0.92048 |    5.8873 |             0.8528 |    7.1089 |     18.8099 |            10.5537 |      0.8844 | \n"
     ]
    },
    {
     "name": "stderr",
     "output_type": "stream",
     "text": [
      "C:\\ProgramData\\Anaconda3\\envs\\py36\\lib\\site-packages\\sklearn\\gaussian_process\\gpr.py:457: UserWarning: fmin_l_bfgs_b terminated abnormally with the  state: {'grad': array([-0.00403047]), 'task': b'ABNORMAL_TERMINATION_IN_LNSRCH', 'funcalls': 67, 'nit': 4, 'warnflag': 2}\n",
      "  \" state: %s\" % convergence_dict)\n",
      "C:\\ProgramData\\Anaconda3\\envs\\py36\\lib\\site-packages\\sklearn\\gaussian_process\\gpr.py:457: UserWarning: fmin_l_bfgs_b terminated abnormally with the  state: {'grad': array([-0.0001511]), 'task': b'ABNORMAL_TERMINATION_IN_LNSRCH', 'funcalls': 48, 'nit': 5, 'warnflag': 2}\n",
      "  \" state: %s\" % convergence_dict)\n",
      "C:\\ProgramData\\Anaconda3\\envs\\py36\\lib\\site-packages\\sklearn\\gaussian_process\\gpr.py:457: UserWarning: fmin_l_bfgs_b terminated abnormally with the  state: {'grad': array([-0.02349995]), 'task': b'ABNORMAL_TERMINATION_IN_LNSRCH', 'funcalls': 52, 'nit': 5, 'warnflag': 2}\n",
      "  \" state: %s\" % convergence_dict)\n",
      "C:\\ProgramData\\Anaconda3\\envs\\py36\\lib\\site-packages\\sklearn\\gaussian_process\\gpr.py:457: UserWarning: fmin_l_bfgs_b terminated abnormally with the  state: {'grad': array([-0.00032004]), 'task': b'ABNORMAL_TERMINATION_IN_LNSRCH', 'funcalls': 55, 'nit': 3, 'warnflag': 2}\n",
      "  \" state: %s\" % convergence_dict)\n",
      "C:\\ProgramData\\Anaconda3\\envs\\py36\\lib\\site-packages\\sklearn\\gaussian_process\\gpr.py:457: UserWarning: fmin_l_bfgs_b terminated abnormally with the  state: {'grad': array([ -6.90654851e-05]), 'task': b'ABNORMAL_TERMINATION_IN_LNSRCH', 'funcalls': 59, 'nit': 4, 'warnflag': 2}\n",
      "  \" state: %s\" % convergence_dict)\n",
      "C:\\ProgramData\\Anaconda3\\envs\\py36\\lib\\site-packages\\sklearn\\gaussian_process\\gpr.py:457: UserWarning: fmin_l_bfgs_b terminated abnormally with the  state: {'grad': array([ -9.91037814e-05]), 'task': b'ABNORMAL_TERMINATION_IN_LNSRCH', 'funcalls': 82, 'nit': 8, 'warnflag': 2}\n",
      "  \" state: %s\" % convergence_dict)\n"
     ]
    },
    {
     "name": "stdout",
     "output_type": "stream",
     "text": [
      "Multiple eval metrics have been passed: 'test-auc' will be used for early stopping.\n",
      "\n",
      "Will train until test-auc hasn't improved in 100 rounds.\n",
      "Stopping. Best iteration:\n",
      "[288]\ttrain-auc:0.925457+0.00130951\ttest-auc:0.920752+0.00619774\n",
      "\n",
      "   41 | 00m28s |    0.92075 |    1.1189 |             0.9789 |    6.8263 |     18.9333 |            19.5115 |      0.7371 | \n"
     ]
    },
    {
     "name": "stderr",
     "output_type": "stream",
     "text": [
      "C:\\ProgramData\\Anaconda3\\envs\\py36\\lib\\site-packages\\sklearn\\gaussian_process\\gpr.py:457: UserWarning: fmin_l_bfgs_b terminated abnormally with the  state: {'grad': array([ 0.0102609]), 'task': b'ABNORMAL_TERMINATION_IN_LNSRCH', 'funcalls': 78, 'nit': 5, 'warnflag': 2}\n",
      "  \" state: %s\" % convergence_dict)\n",
      "C:\\ProgramData\\Anaconda3\\envs\\py36\\lib\\site-packages\\sklearn\\gaussian_process\\gpr.py:457: UserWarning: fmin_l_bfgs_b terminated abnormally with the  state: {'grad': array([-0.00551573]), 'task': b'ABNORMAL_TERMINATION_IN_LNSRCH', 'funcalls': 67, 'nit': 4, 'warnflag': 2}\n",
      "  \" state: %s\" % convergence_dict)\n",
      "C:\\ProgramData\\Anaconda3\\envs\\py36\\lib\\site-packages\\sklearn\\gaussian_process\\gpr.py:457: UserWarning: fmin_l_bfgs_b terminated abnormally with the  state: {'grad': array([-0.01968278]), 'task': b'ABNORMAL_TERMINATION_IN_LNSRCH', 'funcalls': 65, 'nit': 3, 'warnflag': 2}\n",
      "  \" state: %s\" % convergence_dict)\n",
      "C:\\ProgramData\\Anaconda3\\envs\\py36\\lib\\site-packages\\sklearn\\gaussian_process\\gpr.py:457: UserWarning: fmin_l_bfgs_b terminated abnormally with the  state: {'grad': array([ 0.00586259]), 'task': b'ABNORMAL_TERMINATION_IN_LNSRCH', 'funcalls': 74, 'nit': 8, 'warnflag': 2}\n",
      "  \" state: %s\" % convergence_dict)\n",
      "C:\\ProgramData\\Anaconda3\\envs\\py36\\lib\\site-packages\\sklearn\\gaussian_process\\gpr.py:457: UserWarning: fmin_l_bfgs_b terminated abnormally with the  state: {'grad': array([-0.00012467]), 'task': b'ABNORMAL_TERMINATION_IN_LNSRCH', 'funcalls': 75, 'nit': 10, 'warnflag': 2}\n",
      "  \" state: %s\" % convergence_dict)\n"
     ]
    },
    {
     "name": "stdout",
     "output_type": "stream",
     "text": [
      "Multiple eval metrics have been passed: 'test-auc' will be used for early stopping.\n",
      "\n",
      "Will train until test-auc hasn't improved in 100 rounds.\n",
      "Stopping. Best iteration:\n",
      "[287]\ttrain-auc:0.923053+0.00148331\ttest-auc:0.920816+0.00609776\n",
      "\n",
      "   42 | 00m22s |    0.92082 |    6.6905 |             0.9173 |    7.5609 |     13.2355 |            14.9217 |      0.8492 | \n"
     ]
    },
    {
     "name": "stderr",
     "output_type": "stream",
     "text": [
      "C:\\ProgramData\\Anaconda3\\envs\\py36\\lib\\site-packages\\sklearn\\gaussian_process\\gpr.py:457: UserWarning: fmin_l_bfgs_b terminated abnormally with the  state: {'grad': array([ -4.38662828e-05]), 'task': b'ABNORMAL_TERMINATION_IN_LNSRCH', 'funcalls': 70, 'nit': 8, 'warnflag': 2}\n",
      "  \" state: %s\" % convergence_dict)\n",
      "C:\\ProgramData\\Anaconda3\\envs\\py36\\lib\\site-packages\\sklearn\\gaussian_process\\gpr.py:457: UserWarning: fmin_l_bfgs_b terminated abnormally with the  state: {'grad': array([ -3.82236321e-05]), 'task': b'ABNORMAL_TERMINATION_IN_LNSRCH', 'funcalls': 59, 'nit': 7, 'warnflag': 2}\n",
      "  \" state: %s\" % convergence_dict)\n",
      "C:\\ProgramData\\Anaconda3\\envs\\py36\\lib\\site-packages\\sklearn\\gaussian_process\\gpr.py:457: UserWarning: fmin_l_bfgs_b terminated abnormally with the  state: {'grad': array([ 0.0063693]), 'task': b'ABNORMAL_TERMINATION_IN_LNSRCH', 'funcalls': 60, 'nit': 7, 'warnflag': 2}\n",
      "  \" state: %s\" % convergence_dict)\n",
      "C:\\ProgramData\\Anaconda3\\envs\\py36\\lib\\site-packages\\sklearn\\gaussian_process\\gpr.py:457: UserWarning: fmin_l_bfgs_b terminated abnormally with the  state: {'grad': array([ -4.10958310e-05]), 'task': b'ABNORMAL_TERMINATION_IN_LNSRCH', 'funcalls': 55, 'nit': 7, 'warnflag': 2}\n",
      "  \" state: %s\" % convergence_dict)\n",
      "C:\\ProgramData\\Anaconda3\\envs\\py36\\lib\\site-packages\\sklearn\\gaussian_process\\gpr.py:457: UserWarning: fmin_l_bfgs_b terminated abnormally with the  state: {'grad': array([ -1.69459963e-05]), 'task': b'ABNORMAL_TERMINATION_IN_LNSRCH', 'funcalls': 66, 'nit': 6, 'warnflag': 2}\n",
      "  \" state: %s\" % convergence_dict)\n"
     ]
    },
    {
     "name": "stdout",
     "output_type": "stream",
     "text": [
      "Multiple eval metrics have been passed: 'test-auc' will be used for early stopping.\n",
      "\n",
      "Will train until test-auc hasn't improved in 100 rounds.\n",
      "Stopping. Best iteration:\n",
      "[245]\ttrain-auc:0.924363+0.00155754\ttest-auc:0.920891+0.00640883\n",
      "\n",
      "   43 | 00m27s |    0.92089 |    0.4876 |             0.9978 |    7.5826 |     38.7798 |            19.7687 |      0.6071 | \n"
     ]
    },
    {
     "name": "stderr",
     "output_type": "stream",
     "text": [
      "C:\\ProgramData\\Anaconda3\\envs\\py36\\lib\\site-packages\\sklearn\\gaussian_process\\gpr.py:457: UserWarning: fmin_l_bfgs_b terminated abnormally with the  state: {'grad': array([  6.93984330e-05]), 'task': b'ABNORMAL_TERMINATION_IN_LNSRCH', 'funcalls': 60, 'nit': 6, 'warnflag': 2}\n",
      "  \" state: %s\" % convergence_dict)\n",
      "C:\\ProgramData\\Anaconda3\\envs\\py36\\lib\\site-packages\\sklearn\\gaussian_process\\gpr.py:457: UserWarning: fmin_l_bfgs_b terminated abnormally with the  state: {'grad': array([ -5.38453460e-05]), 'task': b'ABNORMAL_TERMINATION_IN_LNSRCH', 'funcalls': 68, 'nit': 9, 'warnflag': 2}\n",
      "  \" state: %s\" % convergence_dict)\n",
      "C:\\ProgramData\\Anaconda3\\envs\\py36\\lib\\site-packages\\sklearn\\gaussian_process\\gpr.py:457: UserWarning: fmin_l_bfgs_b terminated abnormally with the  state: {'grad': array([ -6.96107745e-05]), 'task': b'ABNORMAL_TERMINATION_IN_LNSRCH', 'funcalls': 57, 'nit': 5, 'warnflag': 2}\n",
      "  \" state: %s\" % convergence_dict)\n"
     ]
    },
    {
     "name": "stdout",
     "output_type": "stream",
     "text": [
      "Multiple eval metrics have been passed: 'test-auc' will be used for early stopping.\n",
      "\n",
      "Will train until test-auc hasn't improved in 100 rounds.\n",
      "Stopping. Best iteration:\n",
      "[453]\ttrain-auc:0.923361+0.00144832\ttest-auc:0.92077+0.00615189\n",
      "\n",
      "   44 | 00m26s |    0.92077 |    4.6072 |             0.9053 |    0.1974 |      2.4698 |             2.1273 |      0.8578 | \n"
     ]
    },
    {
     "name": "stderr",
     "output_type": "stream",
     "text": [
      "C:\\ProgramData\\Anaconda3\\envs\\py36\\lib\\site-packages\\sklearn\\gaussian_process\\gpr.py:457: UserWarning: fmin_l_bfgs_b terminated abnormally with the  state: {'grad': array([  2.85052702e-05]), 'task': b'ABNORMAL_TERMINATION_IN_LNSRCH', 'funcalls': 61, 'nit': 8, 'warnflag': 2}\n",
      "  \" state: %s\" % convergence_dict)\n",
      "C:\\ProgramData\\Anaconda3\\envs\\py36\\lib\\site-packages\\sklearn\\gaussian_process\\gpr.py:457: UserWarning: fmin_l_bfgs_b terminated abnormally with the  state: {'grad': array([-0.00164109]), 'task': b'ABNORMAL_TERMINATION_IN_LNSRCH', 'funcalls': 56, 'nit': 7, 'warnflag': 2}\n",
      "  \" state: %s\" % convergence_dict)\n",
      "C:\\ProgramData\\Anaconda3\\envs\\py36\\lib\\site-packages\\sklearn\\gaussian_process\\gpr.py:457: UserWarning: fmin_l_bfgs_b terminated abnormally with the  state: {'grad': array([-0.00030865]), 'task': b'ABNORMAL_TERMINATION_IN_LNSRCH', 'funcalls': 87, 'nit': 8, 'warnflag': 2}\n",
      "  \" state: %s\" % convergence_dict)\n",
      "C:\\ProgramData\\Anaconda3\\envs\\py36\\lib\\site-packages\\sklearn\\gaussian_process\\gpr.py:457: UserWarning: fmin_l_bfgs_b terminated abnormally with the  state: {'grad': array([-0.00015994]), 'task': b'ABNORMAL_TERMINATION_IN_LNSRCH', 'funcalls': 49, 'nit': 3, 'warnflag': 2}\n",
      "  \" state: %s\" % convergence_dict)\n"
     ]
    },
    {
     "name": "stdout",
     "output_type": "stream",
     "text": [
      "Multiple eval metrics have been passed: 'test-auc' will be used for early stopping.\n",
      "\n",
      "Will train until test-auc hasn't improved in 100 rounds.\n",
      "Stopping. Best iteration:\n",
      "[288]\ttrain-auc:0.923229+0.0014366\ttest-auc:0.920768+0.00613638\n",
      "\n",
      "   45 | 00m25s |    0.92077 |    5.9350 |             0.8640 |    7.5373 |     25.6929 |             6.9418 |      0.7723 | \n"
     ]
    },
    {
     "name": "stderr",
     "output_type": "stream",
     "text": [
      "C:\\ProgramData\\Anaconda3\\envs\\py36\\lib\\site-packages\\sklearn\\gaussian_process\\gpr.py:457: UserWarning: fmin_l_bfgs_b terminated abnormally with the  state: {'grad': array([-0.00614657]), 'task': b'ABNORMAL_TERMINATION_IN_LNSRCH', 'funcalls': 55, 'nit': 4, 'warnflag': 2}\n",
      "  \" state: %s\" % convergence_dict)\n",
      "C:\\ProgramData\\Anaconda3\\envs\\py36\\lib\\site-packages\\sklearn\\gaussian_process\\gpr.py:457: UserWarning: fmin_l_bfgs_b terminated abnormally with the  state: {'grad': array([  3.58819962e-05]), 'task': b'ABNORMAL_TERMINATION_IN_LNSRCH', 'funcalls': 53, 'nit': 4, 'warnflag': 2}\n",
      "  \" state: %s\" % convergence_dict)\n",
      "C:\\ProgramData\\Anaconda3\\envs\\py36\\lib\\site-packages\\sklearn\\gaussian_process\\gpr.py:457: UserWarning: fmin_l_bfgs_b terminated abnormally with the  state: {'grad': array([  2.41249800e-05]), 'task': b'ABNORMAL_TERMINATION_IN_LNSRCH', 'funcalls': 55, 'nit': 5, 'warnflag': 2}\n",
      "  \" state: %s\" % convergence_dict)\n"
     ]
    },
    {
     "name": "stdout",
     "output_type": "stream",
     "text": [
      "Multiple eval metrics have been passed: 'test-auc' will be used for early stopping.\n",
      "\n",
      "Will train until test-auc hasn't improved in 100 rounds.\n",
      "Stopping. Best iteration:\n",
      "[284]\ttrain-auc:0.923104+0.00154478\ttest-auc:0.92086+0.00609066\n",
      "\n",
      "   46 | 00m28s |    0.92086 |    5.3919 |             0.9390 |    6.8003 |     22.4700 |            10.6699 |      0.6017 | \n"
     ]
    },
    {
     "name": "stderr",
     "output_type": "stream",
     "text": [
      "C:\\ProgramData\\Anaconda3\\envs\\py36\\lib\\site-packages\\sklearn\\gaussian_process\\gpr.py:457: UserWarning: fmin_l_bfgs_b terminated abnormally with the  state: {'grad': array([ -4.19566350e-05]), 'task': b'ABNORMAL_TERMINATION_IN_LNSRCH', 'funcalls': 50, 'nit': 6, 'warnflag': 2}\n",
      "  \" state: %s\" % convergence_dict)\n",
      "C:\\ProgramData\\Anaconda3\\envs\\py36\\lib\\site-packages\\sklearn\\gaussian_process\\gpr.py:457: UserWarning: fmin_l_bfgs_b terminated abnormally with the  state: {'grad': array([-0.00012282]), 'task': b'ABNORMAL_TERMINATION_IN_LNSRCH', 'funcalls': 65, 'nit': 7, 'warnflag': 2}\n",
      "  \" state: %s\" % convergence_dict)\n",
      "C:\\ProgramData\\Anaconda3\\envs\\py36\\lib\\site-packages\\sklearn\\gaussian_process\\gpr.py:457: UserWarning: fmin_l_bfgs_b terminated abnormally with the  state: {'grad': array([ -3.47786699e-05]), 'task': b'ABNORMAL_TERMINATION_IN_LNSRCH', 'funcalls': 51, 'nit': 3, 'warnflag': 2}\n",
      "  \" state: %s\" % convergence_dict)\n",
      "C:\\ProgramData\\Anaconda3\\envs\\py36\\lib\\site-packages\\sklearn\\gaussian_process\\gpr.py:457: UserWarning: fmin_l_bfgs_b terminated abnormally with the  state: {'grad': array([-0.00951029]), 'task': b'ABNORMAL_TERMINATION_IN_LNSRCH', 'funcalls': 45, 'nit': 3, 'warnflag': 2}\n",
      "  \" state: %s\" % convergence_dict)\n"
     ]
    },
    {
     "name": "stdout",
     "output_type": "stream",
     "text": [
      "Multiple eval metrics have been passed: 'test-auc' will be used for early stopping.\n",
      "\n",
      "Will train until test-auc hasn't improved in 100 rounds.\n",
      "Stopping. Best iteration:\n",
      "[741]\ttrain-auc:0.92275+0.00156468\ttest-auc:0.92074+0.00633533\n",
      "\n",
      "   47 | 00m29s |    0.92074 |    0.5944 |             0.7851 |    1.3427 |      1.0701 |            13.5869 |      0.8501 | \n"
     ]
    },
    {
     "name": "stderr",
     "output_type": "stream",
     "text": [
      "C:\\ProgramData\\Anaconda3\\envs\\py36\\lib\\site-packages\\sklearn\\gaussian_process\\gpr.py:457: UserWarning: fmin_l_bfgs_b terminated abnormally with the  state: {'grad': array([-0.00536747]), 'task': b'ABNORMAL_TERMINATION_IN_LNSRCH', 'funcalls': 62, 'nit': 5, 'warnflag': 2}\n",
      "  \" state: %s\" % convergence_dict)\n",
      "C:\\ProgramData\\Anaconda3\\envs\\py36\\lib\\site-packages\\sklearn\\gaussian_process\\gpr.py:457: UserWarning: fmin_l_bfgs_b terminated abnormally with the  state: {'grad': array([-0.00841031]), 'task': b'ABNORMAL_TERMINATION_IN_LNSRCH', 'funcalls': 55, 'nit': 6, 'warnflag': 2}\n",
      "  \" state: %s\" % convergence_dict)\n",
      "C:\\ProgramData\\Anaconda3\\envs\\py36\\lib\\site-packages\\sklearn\\gaussian_process\\gpr.py:457: UserWarning: fmin_l_bfgs_b terminated abnormally with the  state: {'grad': array([-0.02069532]), 'task': b'ABNORMAL_TERMINATION_IN_LNSRCH', 'funcalls': 60, 'nit': 3, 'warnflag': 2}\n",
      "  \" state: %s\" % convergence_dict)\n",
      "C:\\ProgramData\\Anaconda3\\envs\\py36\\lib\\site-packages\\sklearn\\gaussian_process\\gpr.py:457: UserWarning: fmin_l_bfgs_b terminated abnormally with the  state: {'grad': array([-0.00011409]), 'task': b'ABNORMAL_TERMINATION_IN_LNSRCH', 'funcalls': 59, 'nit': 7, 'warnflag': 2}\n",
      "  \" state: %s\" % convergence_dict)\n",
      "C:\\ProgramData\\Anaconda3\\envs\\py36\\lib\\site-packages\\sklearn\\gaussian_process\\gpr.py:457: UserWarning: fmin_l_bfgs_b terminated abnormally with the  state: {'grad': array([ -7.52806664e-05]), 'task': b'ABNORMAL_TERMINATION_IN_LNSRCH', 'funcalls': 76, 'nit': 8, 'warnflag': 2}\n",
      "  \" state: %s\" % convergence_dict)\n"
     ]
    },
    {
     "name": "stdout",
     "output_type": "stream",
     "text": [
      "Multiple eval metrics have been passed: 'test-auc' will be used for early stopping.\n",
      "\n",
      "Will train until test-auc hasn't improved in 100 rounds.\n",
      "Stopping. Best iteration:\n",
      "[606]\ttrain-auc:0.923211+0.00149223\ttest-auc:0.920654+0.00629682\n",
      "\n",
      "   48 | 00m42s |    0.92065 |    7.0348 |             0.7207 |    7.9063 |     24.5285 |             4.2675 |      0.7490 | \n"
     ]
    },
    {
     "name": "stderr",
     "output_type": "stream",
     "text": [
      "C:\\ProgramData\\Anaconda3\\envs\\py36\\lib\\site-packages\\sklearn\\gaussian_process\\gpr.py:457: UserWarning: fmin_l_bfgs_b terminated abnormally with the  state: {'grad': array([ 0.00122658]), 'task': b'ABNORMAL_TERMINATION_IN_LNSRCH', 'funcalls': 79, 'nit': 11, 'warnflag': 2}\n",
      "  \" state: %s\" % convergence_dict)\n",
      "C:\\ProgramData\\Anaconda3\\envs\\py36\\lib\\site-packages\\sklearn\\gaussian_process\\gpr.py:457: UserWarning: fmin_l_bfgs_b terminated abnormally with the  state: {'grad': array([ -4.38627176e-05]), 'task': b'ABNORMAL_TERMINATION_IN_LNSRCH', 'funcalls': 56, 'nit': 6, 'warnflag': 2}\n",
      "  \" state: %s\" % convergence_dict)\n",
      "C:\\ProgramData\\Anaconda3\\envs\\py36\\lib\\site-packages\\sklearn\\gaussian_process\\gpr.py:457: UserWarning: fmin_l_bfgs_b terminated abnormally with the  state: {'grad': array([ -5.64100337e-05]), 'task': b'ABNORMAL_TERMINATION_IN_LNSRCH', 'funcalls': 62, 'nit': 7, 'warnflag': 2}\n",
      "  \" state: %s\" % convergence_dict)\n",
      "C:\\ProgramData\\Anaconda3\\envs\\py36\\lib\\site-packages\\sklearn\\gaussian_process\\gpr.py:457: UserWarning: fmin_l_bfgs_b terminated abnormally with the  state: {'grad': array([-0.00345095]), 'task': b'ABNORMAL_TERMINATION_IN_LNSRCH', 'funcalls': 74, 'nit': 5, 'warnflag': 2}\n",
      "  \" state: %s\" % convergence_dict)\n",
      "C:\\ProgramData\\Anaconda3\\envs\\py36\\lib\\site-packages\\sklearn\\gaussian_process\\gpr.py:457: UserWarning: fmin_l_bfgs_b terminated abnormally with the  state: {'grad': array([-0.01437419]), 'task': b'ABNORMAL_TERMINATION_IN_LNSRCH', 'funcalls': 68, 'nit': 5, 'warnflag': 2}\n",
      "  \" state: %s\" % convergence_dict)\n"
     ]
    },
    {
     "name": "stdout",
     "output_type": "stream",
     "text": [
      "Multiple eval metrics have been passed: 'test-auc' will be used for early stopping.\n",
      "\n",
      "Will train until test-auc hasn't improved in 100 rounds.\n",
      "Stopping. Best iteration:\n",
      "[200]\ttrain-auc:0.926288+0.00145007\ttest-auc:0.92033+0.00604798\n",
      "\n",
      "   49 | 00m25s |    0.92033 |    1.6759 |             0.7277 |    5.0634 |     23.8517 |            17.8422 |      0.9356 | \n",
      "Multiple eval metrics have been passed: 'test-auc' will be used for early stopping.\n",
      "\n",
      "Will train until test-auc hasn't improved in 100 rounds.\n",
      "Stopping. Best iteration:\n",
      "[287]\ttrain-auc:0.925321+0.00139147\ttest-auc:0.920599+0.00614403\n",
      "\n",
      "   50 | 00m28s |    0.92060 |    6.4292 |             0.9404 |    3.4601 |     24.0466 |             5.0797 |      0.6861 | \n"
     ]
    },
    {
     "name": "stderr",
     "output_type": "stream",
     "text": [
      "C:\\ProgramData\\Anaconda3\\envs\\py36\\lib\\site-packages\\sklearn\\gaussian_process\\gpr.py:457: UserWarning: fmin_l_bfgs_b terminated abnormally with the  state: {'grad': array([ 0.00860048]), 'task': b'ABNORMAL_TERMINATION_IN_LNSRCH', 'funcalls': 56, 'nit': 8, 'warnflag': 2}\n",
      "  \" state: %s\" % convergence_dict)\n",
      "C:\\ProgramData\\Anaconda3\\envs\\py36\\lib\\site-packages\\sklearn\\gaussian_process\\gpr.py:457: UserWarning: fmin_l_bfgs_b terminated abnormally with the  state: {'grad': array([ -3.36656813e-05]), 'task': b'ABNORMAL_TERMINATION_IN_LNSRCH', 'funcalls': 86, 'nit': 10, 'warnflag': 2}\n",
      "  \" state: %s\" % convergence_dict)\n",
      "C:\\ProgramData\\Anaconda3\\envs\\py36\\lib\\site-packages\\sklearn\\gaussian_process\\gpr.py:457: UserWarning: fmin_l_bfgs_b terminated abnormally with the  state: {'grad': array([-0.03158037]), 'task': b'ABNORMAL_TERMINATION_IN_LNSRCH', 'funcalls': 49, 'nit': 3, 'warnflag': 2}\n",
      "  \" state: %s\" % convergence_dict)\n",
      "C:\\ProgramData\\Anaconda3\\envs\\py36\\lib\\site-packages\\sklearn\\gaussian_process\\gpr.py:457: UserWarning: fmin_l_bfgs_b terminated abnormally with the  state: {'grad': array([-0.00074961]), 'task': b'ABNORMAL_TERMINATION_IN_LNSRCH', 'funcalls': 70, 'nit': 5, 'warnflag': 2}\n",
      "  \" state: %s\" % convergence_dict)\n",
      "C:\\ProgramData\\Anaconda3\\envs\\py36\\lib\\site-packages\\sklearn\\gaussian_process\\gpr.py:457: UserWarning: fmin_l_bfgs_b terminated abnormally with the  state: {'grad': array([ 0.0004269]), 'task': b'ABNORMAL_TERMINATION_IN_LNSRCH', 'funcalls': 64, 'nit': 6, 'warnflag': 2}\n",
      "  \" state: %s\" % convergence_dict)\n",
      "C:\\ProgramData\\Anaconda3\\envs\\py36\\lib\\site-packages\\sklearn\\gaussian_process\\gpr.py:457: UserWarning: fmin_l_bfgs_b terminated abnormally with the  state: {'grad': array([ 0.00037345]), 'task': b'ABNORMAL_TERMINATION_IN_LNSRCH', 'funcalls': 51, 'nit': 4, 'warnflag': 2}\n",
      "  \" state: %s\" % convergence_dict)\n"
     ]
    },
    {
     "name": "stdout",
     "output_type": "stream",
     "text": [
      "Multiple eval metrics have been passed: 'test-auc' will be used for early stopping.\n",
      "\n",
      "Will train until test-auc hasn't improved in 100 rounds.\n",
      "Stopping. Best iteration:\n",
      "[238]\ttrain-auc:0.924939+0.00142806\ttest-auc:0.920639+0.00620859\n",
      "\n",
      "   51 | 00m26s |    0.92064 |    0.1696 |             0.9242 |    5.2574 |      4.2493 |            15.0879 |      0.8791 | \n"
     ]
    },
    {
     "name": "stderr",
     "output_type": "stream",
     "text": [
      "C:\\ProgramData\\Anaconda3\\envs\\py36\\lib\\site-packages\\sklearn\\gaussian_process\\gpr.py:457: UserWarning: fmin_l_bfgs_b terminated abnormally with the  state: {'grad': array([ -4.13283706e-05]), 'task': b'ABNORMAL_TERMINATION_IN_LNSRCH', 'funcalls': 54, 'nit': 7, 'warnflag': 2}\n",
      "  \" state: %s\" % convergence_dict)\n",
      "C:\\ProgramData\\Anaconda3\\envs\\py36\\lib\\site-packages\\sklearn\\gaussian_process\\gpr.py:457: UserWarning: fmin_l_bfgs_b terminated abnormally with the  state: {'grad': array([ -6.49765134e-05]), 'task': b'ABNORMAL_TERMINATION_IN_LNSRCH', 'funcalls': 66, 'nit': 4, 'warnflag': 2}\n",
      "  \" state: %s\" % convergence_dict)\n",
      "C:\\ProgramData\\Anaconda3\\envs\\py36\\lib\\site-packages\\sklearn\\gaussian_process\\gpr.py:457: UserWarning: fmin_l_bfgs_b terminated abnormally with the  state: {'grad': array([  5.66989183e-05]), 'task': b'ABNORMAL_TERMINATION_IN_LNSRCH', 'funcalls': 92, 'nit': 7, 'warnflag': 2}\n",
      "  \" state: %s\" % convergence_dict)\n"
     ]
    },
    {
     "name": "stdout",
     "output_type": "stream",
     "text": [
      "Multiple eval metrics have been passed: 'test-auc' will be used for early stopping.\n",
      "\n",
      "Will train until test-auc hasn't improved in 100 rounds.\n",
      "Stopping. Best iteration:\n",
      "[707]\ttrain-auc:0.922664+0.00152627\ttest-auc:0.920983+0.00625958\n",
      "\n",
      "   52 | 00m28s | \u001b[35m   0.92098\u001b[0m | \u001b[32m   7.8545\u001b[0m | \u001b[32m            0.9540\u001b[0m | \u001b[32m   0.7247\u001b[0m | \u001b[32m     1.4981\u001b[0m | \u001b[32m            5.4769\u001b[0m | \u001b[32m     0.7820\u001b[0m | \n"
     ]
    },
    {
     "name": "stderr",
     "output_type": "stream",
     "text": [
      "C:\\ProgramData\\Anaconda3\\envs\\py36\\lib\\site-packages\\sklearn\\gaussian_process\\gpr.py:457: UserWarning: fmin_l_bfgs_b terminated abnormally with the  state: {'grad': array([-0.02757248]), 'task': b'ABNORMAL_TERMINATION_IN_LNSRCH', 'funcalls': 52, 'nit': 5, 'warnflag': 2}\n",
      "  \" state: %s\" % convergence_dict)\n",
      "C:\\ProgramData\\Anaconda3\\envs\\py36\\lib\\site-packages\\sklearn\\gaussian_process\\gpr.py:457: UserWarning: fmin_l_bfgs_b terminated abnormally with the  state: {'grad': array([-0.00012368]), 'task': b'ABNORMAL_TERMINATION_IN_LNSRCH', 'funcalls': 51, 'nit': 6, 'warnflag': 2}\n",
      "  \" state: %s\" % convergence_dict)\n",
      "C:\\ProgramData\\Anaconda3\\envs\\py36\\lib\\site-packages\\sklearn\\gaussian_process\\gpr.py:457: UserWarning: fmin_l_bfgs_b terminated abnormally with the  state: {'grad': array([ -4.06777253e-05]), 'task': b'ABNORMAL_TERMINATION_IN_LNSRCH', 'funcalls': 71, 'nit': 9, 'warnflag': 2}\n",
      "  \" state: %s\" % convergence_dict)\n",
      "C:\\ProgramData\\Anaconda3\\envs\\py36\\lib\\site-packages\\sklearn\\gaussian_process\\gpr.py:457: UserWarning: fmin_l_bfgs_b terminated abnormally with the  state: {'grad': array([ 0.0081569]), 'task': b'ABNORMAL_TERMINATION_IN_LNSRCH', 'funcalls': 57, 'nit': 5, 'warnflag': 2}\n",
      "  \" state: %s\" % convergence_dict)\n",
      "C:\\ProgramData\\Anaconda3\\envs\\py36\\lib\\site-packages\\sklearn\\gaussian_process\\gpr.py:457: UserWarning: fmin_l_bfgs_b terminated abnormally with the  state: {'grad': array([ 0.00040791]), 'task': b'ABNORMAL_TERMINATION_IN_LNSRCH', 'funcalls': 52, 'nit': 6, 'warnflag': 2}\n",
      "  \" state: %s\" % convergence_dict)\n",
      "C:\\ProgramData\\Anaconda3\\envs\\py36\\lib\\site-packages\\sklearn\\gaussian_process\\gpr.py:457: UserWarning: fmin_l_bfgs_b terminated abnormally with the  state: {'grad': array([-0.00118537]), 'task': b'ABNORMAL_TERMINATION_IN_LNSRCH', 'funcalls': 75, 'nit': 7, 'warnflag': 2}\n",
      "  \" state: %s\" % convergence_dict)\n",
      "C:\\ProgramData\\Anaconda3\\envs\\py36\\lib\\site-packages\\sklearn\\gaussian_process\\gpr.py:457: UserWarning: fmin_l_bfgs_b terminated abnormally with the  state: {'grad': array([-0.00020551]), 'task': b'ABNORMAL_TERMINATION_IN_LNSRCH', 'funcalls': 69, 'nit': 7, 'warnflag': 2}\n",
      "  \" state: %s\" % convergence_dict)\n"
     ]
    },
    {
     "name": "stdout",
     "output_type": "stream",
     "text": [
      "Multiple eval metrics have been passed: 'test-auc' will be used for early stopping.\n",
      "\n",
      "Will train until test-auc hasn't improved in 100 rounds.\n",
      "Stopping. Best iteration:\n",
      "[318]\ttrain-auc:0.923368+0.00146759\ttest-auc:0.920773+0.00614741\n",
      "\n",
      "   53 | 00m31s |    0.92077 |    6.1821 |             0.9511 |    7.1466 |     18.0061 |            16.9160 |      0.8397 | \n"
     ]
    },
    {
     "name": "stderr",
     "output_type": "stream",
     "text": [
      "C:\\ProgramData\\Anaconda3\\envs\\py36\\lib\\site-packages\\sklearn\\gaussian_process\\gpr.py:457: UserWarning: fmin_l_bfgs_b terminated abnormally with the  state: {'grad': array([-0.01951306]), 'task': b'ABNORMAL_TERMINATION_IN_LNSRCH', 'funcalls': 52, 'nit': 5, 'warnflag': 2}\n",
      "  \" state: %s\" % convergence_dict)\n",
      "C:\\ProgramData\\Anaconda3\\envs\\py36\\lib\\site-packages\\sklearn\\gaussian_process\\gpr.py:457: UserWarning: fmin_l_bfgs_b terminated abnormally with the  state: {'grad': array([-0.01077427]), 'task': b'ABNORMAL_TERMINATION_IN_LNSRCH', 'funcalls': 67, 'nit': 4, 'warnflag': 2}\n",
      "  \" state: %s\" % convergence_dict)\n",
      "C:\\ProgramData\\Anaconda3\\envs\\py36\\lib\\site-packages\\sklearn\\gaussian_process\\gpr.py:457: UserWarning: fmin_l_bfgs_b terminated abnormally with the  state: {'grad': array([ -4.35635448e-05]), 'task': b'ABNORMAL_TERMINATION_IN_LNSRCH', 'funcalls': 51, 'nit': 3, 'warnflag': 2}\n",
      "  \" state: %s\" % convergence_dict)\n"
     ]
    },
    {
     "name": "stdout",
     "output_type": "stream",
     "text": [
      "Multiple eval metrics have been passed: 'test-auc' will be used for early stopping.\n",
      "\n",
      "Will train until test-auc hasn't improved in 100 rounds.\n",
      "Stopping. Best iteration:\n",
      "[486]\ttrain-auc:0.9233+0.00140712\ttest-auc:0.920743+0.00615009\n",
      "\n",
      "   54 | 00m24s |    0.92074 |    7.4356 |             0.9306 |    1.5633 |      2.1445 |             7.6332 |      0.8155 | \n"
     ]
    },
    {
     "name": "stderr",
     "output_type": "stream",
     "text": [
      "C:\\ProgramData\\Anaconda3\\envs\\py36\\lib\\site-packages\\sklearn\\gaussian_process\\gpr.py:457: UserWarning: fmin_l_bfgs_b terminated abnormally with the  state: {'grad': array([ 0.02275818]), 'task': b'ABNORMAL_TERMINATION_IN_LNSRCH', 'funcalls': 53, 'nit': 5, 'warnflag': 2}\n",
      "  \" state: %s\" % convergence_dict)\n",
      "C:\\ProgramData\\Anaconda3\\envs\\py36\\lib\\site-packages\\sklearn\\gaussian_process\\gpr.py:457: UserWarning: fmin_l_bfgs_b terminated abnormally with the  state: {'grad': array([ -6.39720820e-05]), 'task': b'ABNORMAL_TERMINATION_IN_LNSRCH', 'funcalls': 56, 'nit': 5, 'warnflag': 2}\n",
      "  \" state: %s\" % convergence_dict)\n",
      "C:\\ProgramData\\Anaconda3\\envs\\py36\\lib\\site-packages\\sklearn\\gaussian_process\\gpr.py:457: UserWarning: fmin_l_bfgs_b terminated abnormally with the  state: {'grad': array([ -2.52083410e-05]), 'task': b'ABNORMAL_TERMINATION_IN_LNSRCH', 'funcalls': 57, 'nit': 9, 'warnflag': 2}\n",
      "  \" state: %s\" % convergence_dict)\n"
     ]
    },
    {
     "name": "stdout",
     "output_type": "stream",
     "text": [
      "Multiple eval metrics have been passed: 'test-auc' will be used for early stopping.\n",
      "\n",
      "Will train until test-auc hasn't improved in 100 rounds.\n",
      "Stopping. Best iteration:\n",
      "[526]\ttrain-auc:0.92365+0.00144032\ttest-auc:0.920761+0.00613962\n",
      "\n",
      "   55 | 00m30s |    0.92076 |    3.5338 |             0.9990 |    2.3803 |      2.0495 |            11.5753 |      0.9374 | \n"
     ]
    },
    {
     "name": "stderr",
     "output_type": "stream",
     "text": [
      "C:\\ProgramData\\Anaconda3\\envs\\py36\\lib\\site-packages\\sklearn\\gaussian_process\\gpr.py:457: UserWarning: fmin_l_bfgs_b terminated abnormally with the  state: {'grad': array([ -5.22807240e-05]), 'task': b'ABNORMAL_TERMINATION_IN_LNSRCH', 'funcalls': 82, 'nit': 7, 'warnflag': 2}\n",
      "  \" state: %s\" % convergence_dict)\n",
      "C:\\ProgramData\\Anaconda3\\envs\\py36\\lib\\site-packages\\sklearn\\gaussian_process\\gpr.py:457: UserWarning: fmin_l_bfgs_b terminated abnormally with the  state: {'grad': array([ -6.12959266e-05]), 'task': b'ABNORMAL_TERMINATION_IN_LNSRCH', 'funcalls': 52, 'nit': 5, 'warnflag': 2}\n",
      "  \" state: %s\" % convergence_dict)\n",
      "C:\\ProgramData\\Anaconda3\\envs\\py36\\lib\\site-packages\\sklearn\\gaussian_process\\gpr.py:457: UserWarning: fmin_l_bfgs_b terminated abnormally with the  state: {'grad': array([ -3.77148390e-05]), 'task': b'ABNORMAL_TERMINATION_IN_LNSRCH', 'funcalls': 53, 'nit': 5, 'warnflag': 2}\n",
      "  \" state: %s\" % convergence_dict)\n",
      "C:\\ProgramData\\Anaconda3\\envs\\py36\\lib\\site-packages\\sklearn\\gaussian_process\\gpr.py:457: UserWarning: fmin_l_bfgs_b terminated abnormally with the  state: {'grad': array([-0.03103824]), 'task': b'ABNORMAL_TERMINATION_IN_LNSRCH', 'funcalls': 52, 'nit': 5, 'warnflag': 2}\n",
      "  \" state: %s\" % convergence_dict)\n"
     ]
    },
    {
     "name": "stdout",
     "output_type": "stream",
     "text": [
      "Multiple eval metrics have been passed: 'test-auc' will be used for early stopping.\n",
      "\n",
      "Will train until test-auc hasn't improved in 100 rounds.\n",
      "Stopping. Best iteration:\n",
      "[749]\ttrain-auc:0.924007+0.00145953\ttest-auc:0.920625+0.00623245\n",
      "\n",
      "   56 | 00m50s |    0.92063 |    7.9548 |             0.8365 |    6.2027 |     39.6689 |             1.4269 |      0.7668 | \n"
     ]
    },
    {
     "name": "stderr",
     "output_type": "stream",
     "text": [
      "C:\\ProgramData\\Anaconda3\\envs\\py36\\lib\\site-packages\\sklearn\\gaussian_process\\gpr.py:457: UserWarning: fmin_l_bfgs_b terminated abnormally with the  state: {'grad': array([-0.00202806]), 'task': b'ABNORMAL_TERMINATION_IN_LNSRCH', 'funcalls': 51, 'nit': 6, 'warnflag': 2}\n",
      "  \" state: %s\" % convergence_dict)\n",
      "C:\\ProgramData\\Anaconda3\\envs\\py36\\lib\\site-packages\\sklearn\\gaussian_process\\gpr.py:457: UserWarning: fmin_l_bfgs_b terminated abnormally with the  state: {'grad': array([-0.00042469]), 'task': b'ABNORMAL_TERMINATION_IN_LNSRCH', 'funcalls': 72, 'nit': 6, 'warnflag': 2}\n",
      "  \" state: %s\" % convergence_dict)\n",
      "C:\\ProgramData\\Anaconda3\\envs\\py36\\lib\\site-packages\\sklearn\\gaussian_process\\gpr.py:457: UserWarning: fmin_l_bfgs_b terminated abnormally with the  state: {'grad': array([-0.00043444]), 'task': b'ABNORMAL_TERMINATION_IN_LNSRCH', 'funcalls': 52, 'nit': 4, 'warnflag': 2}\n",
      "  \" state: %s\" % convergence_dict)\n",
      "C:\\ProgramData\\Anaconda3\\envs\\py36\\lib\\site-packages\\sklearn\\gaussian_process\\gpr.py:457: UserWarning: fmin_l_bfgs_b terminated abnormally with the  state: {'grad': array([ 0.00095831]), 'task': b'ABNORMAL_TERMINATION_IN_LNSRCH', 'funcalls': 56, 'nit': 4, 'warnflag': 2}\n",
      "  \" state: %s\" % convergence_dict)\n"
     ]
    },
    {
     "name": "stdout",
     "output_type": "stream",
     "text": [
      "Multiple eval metrics have been passed: 'test-auc' will be used for early stopping.\n",
      "\n",
      "Will train until test-auc hasn't improved in 100 rounds.\n",
      "Stopping. Best iteration:\n",
      "[605]\ttrain-auc:0.92408+0.00142818\ttest-auc:0.920745+0.00622231\n",
      "\n",
      "   57 | 00m36s |    0.92075 |    2.3422 |             0.9543 |    6.7558 |      3.6204 |             4.2237 |      0.9416 | \n"
     ]
    },
    {
     "name": "stderr",
     "output_type": "stream",
     "text": [
      "C:\\ProgramData\\Anaconda3\\envs\\py36\\lib\\site-packages\\sklearn\\gaussian_process\\gpr.py:457: UserWarning: fmin_l_bfgs_b terminated abnormally with the  state: {'grad': array([ 0.02029309]), 'task': b'ABNORMAL_TERMINATION_IN_LNSRCH', 'funcalls': 57, 'nit': 4, 'warnflag': 2}\n",
      "  \" state: %s\" % convergence_dict)\n",
      "C:\\ProgramData\\Anaconda3\\envs\\py36\\lib\\site-packages\\sklearn\\gaussian_process\\gpr.py:457: UserWarning: fmin_l_bfgs_b terminated abnormally with the  state: {'grad': array([ -4.63128090e-05]), 'task': b'ABNORMAL_TERMINATION_IN_LNSRCH', 'funcalls': 53, 'nit': 5, 'warnflag': 2}\n",
      "  \" state: %s\" % convergence_dict)\n",
      "C:\\ProgramData\\Anaconda3\\envs\\py36\\lib\\site-packages\\sklearn\\gaussian_process\\gpr.py:457: UserWarning: fmin_l_bfgs_b terminated abnormally with the  state: {'grad': array([ -2.28360295e-05]), 'task': b'ABNORMAL_TERMINATION_IN_LNSRCH', 'funcalls': 54, 'nit': 7, 'warnflag': 2}\n",
      "  \" state: %s\" % convergence_dict)\n"
     ]
    },
    {
     "name": "stdout",
     "output_type": "stream",
     "text": [
      "Multiple eval metrics have been passed: 'test-auc' will be used for early stopping.\n",
      "\n",
      "Will train until test-auc hasn't improved in 100 rounds.\n",
      "Stopping. Best iteration:\n",
      "[782]\ttrain-auc:0.922877+0.00151141\ttest-auc:0.920931+0.00626313\n",
      "\n",
      "   58 | 00m35s |    0.92093 |    2.9389 |             0.9162 |    0.6876 |      1.5563 |             5.5760 |      0.8921 | \n"
     ]
    },
    {
     "name": "stderr",
     "output_type": "stream",
     "text": [
      "C:\\ProgramData\\Anaconda3\\envs\\py36\\lib\\site-packages\\sklearn\\gaussian_process\\gpr.py:457: UserWarning: fmin_l_bfgs_b terminated abnormally with the  state: {'grad': array([ -7.50750769e-05]), 'task': b'ABNORMAL_TERMINATION_IN_LNSRCH', 'funcalls': 65, 'nit': 8, 'warnflag': 2}\n",
      "  \" state: %s\" % convergence_dict)\n",
      "C:\\ProgramData\\Anaconda3\\envs\\py36\\lib\\site-packages\\sklearn\\gaussian_process\\gpr.py:457: UserWarning: fmin_l_bfgs_b terminated abnormally with the  state: {'grad': array([ 0.00027429]), 'task': b'ABNORMAL_TERMINATION_IN_LNSRCH', 'funcalls': 68, 'nit': 9, 'warnflag': 2}\n",
      "  \" state: %s\" % convergence_dict)\n"
     ]
    },
    {
     "name": "stdout",
     "output_type": "stream",
     "text": [
      "Multiple eval metrics have been passed: 'test-auc' will be used for early stopping.\n",
      "\n",
      "Will train until test-auc hasn't improved in 100 rounds.\n",
      "Stopping. Best iteration:\n",
      "[369]\ttrain-auc:0.923486+0.00153212\ttest-auc:0.920871+0.00627007\n",
      "\n",
      "   59 | 00m42s |    0.92087 |    5.0922 |             0.9979 |    7.9745 |     38.6193 |             1.1649 |      0.6957 | \n"
     ]
    },
    {
     "name": "stderr",
     "output_type": "stream",
     "text": [
      "C:\\ProgramData\\Anaconda3\\envs\\py36\\lib\\site-packages\\sklearn\\gaussian_process\\gpr.py:457: UserWarning: fmin_l_bfgs_b terminated abnormally with the  state: {'grad': array([-0.00051134]), 'task': b'ABNORMAL_TERMINATION_IN_LNSRCH', 'funcalls': 67, 'nit': 5, 'warnflag': 2}\n",
      "  \" state: %s\" % convergence_dict)\n",
      "C:\\ProgramData\\Anaconda3\\envs\\py36\\lib\\site-packages\\sklearn\\gaussian_process\\gpr.py:457: UserWarning: fmin_l_bfgs_b terminated abnormally with the  state: {'grad': array([-0.00066484]), 'task': b'ABNORMAL_TERMINATION_IN_LNSRCH', 'funcalls': 87, 'nit': 8, 'warnflag': 2}\n",
      "  \" state: %s\" % convergence_dict)\n",
      "C:\\ProgramData\\Anaconda3\\envs\\py36\\lib\\site-packages\\sklearn\\gaussian_process\\gpr.py:457: UserWarning: fmin_l_bfgs_b terminated abnormally with the  state: {'grad': array([-0.00017664]), 'task': b'ABNORMAL_TERMINATION_IN_LNSRCH', 'funcalls': 73, 'nit': 5, 'warnflag': 2}\n",
      "  \" state: %s\" % convergence_dict)\n",
      "C:\\ProgramData\\Anaconda3\\envs\\py36\\lib\\site-packages\\sklearn\\gaussian_process\\gpr.py:457: UserWarning: fmin_l_bfgs_b terminated abnormally with the  state: {'grad': array([-0.00098406]), 'task': b'ABNORMAL_TERMINATION_IN_LNSRCH', 'funcalls': 50, 'nit': 3, 'warnflag': 2}\n",
      "  \" state: %s\" % convergence_dict)\n",
      "C:\\ProgramData\\Anaconda3\\envs\\py36\\lib\\site-packages\\sklearn\\gaussian_process\\gpr.py:457: UserWarning: fmin_l_bfgs_b terminated abnormally with the  state: {'grad': array([-0.00152991]), 'task': b'ABNORMAL_TERMINATION_IN_LNSRCH', 'funcalls': 71, 'nit': 5, 'warnflag': 2}\n",
      "  \" state: %s\" % convergence_dict)\n"
     ]
    },
    {
     "name": "stdout",
     "output_type": "stream",
     "text": [
      "Multiple eval metrics have been passed: 'test-auc' will be used for early stopping.\n",
      "\n",
      "Will train until test-auc hasn't improved in 100 rounds.\n",
      "Stopping. Best iteration:\n",
      "[628]\ttrain-auc:0.922539+0.00155431\ttest-auc:0.920846+0.00625813\n",
      "\n",
      "   60 | 00m33s |    0.92085 |    7.3494 |             0.9788 |    5.7602 |      1.0319 |             1.7972 |      0.8128 | \n"
     ]
    },
    {
     "name": "stderr",
     "output_type": "stream",
     "text": [
      "C:\\ProgramData\\Anaconda3\\envs\\py36\\lib\\site-packages\\sklearn\\gaussian_process\\gpr.py:457: UserWarning: fmin_l_bfgs_b terminated abnormally with the  state: {'grad': array([ -5.14983549e-05]), 'task': b'ABNORMAL_TERMINATION_IN_LNSRCH', 'funcalls': 50, 'nit': 7, 'warnflag': 2}\n",
      "  \" state: %s\" % convergence_dict)\n",
      "C:\\ProgramData\\Anaconda3\\envs\\py36\\lib\\site-packages\\sklearn\\gaussian_process\\gpr.py:457: UserWarning: fmin_l_bfgs_b terminated abnormally with the  state: {'grad': array([ 0.0069381]), 'task': b'ABNORMAL_TERMINATION_IN_LNSRCH', 'funcalls': 62, 'nit': 6, 'warnflag': 2}\n",
      "  \" state: %s\" % convergence_dict)\n",
      "C:\\ProgramData\\Anaconda3\\envs\\py36\\lib\\site-packages\\sklearn\\gaussian_process\\gpr.py:457: UserWarning: fmin_l_bfgs_b terminated abnormally with the  state: {'grad': array([ 0.00033263]), 'task': b'ABNORMAL_TERMINATION_IN_LNSRCH', 'funcalls': 47, 'nit': 3, 'warnflag': 2}\n",
      "  \" state: %s\" % convergence_dict)\n"
     ]
    },
    {
     "name": "stdout",
     "output_type": "stream",
     "text": [
      "Multiple eval metrics have been passed: 'test-auc' will be used for early stopping.\n",
      "\n",
      "Will train until test-auc hasn't improved in 100 rounds.\n",
      "Stopping. Best iteration:\n",
      "[611]\ttrain-auc:0.923312+0.00147438\ttest-auc:0.920887+0.00630157\n",
      "\n",
      "   61 | 00m50s |    0.92089 |    6.7089 |             0.9552 |    7.8941 |     22.7998 |             4.8774 |      0.6494 | \n"
     ]
    },
    {
     "name": "stderr",
     "output_type": "stream",
     "text": [
      "C:\\ProgramData\\Anaconda3\\envs\\py36\\lib\\site-packages\\sklearn\\gaussian_process\\gpr.py:457: UserWarning: fmin_l_bfgs_b terminated abnormally with the  state: {'grad': array([ 0.00905168]), 'task': b'ABNORMAL_TERMINATION_IN_LNSRCH', 'funcalls': 68, 'nit': 6, 'warnflag': 2}\n",
      "  \" state: %s\" % convergence_dict)\n",
      "C:\\ProgramData\\Anaconda3\\envs\\py36\\lib\\site-packages\\sklearn\\gaussian_process\\gpr.py:457: UserWarning: fmin_l_bfgs_b terminated abnormally with the  state: {'grad': array([-0.00021179]), 'task': b'ABNORMAL_TERMINATION_IN_LNSRCH', 'funcalls': 81, 'nit': 6, 'warnflag': 2}\n",
      "  \" state: %s\" % convergence_dict)\n",
      "C:\\ProgramData\\Anaconda3\\envs\\py36\\lib\\site-packages\\sklearn\\gaussian_process\\gpr.py:457: UserWarning: fmin_l_bfgs_b terminated abnormally with the  state: {'grad': array([-0.00017493]), 'task': b'ABNORMAL_TERMINATION_IN_LNSRCH', 'funcalls': 52, 'nit': 4, 'warnflag': 2}\n",
      "  \" state: %s\" % convergence_dict)\n",
      "C:\\ProgramData\\Anaconda3\\envs\\py36\\lib\\site-packages\\sklearn\\gaussian_process\\gpr.py:457: UserWarning: fmin_l_bfgs_b terminated abnormally with the  state: {'grad': array([-0.00186458]), 'task': b'ABNORMAL_TERMINATION_IN_LNSRCH', 'funcalls': 61, 'nit': 2, 'warnflag': 2}\n",
      "  \" state: %s\" % convergence_dict)\n",
      "C:\\ProgramData\\Anaconda3\\envs\\py36\\lib\\site-packages\\sklearn\\gaussian_process\\gpr.py:457: UserWarning: fmin_l_bfgs_b terminated abnormally with the  state: {'grad': array([ -5.98467886e-05]), 'task': b'ABNORMAL_TERMINATION_IN_LNSRCH', 'funcalls': 77, 'nit': 8, 'warnflag': 2}\n",
      "  \" state: %s\" % convergence_dict)\n"
     ]
    },
    {
     "name": "stdout",
     "output_type": "stream",
     "text": [
      "Multiple eval metrics have been passed: 'test-auc' will be used for early stopping.\n",
      "\n",
      "Will train until test-auc hasn't improved in 100 rounds.\n",
      "Stopping. Best iteration:\n",
      "[288]\ttrain-auc:0.922963+0.00153342\ttest-auc:0.920625+0.006019\n",
      "\n",
      "   62 | 00m38s |    0.92062 |    4.1701 |             0.7995 |    7.0459 |     12.4357 |            19.1539 |      0.6112 | \n"
     ]
    },
    {
     "name": "stderr",
     "output_type": "stream",
     "text": [
      "C:\\ProgramData\\Anaconda3\\envs\\py36\\lib\\site-packages\\sklearn\\gaussian_process\\gpr.py:457: UserWarning: fmin_l_bfgs_b terminated abnormally with the  state: {'grad': array([ -4.02321311e-05]), 'task': b'ABNORMAL_TERMINATION_IN_LNSRCH', 'funcalls': 52, 'nit': 5, 'warnflag': 2}\n",
      "  \" state: %s\" % convergence_dict)\n",
      "C:\\ProgramData\\Anaconda3\\envs\\py36\\lib\\site-packages\\sklearn\\gaussian_process\\gpr.py:457: UserWarning: fmin_l_bfgs_b terminated abnormally with the  state: {'grad': array([-0.00016068]), 'task': b'ABNORMAL_TERMINATION_IN_LNSRCH', 'funcalls': 52, 'nit': 4, 'warnflag': 2}\n",
      "  \" state: %s\" % convergence_dict)\n",
      "C:\\ProgramData\\Anaconda3\\envs\\py36\\lib\\site-packages\\sklearn\\gaussian_process\\gpr.py:457: UserWarning: fmin_l_bfgs_b terminated abnormally with the  state: {'grad': array([ -8.12122526e-05]), 'task': b'ABNORMAL_TERMINATION_IN_LNSRCH', 'funcalls': 68, 'nit': 5, 'warnflag': 2}\n",
      "  \" state: %s\" % convergence_dict)\n",
      "C:\\ProgramData\\Anaconda3\\envs\\py36\\lib\\site-packages\\sklearn\\gaussian_process\\gpr.py:457: UserWarning: fmin_l_bfgs_b terminated abnormally with the  state: {'grad': array([ 0.00045971]), 'task': b'ABNORMAL_TERMINATION_IN_LNSRCH', 'funcalls': 50, 'nit': 5, 'warnflag': 2}\n",
      "  \" state: %s\" % convergence_dict)\n",
      "C:\\ProgramData\\Anaconda3\\envs\\py36\\lib\\site-packages\\sklearn\\gaussian_process\\gpr.py:457: UserWarning: fmin_l_bfgs_b terminated abnormally with the  state: {'grad': array([  7.76269953e-05]), 'task': b'ABNORMAL_TERMINATION_IN_LNSRCH', 'funcalls': 52, 'nit': 3, 'warnflag': 2}\n",
      "  \" state: %s\" % convergence_dict)\n"
     ]
    },
    {
     "name": "stdout",
     "output_type": "stream",
     "text": [
      "Multiple eval metrics have been passed: 'test-auc' will be used for early stopping.\n",
      "\n",
      "Will train until test-auc hasn't improved in 100 rounds.\n",
      "Stopping. Best iteration:\n",
      "[430]\ttrain-auc:0.923496+0.00143711\ttest-auc:0.92082+0.00623812\n",
      "\n",
      "   63 | 00m51s |    0.92082 |    6.3047 |             0.8749 |    6.7893 |     34.8811 |             1.4301 |      0.6016 | \n"
     ]
    },
    {
     "name": "stderr",
     "output_type": "stream",
     "text": [
      "C:\\ProgramData\\Anaconda3\\envs\\py36\\lib\\site-packages\\sklearn\\gaussian_process\\gpr.py:457: UserWarning: fmin_l_bfgs_b terminated abnormally with the  state: {'grad': array([ 0.00124245]), 'task': b'ABNORMAL_TERMINATION_IN_LNSRCH', 'funcalls': 52, 'nit': 5, 'warnflag': 2}\n",
      "  \" state: %s\" % convergence_dict)\n",
      "C:\\ProgramData\\Anaconda3\\envs\\py36\\lib\\site-packages\\sklearn\\gaussian_process\\gpr.py:457: UserWarning: fmin_l_bfgs_b terminated abnormally with the  state: {'grad': array([ -2.71499157e-05]), 'task': b'ABNORMAL_TERMINATION_IN_LNSRCH', 'funcalls': 54, 'nit': 6, 'warnflag': 2}\n",
      "  \" state: %s\" % convergence_dict)\n",
      "C:\\ProgramData\\Anaconda3\\envs\\py36\\lib\\site-packages\\sklearn\\gaussian_process\\gpr.py:457: UserWarning: fmin_l_bfgs_b terminated abnormally with the  state: {'grad': array([-0.01067823]), 'task': b'ABNORMAL_TERMINATION_IN_LNSRCH', 'funcalls': 55, 'nit': 3, 'warnflag': 2}\n",
      "  \" state: %s\" % convergence_dict)\n",
      "C:\\ProgramData\\Anaconda3\\envs\\py36\\lib\\site-packages\\sklearn\\gaussian_process\\gpr.py:457: UserWarning: fmin_l_bfgs_b terminated abnormally with the  state: {'grad': array([-0.0003082]), 'task': b'ABNORMAL_TERMINATION_IN_LNSRCH', 'funcalls': 52, 'nit': 5, 'warnflag': 2}\n",
      "  \" state: %s\" % convergence_dict)\n",
      "C:\\ProgramData\\Anaconda3\\envs\\py36\\lib\\site-packages\\sklearn\\gaussian_process\\gpr.py:457: UserWarning: fmin_l_bfgs_b terminated abnormally with the  state: {'grad': array([ 0.02222311]), 'task': b'ABNORMAL_TERMINATION_IN_LNSRCH', 'funcalls': 84, 'nit': 7, 'warnflag': 2}\n",
      "  \" state: %s\" % convergence_dict)\n",
      "C:\\ProgramData\\Anaconda3\\envs\\py36\\lib\\site-packages\\sklearn\\gaussian_process\\gpr.py:457: UserWarning: fmin_l_bfgs_b terminated abnormally with the  state: {'grad': array([ -7.91922212e-05]), 'task': b'ABNORMAL_TERMINATION_IN_LNSRCH', 'funcalls': 62, 'nit': 7, 'warnflag': 2}\n",
      "  \" state: %s\" % convergence_dict)\n",
      "C:\\ProgramData\\Anaconda3\\envs\\py36\\lib\\site-packages\\sklearn\\gaussian_process\\gpr.py:457: UserWarning: fmin_l_bfgs_b terminated abnormally with the  state: {'grad': array([-0.00657096]), 'task': b'ABNORMAL_TERMINATION_IN_LNSRCH', 'funcalls': 49, 'nit': 4, 'warnflag': 2}\n",
      "  \" state: %s\" % convergence_dict)\n"
     ]
    },
    {
     "name": "stdout",
     "output_type": "stream",
     "text": [
      "Multiple eval metrics have been passed: 'test-auc' will be used for early stopping.\n",
      "\n",
      "Will train until test-auc hasn't improved in 100 rounds.\n",
      "Stopping. Best iteration:\n",
      "[422]\ttrain-auc:0.924621+0.0014691\ttest-auc:0.920892+0.00624957\n",
      "\n",
      "   64 | 00m54s |    0.92089 |    2.7275 |             0.9046 |    7.5375 |     22.0447 |            15.3271 |      0.6689 | \n"
     ]
    },
    {
     "name": "stderr",
     "output_type": "stream",
     "text": [
      "C:\\ProgramData\\Anaconda3\\envs\\py36\\lib\\site-packages\\sklearn\\gaussian_process\\gpr.py:457: UserWarning: fmin_l_bfgs_b terminated abnormally with the  state: {'grad': array([ -8.83840257e-05]), 'task': b'ABNORMAL_TERMINATION_IN_LNSRCH', 'funcalls': 94, 'nit': 9, 'warnflag': 2}\n",
      "  \" state: %s\" % convergence_dict)\n",
      "C:\\ProgramData\\Anaconda3\\envs\\py36\\lib\\site-packages\\sklearn\\gaussian_process\\gpr.py:457: UserWarning: fmin_l_bfgs_b terminated abnormally with the  state: {'grad': array([-0.00055787]), 'task': b'ABNORMAL_TERMINATION_IN_LNSRCH', 'funcalls': 58, 'nit': 7, 'warnflag': 2}\n",
      "  \" state: %s\" % convergence_dict)\n",
      "C:\\ProgramData\\Anaconda3\\envs\\py36\\lib\\site-packages\\sklearn\\gaussian_process\\gpr.py:457: UserWarning: fmin_l_bfgs_b terminated abnormally with the  state: {'grad': array([-0.01318358]), 'task': b'ABNORMAL_TERMINATION_IN_LNSRCH', 'funcalls': 70, 'nit': 8, 'warnflag': 2}\n",
      "  \" state: %s\" % convergence_dict)\n",
      "C:\\ProgramData\\Anaconda3\\envs\\py36\\lib\\site-packages\\sklearn\\gaussian_process\\gpr.py:457: UserWarning: fmin_l_bfgs_b terminated abnormally with the  state: {'grad': array([ -5.09448437e-05]), 'task': b'ABNORMAL_TERMINATION_IN_LNSRCH', 'funcalls': 84, 'nit': 8, 'warnflag': 2}\n",
      "  \" state: %s\" % convergence_dict)\n",
      "C:\\ProgramData\\Anaconda3\\envs\\py36\\lib\\site-packages\\sklearn\\gaussian_process\\gpr.py:457: UserWarning: fmin_l_bfgs_b terminated abnormally with the  state: {'grad': array([-0.00247903]), 'task': b'ABNORMAL_TERMINATION_IN_LNSRCH', 'funcalls': 61, 'nit': 4, 'warnflag': 2}\n",
      "  \" state: %s\" % convergence_dict)\n"
     ]
    },
    {
     "name": "stdout",
     "output_type": "stream",
     "text": [
      "Multiple eval metrics have been passed: 'test-auc' will be used for early stopping.\n",
      "\n",
      "Will train until test-auc hasn't improved in 100 rounds.\n",
      "Stopping. Best iteration:\n",
      "[639]\ttrain-auc:0.923624+0.00145298\ttest-auc:0.92066+0.00630102\n",
      "\n",
      "   65 | 00m59s |    0.92066 |    4.5911 |             0.8080 |    7.6283 |      6.3441 |            18.7201 |      0.6605 | \n"
     ]
    },
    {
     "name": "stderr",
     "output_type": "stream",
     "text": [
      "C:\\ProgramData\\Anaconda3\\envs\\py36\\lib\\site-packages\\sklearn\\gaussian_process\\gpr.py:457: UserWarning: fmin_l_bfgs_b terminated abnormally with the  state: {'grad': array([ 0.03404366]), 'task': b'ABNORMAL_TERMINATION_IN_LNSRCH', 'funcalls': 68, 'nit': 4, 'warnflag': 2}\n",
      "  \" state: %s\" % convergence_dict)\n",
      "C:\\ProgramData\\Anaconda3\\envs\\py36\\lib\\site-packages\\sklearn\\gaussian_process\\gpr.py:457: UserWarning: fmin_l_bfgs_b terminated abnormally with the  state: {'grad': array([ -6.87818974e-05]), 'task': b'ABNORMAL_TERMINATION_IN_LNSRCH', 'funcalls': 103, 'nit': 7, 'warnflag': 2}\n",
      "  \" state: %s\" % convergence_dict)\n",
      "C:\\ProgramData\\Anaconda3\\envs\\py36\\lib\\site-packages\\sklearn\\gaussian_process\\gpr.py:457: UserWarning: fmin_l_bfgs_b terminated abnormally with the  state: {'grad': array([ 0.0001776]), 'task': b'ABNORMAL_TERMINATION_IN_LNSRCH', 'funcalls': 73, 'nit': 3, 'warnflag': 2}\n",
      "  \" state: %s\" % convergence_dict)\n",
      "C:\\ProgramData\\Anaconda3\\envs\\py36\\lib\\site-packages\\sklearn\\gaussian_process\\gpr.py:457: UserWarning: fmin_l_bfgs_b terminated abnormally with the  state: {'grad': array([ -7.39758834e-05]), 'task': b'ABNORMAL_TERMINATION_IN_LNSRCH', 'funcalls': 79, 'nit': 7, 'warnflag': 2}\n",
      "  \" state: %s\" % convergence_dict)\n",
      "C:\\ProgramData\\Anaconda3\\envs\\py36\\lib\\site-packages\\sklearn\\gaussian_process\\gpr.py:457: UserWarning: fmin_l_bfgs_b terminated abnormally with the  state: {'grad': array([-0.00115283]), 'task': b'ABNORMAL_TERMINATION_IN_LNSRCH', 'funcalls': 70, 'nit': 6, 'warnflag': 2}\n",
      "  \" state: %s\" % convergence_dict)\n",
      "C:\\ProgramData\\Anaconda3\\envs\\py36\\lib\\site-packages\\sklearn\\gaussian_process\\gpr.py:457: UserWarning: fmin_l_bfgs_b terminated abnormally with the  state: {'grad': array([-0.00185666]), 'task': b'ABNORMAL_TERMINATION_IN_LNSRCH', 'funcalls': 83, 'nit': 6, 'warnflag': 2}\n",
      "  \" state: %s\" % convergence_dict)\n",
      "C:\\ProgramData\\Anaconda3\\envs\\py36\\lib\\site-packages\\sklearn\\gaussian_process\\gpr.py:457: UserWarning: fmin_l_bfgs_b terminated abnormally with the  state: {'grad': array([ 0.0006136]), 'task': b'ABNORMAL_TERMINATION_IN_LNSRCH', 'funcalls': 56, 'nit': 4, 'warnflag': 2}\n",
      "  \" state: %s\" % convergence_dict)\n",
      "C:\\ProgramData\\Anaconda3\\envs\\py36\\lib\\site-packages\\sklearn\\gaussian_process\\gpr.py:457: UserWarning: fmin_l_bfgs_b terminated abnormally with the  state: {'grad': array([-0.00027894]), 'task': b'ABNORMAL_TERMINATION_IN_LNSRCH', 'funcalls': 52, 'nit': 4, 'warnflag': 2}\n",
      "  \" state: %s\" % convergence_dict)\n"
     ]
    },
    {
     "name": "stdout",
     "output_type": "stream",
     "text": [
      "Multiple eval metrics have been passed: 'test-auc' will be used for early stopping.\n",
      "\n",
      "Will train until test-auc hasn't improved in 100 rounds.\n",
      "Stopping. Best iteration:\n",
      "[856]\ttrain-auc:0.922931+0.00152215\ttest-auc:0.920914+0.00628934\n",
      "\n",
      "   66 | 00m55s |    0.92091 |    2.4043 |             0.9245 |    4.5604 |      1.1349 |             8.7694 |      0.8320 | \n"
     ]
    },
    {
     "name": "stderr",
     "output_type": "stream",
     "text": [
      "C:\\ProgramData\\Anaconda3\\envs\\py36\\lib\\site-packages\\sklearn\\gaussian_process\\gpr.py:457: UserWarning: fmin_l_bfgs_b terminated abnormally with the  state: {'grad': array([-0.00077505]), 'task': b'ABNORMAL_TERMINATION_IN_LNSRCH', 'funcalls': 49, 'nit': 2, 'warnflag': 2}\n",
      "  \" state: %s\" % convergence_dict)\n",
      "C:\\ProgramData\\Anaconda3\\envs\\py36\\lib\\site-packages\\sklearn\\gaussian_process\\gpr.py:457: UserWarning: fmin_l_bfgs_b terminated abnormally with the  state: {'grad': array([-0.00513563]), 'task': b'ABNORMAL_TERMINATION_IN_LNSRCH', 'funcalls': 57, 'nit': 5, 'warnflag': 2}\n",
      "  \" state: %s\" % convergence_dict)\n",
      "C:\\ProgramData\\Anaconda3\\envs\\py36\\lib\\site-packages\\sklearn\\gaussian_process\\gpr.py:457: UserWarning: fmin_l_bfgs_b terminated abnormally with the  state: {'grad': array([ 0.00455647]), 'task': b'ABNORMAL_TERMINATION_IN_LNSRCH', 'funcalls': 51, 'nit': 3, 'warnflag': 2}\n",
      "  \" state: %s\" % convergence_dict)\n",
      "C:\\ProgramData\\Anaconda3\\envs\\py36\\lib\\site-packages\\sklearn\\gaussian_process\\gpr.py:457: UserWarning: fmin_l_bfgs_b terminated abnormally with the  state: {'grad': array([-0.00012908]), 'task': b'ABNORMAL_TERMINATION_IN_LNSRCH', 'funcalls': 69, 'nit': 6, 'warnflag': 2}\n",
      "  \" state: %s\" % convergence_dict)\n",
      "C:\\ProgramData\\Anaconda3\\envs\\py36\\lib\\site-packages\\sklearn\\gaussian_process\\gpr.py:457: UserWarning: fmin_l_bfgs_b terminated abnormally with the  state: {'grad': array([-0.00024052]), 'task': b'ABNORMAL_TERMINATION_IN_LNSRCH', 'funcalls': 54, 'nit': 4, 'warnflag': 2}\n",
      "  \" state: %s\" % convergence_dict)\n",
      "C:\\ProgramData\\Anaconda3\\envs\\py36\\lib\\site-packages\\sklearn\\gaussian_process\\gpr.py:457: UserWarning: fmin_l_bfgs_b terminated abnormally with the  state: {'grad': array([ -5.98058105e-05]), 'task': b'ABNORMAL_TERMINATION_IN_LNSRCH', 'funcalls': 52, 'nit': 4, 'warnflag': 2}\n",
      "  \" state: %s\" % convergence_dict)\n",
      "C:\\ProgramData\\Anaconda3\\envs\\py36\\lib\\site-packages\\sklearn\\gaussian_process\\gpr.py:457: UserWarning: fmin_l_bfgs_b terminated abnormally with the  state: {'grad': array([ -4.88311052e-05]), 'task': b'ABNORMAL_TERMINATION_IN_LNSRCH', 'funcalls': 74, 'nit': 5, 'warnflag': 2}\n",
      "  \" state: %s\" % convergence_dict)\n",
      "C:\\ProgramData\\Anaconda3\\envs\\py36\\lib\\site-packages\\sklearn\\gaussian_process\\gpr.py:457: UserWarning: fmin_l_bfgs_b terminated abnormally with the  state: {'grad': array([ 0.04344427]), 'task': b'ABNORMAL_TERMINATION_IN_LNSRCH', 'funcalls': 76, 'nit': 5, 'warnflag': 2}\n",
      "  \" state: %s\" % convergence_dict)\n",
      "C:\\ProgramData\\Anaconda3\\envs\\py36\\lib\\site-packages\\sklearn\\gaussian_process\\gpr.py:457: UserWarning: fmin_l_bfgs_b terminated abnormally with the  state: {'grad': array([-0.00013636]), 'task': b'ABNORMAL_TERMINATION_IN_LNSRCH', 'funcalls': 67, 'nit': 5, 'warnflag': 2}\n",
      "  \" state: %s\" % convergence_dict)\n"
     ]
    },
    {
     "name": "stdout",
     "output_type": "stream",
     "text": [
      "Multiple eval metrics have been passed: 'test-auc' will be used for early stopping.\n",
      "\n",
      "Will train until test-auc hasn't improved in 100 rounds.\n",
      "Stopping. Best iteration:\n",
      "[232]\ttrain-auc:0.92671+0.0012783\ttest-auc:0.920532+0.00620588\n",
      "\n",
      "   67 | 00m53s |    0.92053 |    1.0156 |             0.7859 |    5.5513 |     35.0430 |            14.0083 |      0.7372 | \n"
     ]
    },
    {
     "name": "stderr",
     "output_type": "stream",
     "text": [
      "C:\\ProgramData\\Anaconda3\\envs\\py36\\lib\\site-packages\\sklearn\\gaussian_process\\gpr.py:457: UserWarning: fmin_l_bfgs_b terminated abnormally with the  state: {'grad': array([ 0.0042494]), 'task': b'ABNORMAL_TERMINATION_IN_LNSRCH', 'funcalls': 55, 'nit': 4, 'warnflag': 2}\n",
      "  \" state: %s\" % convergence_dict)\n",
      "C:\\ProgramData\\Anaconda3\\envs\\py36\\lib\\site-packages\\sklearn\\gaussian_process\\gpr.py:457: UserWarning: fmin_l_bfgs_b terminated abnormally with the  state: {'grad': array([ 0.00058066]), 'task': b'ABNORMAL_TERMINATION_IN_LNSRCH', 'funcalls': 52, 'nit': 5, 'warnflag': 2}\n",
      "  \" state: %s\" % convergence_dict)\n",
      "C:\\ProgramData\\Anaconda3\\envs\\py36\\lib\\site-packages\\sklearn\\gaussian_process\\gpr.py:457: UserWarning: fmin_l_bfgs_b terminated abnormally with the  state: {'grad': array([-0.01746138]), 'task': b'ABNORMAL_TERMINATION_IN_LNSRCH', 'funcalls': 49, 'nit': 4, 'warnflag': 2}\n",
      "  \" state: %s\" % convergence_dict)\n",
      "C:\\ProgramData\\Anaconda3\\envs\\py36\\lib\\site-packages\\sklearn\\gaussian_process\\gpr.py:457: UserWarning: fmin_l_bfgs_b terminated abnormally with the  state: {'grad': array([-0.00690568]), 'task': b'ABNORMAL_TERMINATION_IN_LNSRCH', 'funcalls': 48, 'nit': 5, 'warnflag': 2}\n",
      "  \" state: %s\" % convergence_dict)\n",
      "C:\\ProgramData\\Anaconda3\\envs\\py36\\lib\\site-packages\\sklearn\\gaussian_process\\gpr.py:457: UserWarning: fmin_l_bfgs_b terminated abnormally with the  state: {'grad': array([-0.00028523]), 'task': b'ABNORMAL_TERMINATION_IN_LNSRCH', 'funcalls': 66, 'nit': 5, 'warnflag': 2}\n",
      "  \" state: %s\" % convergence_dict)\n"
     ]
    },
    {
     "name": "stdout",
     "output_type": "stream",
     "text": [
      "Multiple eval metrics have been passed: 'test-auc' will be used for early stopping.\n",
      "\n",
      "Will train until test-auc hasn't improved in 100 rounds.\n",
      "Stopping. Best iteration:\n",
      "[737]\ttrain-auc:0.922731+0.00155195\ttest-auc:0.920965+0.00627049\n",
      "\n",
      "   68 | 00m53s |    0.92096 |    3.8131 |             0.9551 |    4.7718 |      1.0480 |            18.7533 |      0.7946 | \n"
     ]
    },
    {
     "name": "stderr",
     "output_type": "stream",
     "text": [
      "C:\\ProgramData\\Anaconda3\\envs\\py36\\lib\\site-packages\\sklearn\\gaussian_process\\gpr.py:457: UserWarning: fmin_l_bfgs_b terminated abnormally with the  state: {'grad': array([ -4.66851052e-05]), 'task': b'ABNORMAL_TERMINATION_IN_LNSRCH', 'funcalls': 86, 'nit': 8, 'warnflag': 2}\n",
      "  \" state: %s\" % convergence_dict)\n",
      "C:\\ProgramData\\Anaconda3\\envs\\py36\\lib\\site-packages\\sklearn\\gaussian_process\\gpr.py:457: UserWarning: fmin_l_bfgs_b terminated abnormally with the  state: {'grad': array([-0.0060045]), 'task': b'ABNORMAL_TERMINATION_IN_LNSRCH', 'funcalls': 75, 'nit': 7, 'warnflag': 2}\n",
      "  \" state: %s\" % convergence_dict)\n",
      "C:\\ProgramData\\Anaconda3\\envs\\py36\\lib\\site-packages\\sklearn\\gaussian_process\\gpr.py:457: UserWarning: fmin_l_bfgs_b terminated abnormally with the  state: {'grad': array([ 0.00412614]), 'task': b'ABNORMAL_TERMINATION_IN_LNSRCH', 'funcalls': 46, 'nit': 2, 'warnflag': 2}\n",
      "  \" state: %s\" % convergence_dict)\n"
     ]
    },
    {
     "name": "stdout",
     "output_type": "stream",
     "text": [
      "Multiple eval metrics have been passed: 'test-auc' will be used for early stopping.\n",
      "\n",
      "Will train until test-auc hasn't improved in 100 rounds.\n",
      "Stopping. Best iteration:\n",
      "[288]\ttrain-auc:0.92386+0.00144963\ttest-auc:0.920759+0.00609082\n",
      "\n",
      "   69 | 00m54s |    0.92076 |    5.2304 |             0.9759 |    6.2870 |     29.4789 |             8.4637 |      0.7658 | \n"
     ]
    },
    {
     "name": "stderr",
     "output_type": "stream",
     "text": [
      "C:\\ProgramData\\Anaconda3\\envs\\py36\\lib\\site-packages\\sklearn\\gaussian_process\\gpr.py:457: UserWarning: fmin_l_bfgs_b terminated abnormally with the  state: {'grad': array([ 0.00344807]), 'task': b'ABNORMAL_TERMINATION_IN_LNSRCH', 'funcalls': 63, 'nit': 6, 'warnflag': 2}\n",
      "  \" state: %s\" % convergence_dict)\n",
      "C:\\ProgramData\\Anaconda3\\envs\\py36\\lib\\site-packages\\sklearn\\gaussian_process\\gpr.py:457: UserWarning: fmin_l_bfgs_b terminated abnormally with the  state: {'grad': array([-0.00634944]), 'task': b'ABNORMAL_TERMINATION_IN_LNSRCH', 'funcalls': 80, 'nit': 8, 'warnflag': 2}\n",
      "  \" state: %s\" % convergence_dict)\n",
      "C:\\ProgramData\\Anaconda3\\envs\\py36\\lib\\site-packages\\sklearn\\gaussian_process\\gpr.py:457: UserWarning: fmin_l_bfgs_b terminated abnormally with the  state: {'grad': array([ 0.00083724]), 'task': b'ABNORMAL_TERMINATION_IN_LNSRCH', 'funcalls': 51, 'nit': 3, 'warnflag': 2}\n",
      "  \" state: %s\" % convergence_dict)\n",
      "C:\\ProgramData\\Anaconda3\\envs\\py36\\lib\\site-packages\\sklearn\\gaussian_process\\gpr.py:457: UserWarning: fmin_l_bfgs_b terminated abnormally with the  state: {'grad': array([ 0.00111149]), 'task': b'ABNORMAL_TERMINATION_IN_LNSRCH', 'funcalls': 52, 'nit': 5, 'warnflag': 2}\n",
      "  \" state: %s\" % convergence_dict)\n",
      "C:\\ProgramData\\Anaconda3\\envs\\py36\\lib\\site-packages\\sklearn\\gaussian_process\\gpr.py:457: UserWarning: fmin_l_bfgs_b terminated abnormally with the  state: {'grad': array([-0.00031779]), 'task': b'ABNORMAL_TERMINATION_IN_LNSRCH', 'funcalls': 79, 'nit': 7, 'warnflag': 2}\n",
      "  \" state: %s\" % convergence_dict)\n",
      "C:\\ProgramData\\Anaconda3\\envs\\py36\\lib\\site-packages\\sklearn\\gaussian_process\\gpr.py:457: UserWarning: fmin_l_bfgs_b terminated abnormally with the  state: {'grad': array([  7.73631036e-05]), 'task': b'ABNORMAL_TERMINATION_IN_LNSRCH', 'funcalls': 53, 'nit': 4, 'warnflag': 2}\n",
      "  \" state: %s\" % convergence_dict)\n",
      "C:\\ProgramData\\Anaconda3\\envs\\py36\\lib\\site-packages\\sklearn\\gaussian_process\\gpr.py:457: UserWarning: fmin_l_bfgs_b terminated abnormally with the  state: {'grad': array([ 0.0002428]), 'task': b'ABNORMAL_TERMINATION_IN_LNSRCH', 'funcalls': 103, 'nit': 7, 'warnflag': 2}\n",
      "  \" state: %s\" % convergence_dict)\n",
      "C:\\ProgramData\\Anaconda3\\envs\\py36\\lib\\site-packages\\sklearn\\gaussian_process\\gpr.py:457: UserWarning: fmin_l_bfgs_b terminated abnormally with the  state: {'grad': array([ 0.01554397]), 'task': b'ABNORMAL_TERMINATION_IN_LNSRCH', 'funcalls': 77, 'nit': 7, 'warnflag': 2}\n",
      "  \" state: %s\" % convergence_dict)\n",
      "C:\\ProgramData\\Anaconda3\\envs\\py36\\lib\\site-packages\\sklearn\\gaussian_process\\gpr.py:457: UserWarning: fmin_l_bfgs_b terminated abnormally with the  state: {'grad': array([ -7.55190849e-05]), 'task': b'ABNORMAL_TERMINATION_IN_LNSRCH', 'funcalls': 71, 'nit': 9, 'warnflag': 2}\n",
      "  \" state: %s\" % convergence_dict)\n"
     ]
    },
    {
     "name": "stdout",
     "output_type": "stream",
     "text": [
      "Multiple eval metrics have been passed: 'test-auc' will be used for early stopping.\n",
      "\n",
      "Will train until test-auc hasn't improved in 100 rounds.\n",
      "Stopping. Best iteration:\n",
      "[1041]\ttrain-auc:0.923272+0.00131926\ttest-auc:0.919582+0.00600435\n",
      "\n",
      "   70 | 01m06s |    0.91958 |    4.6339 |             0.5600 |    7.4563 |      3.1082 |             6.4200 |      0.9977 | \n"
     ]
    },
    {
     "name": "stderr",
     "output_type": "stream",
     "text": [
      "C:\\ProgramData\\Anaconda3\\envs\\py36\\lib\\site-packages\\sklearn\\gaussian_process\\gpr.py:457: UserWarning: fmin_l_bfgs_b terminated abnormally with the  state: {'grad': array([-0.0004724]), 'task': b'ABNORMAL_TERMINATION_IN_LNSRCH', 'funcalls': 52, 'nit': 5, 'warnflag': 2}\n",
      "  \" state: %s\" % convergence_dict)\n",
      "C:\\ProgramData\\Anaconda3\\envs\\py36\\lib\\site-packages\\sklearn\\gaussian_process\\gpr.py:457: UserWarning: fmin_l_bfgs_b terminated abnormally with the  state: {'grad': array([ -7.10948952e-05]), 'task': b'ABNORMAL_TERMINATION_IN_LNSRCH', 'funcalls': 110, 'nit': 6, 'warnflag': 2}\n",
      "  \" state: %s\" % convergence_dict)\n",
      "C:\\ProgramData\\Anaconda3\\envs\\py36\\lib\\site-packages\\sklearn\\gaussian_process\\gpr.py:457: UserWarning: fmin_l_bfgs_b terminated abnormally with the  state: {'grad': array([-0.00835885]), 'task': b'ABNORMAL_TERMINATION_IN_LNSRCH', 'funcalls': 49, 'nit': 6, 'warnflag': 2}\n",
      "  \" state: %s\" % convergence_dict)\n",
      "C:\\ProgramData\\Anaconda3\\envs\\py36\\lib\\site-packages\\sklearn\\gaussian_process\\gpr.py:457: UserWarning: fmin_l_bfgs_b terminated abnormally with the  state: {'grad': array([  8.16602260e-05]), 'task': b'ABNORMAL_TERMINATION_IN_LNSRCH', 'funcalls': 75, 'nit': 5, 'warnflag': 2}\n",
      "  \" state: %s\" % convergence_dict)\n",
      "C:\\ProgramData\\Anaconda3\\envs\\py36\\lib\\site-packages\\sklearn\\gaussian_process\\gpr.py:457: UserWarning: fmin_l_bfgs_b terminated abnormally with the  state: {'grad': array([-0.00207554]), 'task': b'ABNORMAL_TERMINATION_IN_LNSRCH', 'funcalls': 51, 'nit': 4, 'warnflag': 2}\n",
      "  \" state: %s\" % convergence_dict)\n"
     ]
    },
    {
     "name": "stdout",
     "output_type": "stream",
     "text": [
      "Multiple eval metrics have been passed: 'test-auc' will be used for early stopping.\n",
      "\n",
      "Will train until test-auc hasn't improved in 100 rounds.\n",
      "   71 | 01m51s |    0.91733 |    7.4801 |             0.2074 |    0.5341 |     39.7759 |            19.7680 |      0.9843 | \n"
     ]
    },
    {
     "name": "stderr",
     "output_type": "stream",
     "text": [
      "C:\\ProgramData\\Anaconda3\\envs\\py36\\lib\\site-packages\\sklearn\\gaussian_process\\gpr.py:457: UserWarning: fmin_l_bfgs_b terminated abnormally with the  state: {'grad': array([-0.00081126]), 'task': b'ABNORMAL_TERMINATION_IN_LNSRCH', 'funcalls': 79, 'nit': 7, 'warnflag': 2}\n",
      "  \" state: %s\" % convergence_dict)\n",
      "C:\\ProgramData\\Anaconda3\\envs\\py36\\lib\\site-packages\\sklearn\\gaussian_process\\gpr.py:457: UserWarning: fmin_l_bfgs_b terminated abnormally with the  state: {'grad': array([ 0.0020966]), 'task': b'ABNORMAL_TERMINATION_IN_LNSRCH', 'funcalls': 64, 'nit': 7, 'warnflag': 2}\n",
      "  \" state: %s\" % convergence_dict)\n",
      "C:\\ProgramData\\Anaconda3\\envs\\py36\\lib\\site-packages\\sklearn\\gaussian_process\\gpr.py:457: UserWarning: fmin_l_bfgs_b terminated abnormally with the  state: {'grad': array([ 0.00155997]), 'task': b'ABNORMAL_TERMINATION_IN_LNSRCH', 'funcalls': 73, 'nit': 5, 'warnflag': 2}\n",
      "  \" state: %s\" % convergence_dict)\n",
      "C:\\ProgramData\\Anaconda3\\envs\\py36\\lib\\site-packages\\sklearn\\gaussian_process\\gpr.py:457: UserWarning: fmin_l_bfgs_b terminated abnormally with the  state: {'grad': array([ 0.00058059]), 'task': b'ABNORMAL_TERMINATION_IN_LNSRCH', 'funcalls': 56, 'nit': 4, 'warnflag': 2}\n",
      "  \" state: %s\" % convergence_dict)\n"
     ]
    },
    {
     "name": "stdout",
     "output_type": "stream",
     "text": [
      "Multiple eval metrics have been passed: 'test-auc' will be used for early stopping.\n",
      "\n",
      "Will train until test-auc hasn't improved in 100 rounds.\n",
      "Stopping. Best iteration:\n",
      "[388]\ttrain-auc:0.923248+0.00149008\ttest-auc:0.920926+0.0062736\n",
      "\n",
      "   72 | 00m49s |    0.92093 |    0.3097 |             0.9698 |    6.5533 |      2.0038 |             1.1019 |      0.9425 | \n"
     ]
    },
    {
     "name": "stderr",
     "output_type": "stream",
     "text": [
      "C:\\ProgramData\\Anaconda3\\envs\\py36\\lib\\site-packages\\sklearn\\gaussian_process\\gpr.py:457: UserWarning: fmin_l_bfgs_b terminated abnormally with the  state: {'grad': array([ -3.96681171e-05]), 'task': b'ABNORMAL_TERMINATION_IN_LNSRCH', 'funcalls': 72, 'nit': 4, 'warnflag': 2}\n",
      "  \" state: %s\" % convergence_dict)\n",
      "C:\\ProgramData\\Anaconda3\\envs\\py36\\lib\\site-packages\\sklearn\\gaussian_process\\gpr.py:457: UserWarning: fmin_l_bfgs_b terminated abnormally with the  state: {'grad': array([-0.00629276]), 'task': b'ABNORMAL_TERMINATION_IN_LNSRCH', 'funcalls': 57, 'nit': 6, 'warnflag': 2}\n",
      "  \" state: %s\" % convergence_dict)\n",
      "C:\\ProgramData\\Anaconda3\\envs\\py36\\lib\\site-packages\\sklearn\\gaussian_process\\gpr.py:457: UserWarning: fmin_l_bfgs_b terminated abnormally with the  state: {'grad': array([-0.00123078]), 'task': b'ABNORMAL_TERMINATION_IN_LNSRCH', 'funcalls': 68, 'nit': 6, 'warnflag': 2}\n",
      "  \" state: %s\" % convergence_dict)\n",
      "C:\\ProgramData\\Anaconda3\\envs\\py36\\lib\\site-packages\\sklearn\\gaussian_process\\gpr.py:457: UserWarning: fmin_l_bfgs_b terminated abnormally with the  state: {'grad': array([-0.00497921]), 'task': b'ABNORMAL_TERMINATION_IN_LNSRCH', 'funcalls': 52, 'nit': 4, 'warnflag': 2}\n",
      "  \" state: %s\" % convergence_dict)\n"
     ]
    },
    {
     "name": "stdout",
     "output_type": "stream",
     "text": [
      "Multiple eval metrics have been passed: 'test-auc' will be used for early stopping.\n",
      "\n",
      "Will train until test-auc hasn't improved in 100 rounds.\n",
      "Stopping. Best iteration:\n",
      "[315]\ttrain-auc:0.922773+0.0015136\ttest-auc:0.920669+0.00622478\n",
      "\n",
      "   73 | 00m54s |    0.92067 |    6.6287 |             0.9366 |    7.0119 |     12.4390 |            19.4366 |      0.6136 | \n"
     ]
    },
    {
     "name": "stderr",
     "output_type": "stream",
     "text": [
      "C:\\ProgramData\\Anaconda3\\envs\\py36\\lib\\site-packages\\sklearn\\gaussian_process\\gpr.py:457: UserWarning: fmin_l_bfgs_b terminated abnormally with the  state: {'grad': array([ -5.29405661e-05]), 'task': b'ABNORMAL_TERMINATION_IN_LNSRCH', 'funcalls': 57, 'nit': 6, 'warnflag': 2}\n",
      "  \" state: %s\" % convergence_dict)\n",
      "C:\\ProgramData\\Anaconda3\\envs\\py36\\lib\\site-packages\\sklearn\\gaussian_process\\gpr.py:457: UserWarning: fmin_l_bfgs_b terminated abnormally with the  state: {'grad': array([  8.46437179e-05]), 'task': b'ABNORMAL_TERMINATION_IN_LNSRCH', 'funcalls': 73, 'nit': 4, 'warnflag': 2}\n",
      "  \" state: %s\" % convergence_dict)\n",
      "C:\\ProgramData\\Anaconda3\\envs\\py36\\lib\\site-packages\\sklearn\\gaussian_process\\gpr.py:457: UserWarning: fmin_l_bfgs_b terminated abnormally with the  state: {'grad': array([-0.00047232]), 'task': b'ABNORMAL_TERMINATION_IN_LNSRCH', 'funcalls': 69, 'nit': 6, 'warnflag': 2}\n",
      "  \" state: %s\" % convergence_dict)\n",
      "C:\\ProgramData\\Anaconda3\\envs\\py36\\lib\\site-packages\\sklearn\\gaussian_process\\gpr.py:457: UserWarning: fmin_l_bfgs_b terminated abnormally with the  state: {'grad': array([ -2.88737938e-05]), 'task': b'ABNORMAL_TERMINATION_IN_LNSRCH', 'funcalls': 68, 'nit': 6, 'warnflag': 2}\n",
      "  \" state: %s\" % convergence_dict)\n"
     ]
    },
    {
     "name": "stdout",
     "output_type": "stream",
     "text": [
      "Multiple eval metrics have been passed: 'test-auc' will be used for early stopping.\n",
      "\n",
      "Will train until test-auc hasn't improved in 100 rounds.\n",
      "Stopping. Best iteration:\n",
      "[96]\ttrain-auc:0.930117+0.00104578\ttest-auc:0.920335+0.00609516\n",
      "\n",
      "   74 | 00m41s |    0.92034 |    0.1630 |             0.9439 |    7.3261 |     17.6371 |             1.1555 |      0.6983 | \n"
     ]
    },
    {
     "name": "stderr",
     "output_type": "stream",
     "text": [
      "C:\\ProgramData\\Anaconda3\\envs\\py36\\lib\\site-packages\\sklearn\\gaussian_process\\gpr.py:457: UserWarning: fmin_l_bfgs_b terminated abnormally with the  state: {'grad': array([ 0.00470814]), 'task': b'ABNORMAL_TERMINATION_IN_LNSRCH', 'funcalls': 51, 'nit': 4, 'warnflag': 2}\n",
      "  \" state: %s\" % convergence_dict)\n",
      "C:\\ProgramData\\Anaconda3\\envs\\py36\\lib\\site-packages\\sklearn\\gaussian_process\\gpr.py:457: UserWarning: fmin_l_bfgs_b terminated abnormally with the  state: {'grad': array([ 0.00018619]), 'task': b'ABNORMAL_TERMINATION_IN_LNSRCH', 'funcalls': 73, 'nit': 5, 'warnflag': 2}\n",
      "  \" state: %s\" % convergence_dict)\n",
      "C:\\ProgramData\\Anaconda3\\envs\\py36\\lib\\site-packages\\sklearn\\gaussian_process\\gpr.py:457: UserWarning: fmin_l_bfgs_b terminated abnormally with the  state: {'grad': array([-0.01521417]), 'task': b'ABNORMAL_TERMINATION_IN_LNSRCH', 'funcalls': 49, 'nit': 2, 'warnflag': 2}\n",
      "  \" state: %s\" % convergence_dict)\n",
      "C:\\ProgramData\\Anaconda3\\envs\\py36\\lib\\site-packages\\sklearn\\gaussian_process\\gpr.py:457: UserWarning: fmin_l_bfgs_b terminated abnormally with the  state: {'grad': array([-0.00019188]), 'task': b'ABNORMAL_TERMINATION_IN_LNSRCH', 'funcalls': 56, 'nit': 6, 'warnflag': 2}\n",
      "  \" state: %s\" % convergence_dict)\n"
     ]
    },
    {
     "name": "stdout",
     "output_type": "stream",
     "text": [
      "Multiple eval metrics have been passed: 'test-auc' will be used for early stopping.\n",
      "\n",
      "Will train until test-auc hasn't improved in 100 rounds.\n",
      "Stopping. Best iteration:\n",
      "[629]\ttrain-auc:0.922592+0.00155958\ttest-auc:0.920986+0.00626512\n",
      "\n",
      "   75 | 00m57s | \u001b[35m   0.92099\u001b[0m | \u001b[32m   1.5395\u001b[0m | \u001b[32m            0.9855\u001b[0m | \u001b[32m   6.3995\u001b[0m | \u001b[32m     1.8155\u001b[0m | \u001b[32m           13.7314\u001b[0m | \u001b[32m     0.7561\u001b[0m | \n"
     ]
    },
    {
     "name": "stderr",
     "output_type": "stream",
     "text": [
      "C:\\ProgramData\\Anaconda3\\envs\\py36\\lib\\site-packages\\sklearn\\gaussian_process\\gpr.py:457: UserWarning: fmin_l_bfgs_b terminated abnormally with the  state: {'grad': array([-0.00065674]), 'task': b'ABNORMAL_TERMINATION_IN_LNSRCH', 'funcalls': 69, 'nit': 4, 'warnflag': 2}\n",
      "  \" state: %s\" % convergence_dict)\n",
      "C:\\ProgramData\\Anaconda3\\envs\\py36\\lib\\site-packages\\sklearn\\gaussian_process\\gpr.py:457: UserWarning: fmin_l_bfgs_b terminated abnormally with the  state: {'grad': array([ 0.04820989]), 'task': b'ABNORMAL_TERMINATION_IN_LNSRCH', 'funcalls': 82, 'nit': 7, 'warnflag': 2}\n",
      "  \" state: %s\" % convergence_dict)\n",
      "C:\\ProgramData\\Anaconda3\\envs\\py36\\lib\\site-packages\\sklearn\\gaussian_process\\gpr.py:457: UserWarning: fmin_l_bfgs_b terminated abnormally with the  state: {'grad': array([ -4.82387841e-05]), 'task': b'ABNORMAL_TERMINATION_IN_LNSRCH', 'funcalls': 75, 'nit': 6, 'warnflag': 2}\n",
      "  \" state: %s\" % convergence_dict)\n",
      "C:\\ProgramData\\Anaconda3\\envs\\py36\\lib\\site-packages\\sklearn\\gaussian_process\\gpr.py:457: UserWarning: fmin_l_bfgs_b terminated abnormally with the  state: {'grad': array([-0.00018248]), 'task': b'ABNORMAL_TERMINATION_IN_LNSRCH', 'funcalls': 56, 'nit': 6, 'warnflag': 2}\n",
      "  \" state: %s\" % convergence_dict)\n",
      "C:\\ProgramData\\Anaconda3\\envs\\py36\\lib\\site-packages\\sklearn\\gaussian_process\\gpr.py:457: UserWarning: fmin_l_bfgs_b terminated abnormally with the  state: {'grad': array([ -2.79229134e-05]), 'task': b'ABNORMAL_TERMINATION_IN_LNSRCH', 'funcalls': 54, 'nit': 6, 'warnflag': 2}\n",
      "  \" state: %s\" % convergence_dict)\n",
      "C:\\ProgramData\\Anaconda3\\envs\\py36\\lib\\site-packages\\sklearn\\gaussian_process\\gpr.py:457: UserWarning: fmin_l_bfgs_b terminated abnormally with the  state: {'grad': array([-0.00012096]), 'task': b'ABNORMAL_TERMINATION_IN_LNSRCH', 'funcalls': 85, 'nit': 7, 'warnflag': 2}\n",
      "  \" state: %s\" % convergence_dict)\n"
     ]
    },
    {
     "name": "stdout",
     "output_type": "stream",
     "text": [
      "Multiple eval metrics have been passed: 'test-auc' will be used for early stopping.\n",
      "\n",
      "Will train until test-auc hasn't improved in 100 rounds.\n",
      "Stopping. Best iteration:\n",
      "[236]\ttrain-auc:0.923847+0.00146046\ttest-auc:0.920725+0.0061308\n",
      "\n",
      "   76 | 00m56s |    0.92073 |    3.0582 |             0.9201 |    7.4903 |     17.9654 |            15.5667 |      0.8277 | \n"
     ]
    },
    {
     "name": "stderr",
     "output_type": "stream",
     "text": [
      "C:\\ProgramData\\Anaconda3\\envs\\py36\\lib\\site-packages\\sklearn\\gaussian_process\\gpr.py:457: UserWarning: fmin_l_bfgs_b terminated abnormally with the  state: {'grad': array([ -8.65914571e-05]), 'task': b'ABNORMAL_TERMINATION_IN_LNSRCH', 'funcalls': 86, 'nit': 8, 'warnflag': 2}\n",
      "  \" state: %s\" % convergence_dict)\n",
      "C:\\ProgramData\\Anaconda3\\envs\\py36\\lib\\site-packages\\sklearn\\gaussian_process\\gpr.py:457: UserWarning: fmin_l_bfgs_b terminated abnormally with the  state: {'grad': array([-0.00023956]), 'task': b'ABNORMAL_TERMINATION_IN_LNSRCH', 'funcalls': 92, 'nit': 8, 'warnflag': 2}\n",
      "  \" state: %s\" % convergence_dict)\n",
      "C:\\ProgramData\\Anaconda3\\envs\\py36\\lib\\site-packages\\sklearn\\gaussian_process\\gpr.py:457: UserWarning: fmin_l_bfgs_b terminated abnormally with the  state: {'grad': array([-0.0004638]), 'task': b'ABNORMAL_TERMINATION_IN_LNSRCH', 'funcalls': 70, 'nit': 7, 'warnflag': 2}\n",
      "  \" state: %s\" % convergence_dict)\n"
     ]
    },
    {
     "name": "stdout",
     "output_type": "stream",
     "text": [
      "Multiple eval metrics have been passed: 'test-auc' will be used for early stopping.\n",
      "\n",
      "Will train until test-auc hasn't improved in 100 rounds.\n",
      "Stopping. Best iteration:\n",
      "[727]\ttrain-auc:0.92275+0.00156496\ttest-auc:0.920986+0.00629392\n",
      "\n",
      "   77 | 00m58s |    0.92099 |    4.1364 |             0.9637 |    0.4937 |      1.1979 |            11.4591 |      0.7955 | \n"
     ]
    },
    {
     "name": "stderr",
     "output_type": "stream",
     "text": [
      "C:\\ProgramData\\Anaconda3\\envs\\py36\\lib\\site-packages\\sklearn\\gaussian_process\\gpr.py:457: UserWarning: fmin_l_bfgs_b terminated abnormally with the  state: {'grad': array([-0.0209387]), 'task': b'ABNORMAL_TERMINATION_IN_LNSRCH', 'funcalls': 66, 'nit': 4, 'warnflag': 2}\n",
      "  \" state: %s\" % convergence_dict)\n",
      "C:\\ProgramData\\Anaconda3\\envs\\py36\\lib\\site-packages\\sklearn\\gaussian_process\\gpr.py:457: UserWarning: fmin_l_bfgs_b terminated abnormally with the  state: {'grad': array([ -7.44862482e-05]), 'task': b'ABNORMAL_TERMINATION_IN_LNSRCH', 'funcalls': 68, 'nit': 7, 'warnflag': 2}\n",
      "  \" state: %s\" % convergence_dict)\n",
      "C:\\ProgramData\\Anaconda3\\envs\\py36\\lib\\site-packages\\sklearn\\gaussian_process\\gpr.py:457: UserWarning: fmin_l_bfgs_b terminated abnormally with the  state: {'grad': array([-0.00015849]), 'task': b'ABNORMAL_TERMINATION_IN_LNSRCH', 'funcalls': 69, 'nit': 7, 'warnflag': 2}\n",
      "  \" state: %s\" % convergence_dict)\n",
      "C:\\ProgramData\\Anaconda3\\envs\\py36\\lib\\site-packages\\sklearn\\gaussian_process\\gpr.py:457: UserWarning: fmin_l_bfgs_b terminated abnormally with the  state: {'grad': array([ 0.04650163]), 'task': b'ABNORMAL_TERMINATION_IN_LNSRCH', 'funcalls': 57, 'nit': 6, 'warnflag': 2}\n",
      "  \" state: %s\" % convergence_dict)\n"
     ]
    },
    {
     "name": "stdout",
     "output_type": "stream",
     "text": [
      "Multiple eval metrics have been passed: 'test-auc' will be used for early stopping.\n",
      "\n",
      "Will train until test-auc hasn't improved in 100 rounds.\n",
      "Stopping. Best iteration:\n",
      "[477]\ttrain-auc:0.924789+0.00141522\ttest-auc:0.920493+0.00612802\n",
      "\n",
      "   78 | 01m05s |    0.92049 |    2.8123 |             0.6232 |    6.4237 |     32.3801 |            19.7821 |      0.6509 | \n"
     ]
    },
    {
     "name": "stderr",
     "output_type": "stream",
     "text": [
      "C:\\ProgramData\\Anaconda3\\envs\\py36\\lib\\site-packages\\sklearn\\gaussian_process\\gpr.py:457: UserWarning: fmin_l_bfgs_b terminated abnormally with the  state: {'grad': array([-0.01728908]), 'task': b'ABNORMAL_TERMINATION_IN_LNSRCH', 'funcalls': 47, 'nit': 4, 'warnflag': 2}\n",
      "  \" state: %s\" % convergence_dict)\n"
     ]
    },
    {
     "name": "stdout",
     "output_type": "stream",
     "text": [
      "Multiple eval metrics have been passed: 'test-auc' will be used for early stopping.\n",
      "\n",
      "Will train until test-auc hasn't improved in 100 rounds.\n",
      "Stopping. Best iteration:\n",
      "[719]\ttrain-auc:0.922785+0.00156887\ttest-auc:0.920923+0.00633653\n",
      "\n",
      "   79 | 01m02s |    0.92092 |    1.5765 |             0.9494 |    1.1241 |      1.3823 |             9.2610 |      0.8071 | \n"
     ]
    },
    {
     "name": "stderr",
     "output_type": "stream",
     "text": [
      "C:\\ProgramData\\Anaconda3\\envs\\py36\\lib\\site-packages\\sklearn\\gaussian_process\\gpr.py:457: UserWarning: fmin_l_bfgs_b terminated abnormally with the  state: {'grad': array([ 0.00788582]), 'task': b'ABNORMAL_TERMINATION_IN_LNSRCH', 'funcalls': 97, 'nit': 7, 'warnflag': 2}\n",
      "  \" state: %s\" % convergence_dict)\n",
      "C:\\ProgramData\\Anaconda3\\envs\\py36\\lib\\site-packages\\sklearn\\gaussian_process\\gpr.py:457: UserWarning: fmin_l_bfgs_b terminated abnormally with the  state: {'grad': array([-0.00048857]), 'task': b'ABNORMAL_TERMINATION_IN_LNSRCH', 'funcalls': 51, 'nit': 5, 'warnflag': 2}\n",
      "  \" state: %s\" % convergence_dict)\n",
      "C:\\ProgramData\\Anaconda3\\envs\\py36\\lib\\site-packages\\sklearn\\gaussian_process\\gpr.py:457: UserWarning: fmin_l_bfgs_b terminated abnormally with the  state: {'grad': array([-0.00824023]), 'task': b'ABNORMAL_TERMINATION_IN_LNSRCH', 'funcalls': 73, 'nit': 6, 'warnflag': 2}\n",
      "  \" state: %s\" % convergence_dict)\n",
      "C:\\ProgramData\\Anaconda3\\envs\\py36\\lib\\site-packages\\sklearn\\gaussian_process\\gpr.py:457: UserWarning: fmin_l_bfgs_b terminated abnormally with the  state: {'grad': array([-0.04274521]), 'task': b'ABNORMAL_TERMINATION_IN_LNSRCH', 'funcalls': 55, 'nit': 3, 'warnflag': 2}\n",
      "  \" state: %s\" % convergence_dict)\n",
      "C:\\ProgramData\\Anaconda3\\envs\\py36\\lib\\site-packages\\sklearn\\gaussian_process\\gpr.py:457: UserWarning: fmin_l_bfgs_b terminated abnormally with the  state: {'grad': array([ -5.53093851e-05]), 'task': b'ABNORMAL_TERMINATION_IN_LNSRCH', 'funcalls': 63, 'nit': 6, 'warnflag': 2}\n",
      "  \" state: %s\" % convergence_dict)\n",
      "C:\\ProgramData\\Anaconda3\\envs\\py36\\lib\\site-packages\\sklearn\\gaussian_process\\gpr.py:457: UserWarning: fmin_l_bfgs_b terminated abnormally with the  state: {'grad': array([-0.00062942]), 'task': b'ABNORMAL_TERMINATION_IN_LNSRCH', 'funcalls': 54, 'nit': 4, 'warnflag': 2}\n",
      "  \" state: %s\" % convergence_dict)\n"
     ]
    },
    {
     "name": "stdout",
     "output_type": "stream",
     "text": [
      "Multiple eval metrics have been passed: 'test-auc' will be used for early stopping.\n",
      "\n",
      "Will train until test-auc hasn't improved in 100 rounds.\n",
      "Stopping. Best iteration:\n",
      "[273]\ttrain-auc:0.924248+0.00143575\ttest-auc:0.920839+0.00616206\n",
      "\n",
      "   80 | 01m03s |    0.92084 |    4.6833 |             0.9006 |    5.3958 |     25.0566 |             8.9117 |      0.6776 | \n"
     ]
    },
    {
     "name": "stderr",
     "output_type": "stream",
     "text": [
      "C:\\ProgramData\\Anaconda3\\envs\\py36\\lib\\site-packages\\sklearn\\gaussian_process\\gpr.py:457: UserWarning: fmin_l_bfgs_b terminated abnormally with the  state: {'grad': array([ 0.0003189]), 'task': b'ABNORMAL_TERMINATION_IN_LNSRCH', 'funcalls': 55, 'nit': 4, 'warnflag': 2}\n",
      "  \" state: %s\" % convergence_dict)\n",
      "C:\\ProgramData\\Anaconda3\\envs\\py36\\lib\\site-packages\\sklearn\\gaussian_process\\gpr.py:457: UserWarning: fmin_l_bfgs_b terminated abnormally with the  state: {'grad': array([ -6.68619759e-05]), 'task': b'ABNORMAL_TERMINATION_IN_LNSRCH', 'funcalls': 60, 'nit': 6, 'warnflag': 2}\n",
      "  \" state: %s\" % convergence_dict)\n",
      "C:\\ProgramData\\Anaconda3\\envs\\py36\\lib\\site-packages\\sklearn\\gaussian_process\\gpr.py:457: UserWarning: fmin_l_bfgs_b terminated abnormally with the  state: {'grad': array([-0.03616493]), 'task': b'ABNORMAL_TERMINATION_IN_LNSRCH', 'funcalls': 50, 'nit': 2, 'warnflag': 2}\n",
      "  \" state: %s\" % convergence_dict)\n",
      "C:\\ProgramData\\Anaconda3\\envs\\py36\\lib\\site-packages\\sklearn\\gaussian_process\\gpr.py:457: UserWarning: fmin_l_bfgs_b terminated abnormally with the  state: {'grad': array([ -3.83495353e-05]), 'task': b'ABNORMAL_TERMINATION_IN_LNSRCH', 'funcalls': 91, 'nit': 10, 'warnflag': 2}\n",
      "  \" state: %s\" % convergence_dict)\n",
      "C:\\ProgramData\\Anaconda3\\envs\\py36\\lib\\site-packages\\sklearn\\gaussian_process\\gpr.py:457: UserWarning: fmin_l_bfgs_b terminated abnormally with the  state: {'grad': array([ 0.00330619]), 'task': b'ABNORMAL_TERMINATION_IN_LNSRCH', 'funcalls': 63, 'nit': 4, 'warnflag': 2}\n",
      "  \" state: %s\" % convergence_dict)\n",
      "C:\\ProgramData\\Anaconda3\\envs\\py36\\lib\\site-packages\\sklearn\\gaussian_process\\gpr.py:457: UserWarning: fmin_l_bfgs_b terminated abnormally with the  state: {'grad': array([-0.00020088]), 'task': b'ABNORMAL_TERMINATION_IN_LNSRCH', 'funcalls': 59, 'nit': 7, 'warnflag': 2}\n",
      "  \" state: %s\" % convergence_dict)\n"
     ]
    },
    {
     "name": "stdout",
     "output_type": "stream",
     "text": [
      "Multiple eval metrics have been passed: 'test-auc' will be used for early stopping.\n",
      "\n",
      "Will train until test-auc hasn't improved in 100 rounds.\n",
      "Stopping. Best iteration:\n",
      "[288]\ttrain-auc:0.923094+0.00152976\ttest-auc:0.920939+0.00613587\n",
      "\n",
      "   81 | 01m02s |    0.92094 |    4.1937 |             0.9860 |    7.0243 |      5.9642 |            18.7650 |      0.6204 | \n"
     ]
    },
    {
     "name": "stderr",
     "output_type": "stream",
     "text": [
      "C:\\ProgramData\\Anaconda3\\envs\\py36\\lib\\site-packages\\sklearn\\gaussian_process\\gpr.py:457: UserWarning: fmin_l_bfgs_b terminated abnormally with the  state: {'grad': array([  9.46372747e-05]), 'task': b'ABNORMAL_TERMINATION_IN_LNSRCH', 'funcalls': 58, 'nit': 6, 'warnflag': 2}\n",
      "  \" state: %s\" % convergence_dict)\n",
      "C:\\ProgramData\\Anaconda3\\envs\\py36\\lib\\site-packages\\sklearn\\gaussian_process\\gpr.py:457: UserWarning: fmin_l_bfgs_b terminated abnormally with the  state: {'grad': array([-0.00068825]), 'task': b'ABNORMAL_TERMINATION_IN_LNSRCH', 'funcalls': 52, 'nit': 5, 'warnflag': 2}\n",
      "  \" state: %s\" % convergence_dict)\n",
      "C:\\ProgramData\\Anaconda3\\envs\\py36\\lib\\site-packages\\sklearn\\gaussian_process\\gpr.py:457: UserWarning: fmin_l_bfgs_b terminated abnormally with the  state: {'grad': array([ 0.01099856]), 'task': b'ABNORMAL_TERMINATION_IN_LNSRCH', 'funcalls': 67, 'nit': 4, 'warnflag': 2}\n",
      "  \" state: %s\" % convergence_dict)\n"
     ]
    },
    {
     "name": "stdout",
     "output_type": "stream",
     "text": [
      "Multiple eval metrics have been passed: 'test-auc' will be used for early stopping.\n",
      "\n",
      "Will train until test-auc hasn't improved in 100 rounds.\n",
      "Stopping. Best iteration:\n",
      "[650]\ttrain-auc:0.922612+0.0015314\ttest-auc:0.920918+0.00624264\n",
      "\n",
      "   82 | 01m03s |    0.92092 |    5.4936 |             0.9712 |    0.0596 |      1.0734 |             7.4983 |      0.7188 | \n"
     ]
    },
    {
     "name": "stderr",
     "output_type": "stream",
     "text": [
      "C:\\ProgramData\\Anaconda3\\envs\\py36\\lib\\site-packages\\sklearn\\gaussian_process\\gpr.py:457: UserWarning: fmin_l_bfgs_b terminated abnormally with the  state: {'grad': array([ -3.81653081e-05]), 'task': b'ABNORMAL_TERMINATION_IN_LNSRCH', 'funcalls': 68, 'nit': 5, 'warnflag': 2}\n",
      "  \" state: %s\" % convergence_dict)\n",
      "C:\\ProgramData\\Anaconda3\\envs\\py36\\lib\\site-packages\\sklearn\\gaussian_process\\gpr.py:457: UserWarning: fmin_l_bfgs_b terminated abnormally with the  state: {'grad': array([-0.00037511]), 'task': b'ABNORMAL_TERMINATION_IN_LNSRCH', 'funcalls': 46, 'nit': 3, 'warnflag': 2}\n",
      "  \" state: %s\" % convergence_dict)\n",
      "C:\\ProgramData\\Anaconda3\\envs\\py36\\lib\\site-packages\\sklearn\\gaussian_process\\gpr.py:457: UserWarning: fmin_l_bfgs_b terminated abnormally with the  state: {'grad': array([-0.00486606]), 'task': b'ABNORMAL_TERMINATION_IN_LNSRCH', 'funcalls': 75, 'nit': 4, 'warnflag': 2}\n",
      "  \" state: %s\" % convergence_dict)\n",
      "C:\\ProgramData\\Anaconda3\\envs\\py36\\lib\\site-packages\\sklearn\\gaussian_process\\gpr.py:457: UserWarning: fmin_l_bfgs_b terminated abnormally with the  state: {'grad': array([-0.00081124]), 'task': b'ABNORMAL_TERMINATION_IN_LNSRCH', 'funcalls': 54, 'nit': 5, 'warnflag': 2}\n",
      "  \" state: %s\" % convergence_dict)\n",
      "C:\\ProgramData\\Anaconda3\\envs\\py36\\lib\\site-packages\\sklearn\\gaussian_process\\gpr.py:457: UserWarning: fmin_l_bfgs_b terminated abnormally with the  state: {'grad': array([-0.00035784]), 'task': b'ABNORMAL_TERMINATION_IN_LNSRCH', 'funcalls': 74, 'nit': 8, 'warnflag': 2}\n",
      "  \" state: %s\" % convergence_dict)\n"
     ]
    },
    {
     "name": "stdout",
     "output_type": "stream",
     "text": [
      "Multiple eval metrics have been passed: 'test-auc' will be used for early stopping.\n",
      "\n",
      "Will train until test-auc hasn't improved in 100 rounds.\n",
      "Stopping. Best iteration:\n",
      "[299]\ttrain-auc:0.92582+0.00150713\ttest-auc:0.920776+0.0061815\n",
      "\n",
      "   83 | 01m04s |    0.92078 |    1.2371 |             0.9490 |    7.3955 |      6.5828 |             2.1623 |      0.9803 | \n"
     ]
    },
    {
     "name": "stderr",
     "output_type": "stream",
     "text": [
      "C:\\ProgramData\\Anaconda3\\envs\\py36\\lib\\site-packages\\sklearn\\gaussian_process\\gpr.py:457: UserWarning: fmin_l_bfgs_b terminated abnormally with the  state: {'grad': array([-0.00013443]), 'task': b'ABNORMAL_TERMINATION_IN_LNSRCH', 'funcalls': 49, 'nit': 3, 'warnflag': 2}\n",
      "  \" state: %s\" % convergence_dict)\n",
      "C:\\ProgramData\\Anaconda3\\envs\\py36\\lib\\site-packages\\sklearn\\gaussian_process\\gpr.py:457: UserWarning: fmin_l_bfgs_b terminated abnormally with the  state: {'grad': array([ 0.00016465]), 'task': b'ABNORMAL_TERMINATION_IN_LNSRCH', 'funcalls': 61, 'nit': 4, 'warnflag': 2}\n",
      "  \" state: %s\" % convergence_dict)\n",
      "C:\\ProgramData\\Anaconda3\\envs\\py36\\lib\\site-packages\\sklearn\\gaussian_process\\gpr.py:457: UserWarning: fmin_l_bfgs_b terminated abnormally with the  state: {'grad': array([-0.00046247]), 'task': b'ABNORMAL_TERMINATION_IN_LNSRCH', 'funcalls': 76, 'nit': 8, 'warnflag': 2}\n",
      "  \" state: %s\" % convergence_dict)\n",
      "C:\\ProgramData\\Anaconda3\\envs\\py36\\lib\\site-packages\\sklearn\\gaussian_process\\gpr.py:457: UserWarning: fmin_l_bfgs_b terminated abnormally with the  state: {'grad': array([-0.00055117]), 'task': b'ABNORMAL_TERMINATION_IN_LNSRCH', 'funcalls': 63, 'nit': 3, 'warnflag': 2}\n",
      "  \" state: %s\" % convergence_dict)\n"
     ]
    },
    {
     "name": "stdout",
     "output_type": "stream",
     "text": [
      "Multiple eval metrics have been passed: 'test-auc' will be used for early stopping.\n",
      "\n",
      "Will train until test-auc hasn't improved in 100 rounds.\n",
      "Stopping. Best iteration:\n",
      "[607]\ttrain-auc:0.922994+0.00149555\ttest-auc:0.920753+0.00622761\n",
      "\n",
      "   84 | 01m12s |    0.92075 |    7.5955 |             0.8982 |    7.8056 |     30.9021 |            16.5098 |      0.6344 | \n"
     ]
    },
    {
     "name": "stderr",
     "output_type": "stream",
     "text": [
      "C:\\ProgramData\\Anaconda3\\envs\\py36\\lib\\site-packages\\sklearn\\gaussian_process\\gpr.py:457: UserWarning: fmin_l_bfgs_b terminated abnormally with the  state: {'grad': array([ -6.33048039e-05]), 'task': b'ABNORMAL_TERMINATION_IN_LNSRCH', 'funcalls': 71, 'nit': 7, 'warnflag': 2}\n",
      "  \" state: %s\" % convergence_dict)\n",
      "C:\\ProgramData\\Anaconda3\\envs\\py36\\lib\\site-packages\\sklearn\\gaussian_process\\gpr.py:457: UserWarning: fmin_l_bfgs_b terminated abnormally with the  state: {'grad': array([ -5.16157961e-05]), 'task': b'ABNORMAL_TERMINATION_IN_LNSRCH', 'funcalls': 53, 'nit': 5, 'warnflag': 2}\n",
      "  \" state: %s\" % convergence_dict)\n",
      "C:\\ProgramData\\Anaconda3\\envs\\py36\\lib\\site-packages\\sklearn\\gaussian_process\\gpr.py:457: UserWarning: fmin_l_bfgs_b terminated abnormally with the  state: {'grad': array([-0.00085398]), 'task': b'ABNORMAL_TERMINATION_IN_LNSRCH', 'funcalls': 64, 'nit': 8, 'warnflag': 2}\n",
      "  \" state: %s\" % convergence_dict)\n",
      "C:\\ProgramData\\Anaconda3\\envs\\py36\\lib\\site-packages\\sklearn\\gaussian_process\\gpr.py:457: UserWarning: fmin_l_bfgs_b terminated abnormally with the  state: {'grad': array([-0.00067147]), 'task': b'ABNORMAL_TERMINATION_IN_LNSRCH', 'funcalls': 66, 'nit': 6, 'warnflag': 2}\n",
      "  \" state: %s\" % convergence_dict)\n",
      "C:\\ProgramData\\Anaconda3\\envs\\py36\\lib\\site-packages\\sklearn\\gaussian_process\\gpr.py:457: UserWarning: fmin_l_bfgs_b terminated abnormally with the  state: {'grad': array([-0.08452371]), 'task': b'ABNORMAL_TERMINATION_IN_LNSRCH', 'funcalls': 59, 'nit': 4, 'warnflag': 2}\n",
      "  \" state: %s\" % convergence_dict)\n"
     ]
    },
    {
     "name": "stdout",
     "output_type": "stream",
     "text": [
      "Multiple eval metrics have been passed: 'test-auc' will be used for early stopping.\n",
      "\n",
      "Will train until test-auc hasn't improved in 100 rounds.\n",
      "Stopping. Best iteration:\n",
      "[767]\ttrain-auc:0.922761+0.00148737\ttest-auc:0.920825+0.00622747\n",
      "\n",
      "   85 | 01m05s |    0.92082 |    6.7959 |             0.9305 |    1.2727 |      1.0564 |            15.9609 |      0.8495 | \n"
     ]
    },
    {
     "name": "stderr",
     "output_type": "stream",
     "text": [
      "C:\\ProgramData\\Anaconda3\\envs\\py36\\lib\\site-packages\\sklearn\\gaussian_process\\gpr.py:457: UserWarning: fmin_l_bfgs_b terminated abnormally with the  state: {'grad': array([ 0.02165988]), 'task': b'ABNORMAL_TERMINATION_IN_LNSRCH', 'funcalls': 49, 'nit': 3, 'warnflag': 2}\n",
      "  \" state: %s\" % convergence_dict)\n",
      "C:\\ProgramData\\Anaconda3\\envs\\py36\\lib\\site-packages\\sklearn\\gaussian_process\\gpr.py:457: UserWarning: fmin_l_bfgs_b terminated abnormally with the  state: {'grad': array([-0.01694674]), 'task': b'ABNORMAL_TERMINATION_IN_LNSRCH', 'funcalls': 57, 'nit': 4, 'warnflag': 2}\n",
      "  \" state: %s\" % convergence_dict)\n",
      "C:\\ProgramData\\Anaconda3\\envs\\py36\\lib\\site-packages\\sklearn\\gaussian_process\\gpr.py:457: UserWarning: fmin_l_bfgs_b terminated abnormally with the  state: {'grad': array([-0.00088739]), 'task': b'ABNORMAL_TERMINATION_IN_LNSRCH', 'funcalls': 51, 'nit': 6, 'warnflag': 2}\n",
      "  \" state: %s\" % convergence_dict)\n",
      "C:\\ProgramData\\Anaconda3\\envs\\py36\\lib\\site-packages\\sklearn\\gaussian_process\\gpr.py:457: UserWarning: fmin_l_bfgs_b terminated abnormally with the  state: {'grad': array([-0.0255701]), 'task': b'ABNORMAL_TERMINATION_IN_LNSRCH', 'funcalls': 65, 'nit': 5, 'warnflag': 2}\n",
      "  \" state: %s\" % convergence_dict)\n"
     ]
    },
    {
     "name": "stdout",
     "output_type": "stream",
     "text": [
      "Multiple eval metrics have been passed: 'test-auc' will be used for early stopping.\n",
      "\n",
      "Will train until test-auc hasn't improved in 100 rounds.\n",
      "Stopping. Best iteration:\n",
      "[905]\ttrain-auc:0.922721+0.00150933\ttest-auc:0.920741+0.00629328\n",
      "\n",
      "   86 | 01m06s |    0.92074 |    7.2854 |             0.8107 |    3.4332 |      1.0178 |             8.1078 |      0.8641 | \n"
     ]
    },
    {
     "name": "stderr",
     "output_type": "stream",
     "text": [
      "C:\\ProgramData\\Anaconda3\\envs\\py36\\lib\\site-packages\\sklearn\\gaussian_process\\gpr.py:457: UserWarning: fmin_l_bfgs_b terminated abnormally with the  state: {'grad': array([-0.03624477]), 'task': b'ABNORMAL_TERMINATION_IN_LNSRCH', 'funcalls': 55, 'nit': 4, 'warnflag': 2}\n",
      "  \" state: %s\" % convergence_dict)\n",
      "C:\\ProgramData\\Anaconda3\\envs\\py36\\lib\\site-packages\\sklearn\\gaussian_process\\gpr.py:457: UserWarning: fmin_l_bfgs_b terminated abnormally with the  state: {'grad': array([ 0.02578331]), 'task': b'ABNORMAL_TERMINATION_IN_LNSRCH', 'funcalls': 59, 'nit': 7, 'warnflag': 2}\n",
      "  \" state: %s\" % convergence_dict)\n",
      "C:\\ProgramData\\Anaconda3\\envs\\py36\\lib\\site-packages\\sklearn\\gaussian_process\\gpr.py:457: UserWarning: fmin_l_bfgs_b terminated abnormally with the  state: {'grad': array([-0.00015812]), 'task': b'ABNORMAL_TERMINATION_IN_LNSRCH', 'funcalls': 57, 'nit': 7, 'warnflag': 2}\n",
      "  \" state: %s\" % convergence_dict)\n"
     ]
    },
    {
     "name": "stdout",
     "output_type": "stream",
     "text": [
      "Multiple eval metrics have been passed: 'test-auc' will be used for early stopping.\n",
      "\n",
      "Will train until test-auc hasn't improved in 100 rounds.\n",
      "Stopping. Best iteration:\n",
      "[275]\ttrain-auc:0.922859+0.00156281\ttest-auc:0.920835+0.00628719\n",
      "\n",
      "   87 | 00m59s |    0.92083 |    5.0834 |             0.9037 |    7.7191 |     38.7488 |            14.1874 |      0.6471 | \n"
     ]
    },
    {
     "name": "stderr",
     "output_type": "stream",
     "text": [
      "C:\\ProgramData\\Anaconda3\\envs\\py36\\lib\\site-packages\\sklearn\\gaussian_process\\gpr.py:457: UserWarning: fmin_l_bfgs_b terminated abnormally with the  state: {'grad': array([-0.00112689]), 'task': b'ABNORMAL_TERMINATION_IN_LNSRCH', 'funcalls': 90, 'nit': 6, 'warnflag': 2}\n",
      "  \" state: %s\" % convergence_dict)\n",
      "C:\\ProgramData\\Anaconda3\\envs\\py36\\lib\\site-packages\\sklearn\\gaussian_process\\gpr.py:457: UserWarning: fmin_l_bfgs_b terminated abnormally with the  state: {'grad': array([-0.02031346]), 'task': b'ABNORMAL_TERMINATION_IN_LNSRCH', 'funcalls': 50, 'nit': 4, 'warnflag': 2}\n",
      "  \" state: %s\" % convergence_dict)\n"
     ]
    },
    {
     "name": "stdout",
     "output_type": "stream",
     "text": [
      "Multiple eval metrics have been passed: 'test-auc' will be used for early stopping.\n",
      "\n",
      "Will train until test-auc hasn't improved in 100 rounds.\n",
      "Stopping. Best iteration:\n",
      "[759]\ttrain-auc:0.922489+0.00150321\ttest-auc:0.920883+0.00628041\n",
      "\n",
      "   88 | 01m06s |    0.92088 |    5.6779 |             0.9704 |    7.7692 |      1.4423 |            15.9691 |      0.6085 | \n"
     ]
    },
    {
     "name": "stderr",
     "output_type": "stream",
     "text": [
      "C:\\ProgramData\\Anaconda3\\envs\\py36\\lib\\site-packages\\sklearn\\gaussian_process\\gpr.py:457: UserWarning: fmin_l_bfgs_b terminated abnormally with the  state: {'grad': array([-0.00035389]), 'task': b'ABNORMAL_TERMINATION_IN_LNSRCH', 'funcalls': 66, 'nit': 4, 'warnflag': 2}\n",
      "  \" state: %s\" % convergence_dict)\n",
      "C:\\ProgramData\\Anaconda3\\envs\\py36\\lib\\site-packages\\sklearn\\gaussian_process\\gpr.py:457: UserWarning: fmin_l_bfgs_b terminated abnormally with the  state: {'grad': array([ -5.57495114e-05]), 'task': b'ABNORMAL_TERMINATION_IN_LNSRCH', 'funcalls': 83, 'nit': 6, 'warnflag': 2}\n",
      "  \" state: %s\" % convergence_dict)\n"
     ]
    },
    {
     "name": "stdout",
     "output_type": "stream",
     "text": [
      "Multiple eval metrics have been passed: 'test-auc' will be used for early stopping.\n",
      "\n",
      "Will train until test-auc hasn't improved in 100 rounds.\n",
      "Stopping. Best iteration:\n",
      "[571]\ttrain-auc:0.924188+0.00145187\ttest-auc:0.920471+0.00616866\n",
      "\n",
      "   89 | 01m11s |    0.92047 |    4.9930 |             0.6112 |    6.4246 |     31.0103 |            13.7885 |      0.6900 | \n"
     ]
    },
    {
     "name": "stderr",
     "output_type": "stream",
     "text": [
      "C:\\ProgramData\\Anaconda3\\envs\\py36\\lib\\site-packages\\sklearn\\gaussian_process\\gpr.py:457: UserWarning: fmin_l_bfgs_b terminated abnormally with the  state: {'grad': array([ -1.74362212e-05]), 'task': b'ABNORMAL_TERMINATION_IN_LNSRCH', 'funcalls': 56, 'nit': 6, 'warnflag': 2}\n",
      "  \" state: %s\" % convergence_dict)\n",
      "C:\\ProgramData\\Anaconda3\\envs\\py36\\lib\\site-packages\\sklearn\\gaussian_process\\gpr.py:457: UserWarning: fmin_l_bfgs_b terminated abnormally with the  state: {'grad': array([ 0.01579819]), 'task': b'ABNORMAL_TERMINATION_IN_LNSRCH', 'funcalls': 54, 'nit': 5, 'warnflag': 2}\n",
      "  \" state: %s\" % convergence_dict)\n",
      "C:\\ProgramData\\Anaconda3\\envs\\py36\\lib\\site-packages\\sklearn\\gaussian_process\\gpr.py:457: UserWarning: fmin_l_bfgs_b terminated abnormally with the  state: {'grad': array([-0.0022069]), 'task': b'ABNORMAL_TERMINATION_IN_LNSRCH', 'funcalls': 70, 'nit': 7, 'warnflag': 2}\n",
      "  \" state: %s\" % convergence_dict)\n"
     ]
    },
    {
     "name": "stdout",
     "output_type": "stream",
     "text": [
      "Multiple eval metrics have been passed: 'test-auc' will be used for early stopping.\n",
      "\n",
      "Will train until test-auc hasn't improved in 100 rounds.\n",
      "Stopping. Best iteration:\n",
      "[423]\ttrain-auc:0.922766+0.00146083\ttest-auc:0.920741+0.00619751\n",
      "\n",
      "   90 | 01m07s |    0.92074 |    7.9745 |             0.8824 |    7.3166 |     21.3112 |            16.6724 |      0.6010 | \n"
     ]
    },
    {
     "name": "stderr",
     "output_type": "stream",
     "text": [
      "C:\\ProgramData\\Anaconda3\\envs\\py36\\lib\\site-packages\\sklearn\\gaussian_process\\gpr.py:457: UserWarning: fmin_l_bfgs_b terminated abnormally with the  state: {'grad': array([ -6.85314408e-05]), 'task': b'ABNORMAL_TERMINATION_IN_LNSRCH', 'funcalls': 53, 'nit': 4, 'warnflag': 2}\n",
      "  \" state: %s\" % convergence_dict)\n",
      "C:\\ProgramData\\Anaconda3\\envs\\py36\\lib\\site-packages\\sklearn\\gaussian_process\\gpr.py:457: UserWarning: fmin_l_bfgs_b terminated abnormally with the  state: {'grad': array([ 0.01479987]), 'task': b'ABNORMAL_TERMINATION_IN_LNSRCH', 'funcalls': 72, 'nit': 4, 'warnflag': 2}\n",
      "  \" state: %s\" % convergence_dict)\n",
      "C:\\ProgramData\\Anaconda3\\envs\\py36\\lib\\site-packages\\sklearn\\gaussian_process\\gpr.py:457: UserWarning: fmin_l_bfgs_b terminated abnormally with the  state: {'grad': array([-0.00668471]), 'task': b'ABNORMAL_TERMINATION_IN_LNSRCH', 'funcalls': 51, 'nit': 3, 'warnflag': 2}\n",
      "  \" state: %s\" % convergence_dict)\n",
      "C:\\ProgramData\\Anaconda3\\envs\\py36\\lib\\site-packages\\sklearn\\gaussian_process\\gpr.py:457: UserWarning: fmin_l_bfgs_b terminated abnormally with the  state: {'grad': array([-0.00132295]), 'task': b'ABNORMAL_TERMINATION_IN_LNSRCH', 'funcalls': 50, 'nit': 4, 'warnflag': 2}\n",
      "  \" state: %s\" % convergence_dict)\n",
      "C:\\ProgramData\\Anaconda3\\envs\\py36\\lib\\site-packages\\sklearn\\gaussian_process\\gpr.py:457: UserWarning: fmin_l_bfgs_b terminated abnormally with the  state: {'grad': array([ -4.25450162e-05]), 'task': b'ABNORMAL_TERMINATION_IN_LNSRCH', 'funcalls': 63, 'nit': 7, 'warnflag': 2}\n",
      "  \" state: %s\" % convergence_dict)\n",
      "C:\\ProgramData\\Anaconda3\\envs\\py36\\lib\\site-packages\\sklearn\\gaussian_process\\gpr.py:457: UserWarning: fmin_l_bfgs_b terminated abnormally with the  state: {'grad': array([ 0.02239525]), 'task': b'ABNORMAL_TERMINATION_IN_LNSRCH', 'funcalls': 63, 'nit': 7, 'warnflag': 2}\n",
      "  \" state: %s\" % convergence_dict)\n",
      "C:\\ProgramData\\Anaconda3\\envs\\py36\\lib\\site-packages\\sklearn\\gaussian_process\\gpr.py:457: UserWarning: fmin_l_bfgs_b terminated abnormally with the  state: {'grad': array([-0.00530464]), 'task': b'ABNORMAL_TERMINATION_IN_LNSRCH', 'funcalls': 60, 'nit': 5, 'warnflag': 2}\n",
      "  \" state: %s\" % convergence_dict)\n"
     ]
    },
    {
     "name": "stdout",
     "output_type": "stream",
     "text": [
      "Multiple eval metrics have been passed: 'test-auc' will be used for early stopping.\n",
      "\n",
      "Will train until test-auc hasn't improved in 100 rounds.\n",
      "Stopping. Best iteration:\n",
      "[282]\ttrain-auc:0.928293+0.0013111\ttest-auc:0.92+0.00608705\n",
      "\n",
      "   91 | 01m05s |    0.92000 |    2.4547 |             0.6975 |    3.5417 |     39.7503 |            13.1999 |      0.7861 | \n"
     ]
    },
    {
     "name": "stderr",
     "output_type": "stream",
     "text": [
      "C:\\ProgramData\\Anaconda3\\envs\\py36\\lib\\site-packages\\sklearn\\gaussian_process\\gpr.py:457: UserWarning: fmin_l_bfgs_b terminated abnormally with the  state: {'grad': array([ 0.00096725]), 'task': b'ABNORMAL_TERMINATION_IN_LNSRCH', 'funcalls': 62, 'nit': 5, 'warnflag': 2}\n",
      "  \" state: %s\" % convergence_dict)\n",
      "C:\\ProgramData\\Anaconda3\\envs\\py36\\lib\\site-packages\\sklearn\\gaussian_process\\gpr.py:457: UserWarning: fmin_l_bfgs_b terminated abnormally with the  state: {'grad': array([ -5.40651381e-05]), 'task': b'ABNORMAL_TERMINATION_IN_LNSRCH', 'funcalls': 79, 'nit': 9, 'warnflag': 2}\n",
      "  \" state: %s\" % convergence_dict)\n",
      "C:\\ProgramData\\Anaconda3\\envs\\py36\\lib\\site-packages\\sklearn\\gaussian_process\\gpr.py:457: UserWarning: fmin_l_bfgs_b terminated abnormally with the  state: {'grad': array([-0.12463039]), 'task': b'ABNORMAL_TERMINATION_IN_LNSRCH', 'funcalls': 52, 'nit': 5, 'warnflag': 2}\n",
      "  \" state: %s\" % convergence_dict)\n",
      "C:\\ProgramData\\Anaconda3\\envs\\py36\\lib\\site-packages\\sklearn\\gaussian_process\\gpr.py:457: UserWarning: fmin_l_bfgs_b terminated abnormally with the  state: {'grad': array([ -1.11382687e-05]), 'task': b'ABNORMAL_TERMINATION_IN_LNSRCH', 'funcalls': 53, 'nit': 6, 'warnflag': 2}\n",
      "  \" state: %s\" % convergence_dict)\n",
      "C:\\ProgramData\\Anaconda3\\envs\\py36\\lib\\site-packages\\sklearn\\gaussian_process\\gpr.py:457: UserWarning: fmin_l_bfgs_b terminated abnormally with the  state: {'grad': array([-0.00011098]), 'task': b'ABNORMAL_TERMINATION_IN_LNSRCH', 'funcalls': 71, 'nit': 4, 'warnflag': 2}\n",
      "  \" state: %s\" % convergence_dict)\n",
      "C:\\ProgramData\\Anaconda3\\envs\\py36\\lib\\site-packages\\sklearn\\gaussian_process\\gpr.py:457: UserWarning: fmin_l_bfgs_b terminated abnormally with the  state: {'grad': array([ 0.00027006]), 'task': b'ABNORMAL_TERMINATION_IN_LNSRCH', 'funcalls': 76, 'nit': 6, 'warnflag': 2}\n",
      "  \" state: %s\" % convergence_dict)\n",
      "C:\\ProgramData\\Anaconda3\\envs\\py36\\lib\\site-packages\\sklearn\\gaussian_process\\gpr.py:457: UserWarning: fmin_l_bfgs_b terminated abnormally with the  state: {'grad': array([-0.0004336]), 'task': b'ABNORMAL_TERMINATION_IN_LNSRCH', 'funcalls': 54, 'nit': 7, 'warnflag': 2}\n",
      "  \" state: %s\" % convergence_dict)\n",
      "C:\\ProgramData\\Anaconda3\\envs\\py36\\lib\\site-packages\\sklearn\\gaussian_process\\gpr.py:457: UserWarning: fmin_l_bfgs_b terminated abnormally with the  state: {'grad': array([-0.00666252]), 'task': b'ABNORMAL_TERMINATION_IN_LNSRCH', 'funcalls': 66, 'nit': 7, 'warnflag': 2}\n",
      "  \" state: %s\" % convergence_dict)\n",
      "C:\\ProgramData\\Anaconda3\\envs\\py36\\lib\\site-packages\\sklearn\\gaussian_process\\gpr.py:457: UserWarning: fmin_l_bfgs_b terminated abnormally with the  state: {'grad': array([ 0.00040052]), 'task': b'ABNORMAL_TERMINATION_IN_LNSRCH', 'funcalls': 54, 'nit': 5, 'warnflag': 2}\n",
      "  \" state: %s\" % convergence_dict)\n"
     ]
    },
    {
     "name": "stdout",
     "output_type": "stream",
     "text": [
      "Multiple eval metrics have been passed: 'test-auc' will be used for early stopping.\n",
      "\n",
      "Will train until test-auc hasn't improved in 100 rounds.\n",
      "Stopping. Best iteration:\n",
      "[678]\ttrain-auc:0.924966+0.00141666\ttest-auc:0.920066+0.00607024\n",
      "\n",
      "   92 | 01m11s |    0.92007 |    6.8149 |             0.4803 |    4.1903 |     23.9915 |             9.8162 |      0.6929 | \n"
     ]
    },
    {
     "name": "stderr",
     "output_type": "stream",
     "text": [
      "C:\\ProgramData\\Anaconda3\\envs\\py36\\lib\\site-packages\\sklearn\\gaussian_process\\gpr.py:457: UserWarning: fmin_l_bfgs_b terminated abnormally with the  state: {'grad': array([-0.00028225]), 'task': b'ABNORMAL_TERMINATION_IN_LNSRCH', 'funcalls': 50, 'nit': 4, 'warnflag': 2}\n",
      "  \" state: %s\" % convergence_dict)\n",
      "C:\\ProgramData\\Anaconda3\\envs\\py36\\lib\\site-packages\\sklearn\\gaussian_process\\gpr.py:457: UserWarning: fmin_l_bfgs_b terminated abnormally with the  state: {'grad': array([-0.00813193]), 'task': b'ABNORMAL_TERMINATION_IN_LNSRCH', 'funcalls': 72, 'nit': 6, 'warnflag': 2}\n",
      "  \" state: %s\" % convergence_dict)\n",
      "C:\\ProgramData\\Anaconda3\\envs\\py36\\lib\\site-packages\\sklearn\\gaussian_process\\gpr.py:457: UserWarning: fmin_l_bfgs_b terminated abnormally with the  state: {'grad': array([ 0.02307422]), 'task': b'ABNORMAL_TERMINATION_IN_LNSRCH', 'funcalls': 66, 'nit': 6, 'warnflag': 2}\n",
      "  \" state: %s\" % convergence_dict)\n",
      "C:\\ProgramData\\Anaconda3\\envs\\py36\\lib\\site-packages\\sklearn\\gaussian_process\\gpr.py:457: UserWarning: fmin_l_bfgs_b terminated abnormally with the  state: {'grad': array([-0.00073009]), 'task': b'ABNORMAL_TERMINATION_IN_LNSRCH', 'funcalls': 60, 'nit': 5, 'warnflag': 2}\n",
      "  \" state: %s\" % convergence_dict)\n"
     ]
    },
    {
     "name": "stdout",
     "output_type": "stream",
     "text": [
      "Multiple eval metrics have been passed: 'test-auc' will be used for early stopping.\n",
      "\n",
      "Will train until test-auc hasn't improved in 100 rounds.\n",
      "Stopping. Best iteration:\n",
      "[288]\ttrain-auc:0.925237+0.00155172\ttest-auc:0.92046+0.00611656\n",
      "\n",
      "   93 | 01m09s |    0.92046 |    6.8984 |             0.8118 |    3.5118 |     25.4969 |             1.0784 |      0.7774 | \n"
     ]
    },
    {
     "name": "stderr",
     "output_type": "stream",
     "text": [
      "C:\\ProgramData\\Anaconda3\\envs\\py36\\lib\\site-packages\\sklearn\\gaussian_process\\gpr.py:457: UserWarning: fmin_l_bfgs_b terminated abnormally with the  state: {'grad': array([-0.00057219]), 'task': b'ABNORMAL_TERMINATION_IN_LNSRCH', 'funcalls': 55, 'nit': 5, 'warnflag': 2}\n",
      "  \" state: %s\" % convergence_dict)\n",
      "C:\\ProgramData\\Anaconda3\\envs\\py36\\lib\\site-packages\\sklearn\\gaussian_process\\gpr.py:457: UserWarning: fmin_l_bfgs_b terminated abnormally with the  state: {'grad': array([-0.02342111]), 'task': b'ABNORMAL_TERMINATION_IN_LNSRCH', 'funcalls': 55, 'nit': 5, 'warnflag': 2}\n",
      "  \" state: %s\" % convergence_dict)\n",
      "C:\\ProgramData\\Anaconda3\\envs\\py36\\lib\\site-packages\\sklearn\\gaussian_process\\gpr.py:457: UserWarning: fmin_l_bfgs_b terminated abnormally with the  state: {'grad': array([ -1.50161795e-05]), 'task': b'ABNORMAL_TERMINATION_IN_LNSRCH', 'funcalls': 50, 'nit': 4, 'warnflag': 2}\n",
      "  \" state: %s\" % convergence_dict)\n",
      "C:\\ProgramData\\Anaconda3\\envs\\py36\\lib\\site-packages\\sklearn\\gaussian_process\\gpr.py:457: UserWarning: fmin_l_bfgs_b terminated abnormally with the  state: {'grad': array([ 0.02848364]), 'task': b'ABNORMAL_TERMINATION_IN_LNSRCH', 'funcalls': 80, 'nit': 8, 'warnflag': 2}\n",
      "  \" state: %s\" % convergence_dict)\n",
      "C:\\ProgramData\\Anaconda3\\envs\\py36\\lib\\site-packages\\sklearn\\gaussian_process\\gpr.py:457: UserWarning: fmin_l_bfgs_b terminated abnormally with the  state: {'grad': array([ -4.08028718e-05]), 'task': b'ABNORMAL_TERMINATION_IN_LNSRCH', 'funcalls': 49, 'nit': 5, 'warnflag': 2}\n",
      "  \" state: %s\" % convergence_dict)\n",
      "C:\\ProgramData\\Anaconda3\\envs\\py36\\lib\\site-packages\\sklearn\\gaussian_process\\gpr.py:457: UserWarning: fmin_l_bfgs_b terminated abnormally with the  state: {'grad': array([-0.00029524]), 'task': b'ABNORMAL_TERMINATION_IN_LNSRCH', 'funcalls': 58, 'nit': 2, 'warnflag': 2}\n",
      "  \" state: %s\" % convergence_dict)\n",
      "C:\\ProgramData\\Anaconda3\\envs\\py36\\lib\\site-packages\\sklearn\\gaussian_process\\gpr.py:457: UserWarning: fmin_l_bfgs_b terminated abnormally with the  state: {'grad': array([ 0.0018667]), 'task': b'ABNORMAL_TERMINATION_IN_LNSRCH', 'funcalls': 76, 'nit': 8, 'warnflag': 2}\n",
      "  \" state: %s\" % convergence_dict)\n"
     ]
    },
    {
     "name": "stdout",
     "output_type": "stream",
     "text": [
      "Multiple eval metrics have been passed: 'test-auc' will be used for early stopping.\n",
      "\n",
      "Will train until test-auc hasn't improved in 100 rounds.\n",
      "Stopping. Best iteration:\n",
      "[729]\ttrain-auc:0.922762+0.00154043\ttest-auc:0.921001+0.00634223\n",
      "\n",
      "   94 | 01m14s | \u001b[35m   0.92100\u001b[0m | \u001b[32m   2.9347\u001b[0m | \u001b[32m            0.9026\u001b[0m | \u001b[32m   3.4787\u001b[0m | \u001b[32m     1.6080\u001b[0m | \u001b[32m            4.3264\u001b[0m | \u001b[32m     0.7854\u001b[0m | \n"
     ]
    },
    {
     "name": "stderr",
     "output_type": "stream",
     "text": [
      "C:\\ProgramData\\Anaconda3\\envs\\py36\\lib\\site-packages\\sklearn\\gaussian_process\\gpr.py:457: UserWarning: fmin_l_bfgs_b terminated abnormally with the  state: {'grad': array([ -2.88623851e-05]), 'task': b'ABNORMAL_TERMINATION_IN_LNSRCH', 'funcalls': 66, 'nit': 7, 'warnflag': 2}\n",
      "  \" state: %s\" % convergence_dict)\n",
      "C:\\ProgramData\\Anaconda3\\envs\\py36\\lib\\site-packages\\sklearn\\gaussian_process\\gpr.py:457: UserWarning: fmin_l_bfgs_b terminated abnormally with the  state: {'grad': array([ 0.01208613]), 'task': b'ABNORMAL_TERMINATION_IN_LNSRCH', 'funcalls': 53, 'nit': 6, 'warnflag': 2}\n",
      "  \" state: %s\" % convergence_dict)\n"
     ]
    },
    {
     "name": "stdout",
     "output_type": "stream",
     "text": [
      "Multiple eval metrics have been passed: 'test-auc' will be used for early stopping.\n",
      "\n",
      "Will train until test-auc hasn't improved in 100 rounds.\n",
      "Stopping. Best iteration:\n",
      "[312]\ttrain-auc:0.924965+0.00144613\ttest-auc:0.920674+0.00618678\n",
      "\n",
      "   95 | 01m13s |    0.92067 |    0.4431 |             0.8142 |    7.6762 |      9.3601 |            19.5767 |      0.7212 | \n"
     ]
    },
    {
     "name": "stderr",
     "output_type": "stream",
     "text": [
      "C:\\ProgramData\\Anaconda3\\envs\\py36\\lib\\site-packages\\sklearn\\gaussian_process\\gpr.py:457: UserWarning: fmin_l_bfgs_b terminated abnormally with the  state: {'grad': array([-0.00048362]), 'task': b'ABNORMAL_TERMINATION_IN_LNSRCH', 'funcalls': 54, 'nit': 5, 'warnflag': 2}\n",
      "  \" state: %s\" % convergence_dict)\n",
      "C:\\ProgramData\\Anaconda3\\envs\\py36\\lib\\site-packages\\sklearn\\gaussian_process\\gpr.py:457: UserWarning: fmin_l_bfgs_b terminated abnormally with the  state: {'grad': array([ 0.0025998]), 'task': b'ABNORMAL_TERMINATION_IN_LNSRCH', 'funcalls': 57, 'nit': 7, 'warnflag': 2}\n",
      "  \" state: %s\" % convergence_dict)\n",
      "C:\\ProgramData\\Anaconda3\\envs\\py36\\lib\\site-packages\\sklearn\\gaussian_process\\gpr.py:457: UserWarning: fmin_l_bfgs_b terminated abnormally with the  state: {'grad': array([ 0.00261108]), 'task': b'ABNORMAL_TERMINATION_IN_LNSRCH', 'funcalls': 80, 'nit': 7, 'warnflag': 2}\n",
      "  \" state: %s\" % convergence_dict)\n",
      "C:\\ProgramData\\Anaconda3\\envs\\py36\\lib\\site-packages\\sklearn\\gaussian_process\\gpr.py:457: UserWarning: fmin_l_bfgs_b terminated abnormally with the  state: {'grad': array([ -1.62203796e-05]), 'task': b'ABNORMAL_TERMINATION_IN_LNSRCH', 'funcalls': 53, 'nit': 5, 'warnflag': 2}\n",
      "  \" state: %s\" % convergence_dict)\n",
      "C:\\ProgramData\\Anaconda3\\envs\\py36\\lib\\site-packages\\sklearn\\gaussian_process\\gpr.py:457: UserWarning: fmin_l_bfgs_b terminated abnormally with the  state: {'grad': array([ -5.26914373e-05]), 'task': b'ABNORMAL_TERMINATION_IN_LNSRCH', 'funcalls': 93, 'nit': 8, 'warnflag': 2}\n",
      "  \" state: %s\" % convergence_dict)\n",
      "C:\\ProgramData\\Anaconda3\\envs\\py36\\lib\\site-packages\\sklearn\\gaussian_process\\gpr.py:457: UserWarning: fmin_l_bfgs_b terminated abnormally with the  state: {'grad': array([-0.00101161]), 'task': b'ABNORMAL_TERMINATION_IN_LNSRCH', 'funcalls': 65, 'nit': 6, 'warnflag': 2}\n",
      "  \" state: %s\" % convergence_dict)\n",
      "C:\\ProgramData\\Anaconda3\\envs\\py36\\lib\\site-packages\\sklearn\\gaussian_process\\gpr.py:457: UserWarning: fmin_l_bfgs_b terminated abnormally with the  state: {'grad': array([-0.02821292]), 'task': b'ABNORMAL_TERMINATION_IN_LNSRCH', 'funcalls': 72, 'nit': 8, 'warnflag': 2}\n",
      "  \" state: %s\" % convergence_dict)\n",
      "C:\\ProgramData\\Anaconda3\\envs\\py36\\lib\\site-packages\\sklearn\\gaussian_process\\gpr.py:457: UserWarning: fmin_l_bfgs_b terminated abnormally with the  state: {'grad': array([ 0.00982843]), 'task': b'ABNORMAL_TERMINATION_IN_LNSRCH', 'funcalls': 56, 'nit': 5, 'warnflag': 2}\n",
      "  \" state: %s\" % convergence_dict)\n"
     ]
    },
    {
     "name": "stdout",
     "output_type": "stream",
     "text": [
      "Multiple eval metrics have been passed: 'test-auc' will be used for early stopping.\n",
      "\n",
      "Will train until test-auc hasn't improved in 100 rounds.\n",
      "Stopping. Best iteration:\n",
      "[253]\ttrain-auc:0.927116+0.00136109\ttest-auc:0.920772+0.00632527\n",
      "\n",
      "   96 | 00m54s |    0.92077 |    0.4065 |             0.9993 |    7.9853 |     39.4390 |             6.2824 |      0.6269 | \n"
     ]
    },
    {
     "name": "stderr",
     "output_type": "stream",
     "text": [
      "C:\\ProgramData\\Anaconda3\\envs\\py36\\lib\\site-packages\\sklearn\\gaussian_process\\gpr.py:457: UserWarning: fmin_l_bfgs_b terminated abnormally with the  state: {'grad': array([ -8.31536017e-05]), 'task': b'ABNORMAL_TERMINATION_IN_LNSRCH', 'funcalls': 53, 'nit': 6, 'warnflag': 2}\n",
      "  \" state: %s\" % convergence_dict)\n",
      "C:\\ProgramData\\Anaconda3\\envs\\py36\\lib\\site-packages\\sklearn\\gaussian_process\\gpr.py:457: UserWarning: fmin_l_bfgs_b terminated abnormally with the  state: {'grad': array([ 0.04921763]), 'task': b'ABNORMAL_TERMINATION_IN_LNSRCH', 'funcalls': 60, 'nit': 6, 'warnflag': 2}\n",
      "  \" state: %s\" % convergence_dict)\n"
     ]
    },
    {
     "name": "stdout",
     "output_type": "stream",
     "text": [
      "Multiple eval metrics have been passed: 'test-auc' will be used for early stopping.\n",
      "\n",
      "Will train until test-auc hasn't improved in 100 rounds.\n",
      "Stopping. Best iteration:\n",
      "[727]\ttrain-auc:0.922661+0.00154354\ttest-auc:0.920754+0.00632837\n",
      "\n",
      "   97 | 01m18s |    0.92075 |    1.6641 |             0.8387 |    2.5653 |      1.4279 |             5.2389 |      0.7450 | \n"
     ]
    },
    {
     "name": "stderr",
     "output_type": "stream",
     "text": [
      "C:\\ProgramData\\Anaconda3\\envs\\py36\\lib\\site-packages\\sklearn\\gaussian_process\\gpr.py:457: UserWarning: fmin_l_bfgs_b terminated abnormally with the  state: {'grad': array([ 0.00093621]), 'task': b'ABNORMAL_TERMINATION_IN_LNSRCH', 'funcalls': 65, 'nit': 5, 'warnflag': 2}\n",
      "  \" state: %s\" % convergence_dict)\n",
      "C:\\ProgramData\\Anaconda3\\envs\\py36\\lib\\site-packages\\sklearn\\gaussian_process\\gpr.py:457: UserWarning: fmin_l_bfgs_b terminated abnormally with the  state: {'grad': array([ -6.75846823e-05]), 'task': b'ABNORMAL_TERMINATION_IN_LNSRCH', 'funcalls': 50, 'nit': 3, 'warnflag': 2}\n",
      "  \" state: %s\" % convergence_dict)\n",
      "C:\\ProgramData\\Anaconda3\\envs\\py36\\lib\\site-packages\\sklearn\\gaussian_process\\gpr.py:457: UserWarning: fmin_l_bfgs_b terminated abnormally with the  state: {'grad': array([-0.00042894]), 'task': b'ABNORMAL_TERMINATION_IN_LNSRCH', 'funcalls': 68, 'nit': 5, 'warnflag': 2}\n",
      "  \" state: %s\" % convergence_dict)\n"
     ]
    },
    {
     "name": "stdout",
     "output_type": "stream",
     "text": [
      "Multiple eval metrics have been passed: 'test-auc' will be used for early stopping.\n",
      "\n",
      "Will train until test-auc hasn't improved in 100 rounds.\n",
      "Stopping. Best iteration:\n",
      "[405]\ttrain-auc:0.924478+0.00136194\ttest-auc:0.920641+0.00605983\n",
      "\n",
      "   98 | 01m10s |    0.92064 |    7.8839 |             1.0000 |    5.1012 |      5.3729 |             1.0412 |      0.9945 | \n"
     ]
    },
    {
     "name": "stderr",
     "output_type": "stream",
     "text": [
      "C:\\ProgramData\\Anaconda3\\envs\\py36\\lib\\site-packages\\sklearn\\gaussian_process\\gpr.py:457: UserWarning: fmin_l_bfgs_b terminated abnormally with the  state: {'grad': array([ 0.00122262]), 'task': b'ABNORMAL_TERMINATION_IN_LNSRCH', 'funcalls': 53, 'nit': 4, 'warnflag': 2}\n",
      "  \" state: %s\" % convergence_dict)\n",
      "C:\\ProgramData\\Anaconda3\\envs\\py36\\lib\\site-packages\\sklearn\\gaussian_process\\gpr.py:457: UserWarning: fmin_l_bfgs_b terminated abnormally with the  state: {'grad': array([-0.00801773]), 'task': b'ABNORMAL_TERMINATION_IN_LNSRCH', 'funcalls': 52, 'nit': 3, 'warnflag': 2}\n",
      "  \" state: %s\" % convergence_dict)\n",
      "C:\\ProgramData\\Anaconda3\\envs\\py36\\lib\\site-packages\\sklearn\\gaussian_process\\gpr.py:457: UserWarning: fmin_l_bfgs_b terminated abnormally with the  state: {'grad': array([-0.01735454]), 'task': b'ABNORMAL_TERMINATION_IN_LNSRCH', 'funcalls': 63, 'nit': 6, 'warnflag': 2}\n",
      "  \" state: %s\" % convergence_dict)\n",
      "C:\\ProgramData\\Anaconda3\\envs\\py36\\lib\\site-packages\\sklearn\\gaussian_process\\gpr.py:457: UserWarning: fmin_l_bfgs_b terminated abnormally with the  state: {'grad': array([-0.00016942]), 'task': b'ABNORMAL_TERMINATION_IN_LNSRCH', 'funcalls': 51, 'nit': 6, 'warnflag': 2}\n",
      "  \" state: %s\" % convergence_dict)\n",
      "C:\\ProgramData\\Anaconda3\\envs\\py36\\lib\\site-packages\\sklearn\\gaussian_process\\gpr.py:457: UserWarning: fmin_l_bfgs_b terminated abnormally with the  state: {'grad': array([ -4.24180180e-05]), 'task': b'ABNORMAL_TERMINATION_IN_LNSRCH', 'funcalls': 58, 'nit': 4, 'warnflag': 2}\n",
      "  \" state: %s\" % convergence_dict)\n"
     ]
    },
    {
     "name": "stdout",
     "output_type": "stream",
     "text": [
      "Multiple eval metrics have been passed: 'test-auc' will be used for early stopping.\n",
      "\n",
      "Will train until test-auc hasn't improved in 100 rounds.\n",
      "Stopping. Best iteration:\n",
      "[828]\ttrain-auc:0.923007+0.00153451\ttest-auc:0.920929+0.0063125\n",
      "\n",
      "   99 | 01m24s |    0.92093 |    2.3555 |             0.9007 |    3.8133 |      1.0156 |             9.5445 |      0.9760 | \n"
     ]
    },
    {
     "name": "stderr",
     "output_type": "stream",
     "text": [
      "C:\\ProgramData\\Anaconda3\\envs\\py36\\lib\\site-packages\\sklearn\\gaussian_process\\gpr.py:457: UserWarning: fmin_l_bfgs_b terminated abnormally with the  state: {'grad': array([ 0.00597269]), 'task': b'ABNORMAL_TERMINATION_IN_LNSRCH', 'funcalls': 55, 'nit': 7, 'warnflag': 2}\n",
      "  \" state: %s\" % convergence_dict)\n",
      "C:\\ProgramData\\Anaconda3\\envs\\py36\\lib\\site-packages\\sklearn\\gaussian_process\\gpr.py:457: UserWarning: fmin_l_bfgs_b terminated abnormally with the  state: {'grad': array([ -1.86450779e-05]), 'task': b'ABNORMAL_TERMINATION_IN_LNSRCH', 'funcalls': 69, 'nit': 6, 'warnflag': 2}\n",
      "  \" state: %s\" % convergence_dict)\n",
      "C:\\ProgramData\\Anaconda3\\envs\\py36\\lib\\site-packages\\sklearn\\gaussian_process\\gpr.py:457: UserWarning: fmin_l_bfgs_b terminated abnormally with the  state: {'grad': array([-0.02071483]), 'task': b'ABNORMAL_TERMINATION_IN_LNSRCH', 'funcalls': 51, 'nit': 4, 'warnflag': 2}\n",
      "  \" state: %s\" % convergence_dict)\n"
     ]
    },
    {
     "name": "stdout",
     "output_type": "stream",
     "text": [
      "Multiple eval metrics have been passed: 'test-auc' will be used for early stopping.\n",
      "\n",
      "Will train until test-auc hasn't improved in 100 rounds.\n",
      "Stopping. Best iteration:\n",
      "[462]\ttrain-auc:0.923179+0.00147584\ttest-auc:0.920775+0.00618103\n",
      "\n",
      "  100 | 01m28s |    0.92078 |    6.8349 |             0.9776 |    7.5372 |     25.4858 |            10.0340 |      0.6814 | \n"
     ]
    },
    {
     "name": "stderr",
     "output_type": "stream",
     "text": [
      "C:\\ProgramData\\Anaconda3\\envs\\py36\\lib\\site-packages\\sklearn\\gaussian_process\\gpr.py:457: UserWarning: fmin_l_bfgs_b terminated abnormally with the  state: {'grad': array([ 0.00019705]), 'task': b'ABNORMAL_TERMINATION_IN_LNSRCH', 'funcalls': 53, 'nit': 4, 'warnflag': 2}\n",
      "  \" state: %s\" % convergence_dict)\n",
      "C:\\ProgramData\\Anaconda3\\envs\\py36\\lib\\site-packages\\sklearn\\gaussian_process\\gpr.py:457: UserWarning: fmin_l_bfgs_b terminated abnormally with the  state: {'grad': array([-0.00051565]), 'task': b'ABNORMAL_TERMINATION_IN_LNSRCH', 'funcalls': 58, 'nit': 6, 'warnflag': 2}\n",
      "  \" state: %s\" % convergence_dict)\n",
      "C:\\ProgramData\\Anaconda3\\envs\\py36\\lib\\site-packages\\sklearn\\gaussian_process\\gpr.py:457: UserWarning: fmin_l_bfgs_b terminated abnormally with the  state: {'grad': array([ 0.05191904]), 'task': b'ABNORMAL_TERMINATION_IN_LNSRCH', 'funcalls': 53, 'nit': 6, 'warnflag': 2}\n",
      "  \" state: %s\" % convergence_dict)\n",
      "C:\\ProgramData\\Anaconda3\\envs\\py36\\lib\\site-packages\\sklearn\\gaussian_process\\gpr.py:457: UserWarning: fmin_l_bfgs_b terminated abnormally with the  state: {'grad': array([-0.06424075]), 'task': b'ABNORMAL_TERMINATION_IN_LNSRCH', 'funcalls': 46, 'nit': 1, 'warnflag': 2}\n",
      "  \" state: %s\" % convergence_dict)\n"
     ]
    },
    {
     "name": "stdout",
     "output_type": "stream",
     "text": [
      "Multiple eval metrics have been passed: 'test-auc' will be used for early stopping.\n",
      "\n",
      "Will train until test-auc hasn't improved in 100 rounds.\n",
      "Stopping. Best iteration:\n",
      "[294]\ttrain-auc:0.925387+0.00140571\ttest-auc:0.920501+0.00592231\n",
      "\n",
      "  101 | 01m12s |    0.92050 |    6.2898 |             0.9553 |    3.6759 |     12.9508 |            15.5595 |      0.9558 | \n"
     ]
    },
    {
     "name": "stderr",
     "output_type": "stream",
     "text": [
      "C:\\ProgramData\\Anaconda3\\envs\\py36\\lib\\site-packages\\sklearn\\gaussian_process\\gpr.py:457: UserWarning: fmin_l_bfgs_b terminated abnormally with the  state: {'grad': array([-0.0774428]), 'task': b'ABNORMAL_TERMINATION_IN_LNSRCH', 'funcalls': 52, 'nit': 3, 'warnflag': 2}\n",
      "  \" state: %s\" % convergence_dict)\n",
      "C:\\ProgramData\\Anaconda3\\envs\\py36\\lib\\site-packages\\sklearn\\gaussian_process\\gpr.py:457: UserWarning: fmin_l_bfgs_b terminated abnormally with the  state: {'grad': array([  1.60485506e-05]), 'task': b'ABNORMAL_TERMINATION_IN_LNSRCH', 'funcalls': 90, 'nit': 5, 'warnflag': 2}\n",
      "  \" state: %s\" % convergence_dict)\n",
      "C:\\ProgramData\\Anaconda3\\envs\\py36\\lib\\site-packages\\sklearn\\gaussian_process\\gpr.py:457: UserWarning: fmin_l_bfgs_b terminated abnormally with the  state: {'grad': array([-0.0518218]), 'task': b'ABNORMAL_TERMINATION_IN_LNSRCH', 'funcalls': 52, 'nit': 3, 'warnflag': 2}\n",
      "  \" state: %s\" % convergence_dict)\n",
      "C:\\ProgramData\\Anaconda3\\envs\\py36\\lib\\site-packages\\sklearn\\gaussian_process\\gpr.py:457: UserWarning: fmin_l_bfgs_b terminated abnormally with the  state: {'grad': array([ 0.00319113]), 'task': b'ABNORMAL_TERMINATION_IN_LNSRCH', 'funcalls': 68, 'nit': 9, 'warnflag': 2}\n",
      "  \" state: %s\" % convergence_dict)\n",
      "C:\\ProgramData\\Anaconda3\\envs\\py36\\lib\\site-packages\\sklearn\\gaussian_process\\gpr.py:457: UserWarning: fmin_l_bfgs_b terminated abnormally with the  state: {'grad': array([-0.00023566]), 'task': b'ABNORMAL_TERMINATION_IN_LNSRCH', 'funcalls': 54, 'nit': 7, 'warnflag': 2}\n",
      "  \" state: %s\" % convergence_dict)\n",
      "C:\\ProgramData\\Anaconda3\\envs\\py36\\lib\\site-packages\\sklearn\\gaussian_process\\gpr.py:457: UserWarning: fmin_l_bfgs_b terminated abnormally with the  state: {'grad': array([-0.01425657]), 'task': b'ABNORMAL_TERMINATION_IN_LNSRCH', 'funcalls': 54, 'nit': 7, 'warnflag': 2}\n",
      "  \" state: %s\" % convergence_dict)\n"
     ]
    },
    {
     "name": "stdout",
     "output_type": "stream",
     "text": [
      "Multiple eval metrics have been passed: 'test-auc' will be used for early stopping.\n",
      "\n",
      "Will train until test-auc hasn't improved in 100 rounds.\n",
      "Stopping. Best iteration:\n",
      "[404]\ttrain-auc:0.926319+0.00141708\ttest-auc:0.920458+0.00615362\n",
      "\n",
      "  102 | 01m22s |    0.92046 |    5.0592 |             0.7547 |    4.9776 |     29.3266 |             1.0048 |      0.8626 | \n"
     ]
    },
    {
     "name": "stderr",
     "output_type": "stream",
     "text": [
      "C:\\ProgramData\\Anaconda3\\envs\\py36\\lib\\site-packages\\sklearn\\gaussian_process\\gpr.py:457: UserWarning: fmin_l_bfgs_b terminated abnormally with the  state: {'grad': array([ -6.80794474e-05]), 'task': b'ABNORMAL_TERMINATION_IN_LNSRCH', 'funcalls': 71, 'nit': 5, 'warnflag': 2}\n",
      "  \" state: %s\" % convergence_dict)\n",
      "C:\\ProgramData\\Anaconda3\\envs\\py36\\lib\\site-packages\\sklearn\\gaussian_process\\gpr.py:457: UserWarning: fmin_l_bfgs_b terminated abnormally with the  state: {'grad': array([ 0.00343222]), 'task': b'ABNORMAL_TERMINATION_IN_LNSRCH', 'funcalls': 53, 'nit': 6, 'warnflag': 2}\n",
      "  \" state: %s\" % convergence_dict)\n",
      "C:\\ProgramData\\Anaconda3\\envs\\py36\\lib\\site-packages\\sklearn\\gaussian_process\\gpr.py:457: UserWarning: fmin_l_bfgs_b terminated abnormally with the  state: {'grad': array([-0.02032756]), 'task': b'ABNORMAL_TERMINATION_IN_LNSRCH', 'funcalls': 68, 'nit': 4, 'warnflag': 2}\n",
      "  \" state: %s\" % convergence_dict)\n",
      "C:\\ProgramData\\Anaconda3\\envs\\py36\\lib\\site-packages\\sklearn\\gaussian_process\\gpr.py:457: UserWarning: fmin_l_bfgs_b terminated abnormally with the  state: {'grad': array([-0.00053261]), 'task': b'ABNORMAL_TERMINATION_IN_LNSRCH', 'funcalls': 69, 'nit': 6, 'warnflag': 2}\n",
      "  \" state: %s\" % convergence_dict)\n"
     ]
    },
    {
     "name": "stdout",
     "output_type": "stream",
     "text": [
      "Multiple eval metrics have been passed: 'test-auc' will be used for early stopping.\n",
      "\n",
      "Will train until test-auc hasn't improved in 100 rounds.\n",
      "Stopping. Best iteration:\n",
      "[760]\ttrain-auc:0.926566+0.00139186\ttest-auc:0.920035+0.00608206\n",
      "\n",
      "  103 | 01m48s |    0.92004 |    4.7519 |             0.5462 |    5.4208 |     12.5299 |             3.5241 |      0.9054 | \n"
     ]
    },
    {
     "name": "stderr",
     "output_type": "stream",
     "text": [
      "C:\\ProgramData\\Anaconda3\\envs\\py36\\lib\\site-packages\\sklearn\\gaussian_process\\gpr.py:457: UserWarning: fmin_l_bfgs_b terminated abnormally with the  state: {'grad': array([-0.00014707]), 'task': b'ABNORMAL_TERMINATION_IN_LNSRCH', 'funcalls': 65, 'nit': 7, 'warnflag': 2}\n",
      "  \" state: %s\" % convergence_dict)\n",
      "C:\\ProgramData\\Anaconda3\\envs\\py36\\lib\\site-packages\\sklearn\\gaussian_process\\gpr.py:457: UserWarning: fmin_l_bfgs_b terminated abnormally with the  state: {'grad': array([ -5.70118427e-05]), 'task': b'ABNORMAL_TERMINATION_IN_LNSRCH', 'funcalls': 75, 'nit': 10, 'warnflag': 2}\n",
      "  \" state: %s\" % convergence_dict)\n",
      "C:\\ProgramData\\Anaconda3\\envs\\py36\\lib\\site-packages\\sklearn\\gaussian_process\\gpr.py:457: UserWarning: fmin_l_bfgs_b terminated abnormally with the  state: {'grad': array([-0.00751567]), 'task': b'ABNORMAL_TERMINATION_IN_LNSRCH', 'funcalls': 49, 'nit': 2, 'warnflag': 2}\n",
      "  \" state: %s\" % convergence_dict)\n",
      "C:\\ProgramData\\Anaconda3\\envs\\py36\\lib\\site-packages\\sklearn\\gaussian_process\\gpr.py:457: UserWarning: fmin_l_bfgs_b terminated abnormally with the  state: {'grad': array([-0.00052528]), 'task': b'ABNORMAL_TERMINATION_IN_LNSRCH', 'funcalls': 53, 'nit': 7, 'warnflag': 2}\n",
      "  \" state: %s\" % convergence_dict)\n"
     ]
    },
    {
     "name": "stdout",
     "output_type": "stream",
     "text": [
      "Multiple eval metrics have been passed: 'test-auc' will be used for early stopping.\n",
      "\n",
      "Will train until test-auc hasn't improved in 100 rounds.\n",
      "Stopping. Best iteration:\n",
      "[300]\ttrain-auc:0.923267+0.00148651\ttest-auc:0.920769+0.00612346\n",
      "\n",
      "  104 | 01m27s |    0.92077 |    6.1730 |             0.9690 |    6.2321 |      8.6354 |            13.5161 |      0.6844 | \n"
     ]
    },
    {
     "name": "stderr",
     "output_type": "stream",
     "text": [
      "C:\\ProgramData\\Anaconda3\\envs\\py36\\lib\\site-packages\\sklearn\\gaussian_process\\gpr.py:457: UserWarning: fmin_l_bfgs_b terminated abnormally with the  state: {'grad': array([-0.00121113]), 'task': b'ABNORMAL_TERMINATION_IN_LNSRCH', 'funcalls': 50, 'nit': 4, 'warnflag': 2}\n",
      "  \" state: %s\" % convergence_dict)\n",
      "C:\\ProgramData\\Anaconda3\\envs\\py36\\lib\\site-packages\\sklearn\\gaussian_process\\gpr.py:457: UserWarning: fmin_l_bfgs_b terminated abnormally with the  state: {'grad': array([ 0.00036887]), 'task': b'ABNORMAL_TERMINATION_IN_LNSRCH', 'funcalls': 52, 'nit': 4, 'warnflag': 2}\n",
      "  \" state: %s\" % convergence_dict)\n",
      "C:\\ProgramData\\Anaconda3\\envs\\py36\\lib\\site-packages\\sklearn\\gaussian_process\\gpr.py:457: UserWarning: fmin_l_bfgs_b terminated abnormally with the  state: {'grad': array([ 0.01183678]), 'task': b'ABNORMAL_TERMINATION_IN_LNSRCH', 'funcalls': 75, 'nit': 5, 'warnflag': 2}\n",
      "  \" state: %s\" % convergence_dict)\n",
      "C:\\ProgramData\\Anaconda3\\envs\\py36\\lib\\site-packages\\sklearn\\gaussian_process\\gpr.py:457: UserWarning: fmin_l_bfgs_b terminated abnormally with the  state: {'grad': array([ 0.01335568]), 'task': b'ABNORMAL_TERMINATION_IN_LNSRCH', 'funcalls': 68, 'nit': 6, 'warnflag': 2}\n",
      "  \" state: %s\" % convergence_dict)\n"
     ]
    },
    {
     "name": "stdout",
     "output_type": "stream",
     "text": [
      "Multiple eval metrics have been passed: 'test-auc' will be used for early stopping.\n",
      "\n",
      "Will train until test-auc hasn't improved in 100 rounds.\n",
      "Stopping. Best iteration:\n",
      "[307]\ttrain-auc:0.923463+0.00153528\ttest-auc:0.920456+0.00610556\n",
      "\n",
      "  105 | 01m29s |    0.92046 |    6.2047 |             0.8341 |    6.3746 |     11.4516 |            17.2369 |      0.8700 | \n"
     ]
    },
    {
     "name": "stderr",
     "output_type": "stream",
     "text": [
      "C:\\ProgramData\\Anaconda3\\envs\\py36\\lib\\site-packages\\sklearn\\gaussian_process\\gpr.py:457: UserWarning: fmin_l_bfgs_b terminated abnormally with the  state: {'grad': array([-0.000177]), 'task': b'ABNORMAL_TERMINATION_IN_LNSRCH', 'funcalls': 51, 'nit': 5, 'warnflag': 2}\n",
      "  \" state: %s\" % convergence_dict)\n",
      "C:\\ProgramData\\Anaconda3\\envs\\py36\\lib\\site-packages\\sklearn\\gaussian_process\\gpr.py:457: UserWarning: fmin_l_bfgs_b terminated abnormally with the  state: {'grad': array([-0.00061908]), 'task': b'ABNORMAL_TERMINATION_IN_LNSRCH', 'funcalls': 51, 'nit': 5, 'warnflag': 2}\n",
      "  \" state: %s\" % convergence_dict)\n",
      "C:\\ProgramData\\Anaconda3\\envs\\py36\\lib\\site-packages\\sklearn\\gaussian_process\\gpr.py:457: UserWarning: fmin_l_bfgs_b terminated abnormally with the  state: {'grad': array([-0.00924232]), 'task': b'ABNORMAL_TERMINATION_IN_LNSRCH', 'funcalls': 75, 'nit': 4, 'warnflag': 2}\n",
      "  \" state: %s\" % convergence_dict)\n",
      "C:\\ProgramData\\Anaconda3\\envs\\py36\\lib\\site-packages\\sklearn\\gaussian_process\\gpr.py:457: UserWarning: fmin_l_bfgs_b terminated abnormally with the  state: {'grad': array([ 0.00316264]), 'task': b'ABNORMAL_TERMINATION_IN_LNSRCH', 'funcalls': 52, 'nit': 6, 'warnflag': 2}\n",
      "  \" state: %s\" % convergence_dict)\n",
      "C:\\ProgramData\\Anaconda3\\envs\\py36\\lib\\site-packages\\sklearn\\gaussian_process\\gpr.py:457: UserWarning: fmin_l_bfgs_b terminated abnormally with the  state: {'grad': array([ 0.00476582]), 'task': b'ABNORMAL_TERMINATION_IN_LNSRCH', 'funcalls': 68, 'nit': 6, 'warnflag': 2}\n",
      "  \" state: %s\" % convergence_dict)\n",
      "C:\\ProgramData\\Anaconda3\\envs\\py36\\lib\\site-packages\\sklearn\\gaussian_process\\gpr.py:457: UserWarning: fmin_l_bfgs_b terminated abnormally with the  state: {'grad': array([-0.00095169]), 'task': b'ABNORMAL_TERMINATION_IN_LNSRCH', 'funcalls': 53, 'nit': 7, 'warnflag': 2}\n",
      "  \" state: %s\" % convergence_dict)\n"
     ]
    },
    {
     "name": "stdout",
     "output_type": "stream",
     "text": [
      "Multiple eval metrics have been passed: 'test-auc' will be used for early stopping.\n",
      "\n",
      "Will train until test-auc hasn't improved in 100 rounds.\n",
      "Stopping. Best iteration:\n",
      "[628]\ttrain-auc:0.925132+0.00146515\ttest-auc:0.920697+0.00629325\n",
      "\n",
      "  106 | 01m46s |    0.92070 |    6.1309 |             0.9897 |    6.4129 |     22.3695 |             7.7409 |      0.9667 | \n"
     ]
    },
    {
     "name": "stderr",
     "output_type": "stream",
     "text": [
      "C:\\ProgramData\\Anaconda3\\envs\\py36\\lib\\site-packages\\sklearn\\gaussian_process\\gpr.py:457: UserWarning: fmin_l_bfgs_b terminated abnormally with the  state: {'grad': array([-0.00274872]), 'task': b'ABNORMAL_TERMINATION_IN_LNSRCH', 'funcalls': 84, 'nit': 7, 'warnflag': 2}\n",
      "  \" state: %s\" % convergence_dict)\n",
      "C:\\ProgramData\\Anaconda3\\envs\\py36\\lib\\site-packages\\sklearn\\gaussian_process\\gpr.py:457: UserWarning: fmin_l_bfgs_b terminated abnormally with the  state: {'grad': array([-0.00315996]), 'task': b'ABNORMAL_TERMINATION_IN_LNSRCH', 'funcalls': 79, 'nit': 7, 'warnflag': 2}\n",
      "  \" state: %s\" % convergence_dict)\n",
      "C:\\ProgramData\\Anaconda3\\envs\\py36\\lib\\site-packages\\sklearn\\gaussian_process\\gpr.py:457: UserWarning: fmin_l_bfgs_b terminated abnormally with the  state: {'grad': array([ 0.00058059]), 'task': b'ABNORMAL_TERMINATION_IN_LNSRCH', 'funcalls': 57, 'nit': 8, 'warnflag': 2}\n",
      "  \" state: %s\" % convergence_dict)\n",
      "C:\\ProgramData\\Anaconda3\\envs\\py36\\lib\\site-packages\\sklearn\\gaussian_process\\gpr.py:457: UserWarning: fmin_l_bfgs_b terminated abnormally with the  state: {'grad': array([-0.06559799]), 'task': b'ABNORMAL_TERMINATION_IN_LNSRCH', 'funcalls': 72, 'nit': 4, 'warnflag': 2}\n",
      "  \" state: %s\" % convergence_dict)\n",
      "C:\\ProgramData\\Anaconda3\\envs\\py36\\lib\\site-packages\\sklearn\\gaussian_process\\gpr.py:457: UserWarning: fmin_l_bfgs_b terminated abnormally with the  state: {'grad': array([ -5.85503876e-05]), 'task': b'ABNORMAL_TERMINATION_IN_LNSRCH', 'funcalls': 63, 'nit': 8, 'warnflag': 2}\n",
      "  \" state: %s\" % convergence_dict)\n",
      "C:\\ProgramData\\Anaconda3\\envs\\py36\\lib\\site-packages\\sklearn\\gaussian_process\\gpr.py:457: UserWarning: fmin_l_bfgs_b terminated abnormally with the  state: {'grad': array([ 0.06173939]), 'task': b'ABNORMAL_TERMINATION_IN_LNSRCH', 'funcalls': 56, 'nit': 7, 'warnflag': 2}\n",
      "  \" state: %s\" % convergence_dict)\n"
     ]
    },
    {
     "name": "stdout",
     "output_type": "stream",
     "text": [
      "Multiple eval metrics have been passed: 'test-auc' will be used for early stopping.\n",
      "\n",
      "Will train until test-auc hasn't improved in 100 rounds.\n",
      "Stopping. Best iteration:\n",
      "[782]\ttrain-auc:0.923875+0.00143897\ttest-auc:0.920665+0.00616225\n",
      "\n",
      "  107 | 01m49s |    0.92067 |    7.9197 |             0.8047 |    6.0128 |     20.9105 |             6.2224 |      0.6857 | \n"
     ]
    },
    {
     "name": "stderr",
     "output_type": "stream",
     "text": [
      "C:\\ProgramData\\Anaconda3\\envs\\py36\\lib\\site-packages\\sklearn\\gaussian_process\\gpr.py:457: UserWarning: fmin_l_bfgs_b terminated abnormally with the  state: {'grad': array([ -8.22395086e-05]), 'task': b'ABNORMAL_TERMINATION_IN_LNSRCH', 'funcalls': 66, 'nit': 6, 'warnflag': 2}\n",
      "  \" state: %s\" % convergence_dict)\n"
     ]
    },
    {
     "name": "stdout",
     "output_type": "stream",
     "text": [
      "Multiple eval metrics have been passed: 'test-auc' will be used for early stopping.\n",
      "\n",
      "Will train until test-auc hasn't improved in 100 rounds.\n",
      "Stopping. Best iteration:\n",
      "[281]\ttrain-auc:0.924158+0.00139604\ttest-auc:0.920891+0.00616112\n",
      "\n",
      "  108 | 01m32s |    0.92089 |    3.5812 |             0.9949 |    6.6170 |     23.4322 |             4.8063 |      0.6222 | \n"
     ]
    },
    {
     "name": "stderr",
     "output_type": "stream",
     "text": [
      "C:\\ProgramData\\Anaconda3\\envs\\py36\\lib\\site-packages\\sklearn\\gaussian_process\\gpr.py:457: UserWarning: fmin_l_bfgs_b terminated abnormally with the  state: {'grad': array([-0.02088971]), 'task': b'ABNORMAL_TERMINATION_IN_LNSRCH', 'funcalls': 63, 'nit': 3, 'warnflag': 2}\n",
      "  \" state: %s\" % convergence_dict)\n",
      "C:\\ProgramData\\Anaconda3\\envs\\py36\\lib\\site-packages\\sklearn\\gaussian_process\\gpr.py:457: UserWarning: fmin_l_bfgs_b terminated abnormally with the  state: {'grad': array([-0.01419888]), 'task': b'ABNORMAL_TERMINATION_IN_LNSRCH', 'funcalls': 59, 'nit': 5, 'warnflag': 2}\n",
      "  \" state: %s\" % convergence_dict)\n",
      "C:\\ProgramData\\Anaconda3\\envs\\py36\\lib\\site-packages\\sklearn\\gaussian_process\\gpr.py:457: UserWarning: fmin_l_bfgs_b terminated abnormally with the  state: {'grad': array([-0.0611969]), 'task': b'ABNORMAL_TERMINATION_IN_LNSRCH', 'funcalls': 61, 'nit': 6, 'warnflag': 2}\n",
      "  \" state: %s\" % convergence_dict)\n"
     ]
    },
    {
     "name": "stdout",
     "output_type": "stream",
     "text": [
      "Multiple eval metrics have been passed: 'test-auc' will be used for early stopping.\n",
      "\n",
      "Will train until test-auc hasn't improved in 100 rounds.\n",
      "Stopping. Best iteration:\n",
      "[290]\ttrain-auc:0.923625+0.00144102\ttest-auc:0.920691+0.00608128\n",
      "\n",
      "  109 | 01m36s |    0.92069 |    5.2700 |             0.9930 |    6.2195 |     13.6900 |            17.1975 |      0.7470 | \n"
     ]
    },
    {
     "name": "stderr",
     "output_type": "stream",
     "text": [
      "C:\\ProgramData\\Anaconda3\\envs\\py36\\lib\\site-packages\\sklearn\\gaussian_process\\gpr.py:457: UserWarning: fmin_l_bfgs_b terminated abnormally with the  state: {'grad': array([ 0.00428493]), 'task': b'ABNORMAL_TERMINATION_IN_LNSRCH', 'funcalls': 64, 'nit': 6, 'warnflag': 2}\n",
      "  \" state: %s\" % convergence_dict)\n",
      "C:\\ProgramData\\Anaconda3\\envs\\py36\\lib\\site-packages\\sklearn\\gaussian_process\\gpr.py:457: UserWarning: fmin_l_bfgs_b terminated abnormally with the  state: {'grad': array([ -4.12464142e-05]), 'task': b'ABNORMAL_TERMINATION_IN_LNSRCH', 'funcalls': 49, 'nit': 5, 'warnflag': 2}\n",
      "  \" state: %s\" % convergence_dict)\n",
      "C:\\ProgramData\\Anaconda3\\envs\\py36\\lib\\site-packages\\sklearn\\gaussian_process\\gpr.py:457: UserWarning: fmin_l_bfgs_b terminated abnormally with the  state: {'grad': array([-0.03148924]), 'task': b'ABNORMAL_TERMINATION_IN_LNSRCH', 'funcalls': 53, 'nit': 4, 'warnflag': 2}\n",
      "  \" state: %s\" % convergence_dict)\n"
     ]
    },
    {
     "name": "stdout",
     "output_type": "stream",
     "text": [
      "Multiple eval metrics have been passed: 'test-auc' will be used for early stopping.\n",
      "\n",
      "Will train until test-auc hasn't improved in 100 rounds.\n",
      "Stopping. Best iteration:\n",
      "[182]\ttrain-auc:0.925807+0.00132811\ttest-auc:0.920769+0.00628276\n",
      "\n",
      "  110 | 01m31s |    0.92077 |    0.2325 |             0.8862 |    6.6087 |     15.2937 |            16.1186 |      0.7881 | \n"
     ]
    },
    {
     "name": "stderr",
     "output_type": "stream",
     "text": [
      "C:\\ProgramData\\Anaconda3\\envs\\py36\\lib\\site-packages\\sklearn\\gaussian_process\\gpr.py:457: UserWarning: fmin_l_bfgs_b terminated abnormally with the  state: {'grad': array([ 0.01382137]), 'task': b'ABNORMAL_TERMINATION_IN_LNSRCH', 'funcalls': 54, 'nit': 6, 'warnflag': 2}\n",
      "  \" state: %s\" % convergence_dict)\n",
      "C:\\ProgramData\\Anaconda3\\envs\\py36\\lib\\site-packages\\sklearn\\gaussian_process\\gpr.py:457: UserWarning: fmin_l_bfgs_b terminated abnormally with the  state: {'grad': array([-0.02315661]), 'task': b'ABNORMAL_TERMINATION_IN_LNSRCH', 'funcalls': 57, 'nit': 5, 'warnflag': 2}\n",
      "  \" state: %s\" % convergence_dict)\n",
      "C:\\ProgramData\\Anaconda3\\envs\\py36\\lib\\site-packages\\sklearn\\gaussian_process\\gpr.py:457: UserWarning: fmin_l_bfgs_b terminated abnormally with the  state: {'grad': array([-0.00862039]), 'task': b'ABNORMAL_TERMINATION_IN_LNSRCH', 'funcalls': 52, 'nit': 5, 'warnflag': 2}\n",
      "  \" state: %s\" % convergence_dict)\n",
      "C:\\ProgramData\\Anaconda3\\envs\\py36\\lib\\site-packages\\sklearn\\gaussian_process\\gpr.py:457: UserWarning: fmin_l_bfgs_b terminated abnormally with the  state: {'grad': array([-0.00033979]), 'task': b'ABNORMAL_TERMINATION_IN_LNSRCH', 'funcalls': 52, 'nit': 7, 'warnflag': 2}\n",
      "  \" state: %s\" % convergence_dict)\n"
     ]
    },
    {
     "name": "stdout",
     "output_type": "stream",
     "text": [
      "Multiple eval metrics have been passed: 'test-auc' will be used for early stopping.\n",
      "\n",
      "Will train until test-auc hasn't improved in 100 rounds.\n",
      "Stopping. Best iteration:\n",
      "[629]\ttrain-auc:0.923682+0.00147553\ttest-auc:0.920797+0.00622058\n",
      "\n",
      "  111 | 01m47s |    0.92080 |    7.6322 |             0.9816 |    6.8474 |     13.1505 |             9.3536 |      0.7619 | \n"
     ]
    },
    {
     "name": "stderr",
     "output_type": "stream",
     "text": [
      "C:\\ProgramData\\Anaconda3\\envs\\py36\\lib\\site-packages\\sklearn\\gaussian_process\\gpr.py:457: UserWarning: fmin_l_bfgs_b terminated abnormally with the  state: {'grad': array([-0.09599175]), 'task': b'ABNORMAL_TERMINATION_IN_LNSRCH', 'funcalls': 51, 'nit': 4, 'warnflag': 2}\n",
      "  \" state: %s\" % convergence_dict)\n",
      "C:\\ProgramData\\Anaconda3\\envs\\py36\\lib\\site-packages\\sklearn\\gaussian_process\\gpr.py:457: UserWarning: fmin_l_bfgs_b terminated abnormally with the  state: {'grad': array([ 0.00657073]), 'task': b'ABNORMAL_TERMINATION_IN_LNSRCH', 'funcalls': 50, 'nit': 4, 'warnflag': 2}\n",
      "  \" state: %s\" % convergence_dict)\n",
      "C:\\ProgramData\\Anaconda3\\envs\\py36\\lib\\site-packages\\sklearn\\gaussian_process\\gpr.py:457: UserWarning: fmin_l_bfgs_b terminated abnormally with the  state: {'grad': array([-0.0595011]), 'task': b'ABNORMAL_TERMINATION_IN_LNSRCH', 'funcalls': 70, 'nit': 4, 'warnflag': 2}\n",
      "  \" state: %s\" % convergence_dict)\n"
     ]
    },
    {
     "name": "stdout",
     "output_type": "stream",
     "text": [
      "Multiple eval metrics have been passed: 'test-auc' will be used for early stopping.\n",
      "\n",
      "Will train until test-auc hasn't improved in 100 rounds.\n",
      "Stopping. Best iteration:\n",
      "[977]\ttrain-auc:0.922952+0.00154088\ttest-auc:0.92087+0.0062909\n",
      "\n",
      "  112 | 01m41s |    0.92087 |    1.9680 |             0.9891 |    5.5140 |      1.5439 |             3.8858 |      0.9745 | \n"
     ]
    },
    {
     "name": "stderr",
     "output_type": "stream",
     "text": [
      "C:\\ProgramData\\Anaconda3\\envs\\py36\\lib\\site-packages\\sklearn\\gaussian_process\\gpr.py:457: UserWarning: fmin_l_bfgs_b terminated abnormally with the  state: {'grad': array([ -9.25883651e-05]), 'task': b'ABNORMAL_TERMINATION_IN_LNSRCH', 'funcalls': 58, 'nit': 7, 'warnflag': 2}\n",
      "  \" state: %s\" % convergence_dict)\n",
      "C:\\ProgramData\\Anaconda3\\envs\\py36\\lib\\site-packages\\sklearn\\gaussian_process\\gpr.py:457: UserWarning: fmin_l_bfgs_b terminated abnormally with the  state: {'grad': array([ -9.04612243e-05]), 'task': b'ABNORMAL_TERMINATION_IN_LNSRCH', 'funcalls': 98, 'nit': 8, 'warnflag': 2}\n",
      "  \" state: %s\" % convergence_dict)\n",
      "C:\\ProgramData\\Anaconda3\\envs\\py36\\lib\\site-packages\\sklearn\\gaussian_process\\gpr.py:457: UserWarning: fmin_l_bfgs_b terminated abnormally with the  state: {'grad': array([ 0.00243108]), 'task': b'ABNORMAL_TERMINATION_IN_LNSRCH', 'funcalls': 53, 'nit': 7, 'warnflag': 2}\n",
      "  \" state: %s\" % convergence_dict)\n",
      "C:\\ProgramData\\Anaconda3\\envs\\py36\\lib\\site-packages\\sklearn\\gaussian_process\\gpr.py:457: UserWarning: fmin_l_bfgs_b terminated abnormally with the  state: {'grad': array([ 0.00013948]), 'task': b'ABNORMAL_TERMINATION_IN_LNSRCH', 'funcalls': 54, 'nit': 6, 'warnflag': 2}\n",
      "  \" state: %s\" % convergence_dict)\n"
     ]
    },
    {
     "name": "stdout",
     "output_type": "stream",
     "text": [
      "Multiple eval metrics have been passed: 'test-auc' will be used for early stopping.\n",
      "\n",
      "Will train until test-auc hasn't improved in 100 rounds.\n",
      "Stopping. Best iteration:\n",
      "[633]\ttrain-auc:0.923369+0.00152638\ttest-auc:0.92082+0.00623641\n",
      "\n",
      "  113 | 01m46s |    0.92082 |    6.5878 |             0.9429 |    7.8879 |     26.4545 |            18.1465 |      0.7699 | \n"
     ]
    },
    {
     "name": "stderr",
     "output_type": "stream",
     "text": [
      "C:\\ProgramData\\Anaconda3\\envs\\py36\\lib\\site-packages\\sklearn\\gaussian_process\\gpr.py:457: UserWarning: fmin_l_bfgs_b terminated abnormally with the  state: {'grad': array([-0.01766101]), 'task': b'ABNORMAL_TERMINATION_IN_LNSRCH', 'funcalls': 52, 'nit': 3, 'warnflag': 2}\n",
      "  \" state: %s\" % convergence_dict)\n",
      "C:\\ProgramData\\Anaconda3\\envs\\py36\\lib\\site-packages\\sklearn\\gaussian_process\\gpr.py:457: UserWarning: fmin_l_bfgs_b terminated abnormally with the  state: {'grad': array([ 0.02174386]), 'task': b'ABNORMAL_TERMINATION_IN_LNSRCH', 'funcalls': 77, 'nit': 9, 'warnflag': 2}\n",
      "  \" state: %s\" % convergence_dict)\n",
      "C:\\ProgramData\\Anaconda3\\envs\\py36\\lib\\site-packages\\sklearn\\gaussian_process\\gpr.py:457: UserWarning: fmin_l_bfgs_b terminated abnormally with the  state: {'grad': array([-0.00445773]), 'task': b'ABNORMAL_TERMINATION_IN_LNSRCH', 'funcalls': 80, 'nit': 9, 'warnflag': 2}\n",
      "  \" state: %s\" % convergence_dict)\n",
      "C:\\ProgramData\\Anaconda3\\envs\\py36\\lib\\site-packages\\sklearn\\gaussian_process\\gpr.py:457: UserWarning: fmin_l_bfgs_b terminated abnormally with the  state: {'grad': array([ 0.00081072]), 'task': b'ABNORMAL_TERMINATION_IN_LNSRCH', 'funcalls': 53, 'nit': 7, 'warnflag': 2}\n",
      "  \" state: %s\" % convergence_dict)\n"
     ]
    },
    {
     "name": "stdout",
     "output_type": "stream",
     "text": [
      "Multiple eval metrics have been passed: 'test-auc' will be used for early stopping.\n",
      "\n",
      "Will train until test-auc hasn't improved in 100 rounds.\n",
      "Stopping. Best iteration:\n",
      "[419]\ttrain-auc:0.923278+0.00142338\ttest-auc:0.920756+0.00627987\n",
      "\n",
      "  114 | 01m50s |    0.92076 |    6.8722 |             0.9972 |    7.7917 |     21.0043 |             1.2566 |      0.7698 | \n"
     ]
    },
    {
     "name": "stderr",
     "output_type": "stream",
     "text": [
      "C:\\ProgramData\\Anaconda3\\envs\\py36\\lib\\site-packages\\sklearn\\gaussian_process\\gpr.py:457: UserWarning: fmin_l_bfgs_b terminated abnormally with the  state: {'grad': array([-0.00188366]), 'task': b'ABNORMAL_TERMINATION_IN_LNSRCH', 'funcalls': 93, 'nit': 8, 'warnflag': 2}\n",
      "  \" state: %s\" % convergence_dict)\n",
      "C:\\ProgramData\\Anaconda3\\envs\\py36\\lib\\site-packages\\sklearn\\gaussian_process\\gpr.py:457: UserWarning: fmin_l_bfgs_b terminated abnormally with the  state: {'grad': array([-0.00022126]), 'task': b'ABNORMAL_TERMINATION_IN_LNSRCH', 'funcalls': 66, 'nit': 6, 'warnflag': 2}\n",
      "  \" state: %s\" % convergence_dict)\n",
      "C:\\ProgramData\\Anaconda3\\envs\\py36\\lib\\site-packages\\sklearn\\gaussian_process\\gpr.py:457: UserWarning: fmin_l_bfgs_b terminated abnormally with the  state: {'grad': array([-0.0016903]), 'task': b'ABNORMAL_TERMINATION_IN_LNSRCH', 'funcalls': 108, 'nit': 8, 'warnflag': 2}\n",
      "  \" state: %s\" % convergence_dict)\n"
     ]
    },
    {
     "name": "stdout",
     "output_type": "stream",
     "text": [
      "Multiple eval metrics have been passed: 'test-auc' will be used for early stopping.\n",
      "\n",
      "Will train until test-auc hasn't improved in 100 rounds.\n",
      "Stopping. Best iteration:\n",
      "[122]\ttrain-auc:0.926718+0.00150248\ttest-auc:0.920391+0.00623404\n",
      "\n",
      "  115 | 00m45s |    0.92039 |    0.4306 |             0.8148 |    4.6342 |      9.1399 |            15.4448 |      0.8103 | \n"
     ]
    },
    {
     "name": "stderr",
     "output_type": "stream",
     "text": [
      "C:\\ProgramData\\Anaconda3\\envs\\py36\\lib\\site-packages\\sklearn\\gaussian_process\\gpr.py:457: UserWarning: fmin_l_bfgs_b terminated abnormally with the  state: {'grad': array([-0.00013765]), 'task': b'ABNORMAL_TERMINATION_IN_LNSRCH', 'funcalls': 68, 'nit': 5, 'warnflag': 2}\n",
      "  \" state: %s\" % convergence_dict)\n",
      "C:\\ProgramData\\Anaconda3\\envs\\py36\\lib\\site-packages\\sklearn\\gaussian_process\\gpr.py:457: UserWarning: fmin_l_bfgs_b terminated abnormally with the  state: {'grad': array([ 0.00075208]), 'task': b'ABNORMAL_TERMINATION_IN_LNSRCH', 'funcalls': 55, 'nit': 8, 'warnflag': 2}\n",
      "  \" state: %s\" % convergence_dict)\n",
      "C:\\ProgramData\\Anaconda3\\envs\\py36\\lib\\site-packages\\sklearn\\gaussian_process\\gpr.py:457: UserWarning: fmin_l_bfgs_b terminated abnormally with the  state: {'grad': array([ 0.06159522]), 'task': b'ABNORMAL_TERMINATION_IN_LNSRCH', 'funcalls': 47, 'nit': 5, 'warnflag': 2}\n",
      "  \" state: %s\" % convergence_dict)\n",
      "C:\\ProgramData\\Anaconda3\\envs\\py36\\lib\\site-packages\\sklearn\\gaussian_process\\gpr.py:457: UserWarning: fmin_l_bfgs_b terminated abnormally with the  state: {'grad': array([ 0.00086838]), 'task': b'ABNORMAL_TERMINATION_IN_LNSRCH', 'funcalls': 56, 'nit': 5, 'warnflag': 2}\n",
      "  \" state: %s\" % convergence_dict)\n",
      "C:\\ProgramData\\Anaconda3\\envs\\py36\\lib\\site-packages\\sklearn\\gaussian_process\\gpr.py:457: UserWarning: fmin_l_bfgs_b terminated abnormally with the  state: {'grad': array([-0.10838155]), 'task': b'ABNORMAL_TERMINATION_IN_LNSRCH', 'funcalls': 53, 'nit': 3, 'warnflag': 2}\n",
      "  \" state: %s\" % convergence_dict)\n",
      "C:\\ProgramData\\Anaconda3\\envs\\py36\\lib\\site-packages\\sklearn\\gaussian_process\\gpr.py:457: UserWarning: fmin_l_bfgs_b terminated abnormally with the  state: {'grad': array([-0.02629073]), 'task': b'ABNORMAL_TERMINATION_IN_LNSRCH', 'funcalls': 57, 'nit': 6, 'warnflag': 2}\n",
      "  \" state: %s\" % convergence_dict)\n",
      "C:\\ProgramData\\Anaconda3\\envs\\py36\\lib\\site-packages\\sklearn\\gaussian_process\\gpr.py:457: UserWarning: fmin_l_bfgs_b terminated abnormally with the  state: {'grad': array([ 0.00023916]), 'task': b'ABNORMAL_TERMINATION_IN_LNSRCH', 'funcalls': 62, 'nit': 7, 'warnflag': 2}\n",
      "  \" state: %s\" % convergence_dict)\n"
     ]
    },
    {
     "name": "stdout",
     "output_type": "stream",
     "text": [
      "Multiple eval metrics have been passed: 'test-auc' will be used for early stopping.\n",
      "\n",
      "Will train until test-auc hasn't improved in 100 rounds.\n",
      "Stopping. Best iteration:\n",
      "[318]\ttrain-auc:0.923971+0.00138077\ttest-auc:0.920785+0.00611982\n",
      "\n",
      "  116 | 01m50s |    0.92078 |    6.0983 |             0.8825 |    6.3956 |     27.2667 |             3.7612 |      0.8496 | \n"
     ]
    },
    {
     "name": "stderr",
     "output_type": "stream",
     "text": [
      "C:\\ProgramData\\Anaconda3\\envs\\py36\\lib\\site-packages\\sklearn\\gaussian_process\\gpr.py:457: UserWarning: fmin_l_bfgs_b terminated abnormally with the  state: {'grad': array([-0.01445485]), 'task': b'ABNORMAL_TERMINATION_IN_LNSRCH', 'funcalls': 73, 'nit': 5, 'warnflag': 2}\n",
      "  \" state: %s\" % convergence_dict)\n"
     ]
    },
    {
     "name": "stdout",
     "output_type": "stream",
     "text": [
      "Multiple eval metrics have been passed: 'test-auc' will be used for early stopping.\n",
      "\n",
      "Will train until test-auc hasn't improved in 100 rounds.\n",
      "Stopping. Best iteration:\n",
      "[806]\ttrain-auc:0.922763+0.00147791\ttest-auc:0.920883+0.00625281\n",
      "\n",
      "  117 | 01m42s |    0.92088 |    7.7847 |             0.9302 |    3.0011 |      1.1834 |             2.4441 |      0.7388 | \n"
     ]
    },
    {
     "name": "stderr",
     "output_type": "stream",
     "text": [
      "C:\\ProgramData\\Anaconda3\\envs\\py36\\lib\\site-packages\\sklearn\\gaussian_process\\gpr.py:457: UserWarning: fmin_l_bfgs_b terminated abnormally with the  state: {'grad': array([ 0.01038712]), 'task': b'ABNORMAL_TERMINATION_IN_LNSRCH', 'funcalls': 78, 'nit': 6, 'warnflag': 2}\n",
      "  \" state: %s\" % convergence_dict)\n",
      "C:\\ProgramData\\Anaconda3\\envs\\py36\\lib\\site-packages\\sklearn\\gaussian_process\\gpr.py:457: UserWarning: fmin_l_bfgs_b terminated abnormally with the  state: {'grad': array([ 0.00632451]), 'task': b'ABNORMAL_TERMINATION_IN_LNSRCH', 'funcalls': 57, 'nit': 5, 'warnflag': 2}\n",
      "  \" state: %s\" % convergence_dict)\n"
     ]
    },
    {
     "name": "stdout",
     "output_type": "stream",
     "text": [
      "Multiple eval metrics have been passed: 'test-auc' will be used for early stopping.\n",
      "\n",
      "Will train until test-auc hasn't improved in 100 rounds.\n",
      "Stopping. Best iteration:\n",
      "[287]\ttrain-auc:0.925592+0.001406\ttest-auc:0.920756+0.00617854\n",
      "\n",
      "  118 | 01m50s |    0.92076 |    3.8702 |             0.9520 |    5.2875 |      9.5178 |             3.4835 |      0.7284 | \n"
     ]
    },
    {
     "name": "stderr",
     "output_type": "stream",
     "text": [
      "C:\\ProgramData\\Anaconda3\\envs\\py36\\lib\\site-packages\\sklearn\\gaussian_process\\gpr.py:457: UserWarning: fmin_l_bfgs_b terminated abnormally with the  state: {'grad': array([ 0.0014939]), 'task': b'ABNORMAL_TERMINATION_IN_LNSRCH', 'funcalls': 58, 'nit': 5, 'warnflag': 2}\n",
      "  \" state: %s\" % convergence_dict)\n",
      "C:\\ProgramData\\Anaconda3\\envs\\py36\\lib\\site-packages\\sklearn\\gaussian_process\\gpr.py:457: UserWarning: fmin_l_bfgs_b terminated abnormally with the  state: {'grad': array([-0.00022677]), 'task': b'ABNORMAL_TERMINATION_IN_LNSRCH', 'funcalls': 74, 'nit': 7, 'warnflag': 2}\n",
      "  \" state: %s\" % convergence_dict)\n",
      "C:\\ProgramData\\Anaconda3\\envs\\py36\\lib\\site-packages\\sklearn\\gaussian_process\\gpr.py:457: UserWarning: fmin_l_bfgs_b terminated abnormally with the  state: {'grad': array([ 0.01693447]), 'task': b'ABNORMAL_TERMINATION_IN_LNSRCH', 'funcalls': 77, 'nit': 9, 'warnflag': 2}\n",
      "  \" state: %s\" % convergence_dict)\n"
     ]
    },
    {
     "name": "stdout",
     "output_type": "stream",
     "text": [
      "Multiple eval metrics have been passed: 'test-auc' will be used for early stopping.\n",
      "\n",
      "Will train until test-auc hasn't improved in 100 rounds.\n",
      "Stopping. Best iteration:\n",
      "[1295]\ttrain-auc:0.922646+0.00153142\ttest-auc:0.92049+0.00626916\n",
      "\n",
      "  119 | 01m55s |    0.92049 |    3.4914 |             0.7043 |    5.4772 |      1.7069 |             9.5198 |      0.7435 | \n"
     ]
    },
    {
     "name": "stderr",
     "output_type": "stream",
     "text": [
      "C:\\ProgramData\\Anaconda3\\envs\\py36\\lib\\site-packages\\sklearn\\gaussian_process\\gpr.py:457: UserWarning: fmin_l_bfgs_b terminated abnormally with the  state: {'grad': array([-0.03290273]), 'task': b'ABNORMAL_TERMINATION_IN_LNSRCH', 'funcalls': 71, 'nit': 5, 'warnflag': 2}\n",
      "  \" state: %s\" % convergence_dict)\n",
      "C:\\ProgramData\\Anaconda3\\envs\\py36\\lib\\site-packages\\sklearn\\gaussian_process\\gpr.py:457: UserWarning: fmin_l_bfgs_b terminated abnormally with the  state: {'grad': array([-0.01611532]), 'task': b'ABNORMAL_TERMINATION_IN_LNSRCH', 'funcalls': 57, 'nit': 3, 'warnflag': 2}\n",
      "  \" state: %s\" % convergence_dict)\n",
      "C:\\ProgramData\\Anaconda3\\envs\\py36\\lib\\site-packages\\sklearn\\gaussian_process\\gpr.py:457: UserWarning: fmin_l_bfgs_b terminated abnormally with the  state: {'grad': array([ 0.0005167]), 'task': b'ABNORMAL_TERMINATION_IN_LNSRCH', 'funcalls': 67, 'nit': 8, 'warnflag': 2}\n",
      "  \" state: %s\" % convergence_dict)\n",
      "C:\\ProgramData\\Anaconda3\\envs\\py36\\lib\\site-packages\\sklearn\\gaussian_process\\gpr.py:457: UserWarning: fmin_l_bfgs_b terminated abnormally with the  state: {'grad': array([-0.00015143]), 'task': b'ABNORMAL_TERMINATION_IN_LNSRCH', 'funcalls': 106, 'nit': 9, 'warnflag': 2}\n",
      "  \" state: %s\" % convergence_dict)\n",
      "C:\\ProgramData\\Anaconda3\\envs\\py36\\lib\\site-packages\\sklearn\\gaussian_process\\gpr.py:457: UserWarning: fmin_l_bfgs_b terminated abnormally with the  state: {'grad': array([-0.0005831]), 'task': b'ABNORMAL_TERMINATION_IN_LNSRCH', 'funcalls': 73, 'nit': 9, 'warnflag': 2}\n",
      "  \" state: %s\" % convergence_dict)\n"
     ]
    },
    {
     "name": "stdout",
     "output_type": "stream",
     "text": [
      "Multiple eval metrics have been passed: 'test-auc' will be used for early stopping.\n",
      "\n",
      "Will train until test-auc hasn't improved in 100 rounds.\n",
      "Stopping. Best iteration:\n",
      "[527]\ttrain-auc:0.923267+0.00143017\ttest-auc:0.920847+0.0061729\n",
      "\n",
      "  120 | 01m53s |    0.92085 |    5.1532 |             0.9882 |    4.0855 |      2.2744 |            10.6310 |      0.8121 | \n"
     ]
    },
    {
     "name": "stderr",
     "output_type": "stream",
     "text": [
      "C:\\ProgramData\\Anaconda3\\envs\\py36\\lib\\site-packages\\sklearn\\gaussian_process\\gpr.py:457: UserWarning: fmin_l_bfgs_b terminated abnormally with the  state: {'grad': array([ 0.0009933]), 'task': b'ABNORMAL_TERMINATION_IN_LNSRCH', 'funcalls': 92, 'nit': 9, 'warnflag': 2}\n",
      "  \" state: %s\" % convergence_dict)\n",
      "C:\\ProgramData\\Anaconda3\\envs\\py36\\lib\\site-packages\\sklearn\\gaussian_process\\gpr.py:457: UserWarning: fmin_l_bfgs_b terminated abnormally with the  state: {'grad': array([ 0.00036941]), 'task': b'ABNORMAL_TERMINATION_IN_LNSRCH', 'funcalls': 60, 'nit': 7, 'warnflag': 2}\n",
      "  \" state: %s\" % convergence_dict)\n"
     ]
    },
    {
     "name": "stdout",
     "output_type": "stream",
     "text": [
      "Multiple eval metrics have been passed: 'test-auc' will be used for early stopping.\n",
      "\n",
      "Will train until test-auc hasn't improved in 100 rounds.\n",
      "Stopping. Best iteration:\n",
      "[507]\ttrain-auc:0.923496+0.00147117\ttest-auc:0.920602+0.00622852\n",
      "\n",
      "  121 | 01m45s |    0.92060 |    7.4780 |             0.7152 |    6.5258 |     26.0406 |             5.3675 |      0.7205 | \n"
     ]
    },
    {
     "name": "stderr",
     "output_type": "stream",
     "text": [
      "C:\\ProgramData\\Anaconda3\\envs\\py36\\lib\\site-packages\\sklearn\\gaussian_process\\gpr.py:457: UserWarning: fmin_l_bfgs_b terminated abnormally with the  state: {'grad': array([-0.00012502]), 'task': b'ABNORMAL_TERMINATION_IN_LNSRCH', 'funcalls': 58, 'nit': 6, 'warnflag': 2}\n",
      "  \" state: %s\" % convergence_dict)\n",
      "C:\\ProgramData\\Anaconda3\\envs\\py36\\lib\\site-packages\\sklearn\\gaussian_process\\gpr.py:457: UserWarning: fmin_l_bfgs_b terminated abnormally with the  state: {'grad': array([ 0.02495041]), 'task': b'ABNORMAL_TERMINATION_IN_LNSRCH', 'funcalls': 62, 'nit': 6, 'warnflag': 2}\n",
      "  \" state: %s\" % convergence_dict)\n",
      "C:\\ProgramData\\Anaconda3\\envs\\py36\\lib\\site-packages\\sklearn\\gaussian_process\\gpr.py:457: UserWarning: fmin_l_bfgs_b terminated abnormally with the  state: {'grad': array([-0.00184914]), 'task': b'ABNORMAL_TERMINATION_IN_LNSRCH', 'funcalls': 62, 'nit': 6, 'warnflag': 2}\n",
      "  \" state: %s\" % convergence_dict)\n",
      "C:\\ProgramData\\Anaconda3\\envs\\py36\\lib\\site-packages\\sklearn\\gaussian_process\\gpr.py:457: UserWarning: fmin_l_bfgs_b terminated abnormally with the  state: {'grad': array([ 0.02481097]), 'task': b'ABNORMAL_TERMINATION_IN_LNSRCH', 'funcalls': 47, 'nit': 5, 'warnflag': 2}\n",
      "  \" state: %s\" % convergence_dict)\n",
      "C:\\ProgramData\\Anaconda3\\envs\\py36\\lib\\site-packages\\sklearn\\gaussian_process\\gpr.py:457: UserWarning: fmin_l_bfgs_b terminated abnormally with the  state: {'grad': array([ -7.56531954e-05]), 'task': b'ABNORMAL_TERMINATION_IN_LNSRCH', 'funcalls': 78, 'nit': 9, 'warnflag': 2}\n",
      "  \" state: %s\" % convergence_dict)\n"
     ]
    },
    {
     "name": "stdout",
     "output_type": "stream",
     "text": [
      "Multiple eval metrics have been passed: 'test-auc' will be used for early stopping.\n",
      "\n",
      "Will train until test-auc hasn't improved in 100 rounds.\n",
      "Stopping. Best iteration:\n",
      "[207]\ttrain-auc:0.929664+0.00112973\ttest-auc:0.920494+0.00626824\n",
      "\n",
      "  122 | 02m01s |    0.92049 |    0.3411 |             0.9884 |    6.2525 |     12.2895 |             6.7554 |      0.6058 | \n"
     ]
    },
    {
     "name": "stderr",
     "output_type": "stream",
     "text": [
      "C:\\ProgramData\\Anaconda3\\envs\\py36\\lib\\site-packages\\sklearn\\gaussian_process\\gpr.py:457: UserWarning: fmin_l_bfgs_b terminated abnormally with the  state: {'grad': array([-0.01066287]), 'task': b'ABNORMAL_TERMINATION_IN_LNSRCH', 'funcalls': 59, 'nit': 6, 'warnflag': 2}\n",
      "  \" state: %s\" % convergence_dict)\n",
      "C:\\ProgramData\\Anaconda3\\envs\\py36\\lib\\site-packages\\sklearn\\gaussian_process\\gpr.py:457: UserWarning: fmin_l_bfgs_b terminated abnormally with the  state: {'grad': array([-0.00014087]), 'task': b'ABNORMAL_TERMINATION_IN_LNSRCH', 'funcalls': 68, 'nit': 4, 'warnflag': 2}\n",
      "  \" state: %s\" % convergence_dict)\n",
      "C:\\ProgramData\\Anaconda3\\envs\\py36\\lib\\site-packages\\sklearn\\gaussian_process\\gpr.py:457: UserWarning: fmin_l_bfgs_b terminated abnormally with the  state: {'grad': array([-0.00017159]), 'task': b'ABNORMAL_TERMINATION_IN_LNSRCH', 'funcalls': 70, 'nit': 8, 'warnflag': 2}\n",
      "  \" state: %s\" % convergence_dict)\n"
     ]
    },
    {
     "name": "stdout",
     "output_type": "stream",
     "text": [
      "Multiple eval metrics have been passed: 'test-auc' will be used for early stopping.\n",
      "\n",
      "Will train until test-auc hasn't improved in 100 rounds.\n",
      "Stopping. Best iteration:\n",
      "[254]\ttrain-auc:0.924117+0.00140843\ttest-auc:0.920645+0.00623184\n",
      "\n",
      "  123 | 01m55s |    0.92065 |    4.0905 |             0.9220 |    6.4845 |     21.9938 |            18.3592 |      0.9153 | \n"
     ]
    },
    {
     "name": "stderr",
     "output_type": "stream",
     "text": [
      "C:\\ProgramData\\Anaconda3\\envs\\py36\\lib\\site-packages\\sklearn\\gaussian_process\\gpr.py:457: UserWarning: fmin_l_bfgs_b terminated abnormally with the  state: {'grad': array([-0.00222728]), 'task': b'ABNORMAL_TERMINATION_IN_LNSRCH', 'funcalls': 46, 'nit': 4, 'warnflag': 2}\n",
      "  \" state: %s\" % convergence_dict)\n",
      "C:\\ProgramData\\Anaconda3\\envs\\py36\\lib\\site-packages\\sklearn\\gaussian_process\\gpr.py:457: UserWarning: fmin_l_bfgs_b terminated abnormally with the  state: {'grad': array([-0.20877816]), 'task': b'ABNORMAL_TERMINATION_IN_LNSRCH', 'funcalls': 53, 'nit': 5, 'warnflag': 2}\n",
      "  \" state: %s\" % convergence_dict)\n",
      "C:\\ProgramData\\Anaconda3\\envs\\py36\\lib\\site-packages\\sklearn\\gaussian_process\\gpr.py:457: UserWarning: fmin_l_bfgs_b terminated abnormally with the  state: {'grad': array([ 0.00038701]), 'task': b'ABNORMAL_TERMINATION_IN_LNSRCH', 'funcalls': 59, 'nit': 7, 'warnflag': 2}\n",
      "  \" state: %s\" % convergence_dict)\n",
      "C:\\ProgramData\\Anaconda3\\envs\\py36\\lib\\site-packages\\sklearn\\gaussian_process\\gpr.py:457: UserWarning: fmin_l_bfgs_b terminated abnormally with the  state: {'grad': array([ 0.00095707]), 'task': b'ABNORMAL_TERMINATION_IN_LNSRCH', 'funcalls': 70, 'nit': 9, 'warnflag': 2}\n",
      "  \" state: %s\" % convergence_dict)\n"
     ]
    },
    {
     "name": "stdout",
     "output_type": "stream",
     "text": [
      "Multiple eval metrics have been passed: 'test-auc' will be used for early stopping.\n",
      "\n",
      "Will train until test-auc hasn't improved in 100 rounds.\n",
      "Stopping. Best iteration:\n",
      "[275]\ttrain-auc:0.923249+0.00141839\ttest-auc:0.920832+0.00611038\n",
      "\n",
      "  124 | 01m48s |    0.92083 |    5.5531 |             0.9610 |    7.0624 |     30.8178 |             8.3332 |      0.7133 | \n"
     ]
    },
    {
     "name": "stderr",
     "output_type": "stream",
     "text": [
      "C:\\ProgramData\\Anaconda3\\envs\\py36\\lib\\site-packages\\sklearn\\gaussian_process\\gpr.py:457: UserWarning: fmin_l_bfgs_b terminated abnormally with the  state: {'grad': array([-0.00942021]), 'task': b'ABNORMAL_TERMINATION_IN_LNSRCH', 'funcalls': 66, 'nit': 5, 'warnflag': 2}\n",
      "  \" state: %s\" % convergence_dict)\n",
      "C:\\ProgramData\\Anaconda3\\envs\\py36\\lib\\site-packages\\sklearn\\gaussian_process\\gpr.py:457: UserWarning: fmin_l_bfgs_b terminated abnormally with the  state: {'grad': array([ 0.00133143]), 'task': b'ABNORMAL_TERMINATION_IN_LNSRCH', 'funcalls': 70, 'nit': 5, 'warnflag': 2}\n",
      "  \" state: %s\" % convergence_dict)\n",
      "C:\\ProgramData\\Anaconda3\\envs\\py36\\lib\\site-packages\\sklearn\\gaussian_process\\gpr.py:457: UserWarning: fmin_l_bfgs_b terminated abnormally with the  state: {'grad': array([-0.00287347]), 'task': b'ABNORMAL_TERMINATION_IN_LNSRCH', 'funcalls': 75, 'nit': 4, 'warnflag': 2}\n",
      "  \" state: %s\" % convergence_dict)\n",
      "C:\\ProgramData\\Anaconda3\\envs\\py36\\lib\\site-packages\\sklearn\\gaussian_process\\gpr.py:457: UserWarning: fmin_l_bfgs_b terminated abnormally with the  state: {'grad': array([-0.00223593]), 'task': b'ABNORMAL_TERMINATION_IN_LNSRCH', 'funcalls': 50, 'nit': 4, 'warnflag': 2}\n",
      "  \" state: %s\" % convergence_dict)\n",
      "C:\\ProgramData\\Anaconda3\\envs\\py36\\lib\\site-packages\\sklearn\\gaussian_process\\gpr.py:457: UserWarning: fmin_l_bfgs_b terminated abnormally with the  state: {'grad': array([-0.00019255]), 'task': b'ABNORMAL_TERMINATION_IN_LNSRCH', 'funcalls': 55, 'nit': 7, 'warnflag': 2}\n",
      "  \" state: %s\" % convergence_dict)\n",
      "C:\\ProgramData\\Anaconda3\\envs\\py36\\lib\\site-packages\\sklearn\\gaussian_process\\gpr.py:457: UserWarning: fmin_l_bfgs_b terminated abnormally with the  state: {'grad': array([-0.00873694]), 'task': b'ABNORMAL_TERMINATION_IN_LNSRCH', 'funcalls': 72, 'nit': 7, 'warnflag': 2}\n",
      "  \" state: %s\" % convergence_dict)\n",
      "C:\\ProgramData\\Anaconda3\\envs\\py36\\lib\\site-packages\\sklearn\\gaussian_process\\gpr.py:457: UserWarning: fmin_l_bfgs_b terminated abnormally with the  state: {'grad': array([-0.00010111]), 'task': b'ABNORMAL_TERMINATION_IN_LNSRCH', 'funcalls': 73, 'nit': 5, 'warnflag': 2}\n",
      "  \" state: %s\" % convergence_dict)\n"
     ]
    },
    {
     "name": "stdout",
     "output_type": "stream",
     "text": [
      "Multiple eval metrics have been passed: 'test-auc' will be used for early stopping.\n",
      "\n",
      "Will train until test-auc hasn't improved in 100 rounds.\n",
      "Stopping. Best iteration:\n",
      "[430]\ttrain-auc:0.923284+0.00148099\ttest-auc:0.920744+0.00627542\n",
      "\n",
      "  125 | 01m38s |    0.92074 |    6.1349 |             0.9474 |    7.2599 |     10.6732 |            17.2274 |      0.6627 | \n"
     ]
    },
    {
     "name": "stderr",
     "output_type": "stream",
     "text": [
      "C:\\ProgramData\\Anaconda3\\envs\\py36\\lib\\site-packages\\sklearn\\gaussian_process\\gpr.py:457: UserWarning: fmin_l_bfgs_b terminated abnormally with the  state: {'grad': array([ 0.010752]), 'task': b'ABNORMAL_TERMINATION_IN_LNSRCH', 'funcalls': 49, 'nit': 3, 'warnflag': 2}\n",
      "  \" state: %s\" % convergence_dict)\n",
      "C:\\ProgramData\\Anaconda3\\envs\\py36\\lib\\site-packages\\sklearn\\gaussian_process\\gpr.py:457: UserWarning: fmin_l_bfgs_b terminated abnormally with the  state: {'grad': array([ -2.57194042e-05]), 'task': b'ABNORMAL_TERMINATION_IN_LNSRCH', 'funcalls': 71, 'nit': 5, 'warnflag': 2}\n",
      "  \" state: %s\" % convergence_dict)\n",
      "C:\\ProgramData\\Anaconda3\\envs\\py36\\lib\\site-packages\\sklearn\\gaussian_process\\gpr.py:457: UserWarning: fmin_l_bfgs_b terminated abnormally with the  state: {'grad': array([ -7.87079334e-05]), 'task': b'ABNORMAL_TERMINATION_IN_LNSRCH', 'funcalls': 57, 'nit': 6, 'warnflag': 2}\n",
      "  \" state: %s\" % convergence_dict)\n"
     ]
    }
   ],
   "source": [
    "def xgb_evaluate(min_child_weight,\n",
    "                 colsample_bytree,\n",
    "                 max_depth,\n",
    "                 subsample,\n",
    "                 gamma,\n",
    "                 alpha):\n",
    "\n",
    "    params['min_child_weight'] = int(min_child_weight)\n",
    "    params['colsample_bytree'] = max(min(colsample_bytree, 1), 0)\n",
    "    params['max_depth'] = int(max_depth)\n",
    "    params['subsample'] = max(min(subsample, 1), 0)\n",
    "    params['gamma'] = max(gamma, 0)\n",
    "    params['alpha'] = max(alpha, 0)\n",
    "\n",
    "    cv_result = xgb.cv(params, xg_train_meta, num_boost_round=num_rounds, \n",
    "                       nfold=5, seed=random_state, stratified=True, \n",
    "                       metrics='auc', callbacks=[xgb.callback.early_stop(100)])\n",
    "\n",
    "    return cv_result['test-auc-mean'].values[-1]\n",
    "\n",
    "\n",
    "num_rounds = 3000\n",
    "num_iter = 120\n",
    "init_points = 5\n",
    "params = {\n",
    "        'objective': 'binary:logistic',\n",
    "        'eta': .01,\n",
    "        'silent': 1,\n",
    "        'verbose_eval': True,\n",
    "        'seed': random_state\n",
    "    }\n",
    "\n",
    "xgbBO = BayesianOptimization(xgb_evaluate, {'min_child_weight': (1, 20),\n",
    "                                            'colsample_bytree': (.1, 1),\n",
    "                                            'max_depth': (1, 40),\n",
    "                                            'subsample': (.6, 1),\n",
    "                                            'gamma': (0, 8),\n",
    "                                            'alpha': (0, 8),\n",
    "                                            })\n",
    "\n",
    "xgbBO.maximize(init_points=init_points, n_iter=num_iter)"
   ]
  },
  {
   "cell_type": "code",
   "execution_count": 54,
   "metadata": {},
   "outputs": [],
   "source": [
    "bayes_params_final = {\n",
    "    'objective': 'binary:logistic',\n",
    "    'eta': .01,\n",
    "    'alpha': .0748,\n",
    "    'colsample_bytree': .8819,\n",
    "    'gamma': .8596,\n",
    "    'max_depth': 1,\n",
    "    'min_child_weight': 2,\n",
    "    'subsample': .6542,\n",
    "    'seed': random_state,\n",
    "    'silent': 1\n",
    "}"
   ]
  },
  {
   "cell_type": "code",
   "execution_count": 57,
   "metadata": {},
   "outputs": [],
   "source": [
    "final_xgb_ = xgb.train(bayes_params_final, xg_train_meta, num_boost_round=int(912/.8))\n",
    "xgb_pred = final_xgb_.predict(xg_test_meta)"
   ]
  },
  {
   "cell_type": "code",
   "execution_count": 58,
   "metadata": {},
   "outputs": [],
   "source": [
    "pred_df = pd.DataFrame({'GeneId': np.arange(1, x_test.shape[0] + 1), \n",
    "                        'Prediction': xgb_pred})\n",
    "pred_df.to_csv('submission.csv', index=False)"
   ]
  }
 ],
 "metadata": {
  "anaconda-cloud": {},
  "kernelspec": {
   "display_name": "Python 3",
   "language": "python",
   "name": "python3"
  },
  "language_info": {
   "codemirror_mode": {
    "name": "ipython",
    "version": 3
   },
   "file_extension": ".py",
   "mimetype": "text/x-python",
   "name": "python",
   "nbconvert_exporter": "python",
   "pygments_lexer": "ipython3",
   "version": "3.6.4"
  }
 },
 "nbformat": 4,
 "nbformat_minor": 2
}
